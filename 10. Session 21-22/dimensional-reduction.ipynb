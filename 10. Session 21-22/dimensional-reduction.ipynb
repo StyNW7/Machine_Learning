{
 "cells": [
  {
   "cell_type": "markdown",
   "id": "5226de22",
   "metadata": {},
   "source": [
    "# Credit Card Fraud Detection \n",
    "Dataset Source: https://www.kaggle.com/datasets/shayannaveed/credit-card-fraud-detection\n",
    "<br><br>\n",
    "Stanley Nathanael Wijaya - 2702217125"
   ]
  },
  {
   "cell_type": "markdown",
   "id": "8de6d3fd",
   "metadata": {},
   "source": [
    "## Task Description\n",
    "\n",
    "You are a data scientist at a financial institution, tasked with enhancing the fraud detection capabilities of the company.\n",
    "<br><br>\n",
    "You have been provided with a large and complex dataset containing transactional data, which is suspected to have many redundant or irrelevant features\n",
    "<br>\n",
    "(https://www.kaggle.com/datasets/shayannaveed/credit-card-fraud-detectio)\n",
    "<br><br>\n",
    "Your goal is to apply dimensionality reduction techniques to streamline the data, aiding in the development of an effective fraud detection model.\n",
    "<ul>\n",
    "    <li>Choose appropriate dimensionality reduction techniques such as Principal Component Analysis (PCA), t-Distributed Stochastic Neighbor Embedding (t-SNE), or Linear Discriminant Analysis (LDA).</li>\n",
    "    <li>\n",
    "Apply the selected technique to reduce the number of features while retaining the most informative aspects of the data.\n",
    "    </li>\n",
    "</ul>"
   ]
  },
  {
   "cell_type": "markdown",
   "id": "13c8217d",
   "metadata": {},
   "source": [
    "## Conclusion"
   ]
  },
  {
   "cell_type": "markdown",
   "id": "8fb86d99",
   "metadata": {},
   "source": [
    "| Clustering Method           | Strengths                                                | Weakness                         |\n",
    "| ---------------- | -------------------------------------------------------- | ---------------------------------- |\n",
    "| **KMeans**       | Fast and Efficient  | We need to determine the number of cluster   |\n",
    "| **Hierarchical** | No need `fit_predict` and can be visualize using Dendogram | Tidak scalable untuk dataset besar |\n",
    "| **DBSCAN**       | Can detect outlier and no need number of cluster | Sensitive with the parameter `eps`  |"
   ]
  },
  {
   "cell_type": "markdown",
   "id": "480ec1a1",
   "metadata": {},
   "source": [
    "## Insights and Analysis"
   ]
  },
  {
   "cell_type": "markdown",
   "id": "c6ad02f9",
   "metadata": {},
   "source": [
    "<ol>\n",
    "\n",
    "<li>Species can Be Predicted Using Physical Measurements\n",
    "The success of clustering highlights that species identity can be inferred from a small number of ecological measurements, making this a practical approach for ecological field studies.</li>\n",
    "\n",
    "<li>Potential Discovery of Hidden Structure\n",
    "The formation of four clusters, despite having only three labeled species, opens opportunities to re-examine class labels or explore intra-species diversity that may have been overlooked.</li>\n",
    "\n",
    "<li>By using the DB Scan Clustering, we can get the highest Silhouette Score, the insight that we can get are:\n",
    "    <ul>\n",
    "        <li>The actual structure of the data does not match the spherical assumption of K-Means.</li>\n",
    "        <li>There are non-uniform densities, irregular boundaries, or outliers that DBSCAN handles better.</li>\n",
    "    </ul>\n",
    "</li>\n",
    "\n",
    "<li>We can see there are 4 clusters made and I think it is the best number of cluster for the penguin species.</li>\n",
    "\n",
    "<li>We also can see from the Density Based Clustering where the outlier is not too much, so in my opinion the clustering model respons well to the different species of the penguins.</li>\n",
    "\n",
    "</ol>"
   ]
  }
 ],
 "metadata": {
  "kernelspec": {
   "display_name": "Python 3",
   "language": "python",
   "name": "python3"
  },
  "language_info": {
   "codemirror_mode": {
    "name": "ipython",
    "version": 3
   },
   "file_extension": ".py",
   "mimetype": "text/x-python",
   "name": "python",
   "nbconvert_exporter": "python",
   "pygments_lexer": "ipython3",
   "version": "3.12.1"
  }
 },
 "nbformat": 4,
 "nbformat_minor": 5
}
