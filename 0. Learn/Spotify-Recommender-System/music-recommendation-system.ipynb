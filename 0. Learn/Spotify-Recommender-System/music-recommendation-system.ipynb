{
 "cells": [
  {
   "cell_type": "markdown",
   "id": "6398fb85",
   "metadata": {
    "papermill": {
     "duration": 0.006248,
     "end_time": "2024-11-19T09:50:32.403884",
     "exception": false,
     "start_time": "2024-11-19T09:50:32.397636",
     "status": "completed"
    },
    "tags": []
   },
   "source": [
    "## API KEY"
   ]
  },
  {
   "cell_type": "code",
   "execution_count": 1,
   "id": "21cccc4f",
   "metadata": {
    "execution": {
     "iopub.execute_input": "2024-11-19T09:50:32.416624Z",
     "iopub.status.busy": "2024-11-19T09:50:32.416195Z",
     "iopub.status.idle": "2024-11-19T09:50:32.546565Z",
     "shell.execute_reply": "2024-11-19T09:50:32.545147Z"
    },
    "papermill": {
     "duration": 0.139708,
     "end_time": "2024-11-19T09:50:32.549030",
     "exception": false,
     "start_time": "2024-11-19T09:50:32.409322",
     "status": "completed"
    },
    "tags": []
   },
   "outputs": [
    {
     "name": "stdout",
     "output_type": "stream",
     "text": [
      "Access token obtained successfully.\n"
     ]
    }
   ],
   "source": [
    "import requests\n",
    "import base64\n",
    "\n",
    "# Replace with your own Client ID and Client Secret\n",
    "CLIENT_ID = '8a63341f5234405e9403d79f5f869cc9'\n",
    "CLIENT_SECRET = '55530432bf1a4833a1b6e81d3e254905'\n",
    "\n",
    "# Base64 encode the client ID and client secret\n",
    "client_credentials = f\"{CLIENT_ID}:{CLIENT_SECRET}\"\n",
    "client_credentials_base64 = base64.b64encode(client_credentials.encode())\n",
    "\n",
    "# Request the access token\n",
    "token_url = 'https://accounts.spotify.com/api/token'\n",
    "headers = {\n",
    "    'Authorization': f'Basic {client_credentials_base64.decode()}'\n",
    "}\n",
    "data = {\n",
    "    'grant_type': 'client_credentials'\n",
    "}\n",
    "response = requests.post(token_url, data=data, headers=headers)\n",
    "\n",
    "if response.status_code == 200:\n",
    "    access_token = response.json()['access_token']\n",
    "    print(\"Access token obtained successfully.\")\n",
    "else:\n",
    "    print(\"Error obtaining access token.\")\n",
    "    exit()"
   ]
  },
  {
   "cell_type": "code",
   "execution_count": 2,
   "id": "e0ae6011",
   "metadata": {
    "execution": {
     "iopub.execute_input": "2024-11-19T09:50:32.562397Z",
     "iopub.status.busy": "2024-11-19T09:50:32.562032Z",
     "iopub.status.idle": "2024-11-19T09:50:45.369824Z",
     "shell.execute_reply": "2024-11-19T09:50:45.368208Z"
    },
    "papermill": {
     "duration": 12.817098,
     "end_time": "2024-11-19T09:50:45.372163",
     "exception": false,
     "start_time": "2024-11-19T09:50:32.555065",
     "status": "completed"
    },
    "tags": []
   },
   "outputs": [
    {
     "name": "stdout",
     "output_type": "stream",
     "text": [
      "Collecting spotipy\r\n",
      "  Downloading spotipy-2.24.0-py3-none-any.whl.metadata (4.9 kB)\r\n",
      "Collecting redis>=3.5.3 (from spotipy)\r\n",
      "  Downloading redis-5.2.0-py3-none-any.whl.metadata (9.1 kB)\r\n",
      "Requirement already satisfied: requests>=2.25.0 in /opt/conda/lib/python3.10/site-packages (from spotipy) (2.31.0)\r\n",
      "Requirement already satisfied: urllib3>=1.26.0 in /opt/conda/lib/python3.10/site-packages (from spotipy) (1.26.18)\r\n",
      "Requirement already satisfied: async-timeout>=4.0.3 in /opt/conda/lib/python3.10/site-packages (from redis>=3.5.3->spotipy) (4.0.3)\r\n",
      "Requirement already satisfied: charset-normalizer<4,>=2 in /opt/conda/lib/python3.10/site-packages (from requests>=2.25.0->spotipy) (3.3.2)\r\n",
      "Requirement already satisfied: idna<4,>=2.5 in /opt/conda/lib/python3.10/site-packages (from requests>=2.25.0->spotipy) (3.6)\r\n",
      "Requirement already satisfied: certifi>=2017.4.17 in /opt/conda/lib/python3.10/site-packages (from requests>=2.25.0->spotipy) (2024.2.2)\r\n",
      "Downloading spotipy-2.24.0-py3-none-any.whl (30 kB)\r\n",
      "Downloading redis-5.2.0-py3-none-any.whl (261 kB)\r\n",
      "\u001b[2K   \u001b[90m━━━━━━━━━━━━━━━━━━━━━━━━━━━━━━━━━━━━━━━━\u001b[0m \u001b[32m261.4/261.4 kB\u001b[0m \u001b[31m9.8 MB/s\u001b[0m eta \u001b[36m0:00:00\u001b[0m\r\n",
      "\u001b[?25hInstalling collected packages: redis, spotipy\r\n",
      "Successfully installed redis-5.2.0 spotipy-2.24.0\r\n",
      "Note: you may need to restart the kernel to use updated packages.\n"
     ]
    }
   ],
   "source": [
    "pip install spotipy"
   ]
  },
  {
   "cell_type": "markdown",
   "id": "7d710210",
   "metadata": {
    "papermill": {
     "duration": 0.005905,
     "end_time": "2024-11-19T09:50:45.383910",
     "exception": false,
     "start_time": "2024-11-19T09:50:45.378005",
     "status": "completed"
    },
    "tags": []
   },
   "source": [
    "## Creating DataFrame"
   ]
  },
  {
   "cell_type": "code",
   "execution_count": 3,
   "id": "21ee0be7",
   "metadata": {
    "execution": {
     "iopub.execute_input": "2024-11-19T09:50:45.398654Z",
     "iopub.status.busy": "2024-11-19T09:50:45.398213Z",
     "iopub.status.idle": "2024-11-19T09:50:46.393999Z",
     "shell.execute_reply": "2024-11-19T09:50:46.392602Z"
    },
    "papermill": {
     "duration": 1.00708,
     "end_time": "2024-11-19T09:50:46.397086",
     "exception": false,
     "start_time": "2024-11-19T09:50:45.390006",
     "status": "completed"
    },
    "tags": []
   },
   "outputs": [],
   "source": [
    "import pandas as pd\n",
    "import spotipy\n",
    "from spotipy.oauth2 import SpotifyOAuth\n",
    "\n",
    "def get_trending_playlist_data(playlist_id, access_token):\n",
    "    # Set up Spotipy with the access token\n",
    "    sp = spotipy.Spotify(auth=access_token)\n",
    "\n",
    "    # Get the tracks from the playlist\n",
    "    playlist_tracks = sp.playlist_tracks(playlist_id, fields='items(track(id, name, artists, album(id, name)))')\n",
    "\n",
    "    # Extract relevant information and store in a list of dictionaries\n",
    "    music_data = []\n",
    "    for track_info in playlist_tracks['items']:\n",
    "        track = track_info['track']\n",
    "        track_name = track['name']\n",
    "        artists = ', '.join([artist['name'] for artist in track['artists']])\n",
    "        album_name = track['album']['name']\n",
    "        album_id = track['album']['id']\n",
    "        track_id = track['id']\n",
    "\n",
    "        # Get audio features for the track\n",
    "        audio_features = sp.audio_features(track_id)[0] if track_id != 'Not available' else None\n",
    "\n",
    "        # Get release date of the album\n",
    "        try:\n",
    "            album_info = sp.album(album_id) if album_id != 'Not available' else None\n",
    "            release_date = album_info['release_date'] if album_info else None\n",
    "        except:\n",
    "            release_date = None\n",
    "\n",
    "        # Get popularity of the track\n",
    "        try:\n",
    "            track_info = sp.track(track_id) if track_id != 'Not available' else None\n",
    "            popularity = track_info['popularity'] if track_info else None\n",
    "        except:\n",
    "            popularity = None\n",
    "\n",
    "        # Add additional track information to the track data\n",
    "        track_data = {\n",
    "            'Track Name': track_name,\n",
    "            'Artists': artists,\n",
    "            'Album Name': album_name,\n",
    "            'Album ID': album_id,\n",
    "            'Track ID': track_id,\n",
    "            'Popularity': popularity,\n",
    "            'Release Date': release_date,\n",
    "            'Duration (ms)': audio_features['duration_ms'] if audio_features else None,\n",
    "            'Explicit': track_info.get('explicit', None),\n",
    "            'External URLs': track_info.get('external_urls', {}).get('spotify', None),\n",
    "            'Danceability': audio_features['danceability'] if audio_features else None,\n",
    "            'Energy': audio_features['energy'] if audio_features else None,\n",
    "            'Key': audio_features['key'] if audio_features else None,\n",
    "            'Loudness': audio_features['loudness'] if audio_features else None,\n",
    "            'Mode': audio_features['mode'] if audio_features else None,\n",
    "            'Speechiness': audio_features['speechiness'] if audio_features else None,\n",
    "            'Acousticness': audio_features['acousticness'] if audio_features else None,\n",
    "            'Instrumentalness': audio_features['instrumentalness'] if audio_features else None,\n",
    "            'Liveness': audio_features['liveness'] if audio_features else None,\n",
    "            'Valence': audio_features['valence'] if audio_features else None,\n",
    "            'Tempo': audio_features['tempo'] if audio_features else None,\n",
    "            # Add more attributes as needed\n",
    "        }\n",
    "\n",
    "        music_data.append(track_data)\n",
    "\n",
    "    # Create a pandas DataFrame from the list of dictionaries\n",
    "    df = pd.DataFrame(music_data)\n",
    "\n",
    "    return df"
   ]
  },
  {
   "cell_type": "markdown",
   "id": "dc1ade69",
   "metadata": {
    "papermill": {
     "duration": 0.007162,
     "end_time": "2024-11-19T09:50:46.414339",
     "exception": false,
     "start_time": "2024-11-19T09:50:46.407177",
     "status": "completed"
    },
    "tags": []
   },
   "source": [
    "## Choosing Playlist"
   ]
  },
  {
   "cell_type": "code",
   "execution_count": 4,
   "id": "7b94109e",
   "metadata": {
    "execution": {
     "iopub.execute_input": "2024-11-19T09:50:46.429416Z",
     "iopub.status.busy": "2024-11-19T09:50:46.428716Z",
     "iopub.status.idle": "2024-11-19T09:51:09.611224Z",
     "shell.execute_reply": "2024-11-19T09:51:09.609959Z"
    },
    "papermill": {
     "duration": 23.193237,
     "end_time": "2024-11-19T09:51:09.613710",
     "exception": false,
     "start_time": "2024-11-19T09:50:46.420473",
     "status": "completed"
    },
    "tags": []
   },
   "outputs": [
    {
     "name": "stdout",
     "output_type": "stream",
     "text": [
      "                                       Track Name                     Artists  \\\n",
      "0                                 Blinding Lights                  The Weeknd   \n",
      "1                                    Shape of You                  Ed Sheeran   \n",
      "2                               Someone You Loved               Lewis Capaldi   \n",
      "3                                       As It Was                Harry Styles   \n",
      "4   Sunflower - Spider-Man: Into the Spider-Verse       Post Malone, Swae Lee   \n",
      "..                                            ...                         ...   \n",
      "95                           Too Good At Goodbyes                   Sam Smith   \n",
      "96                                   Stay With Me                   Sam Smith   \n",
      "97                                    Daydreaming                     Bruklin   \n",
      "98                                      Kill Bill                         SZA   \n",
      "99                      Havana (feat. Young Thug)  Camila Cabello, Young Thug   \n",
      "\n",
      "                                           Album Name                Album ID  \\\n",
      "0                                         After Hours  4yP0hdKOZPNshxUOjY0cZj   \n",
      "1                                          ÷ (Deluxe)  3T4tUhGYeRNVUGevb0wThu   \n",
      "2             Divinely Uninspired To A Hellish Extent  5658aM19fA3JVwTK6eQX70   \n",
      "3                                       Harry's House  5r36AJ6VOJtp00oxSkBZ5h   \n",
      "4   Spider-Man: Into the Spider-Verse (Soundtrack ...  35s58BRTGAEWztPo9WqCIs   \n",
      "..                                                ...                     ...   \n",
      "95             The Thrill Of It All (Special Edition)  3TJz2UBNYJtlEly0sPeNrQ   \n",
      "96                                 In The Lonely Hour  1tA4JdOpNQUyutfQtmMesJ   \n",
      "97                                        Daydreaming  2s5mdldGq2eNpv5Ma9eUwu   \n",
      "98                                                SOS  07w0rG5TETcyihsEIZR3qG   \n",
      "99                                             Camila  2vD3zSQr8hNlg0obNel4TE   \n",
      "\n",
      "                  Track ID  Popularity Release Date  Duration (ms)  Explicit  \\\n",
      "0   0VjIjW4GlUZAMYd2vXMi3b          87   2020-03-20         200040     False   \n",
      "1   7qiZfU4dY1lWllzX7mPBI3          86   2017-03-03         233713     False   \n",
      "2   7qEHsqek33rTcFNT9PFqLf          86   2019-05-17         182161     False   \n",
      "3   4Dvkj6JhhA12EX05fT7y2e          87   2022-05-20         167303     False   \n",
      "4   3KkXRkHbMCARz0aVfEt68P          79   2018-12-14         158040     False   \n",
      "..                     ...         ...          ...            ...       ...   \n",
      "95  1mXVgsBdtIVeCLJnSnmtdV          81   2017-11-03         201000     False   \n",
      "96  2whoe0pPKh4JRn6eWSIqTV           0   2014-01-01         172724     False   \n",
      "97  6QkEV7Krf7WV2UdILlgN4Z          39   2024-10-16         153529     False   \n",
      "98  3OHfY25tqY28d16oZczHc8          77   2022-12-09         153947     False   \n",
      "99  1rfofaqEpACxVEHIZBJe6W          80   2018-01-12         217307     False   \n",
      "\n",
      "                                        External URLs  ...  Energy  Key  \\\n",
      "0   https://open.spotify.com/track/0VjIjW4GlUZAMYd...  ...   0.730    1   \n",
      "1   https://open.spotify.com/track/7qiZfU4dY1lWllz...  ...   0.652    1   \n",
      "2   https://open.spotify.com/track/7qEHsqek33rTcFN...  ...   0.405    1   \n",
      "3   https://open.spotify.com/track/4Dvkj6JhhA12EX0...  ...   0.731    6   \n",
      "4   https://open.spotify.com/track/3KkXRkHbMCARz0a...  ...   0.478    2   \n",
      "..                                                ...  ...     ...  ...   \n",
      "95  https://open.spotify.com/track/1mXVgsBdtIVeCLJ...  ...   0.372    5   \n",
      "96  https://open.spotify.com/track/2whoe0pPKh4JRn6...  ...   0.419    0   \n",
      "97  https://open.spotify.com/track/6QkEV7Krf7WV2Ud...  ...   0.719    9   \n",
      "98  https://open.spotify.com/track/3OHfY25tqY28d16...  ...   0.728    8   \n",
      "99  https://open.spotify.com/track/1rfofaqEpACxVEH...  ...   0.523    2   \n",
      "\n",
      "    Loudness  Mode  Speechiness  Acousticness  Instrumentalness  Liveness  \\\n",
      "0     -5.940     1       0.0598       0.00143          0.000095    0.0897   \n",
      "1     -3.183     0       0.0802       0.58100          0.000000    0.0931   \n",
      "2     -5.679     1       0.0319       0.75100          0.000000    0.1050   \n",
      "3     -5.338     0       0.0557       0.34200          0.001010    0.3110   \n",
      "4     -5.574     1       0.0467       0.55200          0.000000    0.0703   \n",
      "..       ...   ...          ...           ...               ...       ...   \n",
      "95    -8.237     1       0.0443       0.63800          0.000000    0.1690   \n",
      "96    -6.431     1       0.0388       0.55000          0.000195    0.1100   \n",
      "97    -3.221     0       0.1170       0.02570          0.000000    0.0775   \n",
      "98    -5.750     1       0.0351       0.05430          0.169000    0.1610   \n",
      "99    -4.333     1       0.0300       0.18400          0.000036    0.1320   \n",
      "\n",
      "    Valence    Tempo  \n",
      "0     0.334  171.001  \n",
      "1     0.931   95.977  \n",
      "2     0.446  109.891  \n",
      "3     0.662  173.930  \n",
      "4     0.913   89.908  \n",
      "..      ...      ...  \n",
      "95    0.474   91.931  \n",
      "96    0.180   84.082  \n",
      "97    0.523   84.887  \n",
      "98    0.430   88.993  \n",
      "99    0.394  104.988  \n",
      "\n",
      "[100 rows x 21 columns]\n"
     ]
    }
   ],
   "source": [
    "playlist_id = '5ABHKGoOzxkaa28ttQV9sE' #That's the top 100 popular songs on Spotify\n",
    "\n",
    "# Call the function to get the music data from the playlist and store it in a DataFrame\n",
    "music_df = get_trending_playlist_data(playlist_id, access_token)\n",
    "\n",
    "# Display the DataFrame\n",
    "print(music_df)"
   ]
  },
  {
   "cell_type": "code",
   "execution_count": 5,
   "id": "2cf4f5bd",
   "metadata": {
    "execution": {
     "iopub.execute_input": "2024-11-19T09:51:09.629315Z",
     "iopub.status.busy": "2024-11-19T09:51:09.628310Z",
     "iopub.status.idle": "2024-11-19T09:51:09.639486Z",
     "shell.execute_reply": "2024-11-19T09:51:09.638245Z"
    },
    "papermill": {
     "duration": 0.021833,
     "end_time": "2024-11-19T09:51:09.641612",
     "exception": false,
     "start_time": "2024-11-19T09:51:09.619779",
     "status": "completed"
    },
    "tags": []
   },
   "outputs": [
    {
     "name": "stdout",
     "output_type": "stream",
     "text": [
      "Track Name          0\n",
      "Artists             0\n",
      "Album Name          0\n",
      "Album ID            0\n",
      "Track ID            0\n",
      "Popularity          0\n",
      "Release Date        0\n",
      "Duration (ms)       0\n",
      "Explicit            0\n",
      "External URLs       0\n",
      "Danceability        0\n",
      "Energy              0\n",
      "Key                 0\n",
      "Loudness            0\n",
      "Mode                0\n",
      "Speechiness         0\n",
      "Acousticness        0\n",
      "Instrumentalness    0\n",
      "Liveness            0\n",
      "Valence             0\n",
      "Tempo               0\n",
      "dtype: int64\n"
     ]
    }
   ],
   "source": [
    "print(music_df.isnull().sum())"
   ]
  },
  {
   "cell_type": "markdown",
   "id": "f6c1bf5e",
   "metadata": {
    "papermill": {
     "duration": 0.005649,
     "end_time": "2024-11-19T09:51:09.653399",
     "exception": false,
     "start_time": "2024-11-19T09:51:09.647750",
     "status": "completed"
    },
    "tags": []
   },
   "source": [
    "## Tunning Features for Recommendations"
   ]
  },
  {
   "cell_type": "code",
   "execution_count": 6,
   "id": "7410e46b",
   "metadata": {
    "execution": {
     "iopub.execute_input": "2024-11-19T09:51:09.666883Z",
     "iopub.status.busy": "2024-11-19T09:51:09.666513Z",
     "iopub.status.idle": "2024-11-19T09:51:11.290545Z",
     "shell.execute_reply": "2024-11-19T09:51:11.289292Z"
    },
    "papermill": {
     "duration": 1.633981,
     "end_time": "2024-11-19T09:51:11.293303",
     "exception": false,
     "start_time": "2024-11-19T09:51:09.659322",
     "status": "completed"
    },
    "tags": []
   },
   "outputs": [],
   "source": [
    "import pandas as pd\n",
    "import numpy as np\n",
    "from sklearn.model_selection import train_test_split\n",
    "from sklearn.preprocessing import MinMaxScaler\n",
    "from datetime import datetime\n",
    "from sklearn.metrics.pairwise import cosine_similarity\n",
    "\n",
    "data = music_df"
   ]
  },
  {
   "cell_type": "code",
   "execution_count": 7,
   "id": "8904e116",
   "metadata": {
    "execution": {
     "iopub.execute_input": "2024-11-19T09:51:11.307989Z",
     "iopub.status.busy": "2024-11-19T09:51:11.307624Z",
     "iopub.status.idle": "2024-11-19T09:51:11.313435Z",
     "shell.execute_reply": "2024-11-19T09:51:11.312347Z"
    },
    "papermill": {
     "duration": 0.015895,
     "end_time": "2024-11-19T09:51:11.315624",
     "exception": false,
     "start_time": "2024-11-19T09:51:11.299729",
     "status": "completed"
    },
    "tags": []
   },
   "outputs": [],
   "source": [
    "# Function to calculate weighted popularity scores based on release date\n",
    "def calculate_weighted_popularity(release_date):\n",
    "    # Convert the release date to datetime object\n",
    "    release_date = datetime.strptime(release_date, '%Y-%m-%d')\n",
    "\n",
    "    # Calculate the time span between release date and today's date\n",
    "    time_span = datetime.now() - release_date\n",
    "\n",
    "    # Calculate the weighted popularity score based on time span (e.g., more recent releases have higher weight)\n",
    "    weight = 1 / (time_span.days + 1)\n",
    "    return weight"
   ]
  },
  {
   "cell_type": "code",
   "execution_count": 8,
   "id": "3bb0c8a8",
   "metadata": {
    "execution": {
     "iopub.execute_input": "2024-11-19T09:51:11.329606Z",
     "iopub.status.busy": "2024-11-19T09:51:11.329226Z",
     "iopub.status.idle": "2024-11-19T09:51:11.338373Z",
     "shell.execute_reply": "2024-11-19T09:51:11.337078Z"
    },
    "papermill": {
     "duration": 0.018853,
     "end_time": "2024-11-19T09:51:11.340718",
     "exception": false,
     "start_time": "2024-11-19T09:51:11.321865",
     "status": "completed"
    },
    "tags": []
   },
   "outputs": [],
   "source": [
    "# Normalize the music features using Min-Max scaling\n",
    "scaler = MinMaxScaler()\n",
    "music_features = music_df[['Danceability', 'Energy', 'Key', \n",
    "                           'Loudness', 'Mode', 'Speechiness', 'Acousticness',\n",
    "                           'Instrumentalness', 'Liveness', 'Valence', 'Tempo']].values\n",
    "music_features_scaled = scaler.fit_transform(music_features)"
   ]
  },
  {
   "cell_type": "code",
   "execution_count": 9,
   "id": "2a80c17f",
   "metadata": {
    "execution": {
     "iopub.execute_input": "2024-11-19T09:51:11.355655Z",
     "iopub.status.busy": "2024-11-19T09:51:11.355207Z",
     "iopub.status.idle": "2024-11-19T09:51:11.362186Z",
     "shell.execute_reply": "2024-11-19T09:51:11.361087Z"
    },
    "papermill": {
     "duration": 0.017382,
     "end_time": "2024-11-19T09:51:11.364436",
     "exception": false,
     "start_time": "2024-11-19T09:51:11.347054",
     "status": "completed"
    },
    "tags": []
   },
   "outputs": [],
   "source": [
    "# a function to get content-based recommendations based on music features\n",
    "def content_based_recommendations(input_song_name, num_recommendations=5):\n",
    "    if input_song_name not in music_df['Track Name'].values:\n",
    "        print(f\"'{input_song_name}' not found in the dataset. Please enter a valid song name.\")\n",
    "        return\n",
    "\n",
    "    # Get the index of the input song in the music DataFrame\n",
    "    input_song_index = music_df[music_df['Track Name'] == input_song_name].index[0]\n",
    "\n",
    "    # Calculate the similarity scores based on music features (cosine similarity)\n",
    "    similarity_scores = cosine_similarity([music_features_scaled[input_song_index]], music_features_scaled)\n",
    "\n",
    "    # Get the indices of the most similar songs\n",
    "    similar_song_indices = similarity_scores.argsort()[0][::-1][1:num_recommendations + 1]\n",
    "\n",
    "    # Get the names of the most similar songs based on content-based filtering\n",
    "    content_based_recommendations = music_df.iloc[similar_song_indices][['Track Name', 'Artists', 'Album Name', 'Release Date', 'Popularity']]\n",
    "\n",
    "    return content_based_recommendations"
   ]
  },
  {
   "cell_type": "code",
   "execution_count": 10,
   "id": "2917c07c",
   "metadata": {
    "execution": {
     "iopub.execute_input": "2024-11-19T09:51:11.378718Z",
     "iopub.status.busy": "2024-11-19T09:51:11.378314Z",
     "iopub.status.idle": "2024-11-19T09:51:11.387179Z",
     "shell.execute_reply": "2024-11-19T09:51:11.385912Z"
    },
    "papermill": {
     "duration": 0.018941,
     "end_time": "2024-11-19T09:51:11.389774",
     "exception": false,
     "start_time": "2024-11-19T09:51:11.370833",
     "status": "completed"
    },
    "tags": []
   },
   "outputs": [],
   "source": [
    "def hybrid_recommendations(input_song_name, num_recommendations=5, alpha=0.5):\n",
    "    if input_song_name not in music_df['Track Name'].values:\n",
    "        print(f\"'{input_song_name}' not found in the dataset. Please enter a valid song name.\")\n",
    "        return\n",
    "\n",
    "    # Get content-based recommendations\n",
    "    content_based_rec = content_based_recommendations(input_song_name, num_recommendations)\n",
    "\n",
    "    # Get the popularity score of the input song\n",
    "    popularity_score = music_df.loc[music_df['Track Name'] == input_song_name, 'Popularity'].values[0]\n",
    "\n",
    "    # Calculate the weighted popularity score\n",
    "    weighted_popularity_score = popularity_score * calculate_weighted_popularity(music_df.loc[music_df['Track Name'] == input_song_name, 'Release Date'].values[0])\n",
    "\n",
    "    # Create a DataFrame for the input song\n",
    "    input_song_data = {\n",
    "        'Track Name': [input_song_name],\n",
    "        'Artists': [music_df.loc[music_df['Track Name'] == input_song_name, 'Artists'].values[0]],\n",
    "        'Album Name': [music_df.loc[music_df['Track Name'] == input_song_name, 'Album Name'].values[0]],\n",
    "        'Release Date': [music_df.loc[music_df['Track Name'] == input_song_name, 'Release Date'].values[0]],\n",
    "        'Popularity': [weighted_popularity_score]\n",
    "    }\n",
    "    input_song_df = pd.DataFrame(input_song_data)\n",
    "\n",
    "    # Concatenate the input song DataFrame with content-based recommendations\n",
    "    hybrid_recommendations = pd.concat([content_based_rec, input_song_df], ignore_index=True)\n",
    "\n",
    "    # Sort the hybrid recommendations based on weighted popularity score\n",
    "    hybrid_recommendations = hybrid_recommendations.sort_values(by='Popularity', ascending=False)\n",
    "\n",
    "    # Remove the input song from the recommendations\n",
    "    hybrid_recommendations = hybrid_recommendations[hybrid_recommendations['Track Name'] != input_song_name]\n",
    "\n",
    "    return hybrid_recommendations"
   ]
  },
  {
   "cell_type": "markdown",
   "id": "16c424c3",
   "metadata": {
    "papermill": {
     "duration": 0.00621,
     "end_time": "2024-11-19T09:51:11.402202",
     "exception": false,
     "start_time": "2024-11-19T09:51:11.395992",
     "status": "completed"
    },
    "tags": []
   },
   "source": [
    "## Recommendation Song List"
   ]
  },
  {
   "cell_type": "code",
   "execution_count": 11,
   "id": "908c9a91",
   "metadata": {
    "execution": {
     "iopub.execute_input": "2024-11-19T09:51:11.416216Z",
     "iopub.status.busy": "2024-11-19T09:51:11.415854Z",
     "iopub.status.idle": "2024-11-19T09:51:11.434979Z",
     "shell.execute_reply": "2024-11-19T09:51:11.433709Z"
    },
    "papermill": {
     "duration": 0.028743,
     "end_time": "2024-11-19T09:51:11.437314",
     "exception": false,
     "start_time": "2024-11-19T09:51:11.408571",
     "status": "completed"
    },
    "tags": []
   },
   "outputs": [
    {
     "name": "stdout",
     "output_type": "stream",
     "text": [
      "Hybrid recommended songs for 'Blinding Lights':\n",
      "                      Track Name                                                     Artists             Album Name Release Date  Popularity\n",
      "                  Mr. Brightside                                                 The Killers               Hot Fuss         2004        85.0\n",
      "Can't Hold Us (feat. Ray Dalton) Macklemore, Ryan Lewis, Macklemore & Ryan Lewis, Ray Dalton              The Heist   2012-10-09        76.0\n",
      "       STAY (with Justin Bieber)                                The Kid LAROI, Justin Bieber  F*CK LOVE 3: OVER YOU   2021-07-23        18.0\n",
      "                          Demons                                             Imagine Dragons Night Visions (Deluxe)   2012-09-04        18.0\n",
      "         Wake Me Up - Radio Edit                                                      Avicii                   True   2013-01-01         4.0\n"
     ]
    }
   ],
   "source": [
    "input_song_name = \"Blinding Lights\"\n",
    "recommendations = hybrid_recommendations(input_song_name, num_recommendations=5)\n",
    "print(f\"Hybrid recommended songs for '{input_song_name}':\")\n",
    "print(recommendations.to_string(index=False))"
   ]
  },
  {
   "cell_type": "code",
   "execution_count": 12,
   "id": "da7ed91f",
   "metadata": {
    "execution": {
     "iopub.execute_input": "2024-11-19T09:51:11.451106Z",
     "iopub.status.busy": "2024-11-19T09:51:11.450754Z",
     "iopub.status.idle": "2024-11-19T09:51:11.464719Z",
     "shell.execute_reply": "2024-11-19T09:51:11.463563Z"
    },
    "papermill": {
     "duration": 0.023448,
     "end_time": "2024-11-19T09:51:11.466789",
     "exception": false,
     "start_time": "2024-11-19T09:51:11.443341",
     "status": "completed"
    },
    "tags": []
   },
   "outputs": [
    {
     "name": "stdout",
     "output_type": "stream",
     "text": [
      "Training shape: (76, 5, 11), (76, 11)\n",
      "Testing shape: (19, 5, 11), (19, 11)\n"
     ]
    }
   ],
   "source": [
    "from sklearn.preprocessing import MinMaxScaler\n",
    "import numpy as np\n",
    "\n",
    "# Select relevant audio features\n",
    "audio_features = ['Danceability', 'Energy', 'Key', 'Loudness', 'Mode', \n",
    "                  'Speechiness', 'Acousticness', 'Instrumentalness', \n",
    "                  'Liveness', 'Valence', 'Tempo']\n",
    "\n",
    "# Filter the dataset to keep only the required columns\n",
    "music_features = music_df[audio_features].values\n",
    "\n",
    "# Normalize the features using MinMaxScaler\n",
    "scaler = MinMaxScaler()\n",
    "music_features_scaled = scaler.fit_transform(music_features)\n",
    "\n",
    "# Define the sequence length for the RNN (e.g., 5 songs in a sequence)\n",
    "sequence_length = 5\n",
    "\n",
    "# Create sequences and targets\n",
    "X, y = [], []\n",
    "\n",
    "for i in range(len(music_features_scaled) - sequence_length):\n",
    "    X.append(music_features_scaled[i:i + sequence_length])  # Sequence of features\n",
    "    y.append(music_features_scaled[i + sequence_length])    # Target is the next song's features\n",
    "\n",
    "X, y = np.array(X), np.array(y)\n",
    "\n",
    "# Split data into training and testing sets\n",
    "from sklearn.model_selection import train_test_split\n",
    "\n",
    "X_train, X_test, y_train, y_test = train_test_split(X, y, test_size=0.2, random_state=42)\n",
    "\n",
    "print(f\"Training shape: {X_train.shape}, {y_train.shape}\")\n",
    "print(f\"Testing shape: {X_test.shape}, {y_test.shape}\")\n"
   ]
  },
  {
   "cell_type": "code",
   "execution_count": 13,
   "id": "0aa4b19c",
   "metadata": {
    "execution": {
     "iopub.execute_input": "2024-11-19T09:51:11.481083Z",
     "iopub.status.busy": "2024-11-19T09:51:11.480691Z",
     "iopub.status.idle": "2024-11-19T09:51:24.922139Z",
     "shell.execute_reply": "2024-11-19T09:51:24.920951Z"
    },
    "papermill": {
     "duration": 13.457948,
     "end_time": "2024-11-19T09:51:24.931064",
     "exception": false,
     "start_time": "2024-11-19T09:51:11.473116",
     "status": "completed"
    },
    "tags": []
   },
   "outputs": [
    {
     "name": "stderr",
     "output_type": "stream",
     "text": [
      "2024-11-19 09:51:13.748172: E external/local_xla/xla/stream_executor/cuda/cuda_dnn.cc:9261] Unable to register cuDNN factory: Attempting to register factory for plugin cuDNN when one has already been registered\n",
      "2024-11-19 09:51:13.748332: E external/local_xla/xla/stream_executor/cuda/cuda_fft.cc:607] Unable to register cuFFT factory: Attempting to register factory for plugin cuFFT when one has already been registered\n",
      "2024-11-19 09:51:13.901386: E external/local_xla/xla/stream_executor/cuda/cuda_blas.cc:1515] Unable to register cuBLAS factory: Attempting to register factory for plugin cuBLAS when one has already been registered\n",
      "/opt/conda/lib/python3.10/site-packages/keras/src/layers/rnn/rnn.py:204: UserWarning: Do not pass an `input_shape`/`input_dim` argument to a layer. When using Sequential models, prefer using an `Input(shape)` object as the first layer in the model instead.\n",
      "  super().__init__(**kwargs)\n"
     ]
    },
    {
     "data": {
      "text/html": [
       "<pre style=\"white-space:pre;overflow-x:auto;line-height:normal;font-family:Menlo,'DejaVu Sans Mono',consolas,'Courier New',monospace\"><span style=\"font-weight: bold\">Model: \"sequential\"</span>\n",
       "</pre>\n"
      ],
      "text/plain": [
       "\u001b[1mModel: \"sequential\"\u001b[0m\n"
      ]
     },
     "metadata": {},
     "output_type": "display_data"
    },
    {
     "data": {
      "text/html": [
       "<pre style=\"white-space:pre;overflow-x:auto;line-height:normal;font-family:Menlo,'DejaVu Sans Mono',consolas,'Courier New',monospace\">┏━━━━━━━━━━━━━━━━━━━━━━━━━━━━━━━━━┳━━━━━━━━━━━━━━━━━━━━━━━━┳━━━━━━━━━━━━━━━┓\n",
       "┃<span style=\"font-weight: bold\"> Layer (type)                    </span>┃<span style=\"font-weight: bold\"> Output Shape           </span>┃<span style=\"font-weight: bold\">       Param # </span>┃\n",
       "┡━━━━━━━━━━━━━━━━━━━━━━━━━━━━━━━━━╇━━━━━━━━━━━━━━━━━━━━━━━━╇━━━━━━━━━━━━━━━┩\n",
       "│ lstm (<span style=\"color: #0087ff; text-decoration-color: #0087ff\">LSTM</span>)                     │ (<span style=\"color: #00d7ff; text-decoration-color: #00d7ff\">None</span>, <span style=\"color: #00af00; text-decoration-color: #00af00\">5</span>, <span style=\"color: #00af00; text-decoration-color: #00af00\">64</span>)          │        <span style=\"color: #00af00; text-decoration-color: #00af00\">19,456</span> │\n",
       "├─────────────────────────────────┼────────────────────────┼───────────────┤\n",
       "│ dropout (<span style=\"color: #0087ff; text-decoration-color: #0087ff\">Dropout</span>)               │ (<span style=\"color: #00d7ff; text-decoration-color: #00d7ff\">None</span>, <span style=\"color: #00af00; text-decoration-color: #00af00\">5</span>, <span style=\"color: #00af00; text-decoration-color: #00af00\">64</span>)          │             <span style=\"color: #00af00; text-decoration-color: #00af00\">0</span> │\n",
       "├─────────────────────────────────┼────────────────────────┼───────────────┤\n",
       "│ lstm_1 (<span style=\"color: #0087ff; text-decoration-color: #0087ff\">LSTM</span>)                   │ (<span style=\"color: #00d7ff; text-decoration-color: #00d7ff\">None</span>, <span style=\"color: #00af00; text-decoration-color: #00af00\">32</span>)             │        <span style=\"color: #00af00; text-decoration-color: #00af00\">12,416</span> │\n",
       "├─────────────────────────────────┼────────────────────────┼───────────────┤\n",
       "│ dropout_1 (<span style=\"color: #0087ff; text-decoration-color: #0087ff\">Dropout</span>)             │ (<span style=\"color: #00d7ff; text-decoration-color: #00d7ff\">None</span>, <span style=\"color: #00af00; text-decoration-color: #00af00\">32</span>)             │             <span style=\"color: #00af00; text-decoration-color: #00af00\">0</span> │\n",
       "├─────────────────────────────────┼────────────────────────┼───────────────┤\n",
       "│ dense (<span style=\"color: #0087ff; text-decoration-color: #0087ff\">Dense</span>)                   │ (<span style=\"color: #00d7ff; text-decoration-color: #00d7ff\">None</span>, <span style=\"color: #00af00; text-decoration-color: #00af00\">11</span>)             │           <span style=\"color: #00af00; text-decoration-color: #00af00\">363</span> │\n",
       "└─────────────────────────────────┴────────────────────────┴───────────────┘\n",
       "</pre>\n"
      ],
      "text/plain": [
       "┏━━━━━━━━━━━━━━━━━━━━━━━━━━━━━━━━━┳━━━━━━━━━━━━━━━━━━━━━━━━┳━━━━━━━━━━━━━━━┓\n",
       "┃\u001b[1m \u001b[0m\u001b[1mLayer (type)                   \u001b[0m\u001b[1m \u001b[0m┃\u001b[1m \u001b[0m\u001b[1mOutput Shape          \u001b[0m\u001b[1m \u001b[0m┃\u001b[1m \u001b[0m\u001b[1m      Param #\u001b[0m\u001b[1m \u001b[0m┃\n",
       "┡━━━━━━━━━━━━━━━━━━━━━━━━━━━━━━━━━╇━━━━━━━━━━━━━━━━━━━━━━━━╇━━━━━━━━━━━━━━━┩\n",
       "│ lstm (\u001b[38;5;33mLSTM\u001b[0m)                     │ (\u001b[38;5;45mNone\u001b[0m, \u001b[38;5;34m5\u001b[0m, \u001b[38;5;34m64\u001b[0m)          │        \u001b[38;5;34m19,456\u001b[0m │\n",
       "├─────────────────────────────────┼────────────────────────┼───────────────┤\n",
       "│ dropout (\u001b[38;5;33mDropout\u001b[0m)               │ (\u001b[38;5;45mNone\u001b[0m, \u001b[38;5;34m5\u001b[0m, \u001b[38;5;34m64\u001b[0m)          │             \u001b[38;5;34m0\u001b[0m │\n",
       "├─────────────────────────────────┼────────────────────────┼───────────────┤\n",
       "│ lstm_1 (\u001b[38;5;33mLSTM\u001b[0m)                   │ (\u001b[38;5;45mNone\u001b[0m, \u001b[38;5;34m32\u001b[0m)             │        \u001b[38;5;34m12,416\u001b[0m │\n",
       "├─────────────────────────────────┼────────────────────────┼───────────────┤\n",
       "│ dropout_1 (\u001b[38;5;33mDropout\u001b[0m)             │ (\u001b[38;5;45mNone\u001b[0m, \u001b[38;5;34m32\u001b[0m)             │             \u001b[38;5;34m0\u001b[0m │\n",
       "├─────────────────────────────────┼────────────────────────┼───────────────┤\n",
       "│ dense (\u001b[38;5;33mDense\u001b[0m)                   │ (\u001b[38;5;45mNone\u001b[0m, \u001b[38;5;34m11\u001b[0m)             │           \u001b[38;5;34m363\u001b[0m │\n",
       "└─────────────────────────────────┴────────────────────────┴───────────────┘\n"
      ]
     },
     "metadata": {},
     "output_type": "display_data"
    },
    {
     "data": {
      "text/html": [
       "<pre style=\"white-space:pre;overflow-x:auto;line-height:normal;font-family:Menlo,'DejaVu Sans Mono',consolas,'Courier New',monospace\"><span style=\"font-weight: bold\"> Total params: </span><span style=\"color: #00af00; text-decoration-color: #00af00\">32,235</span> (125.92 KB)\n",
       "</pre>\n"
      ],
      "text/plain": [
       "\u001b[1m Total params: \u001b[0m\u001b[38;5;34m32,235\u001b[0m (125.92 KB)\n"
      ]
     },
     "metadata": {},
     "output_type": "display_data"
    },
    {
     "data": {
      "text/html": [
       "<pre style=\"white-space:pre;overflow-x:auto;line-height:normal;font-family:Menlo,'DejaVu Sans Mono',consolas,'Courier New',monospace\"><span style=\"font-weight: bold\"> Trainable params: </span><span style=\"color: #00af00; text-decoration-color: #00af00\">32,235</span> (125.92 KB)\n",
       "</pre>\n"
      ],
      "text/plain": [
       "\u001b[1m Trainable params: \u001b[0m\u001b[38;5;34m32,235\u001b[0m (125.92 KB)\n"
      ]
     },
     "metadata": {},
     "output_type": "display_data"
    },
    {
     "data": {
      "text/html": [
       "<pre style=\"white-space:pre;overflow-x:auto;line-height:normal;font-family:Menlo,'DejaVu Sans Mono',consolas,'Courier New',monospace\"><span style=\"font-weight: bold\"> Non-trainable params: </span><span style=\"color: #00af00; text-decoration-color: #00af00\">0</span> (0.00 B)\n",
       "</pre>\n"
      ],
      "text/plain": [
       "\u001b[1m Non-trainable params: \u001b[0m\u001b[38;5;34m0\u001b[0m (0.00 B)\n"
      ]
     },
     "metadata": {},
     "output_type": "display_data"
    }
   ],
   "source": [
    "import tensorflow as tf\n",
    "from tensorflow.keras.models import Sequential\n",
    "from tensorflow.keras.layers import LSTM, Dense, Dropout\n",
    "\n",
    "# Define the RNN model\n",
    "model = Sequential([\n",
    "    LSTM(64, activation='relu', input_shape=(sequence_length, len(audio_features)), return_sequences=True),\n",
    "    Dropout(0.2),\n",
    "    LSTM(32, activation='relu'),\n",
    "    Dropout(0.2),\n",
    "    Dense(len(audio_features), activation='linear')  # Output layer predicts the next song's features\n",
    "])\n",
    "\n",
    "# Compile the model\n",
    "model.compile(optimizer='adam', loss='mse', metrics=['mae'])\n",
    "\n",
    "# Print the model summary\n",
    "model.summary()\n"
   ]
  },
  {
   "cell_type": "code",
   "execution_count": 14,
   "id": "5bfe77ec",
   "metadata": {
    "execution": {
     "iopub.execute_input": "2024-11-19T09:51:24.948304Z",
     "iopub.status.busy": "2024-11-19T09:51:24.947686Z",
     "iopub.status.idle": "2024-11-19T09:51:32.205080Z",
     "shell.execute_reply": "2024-11-19T09:51:32.203895Z"
    },
    "papermill": {
     "duration": 7.26859,
     "end_time": "2024-11-19T09:51:32.207657",
     "exception": false,
     "start_time": "2024-11-19T09:51:24.939067",
     "status": "completed"
    },
    "tags": []
   },
   "outputs": [
    {
     "name": "stdout",
     "output_type": "stream",
     "text": [
      "Epoch 1/50\n",
      "\u001b[1m3/3\u001b[0m \u001b[32m━━━━━━━━━━━━━━━━━━━━\u001b[0m\u001b[37m\u001b[0m \u001b[1m4s\u001b[0m 203ms/step - loss: 0.2640 - mae: 0.3913 - val_loss: 0.2311 - val_mae: 0.3681\n",
      "Epoch 2/50\n",
      "\u001b[1m3/3\u001b[0m \u001b[32m━━━━━━━━━━━━━━━━━━━━\u001b[0m\u001b[37m\u001b[0m \u001b[1m0s\u001b[0m 20ms/step - loss: 0.2562 - mae: 0.3891 - val_loss: 0.2143 - val_mae: 0.3540\n",
      "Epoch 3/50\n",
      "\u001b[1m3/3\u001b[0m \u001b[32m━━━━━━━━━━━━━━━━━━━━\u001b[0m\u001b[37m\u001b[0m \u001b[1m0s\u001b[0m 20ms/step - loss: 0.2323 - mae: 0.3707 - val_loss: 0.1947 - val_mae: 0.3383\n",
      "Epoch 4/50\n",
      "\u001b[1m3/3\u001b[0m \u001b[32m━━━━━━━━━━━━━━━━━━━━\u001b[0m\u001b[37m\u001b[0m \u001b[1m0s\u001b[0m 20ms/step - loss: 0.2100 - mae: 0.3519 - val_loss: 0.1714 - val_mae: 0.3190\n",
      "Epoch 5/50\n",
      "\u001b[1m3/3\u001b[0m \u001b[32m━━━━━━━━━━━━━━━━━━━━\u001b[0m\u001b[37m\u001b[0m \u001b[1m0s\u001b[0m 19ms/step - loss: 0.1889 - mae: 0.3394 - val_loss: 0.1438 - val_mae: 0.2966\n",
      "Epoch 6/50\n",
      "\u001b[1m3/3\u001b[0m \u001b[32m━━━━━━━━━━━━━━━━━━━━\u001b[0m\u001b[37m\u001b[0m \u001b[1m0s\u001b[0m 20ms/step - loss: 0.1524 - mae: 0.3058 - val_loss: 0.1139 - val_mae: 0.2681\n",
      "Epoch 7/50\n",
      "\u001b[1m3/3\u001b[0m \u001b[32m━━━━━━━━━━━━━━━━━━━━\u001b[0m\u001b[37m\u001b[0m \u001b[1m0s\u001b[0m 20ms/step - loss: 0.1315 - mae: 0.2867 - val_loss: 0.0922 - val_mae: 0.2422\n",
      "Epoch 8/50\n",
      "\u001b[1m3/3\u001b[0m \u001b[32m━━━━━━━━━━━━━━━━━━━━\u001b[0m\u001b[37m\u001b[0m \u001b[1m0s\u001b[0m 20ms/step - loss: 0.1032 - mae: 0.2547 - val_loss: 0.0946 - val_mae: 0.2326\n",
      "Epoch 9/50\n",
      "\u001b[1m3/3\u001b[0m \u001b[32m━━━━━━━━━━━━━━━━━━━━\u001b[0m\u001b[37m\u001b[0m \u001b[1m0s\u001b[0m 19ms/step - loss: 0.1131 - mae: 0.2651 - val_loss: 0.0950 - val_mae: 0.2323\n",
      "Epoch 10/50\n",
      "\u001b[1m3/3\u001b[0m \u001b[32m━━━━━━━━━━━━━━━━━━━━\u001b[0m\u001b[37m\u001b[0m \u001b[1m0s\u001b[0m 20ms/step - loss: 0.1104 - mae: 0.2622 - val_loss: 0.0842 - val_mae: 0.2156\n",
      "Epoch 11/50\n",
      "\u001b[1m3/3\u001b[0m \u001b[32m━━━━━━━━━━━━━━━━━━━━\u001b[0m\u001b[37m\u001b[0m \u001b[1m0s\u001b[0m 20ms/step - loss: 0.0968 - mae: 0.2475 - val_loss: 0.0822 - val_mae: 0.2109\n",
      "Epoch 12/50\n",
      "\u001b[1m3/3\u001b[0m \u001b[32m━━━━━━━━━━━━━━━━━━━━\u001b[0m\u001b[37m\u001b[0m \u001b[1m0s\u001b[0m 20ms/step - loss: 0.0978 - mae: 0.2408 - val_loss: 0.0833 - val_mae: 0.2132\n",
      "Epoch 13/50\n",
      "\u001b[1m3/3\u001b[0m \u001b[32m━━━━━━━━━━━━━━━━━━━━\u001b[0m\u001b[37m\u001b[0m \u001b[1m0s\u001b[0m 19ms/step - loss: 0.0993 - mae: 0.2481 - val_loss: 0.0834 - val_mae: 0.2155\n",
      "Epoch 14/50\n",
      "\u001b[1m3/3\u001b[0m \u001b[32m━━━━━━━━━━━━━━━━━━━━\u001b[0m\u001b[37m\u001b[0m \u001b[1m0s\u001b[0m 20ms/step - loss: 0.0976 - mae: 0.2456 - val_loss: 0.0823 - val_mae: 0.2155\n",
      "Epoch 15/50\n",
      "\u001b[1m3/3\u001b[0m \u001b[32m━━━━━━━━━━━━━━━━━━━━\u001b[0m\u001b[37m\u001b[0m \u001b[1m0s\u001b[0m 20ms/step - loss: 0.0974 - mae: 0.2488 - val_loss: 0.0815 - val_mae: 0.2141\n",
      "Epoch 16/50\n",
      "\u001b[1m3/3\u001b[0m \u001b[32m━━━━━━━━━━━━━━━━━━━━\u001b[0m\u001b[37m\u001b[0m \u001b[1m0s\u001b[0m 20ms/step - loss: 0.0957 - mae: 0.2450 - val_loss: 0.0817 - val_mae: 0.2122\n",
      "Epoch 17/50\n",
      "\u001b[1m3/3\u001b[0m \u001b[32m━━━━━━━━━━━━━━━━━━━━\u001b[0m\u001b[37m\u001b[0m \u001b[1m0s\u001b[0m 19ms/step - loss: 0.0918 - mae: 0.2427 - val_loss: 0.0825 - val_mae: 0.2115\n",
      "Epoch 18/50\n",
      "\u001b[1m3/3\u001b[0m \u001b[32m━━━━━━━━━━━━━━━━━━━━\u001b[0m\u001b[37m\u001b[0m \u001b[1m0s\u001b[0m 20ms/step - loss: 0.0912 - mae: 0.2421 - val_loss: 0.0821 - val_mae: 0.2133\n",
      "Epoch 19/50\n",
      "\u001b[1m3/3\u001b[0m \u001b[32m━━━━━━━━━━━━━━━━━━━━\u001b[0m\u001b[37m\u001b[0m \u001b[1m0s\u001b[0m 21ms/step - loss: 0.0877 - mae: 0.2341 - val_loss: 0.0808 - val_mae: 0.2137\n",
      "Epoch 20/50\n",
      "\u001b[1m3/3\u001b[0m \u001b[32m━━━━━━━━━━━━━━━━━━━━\u001b[0m\u001b[37m\u001b[0m \u001b[1m0s\u001b[0m 21ms/step - loss: 0.0875 - mae: 0.2338 - val_loss: 0.0799 - val_mae: 0.2141\n",
      "Epoch 21/50\n",
      "\u001b[1m3/3\u001b[0m \u001b[32m━━━━━━━━━━━━━━━━━━━━\u001b[0m\u001b[37m\u001b[0m \u001b[1m0s\u001b[0m 20ms/step - loss: 0.0901 - mae: 0.2394 - val_loss: 0.0798 - val_mae: 0.2142\n",
      "Epoch 22/50\n",
      "\u001b[1m3/3\u001b[0m \u001b[32m━━━━━━━━━━━━━━━━━━━━\u001b[0m\u001b[37m\u001b[0m \u001b[1m0s\u001b[0m 21ms/step - loss: 0.0926 - mae: 0.2393 - val_loss: 0.0798 - val_mae: 0.2134\n",
      "Epoch 23/50\n",
      "\u001b[1m3/3\u001b[0m \u001b[32m━━━━━━━━━━━━━━━━━━━━\u001b[0m\u001b[37m\u001b[0m \u001b[1m0s\u001b[0m 20ms/step - loss: 0.0916 - mae: 0.2326 - val_loss: 0.0799 - val_mae: 0.2120\n",
      "Epoch 24/50\n",
      "\u001b[1m3/3\u001b[0m \u001b[32m━━━━━━━━━━━━━━━━━━━━\u001b[0m\u001b[37m\u001b[0m \u001b[1m0s\u001b[0m 21ms/step - loss: 0.0963 - mae: 0.2374 - val_loss: 0.0805 - val_mae: 0.2109\n",
      "Epoch 25/50\n",
      "\u001b[1m3/3\u001b[0m \u001b[32m━━━━━━━━━━━━━━━━━━━━\u001b[0m\u001b[37m\u001b[0m \u001b[1m0s\u001b[0m 21ms/step - loss: 0.0817 - mae: 0.2253 - val_loss: 0.0809 - val_mae: 0.2108\n",
      "Epoch 26/50\n",
      "\u001b[1m3/3\u001b[0m \u001b[32m━━━━━━━━━━━━━━━━━━━━\u001b[0m\u001b[37m\u001b[0m \u001b[1m0s\u001b[0m 20ms/step - loss: 0.0865 - mae: 0.2297 - val_loss: 0.0810 - val_mae: 0.2110\n",
      "Epoch 27/50\n",
      "\u001b[1m3/3\u001b[0m \u001b[32m━━━━━━━━━━━━━━━━━━━━\u001b[0m\u001b[37m\u001b[0m \u001b[1m0s\u001b[0m 20ms/step - loss: 0.0835 - mae: 0.2267 - val_loss: 0.0803 - val_mae: 0.2110\n",
      "Epoch 28/50\n",
      "\u001b[1m3/3\u001b[0m \u001b[32m━━━━━━━━━━━━━━━━━━━━\u001b[0m\u001b[37m\u001b[0m \u001b[1m0s\u001b[0m 21ms/step - loss: 0.0838 - mae: 0.2248 - val_loss: 0.0795 - val_mae: 0.2104\n",
      "Epoch 29/50\n",
      "\u001b[1m3/3\u001b[0m \u001b[32m━━━━━━━━━━━━━━━━━━━━\u001b[0m\u001b[37m\u001b[0m \u001b[1m0s\u001b[0m 21ms/step - loss: 0.0856 - mae: 0.2323 - val_loss: 0.0792 - val_mae: 0.2101\n",
      "Epoch 30/50\n",
      "\u001b[1m3/3\u001b[0m \u001b[32m━━━━━━━━━━━━━━━━━━━━\u001b[0m\u001b[37m\u001b[0m \u001b[1m0s\u001b[0m 20ms/step - loss: 0.0868 - mae: 0.2304 - val_loss: 0.0789 - val_mae: 0.2097\n",
      "Epoch 31/50\n",
      "\u001b[1m3/3\u001b[0m \u001b[32m━━━━━━━━━━━━━━━━━━━━\u001b[0m\u001b[37m\u001b[0m \u001b[1m0s\u001b[0m 24ms/step - loss: 0.0858 - mae: 0.2255 - val_loss: 0.0786 - val_mae: 0.2095\n",
      "Epoch 32/50\n",
      "\u001b[1m3/3\u001b[0m \u001b[32m━━━━━━━━━━━━━━━━━━━━\u001b[0m\u001b[37m\u001b[0m \u001b[1m0s\u001b[0m 20ms/step - loss: 0.0840 - mae: 0.2251 - val_loss: 0.0788 - val_mae: 0.2102\n",
      "Epoch 33/50\n",
      "\u001b[1m3/3\u001b[0m \u001b[32m━━━━━━━━━━━━━━━━━━━━\u001b[0m\u001b[37m\u001b[0m \u001b[1m0s\u001b[0m 21ms/step - loss: 0.0876 - mae: 0.2322 - val_loss: 0.0794 - val_mae: 0.2107\n",
      "Epoch 34/50\n",
      "\u001b[1m3/3\u001b[0m \u001b[32m━━━━━━━━━━━━━━━━━━━━\u001b[0m\u001b[37m\u001b[0m \u001b[1m0s\u001b[0m 21ms/step - loss: 0.0820 - mae: 0.2277 - val_loss: 0.0799 - val_mae: 0.2103\n",
      "Epoch 35/50\n",
      "\u001b[1m3/3\u001b[0m \u001b[32m━━━━━━━━━━━━━━━━━━━━\u001b[0m\u001b[37m\u001b[0m \u001b[1m0s\u001b[0m 22ms/step - loss: 0.0840 - mae: 0.2262 - val_loss: 0.0798 - val_mae: 0.2095\n",
      "Epoch 36/50\n",
      "\u001b[1m3/3\u001b[0m \u001b[32m━━━━━━━━━━━━━━━━━━━━\u001b[0m\u001b[37m\u001b[0m \u001b[1m0s\u001b[0m 21ms/step - loss: 0.0853 - mae: 0.2290 - val_loss: 0.0796 - val_mae: 0.2092\n",
      "Epoch 37/50\n",
      "\u001b[1m3/3\u001b[0m \u001b[32m━━━━━━━━━━━━━━━━━━━━\u001b[0m\u001b[37m\u001b[0m \u001b[1m0s\u001b[0m 21ms/step - loss: 0.0844 - mae: 0.2217 - val_loss: 0.0795 - val_mae: 0.2092\n",
      "Epoch 38/50\n",
      "\u001b[1m3/3\u001b[0m \u001b[32m━━━━━━━━━━━━━━━━━━━━\u001b[0m\u001b[37m\u001b[0m \u001b[1m0s\u001b[0m 24ms/step - loss: 0.0837 - mae: 0.2289 - val_loss: 0.0794 - val_mae: 0.2094\n",
      "Epoch 39/50\n",
      "\u001b[1m3/3\u001b[0m \u001b[32m━━━━━━━━━━━━━━━━━━━━\u001b[0m\u001b[37m\u001b[0m \u001b[1m0s\u001b[0m 21ms/step - loss: 0.0768 - mae: 0.2207 - val_loss: 0.0795 - val_mae: 0.2087\n",
      "Epoch 40/50\n",
      "\u001b[1m3/3\u001b[0m \u001b[32m━━━━━━━━━━━━━━━━━━━━\u001b[0m\u001b[37m\u001b[0m \u001b[1m0s\u001b[0m 20ms/step - loss: 0.0815 - mae: 0.2234 - val_loss: 0.0803 - val_mae: 0.2090\n",
      "Epoch 41/50\n",
      "\u001b[1m3/3\u001b[0m \u001b[32m━━━━━━━━━━━━━━━━━━━━\u001b[0m\u001b[37m\u001b[0m \u001b[1m0s\u001b[0m 20ms/step - loss: 0.0854 - mae: 0.2278 - val_loss: 0.0802 - val_mae: 0.2092\n",
      "Epoch 42/50\n",
      "\u001b[1m3/3\u001b[0m \u001b[32m━━━━━━━━━━━━━━━━━━━━\u001b[0m\u001b[37m\u001b[0m \u001b[1m0s\u001b[0m 22ms/step - loss: 0.0810 - mae: 0.2179 - val_loss: 0.0786 - val_mae: 0.2083\n",
      "Epoch 43/50\n",
      "\u001b[1m3/3\u001b[0m \u001b[32m━━━━━━━━━━━━━━━━━━━━\u001b[0m\u001b[37m\u001b[0m \u001b[1m0s\u001b[0m 20ms/step - loss: 0.0795 - mae: 0.2185 - val_loss: 0.0778 - val_mae: 0.2093\n",
      "Epoch 44/50\n",
      "\u001b[1m3/3\u001b[0m \u001b[32m━━━━━━━━━━━━━━━━━━━━\u001b[0m\u001b[37m\u001b[0m \u001b[1m0s\u001b[0m 20ms/step - loss: 0.0853 - mae: 0.2286 - val_loss: 0.0777 - val_mae: 0.2099\n",
      "Epoch 45/50\n",
      "\u001b[1m3/3\u001b[0m \u001b[32m━━━━━━━━━━━━━━━━━━━━\u001b[0m\u001b[37m\u001b[0m \u001b[1m0s\u001b[0m 21ms/step - loss: 0.0811 - mae: 0.2261 - val_loss: 0.0779 - val_mae: 0.2104\n",
      "Epoch 46/50\n",
      "\u001b[1m3/3\u001b[0m \u001b[32m━━━━━━━━━━━━━━━━━━━━\u001b[0m\u001b[37m\u001b[0m \u001b[1m0s\u001b[0m 21ms/step - loss: 0.0756 - mae: 0.2133 - val_loss: 0.0786 - val_mae: 0.2104\n",
      "Epoch 47/50\n",
      "\u001b[1m3/3\u001b[0m \u001b[32m━━━━━━━━━━━━━━━━━━━━\u001b[0m\u001b[37m\u001b[0m \u001b[1m0s\u001b[0m 21ms/step - loss: 0.0807 - mae: 0.2226 - val_loss: 0.0787 - val_mae: 0.2088\n",
      "Epoch 48/50\n",
      "\u001b[1m3/3\u001b[0m \u001b[32m━━━━━━━━━━━━━━━━━━━━\u001b[0m\u001b[37m\u001b[0m \u001b[1m0s\u001b[0m 21ms/step - loss: 0.0793 - mae: 0.2209 - val_loss: 0.0783 - val_mae: 0.2072\n",
      "Epoch 49/50\n",
      "\u001b[1m3/3\u001b[0m \u001b[32m━━━━━━━━━━━━━━━━━━━━\u001b[0m\u001b[37m\u001b[0m \u001b[1m0s\u001b[0m 21ms/step - loss: 0.0785 - mae: 0.2191 - val_loss: 0.0787 - val_mae: 0.2067\n",
      "Epoch 50/50\n",
      "\u001b[1m3/3\u001b[0m \u001b[32m━━━━━━━━━━━━━━━━━━━━\u001b[0m\u001b[37m\u001b[0m \u001b[1m0s\u001b[0m 20ms/step - loss: 0.0759 - mae: 0.2166 - val_loss: 0.0792 - val_mae: 0.2070\n"
     ]
    }
   ],
   "source": [
    "# Train the model\n",
    "history = model.fit(\n",
    "    X_train, y_train,\n",
    "    validation_data=(X_test, y_test),\n",
    "    epochs=50,\n",
    "    batch_size=32,\n",
    "    verbose=1\n",
    ")\n"
   ]
  },
  {
   "cell_type": "code",
   "execution_count": 15,
   "id": "cc8c2784",
   "metadata": {
    "execution": {
     "iopub.execute_input": "2024-11-19T09:51:32.239803Z",
     "iopub.status.busy": "2024-11-19T09:51:32.239440Z",
     "iopub.status.idle": "2024-11-19T09:51:32.649904Z",
     "shell.execute_reply": "2024-11-19T09:51:32.648789Z"
    },
    "papermill": {
     "duration": 0.429089,
     "end_time": "2024-11-19T09:51:32.652029",
     "exception": false,
     "start_time": "2024-11-19T09:51:32.222940",
     "status": "completed"
    },
    "tags": []
   },
   "outputs": [
    {
     "name": "stdout",
     "output_type": "stream",
     "text": [
      "\u001b[1m1/1\u001b[0m \u001b[32m━━━━━━━━━━━━━━━━━━━━\u001b[0m\u001b[37m\u001b[0m \u001b[1m0s\u001b[0m 26ms/step - loss: 0.0792 - mae: 0.2070\n",
      "Test Loss: 0.07917792350053787\n",
      "Test Mean Absolute Error: 0.20699328184127808\n"
     ]
    },
    {
     "data": {
      "image/png": "[encoded data removed]",
      "text/plain": [
       "<Figure size 800x600 with 1 Axes>"
      ]
     },
     "metadata": {},
     "output_type": "display_data"
    }
   ],
   "source": [
    "# Evaluate the model\n",
    "loss, mae = model.evaluate(X_test, y_test)\n",
    "print(f\"Test Loss: {loss}\")\n",
    "print(f\"Test Mean Absolute Error: {mae}\")\n",
    "\n",
    "# Plot training vs validation loss\n",
    "import matplotlib.pyplot as plt\n",
    "\n",
    "plt.figure(figsize=(8, 6))\n",
    "plt.plot(history.history['loss'], label='Training Loss')\n",
    "plt.plot(history.history['val_loss'], label='Validation Loss')\n",
    "plt.title('Model Loss')\n",
    "plt.xlabel('Epochs')\n",
    "plt.ylabel('Loss')\n",
    "plt.legend()\n",
    "plt.show()\n"
   ]
  },
  {
   "cell_type": "code",
   "execution_count": 16,
   "id": "526f1981",
   "metadata": {
    "execution": {
     "iopub.execute_input": "2024-11-19T09:51:32.685426Z",
     "iopub.status.busy": "2024-11-19T09:51:32.685033Z",
     "iopub.status.idle": "2024-11-19T09:51:33.005823Z",
     "shell.execute_reply": "2024-11-19T09:51:33.004596Z"
    },
    "papermill": {
     "duration": 0.340197,
     "end_time": "2024-11-19T09:51:33.008075",
     "exception": false,
     "start_time": "2024-11-19T09:51:32.667878",
     "status": "completed"
    },
    "tags": []
   },
   "outputs": [
    {
     "name": "stdout",
     "output_type": "stream",
     "text": [
      "\u001b[1m1/1\u001b[0m \u001b[32m━━━━━━━━━━━━━━━━━━━━\u001b[0m\u001b[37m\u001b[0m \u001b[1m0s\u001b[0m 263ms/step\n",
      "Predicted Features: [[ 6.1735499e-01  5.8294332e-01  5.4086046e+00 -6.6258693e+00\n",
      "   5.9310007e-01  7.7019468e-02  1.9790903e-01  6.8449271e-03\n",
      "   1.6974239e-01  4.6794292e-01  1.1590675e+02]]\n"
     ]
    }
   ],
   "source": [
    "# Predict the next song's features based on a sequence of input songs\n",
    "def predict_next_song(input_sequence, model, scaler):\n",
    "    # Ensure input_sequence is scaled and matches the input shape\n",
    "    input_sequence_scaled = scaler.transform(input_sequence)\n",
    "    input_sequence_scaled = np.array([input_sequence_scaled])  # Add batch dimension\n",
    "    predicted_features_scaled = model.predict(input_sequence_scaled)\n",
    "\n",
    "    # Inverse transform the predicted features to original scale\n",
    "    predicted_features = scaler.inverse_transform(predicted_features_scaled)\n",
    "    return predicted_features\n",
    "\n",
    "# Example: Use the last sequence from the test set for prediction\n",
    "input_sequence = music_features[-sequence_length:]\n",
    "predicted_features = predict_next_song(input_sequence, model, scaler)\n",
    "\n",
    "print(\"Predicted Features:\", predicted_features)\n"
   ]
  },
  {
   "cell_type": "code",
   "execution_count": 17,
   "id": "5f0b3289",
   "metadata": {
    "execution": {
     "iopub.execute_input": "2024-11-19T09:51:33.044192Z",
     "iopub.status.busy": "2024-11-19T09:51:33.043859Z",
     "iopub.status.idle": "2024-11-19T09:51:33.049781Z",
     "shell.execute_reply": "2024-11-19T09:51:33.048721Z"
    },
    "papermill": {
     "duration": 0.026117,
     "end_time": "2024-11-19T09:51:33.052036",
     "exception": false,
     "start_time": "2024-11-19T09:51:33.025919",
     "status": "completed"
    },
    "tags": []
   },
   "outputs": [],
   "source": [
    "from sklearn.metrics.pairwise import cosine_similarity\n",
    "\n",
    "# Function to get the features of a song by its name\n",
    "def get_song_features(song_name, music_df, audio_features):\n",
    "    song_row = music_df[music_df['Track Name'] == song_name]\n",
    "    if song_row.empty:\n",
    "        raise ValueError(\"Song not found in the dataset\")\n",
    "    return song_row[audio_features].values[0]\n"
   ]
  },
  {
   "cell_type": "code",
   "execution_count": 18,
   "id": "29ac5a52",
   "metadata": {
    "execution": {
     "iopub.execute_input": "2024-11-19T09:51:33.087154Z",
     "iopub.status.busy": "2024-11-19T09:51:33.086762Z",
     "iopub.status.idle": "2024-11-19T09:51:34.793810Z",
     "shell.execute_reply": "2024-11-19T09:51:34.792565Z"
    },
    "papermill": {
     "duration": 1.727432,
     "end_time": "2024-11-19T09:51:34.796200",
     "exception": false,
     "start_time": "2024-11-19T09:51:33.068768",
     "status": "completed"
    },
    "tags": []
   },
   "outputs": [
    {
     "name": "stdout",
     "output_type": "stream",
     "text": [
      "\u001b[1m1/1\u001b[0m \u001b[32m━━━━━━━━━━━━━━━━━━━━\u001b[0m\u001b[37m\u001b[0m \u001b[1m0s\u001b[0m 264ms/step\n",
      "\u001b[1m1/1\u001b[0m \u001b[32m━━━━━━━━━━━━━━━━━━━━\u001b[0m\u001b[37m\u001b[0m \u001b[1m0s\u001b[0m 22ms/step\n",
      "\u001b[1m1/1\u001b[0m \u001b[32m━━━━━━━━━━━━━━━━━━━━\u001b[0m\u001b[37m\u001b[0m \u001b[1m0s\u001b[0m 22ms/step\n",
      "\u001b[1m1/1\u001b[0m \u001b[32m━━━━━━━━━━━━━━━━━━━━\u001b[0m\u001b[37m\u001b[0m \u001b[1m0s\u001b[0m 22ms/step\n",
      "\u001b[1m1/1\u001b[0m \u001b[32m━━━━━━━━━━━━━━━━━━━━\u001b[0m\u001b[37m\u001b[0m \u001b[1m0s\u001b[0m 21ms/step\n",
      "\u001b[1m1/1\u001b[0m \u001b[32m━━━━━━━━━━━━━━━━━━━━\u001b[0m\u001b[37m\u001b[0m \u001b[1m0s\u001b[0m 21ms/step\n",
      "\u001b[1m1/1\u001b[0m \u001b[32m━━━━━━━━━━━━━━━━━━━━\u001b[0m\u001b[37m\u001b[0m \u001b[1m0s\u001b[0m 21ms/step\n",
      "\u001b[1m1/1\u001b[0m \u001b[32m━━━━━━━━━━━━━━━━━━━━\u001b[0m\u001b[37m\u001b[0m \u001b[1m0s\u001b[0m 22ms/step\n",
      "\u001b[1m1/1\u001b[0m \u001b[32m━━━━━━━━━━━━━━━━━━━━\u001b[0m\u001b[37m\u001b[0m \u001b[1m0s\u001b[0m 20ms/step\n",
      "\u001b[1m1/1\u001b[0m \u001b[32m━━━━━━━━━━━━━━━━━━━━\u001b[0m\u001b[37m\u001b[0m \u001b[1m0s\u001b[0m 21ms/step\n",
      "\u001b[1m1/1\u001b[0m \u001b[32m━━━━━━━━━━━━━━━━━━━━\u001b[0m\u001b[37m\u001b[0m \u001b[1m0s\u001b[0m 21ms/step\n",
      "\u001b[1m1/1\u001b[0m \u001b[32m━━━━━━━━━━━━━━━━━━━━\u001b[0m\u001b[37m\u001b[0m \u001b[1m0s\u001b[0m 21ms/step\n",
      "\u001b[1m1/1\u001b[0m \u001b[32m━━━━━━━━━━━━━━━━━━━━\u001b[0m\u001b[37m\u001b[0m \u001b[1m0s\u001b[0m 20ms/step\n",
      "\u001b[1m1/1\u001b[0m \u001b[32m━━━━━━━━━━━━━━━━━━━━\u001b[0m\u001b[37m\u001b[0m \u001b[1m0s\u001b[0m 20ms/step\n",
      "\u001b[1m1/1\u001b[0m \u001b[32m━━━━━━━━━━━━━━━━━━━━\u001b[0m\u001b[37m\u001b[0m \u001b[1m0s\u001b[0m 21ms/step\n",
      "\u001b[1m1/1\u001b[0m \u001b[32m━━━━━━━━━━━━━━━━━━━━\u001b[0m\u001b[37m\u001b[0m \u001b[1m0s\u001b[0m 21ms/step\n",
      "\u001b[1m1/1\u001b[0m \u001b[32m━━━━━━━━━━━━━━━━━━━━\u001b[0m\u001b[37m\u001b[0m \u001b[1m0s\u001b[0m 21ms/step\n",
      "\u001b[1m1/1\u001b[0m \u001b[32m━━━━━━━━━━━━━━━━━━━━\u001b[0m\u001b[37m\u001b[0m \u001b[1m0s\u001b[0m 22ms/step\n",
      "\u001b[1m1/1\u001b[0m \u001b[32m━━━━━━━━━━━━━━━━━━━━\u001b[0m\u001b[37m\u001b[0m \u001b[1m0s\u001b[0m 21ms/step\n",
      "\u001b[1m1/1\u001b[0m \u001b[32m━━━━━━━━━━━━━━━━━━━━\u001b[0m\u001b[37m\u001b[0m \u001b[1m0s\u001b[0m 22ms/step\n",
      "Recommended songs after 'Blinding Lights':\n",
      "Bohemian Rhapsody - Remastered 2011 - https://open.spotify.com/track/4u7EnebtmKWzUH433cf5Qv\n",
      "Photograph - https://open.spotify.com/track/1HNkqx9Ahdgi1Ixy2xkKkL\n",
      "Shape of You - https://open.spotify.com/track/7qiZfU4dY1lWllzX7mPBI3\n",
      "Someone You Loved - https://open.spotify.com/track/7qEHsqek33rTcFNT9PFqLf\n",
      "As It Was - https://open.spotify.com/track/4Dvkj6JhhA12EX05fT7y2e\n"
     ]
    }
   ],
   "source": [
    "# Function to recommend next songs based on input song name\n",
    "def recommend_next_songs(input_song_name, model, music_df, audio_features, sequence_length=5, num_recommendations=5):\n",
    "    # Get the input song's features\n",
    "    input_features = get_song_features(input_song_name, music_df, audio_features)\n",
    "    \n",
    "    # Initialize the sequence with the input song's features\n",
    "    input_sequence = [input_features]\n",
    "    \n",
    "    # List to hold the recommended songs and track duplicates\n",
    "    recommended_songs = []\n",
    "    seen_songs = set([input_song_name])  # Start with the current song already in the seen list\n",
    "    \n",
    "    # Iterate to generate the required number of recommendations\n",
    "    iteration_count = 0\n",
    "    while len(recommended_songs) < num_recommendations and iteration_count < 20:  # Limit iterations to avoid infinite loops\n",
    "        iteration_count += 1\n",
    "        \n",
    "        # Ensure the sequence length is within bounds\n",
    "        if len(input_sequence) > sequence_length:\n",
    "            input_sequence = input_sequence[1:]  # Keep only the last 'sequence_length' songs\n",
    "        \n",
    "        # Prepare the input sequence for the model\n",
    "        input_sequence_scaled = scaler.transform(np.array(input_sequence))  # Scale the sequence\n",
    "        input_sequence_scaled = np.array([input_sequence_scaled])  # Add batch dimension\n",
    "        \n",
    "        # Predict the next song's features\n",
    "        predicted_features_scaled = model.predict(input_sequence_scaled)\n",
    "        \n",
    "        # Inverse transform the predicted features to the original scale\n",
    "        predicted_features = scaler.inverse_transform(predicted_features_scaled)\n",
    "        \n",
    "        # Find the closest song in the dataset based on cosine similarity\n",
    "        similarities = cosine_similarity(predicted_features, music_df[audio_features].values)\n",
    "        \n",
    "        # Find the index of the most similar song\n",
    "        closest_song_index = np.argmax(similarities)\n",
    "        \n",
    "        # Get the recommended song's name and URL\n",
    "        recommended_song_name = music_df['Track Name'].iloc[closest_song_index]\n",
    "        recommended_song_url = music_df['External URLs'].iloc[closest_song_index]\n",
    "        \n",
    "        # Avoid recommending the same song again\n",
    "        if recommended_song_name not in seen_songs:\n",
    "            recommended_songs.append((recommended_song_name, recommended_song_url))\n",
    "            seen_songs.add(recommended_song_name)\n",
    "        \n",
    "        # Update the sequence with the predicted features\n",
    "        input_sequence.append(predicted_features[0])\n",
    "    \n",
    "    # Fallback: If still fewer recommendations, pick the closest songs based on cosine similarity from the entire dataset\n",
    "    if len(recommended_songs) < num_recommendations:\n",
    "        all_songs = music_df['Track Name'].tolist()\n",
    "        remaining_songs = [song for song in all_songs if song not in seen_songs]\n",
    "        for song in remaining_songs[:num_recommendations - len(recommended_songs)]:\n",
    "            song_index = music_df[music_df['Track Name'] == song].index[0]\n",
    "            recommended_song_url = music_df['External URLs'].iloc[song_index]\n",
    "            recommended_songs.append((song, recommended_song_url))\n",
    "    \n",
    "    return recommended_songs\n",
    "\n",
    "# Example: Get 5 recommendations based on a specific song name\n",
    "input_song_name = \"Blinding Lights\"  # Replace with an actual song name from your dataset\n",
    "recommended_songs = recommend_next_songs(input_song_name, model, music_df, audio_features, sequence_length=5, num_recommendations=5)\n",
    "\n",
    "# Display recommended songs (only title and URL)\n",
    "if recommended_songs:\n",
    "    print(f\"Recommended songs after '{input_song_name}':\")\n",
    "    for song, url in recommended_songs:\n",
    "        print(f\"{song} - {url}\")\n",
    "else:\n",
    "    print(\"No recommendations found.\")\n"
   ]
  },
  {
   "cell_type": "code",
   "execution_count": 19,
   "id": "4704ff01",
   "metadata": {
    "execution": {
     "iopub.execute_input": "2024-11-19T09:51:34.833795Z",
     "iopub.status.busy": "2024-11-19T09:51:34.833394Z",
     "iopub.status.idle": "2024-11-19T09:51:34.876929Z",
     "shell.execute_reply": "2024-11-19T09:51:34.875728Z"
    },
    "papermill": {
     "duration": 0.065289,
     "end_time": "2024-11-19T09:51:34.879451",
     "exception": false,
     "start_time": "2024-11-19T09:51:34.814162",
     "status": "completed"
    },
    "tags": []
   },
   "outputs": [],
   "source": [
    "# Save your model in Keras (TensorFlow)\n",
    "model.save('my_model.h5')  # Saves the model in .h5 format\n"
   ]
  }
 ],
 "metadata": {
  "kaggle": {
   "accelerator": "none",
   "dataSources": [
    {
     "datasetId": 1495083,
     "sourceId": 2469778,
     "sourceType": "datasetVersion"
    },
    {
     "datasetId": 1720572,
     "sourceId": 2814420,
     "sourceType": "datasetVersion"
    },
    {
     "datasetId": 1800580,
     "sourceId": 2936818,
     "sourceType": "datasetVersion"
    },
    {
     "datasetId": 2570056,
     "sourceId": 4372070,
     "sourceType": "datasetVersion"
    },
    {
     "datasetId": 3668746,
     "sourceId": 6367938,
     "sourceType": "datasetVersion"
    },
    {
     "datasetId": 4543007,
     "sourceId": 7772190,
     "sourceType": "datasetVersion"
    },
    {
     "sourceId": 114965559,
     "sourceType": "kernelVersion"
    }
   ],
   "dockerImageVersionId": 30684,
   "isGpuEnabled": false,
   "isInternetEnabled": true,
   "language": "python",
   "sourceType": "notebook"
  },
  "kernelspec": {
   "display_name": "Python 3",
   "language": "python",
   "name": "python3"
  },
  "language_info": {
   "codemirror_mode": {
    "name": "ipython",
    "version": 3
   },
   "file_extension": ".py",
   "mimetype": "text/x-python",
   "name": "python",
   "nbconvert_exporter": "python",
   "pygments_lexer": "ipython3",
   "version": "3.12.1"
  },
  "papermill": {
   "default_parameters": {},
   "duration": 68.573461,
   "end_time": "2024-11-19T09:51:37.619494",
   "environment_variables": {},
   "exception": null,
   "input_path": "__notebook__.ipynb",
   "output_path": "__notebook__.ipynb",
   "parameters": {},
   "start_time": "2024-11-19T09:50:29.046033",
   "version": "2.5.0"
  }
 },
 "nbformat": 4,
 "nbformat_minor": 5
}
