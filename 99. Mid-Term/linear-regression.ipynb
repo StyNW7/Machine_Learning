{
 "cells": [
  {
   "cell_type": "markdown",
   "metadata": {},
   "source": []
  },
  {
   "cell_type": "code",
   "execution_count": null,
   "metadata": {},
   "outputs": [],
   "source": [
    "import numpy as np #Untuk operasi matematika\n",
    "import pandas as pd #Untuk manipulasi data\n",
    "import matplotlib.pyplot as plt #Untuk plotting\n",
    "import seaborn as sns #Untuk plotting (lebih mudah)\n",
    "from sklearn.preprocessing import LabelEncoder, MinMaxScaler, StandardScaler #Untuk Encoding dan Scaling\n",
    "from sklearn.metrics import accuracy_score, recall_score, precision_score, roc_auc_score, confusion_matrix, classification_report #Untuk mendapatkan hasil metrics dari model\n",
    "from sklearn.model_selection import train_test_split #Untuk split data menjadi train dan test\n",
    "from sklearn.linear_model import LogisticRegression #Untuk modeling\n",
    "from sklearn.naive_bayes import GaussianNB #Untuk modeling"
   ]
  }
 ],
 "metadata": {
  "kernelspec": {
   "display_name": "Python 3",
   "language": "python",
   "name": "python3"
  },
  "language_info": {
   "name": "python",
   "version": "3.10.6"
  }
 },
 "nbformat": 4,
 "nbformat_minor": 2
}
