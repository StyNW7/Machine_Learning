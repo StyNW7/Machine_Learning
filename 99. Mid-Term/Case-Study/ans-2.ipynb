{
 "cells": [
  {
   "cell_type": "code",
   "execution_count": null,
   "id": "0a51968c",
   "metadata": {},
   "outputs": [
    {
     "name": "stdout",
     "output_type": "stream",
     "text": [
      "Persamaan Regresi Linear:\n",
      "Intercept (b0): -34.06403940886685\n",
      "Koefisien (b1, b2): [183.49753695 -23.9408867 ]\n",
      "Mean Squared Error (MSE): 2830.8673469387686\n",
      "\n",
      "Hasil Prediksi dan Nilai Sebenarnya:\n",
      "   Actual   Predicted\n",
      "7     450  475.714286\n",
      "1     260  189.285714\n",
      "\n",
      "MSE pada data training: 3080.6826178747356\n",
      "MSE pada data testing: 2830.8673469387686\n",
      "\n",
      "R2: 0.740629813959\n",
      "\n",
      "Model tidak mengalami overfitting.\n"
     ]
    }
   ],
   "source": [
    "import pandas as pd\n",
    "import numpy as np\n",
    "from sklearn.linear_model import LinearRegression\n",
    "from sklearn.model_selection import train_test_split\n",
    "from sklearn.metrics import mean_squared_error, r2_score\n",
    "\n",
    "# Data yang diberikan dalam soal\n",
    "data = {\n",
    "    'CPU Clock Speed (GHz)': [2.0, 2.0, 2.3, 2.0, 3.2, 3.4, 3.0, 3.3, 3.6],\n",
    "    'RAM (GB)': [4, 6, 6, 4, 6, 6, 4, 4, 8],\n",
    "    'MSRP (IDR)': [230, 260, 160, 330, 380, 430, 400, 450, 500]\n",
    "}\n",
    "\n",
    "# Membuat DataFrame\n",
    "df = pd.DataFrame(data)\n",
    "\n",
    "# Memisahkan fitur dan target\n",
    "X = df[['CPU Clock Speed (GHz)', 'RAM (GB)']]  # Fitur\n",
    "y = df['MSRP (IDR)']  # Target\n",
    "\n",
    "# Membagi data menjadi training dan testing set\n",
    "X_train, X_test, y_train, y_test = train_test_split(X, y, test_size=0.2, random_state=42)\n",
    "\n",
    "# Membuat model regresi linear\n",
    "model = LinearRegression()\n",
    "model.fit(X_train, y_train)\n",
    "\n",
    "# Prediksi dengan data testing\n",
    "y_pred = model.predict(X_test)\n",
    "\n",
    "# Menghitung MSE (Mean Squared Error)\n",
    "mse = mean_squared_error(y_test, y_pred)\n",
    "\n",
    "# Menampilkan hasil regresi dan MSE\n",
    "print(\"Persamaan Regresi Linear:\")\n",
    "print(f\"Intercept (b0): {model.intercept_}\")\n",
    "print(f\"Koefisien (b1, b2): {model.coef_}\")\n",
    "print(f\"Mean Squared Error (MSE): {mse}\")\n",
    "\n",
    "# Prediksi untuk data testing dan hasil aktual\n",
    "results = pd.DataFrame({'Actual': y_test, 'Predicted': y_pred})\n",
    "print(\"\\nHasil Prediksi dan Nilai Sebenarnya:\")\n",
    "print(results)\n",
    "\n",
    "# 2. Deteksi Overfitting\n",
    "# Menghitung MSE untuk data training\n",
    "y_train_pred = model.predict(X_train)\n",
    "r2 = r2_score(y_train, y_train_pred)\n",
    "train_mse = mean_squared_error(y_train, y_train_pred)\n",
    "\n",
    "# Membandingkan MSE antara data training dan testing\n",
    "print(f\"\\nMSE pada data training: {train_mse}\")\n",
    "print(f\"MSE pada data testing: {mse}\")\n",
    "\n",
    "print(f\"\\nR2: {r2}\")\n",
    "\n",
    "# Evaluasi apakah model mengalami overfitting\n",
    "if train_mse < mse:\n",
    "    print(\"\\nModel mengalami overfitting, karena kesalahan pada data training lebih rendah dibandingkan pada data testing.\")\n",
    "else:\n",
    "    print(\"\\nModel tidak mengalami overfitting.\")"
   ]
  }
 ],
 "metadata": {
  "kernelspec": {
   "display_name": "Python 3",
   "language": "python",
   "name": "python3"
  },
  "language_info": {
   "codemirror_mode": {
    "name": "ipython",
    "version": 3
   },
   "file_extension": ".py",
   "mimetype": "text/x-python",
   "name": "python",
   "nbconvert_exporter": "python",
   "pygments_lexer": "ipython3",
   "version": "3.10.6"
  }
 },
 "nbformat": 4,
 "nbformat_minor": 5
}
