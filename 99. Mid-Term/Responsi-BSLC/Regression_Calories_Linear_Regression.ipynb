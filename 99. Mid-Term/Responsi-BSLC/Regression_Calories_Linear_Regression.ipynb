{
  "cells": [
    {
      "cell_type": "markdown",
      "metadata": {},
      "source": [
        "# Regression (Linear)"
      ]
    },
    {
      "cell_type": "markdown",
      "metadata": {},
      "source": [
        "Credit: Kalvin"
      ]
    },
    {
      "cell_type": "markdown",
      "metadata": {
        "id": "WpR755F79wXM"
      },
      "source": [
        "# Import Libraries"
      ]
    },
    {
      "cell_type": "code",
      "execution_count": null,
      "metadata": {
        "id": "RsxPusj_40rH"
      },
      "outputs": [],
      "source": [
        "import numpy as np\n",
        "import pandas as pd\n",
        "import matplotlib.pyplot as plt\n",
        "import seaborn as sns\n",
        "from sklearn.preprocessing import LabelEncoder, MinMaxScaler, StandardScaler\n",
        "from sklearn.metrics import mean_squared_error, root_mean_squared_error, r2_score\n",
        "from sklearn.model_selection import train_test_split\n",
        "from sklearn.linear_model import LinearRegression"
      ]
    },
    {
      "cell_type": "code",
      "execution_count": null,
      "metadata": {},
      "outputs": [],
      "source": [
        "plt.style.use(style='fivethirtyeight')\n",
        "plt.rcParams['figure.figsize'] = (10, 6)"
      ]
    },
    {
      "cell_type": "markdown",
      "metadata": {
        "id": "md_WIQht9yVy"
      },
      "source": [
        "# Data Preparation"
      ]
    },
    {
      "cell_type": "code",
      "execution_count": null,
      "metadata": {
        "colab": {
          "base_uri": "https://localhost:8080/",
          "height": 423
        },
        "id": "QGRZQsutgFpE",
        "outputId": "751b944c-c5e3-487e-e97a-eb1bd947e4dd"
      },
      "outputs": [],
      "source": [
        "data = pd.read_csv(\"Calories.csv\")\n",
        "data"
      ]
    },
    {
      "cell_type": "code",
      "execution_count": null,
      "metadata": {
        "id": "VJIY69hl9ZQp"
      },
      "outputs": [],
      "source": [
        "data_out = data.pop(\"Calories\")\n",
        "data[\"Calories\"] = data_out"
      ]
    },
    {
      "cell_type": "code",
      "execution_count": null,
      "metadata": {
        "id": "zYFU6iWbiKYt"
      },
      "outputs": [],
      "source": [
        "data = data.drop(columns = [\"User_ID\"])"
      ]
    },
    {
      "cell_type": "code",
      "execution_count": null,
      "metadata": {
        "colab": {
          "base_uri": "https://localhost:8080/"
        },
        "id": "y0EffKbT9fAo",
        "outputId": "679bda6e-993b-4be3-dc22-d7692fbe9793"
      },
      "outputs": [],
      "source": [
        "data.columns"
      ]
    },
    {
      "cell_type": "markdown",
      "metadata": {
        "id": "H24YN8zi9gOg"
      },
      "source": [
        "#"
      ]
    },
    {
      "cell_type": "markdown",
      "metadata": {
        "id": "Ch-0_Amq90st"
      },
      "source": [
        "#EDA"
      ]
    },
    {
      "cell_type": "code",
      "execution_count": null,
      "metadata": {
        "colab": {
          "base_uri": "https://localhost:8080/",
          "height": 300
        },
        "id": "jDt27JBh982d",
        "outputId": "25b28b04-9122-4f07-e9e0-f95b26cb68b1"
      },
      "outputs": [],
      "source": [
        "data.describe()"
      ]
    },
    {
      "cell_type": "code",
      "execution_count": null,
      "metadata": {
        "colab": {
          "base_uri": "https://localhost:8080/"
        },
        "id": "_HvyIAk8amnm",
        "outputId": "f6adb73d-6678-4ded-9cfd-49d48c7abcb6"
      },
      "outputs": [],
      "source": [
        "data.shape"
      ]
    },
    {
      "cell_type": "code",
      "execution_count": null,
      "metadata": {
        "colab": {
          "base_uri": "https://localhost:8080/",
          "height": 335
        },
        "id": "l4LCrypY9-im",
        "outputId": "7b1727f9-07d0-4512-e276-e994f02b59a2"
      },
      "outputs": [],
      "source": [
        "data.dtypes"
      ]
    },
    {
      "cell_type": "code",
      "execution_count": null,
      "metadata": {
        "colab": {
          "base_uri": "https://localhost:8080/",
          "height": 1000
        },
        "id": "76cyaEyw9Mls",
        "outputId": "35bacf29-509c-4ef7-e1fd-2b873ecfd1fa"
      },
      "outputs": [],
      "source": [
        "for column in data.columns[:-1] :\n",
        "  sns.histplot(data = data, x = column)\n",
        "  plt.show()"
      ]
    },
    {
      "cell_type": "markdown",
      "metadata": {
        "id": "ep9Ll1DklMum"
      },
      "source": [
        "Peserta paling banyak yaitu umur 20 - 30 an.\n",
        "Tinggi dan berat badan memiliki distribusi yang baik.\n",
        "Body_Temp paling tinggi ada di 40 - 41."
      ]
    },
    {
      "cell_type": "code",
      "execution_count": null,
      "metadata": {
        "colab": {
          "base_uri": "https://localhost:8080/",
          "height": 1000
        },
        "id": "JLKGDLBm-B6h",
        "outputId": "b2d1a461-8c22-451c-af08-d6cf71df1e4d"
      },
      "outputs": [],
      "source": [
        "for column in data.columns[:-1] :\n",
        "  sns.boxplot(data = data, x = column)\n",
        "  plt.show()"
      ]
    },
    {
      "cell_type": "markdown",
      "metadata": {
        "id": "eF7PZESvlOIR"
      },
      "source": [
        "Tidak ada outlier ekstrim, hanya outlier kecil.\n"
      ]
    },
    {
      "cell_type": "code",
      "execution_count": null,
      "metadata": {
        "colab": {
          "base_uri": "https://localhost:8080/",
          "height": 1000
        },
        "id": "M5GVVV29DGMI",
        "outputId": "535699d9-2ae0-4f63-e110-ba59d4c189c2"
      },
      "outputs": [],
      "source": [
        "for column in data.columns[:-1] :\n",
        "  sns.scatterplot(data = data, x = column, y = \"Calories\")\n",
        "  plt.title(column)\n",
        "  plt.xlabel(column)\n",
        "  plt.ylabel(\"Count\")\n",
        "  plt.show()"
      ]
    },
    {
      "cell_type": "code",
      "execution_count": null,
      "metadata": {},
      "outputs": [],
      "source": [
        "for column in data.columns[:-1]:\n",
        "    if (data[column].dtypes != \"object\"):\n",
        "        plt.scatter(x=data[column] , y=data[\"Calories\"])\n",
        "        plt.show()"
      ]
    },
    {
      "cell_type": "markdown",
      "metadata": {
        "id": "8aPpOgg0lP6U"
      },
      "source": [
        "Bisa dilihat, semakin lama durasi olahraganya, maka kalori yang terbakar juga semakin banyak.\n",
        "Semakin tinggin heart_rate-nya, maka kalori yang terbakar juga semakin banyak.\n",
        "Semakin naik temperatur tubuh, maka kalori yang dibakar semakin banyak.\n"
      ]
    },
    {
      "cell_type": "code",
      "execution_count": null,
      "metadata": {
        "colab": {
          "base_uri": "https://localhost:8080/"
        },
        "id": "y7sYfklC-Tzt",
        "outputId": "a32611a0-5198-4a38-e89e-bab0ddb18b70"
      },
      "outputs": [],
      "source": [
        "for column in data.columns[:-1] :\n",
        "  if(data[column].dtype != \"object\") :\n",
        "    print(f\"column : {column}, skew : {data[column].skew()}, kurt : {data[column].kurt()}\")"
      ]
    },
    {
      "cell_type": "markdown",
      "metadata": {
        "id": "u0OJvkEMlRJp"
      },
      "source": [
        "Kolom terdistribusi normal : tidak ada.\n",
        "kolom tidak terdistribusi normal : semua\n",
        "(Berarti, untuk menangani missing value-nya menggunakan .median() )"
      ]
    },
    {
      "cell_type": "markdown",
      "metadata": {
        "id": "RK49PvNg-oZX"
      },
      "source": [
        "# Feature Engineering"
      ]
    },
    {
      "cell_type": "code",
      "execution_count": null,
      "metadata": {
        "colab": {
          "base_uri": "https://localhost:8080/",
          "height": 335
        },
        "id": "VXM8gkZH-qSB",
        "outputId": "a9215026-2eb1-4a6f-c3b2-7d94ed206183"
      },
      "outputs": [],
      "source": [
        "missing_percentage = data.isna().sum() / len(data) * 100\n",
        "missing_percentage"
      ]
    },
    {
      "cell_type": "code",
      "execution_count": null,
      "metadata": {
        "id": "3FuxEHjElx3e"
      },
      "outputs": [],
      "source": [
        "for key, value in missing_percentage.items() :\n",
        "  if(value > 50.0) :\n",
        "    data = data.drop(columns = [key])"
      ]
    },
    {
      "cell_type": "code",
      "execution_count": null,
      "metadata": {
        "id": "GTvkyp6Hl4dY"
      },
      "outputs": [],
      "source": [
        "for column in data.columns :\n",
        "  if(data[column].isna().any()) :\n",
        "    if(data[column].dtype != \"object\") :\n",
        "      data[column] = data[column].fillna(data[column].median())\n",
        "    else :\n",
        "      data[column] = data[column].fillna(data[column].mode()[0])"
      ]
    },
    {
      "cell_type": "code",
      "execution_count": null,
      "metadata": {
        "colab": {
          "base_uri": "https://localhost:8080/",
          "height": 335
        },
        "id": "R5NzbA37mLrY",
        "outputId": "8c4721ff-d866-4d29-8365-34c6032f7a16"
      },
      "outputs": [],
      "source": [
        "data.isna().sum()"
      ]
    },
    {
      "cell_type": "code",
      "execution_count": null,
      "metadata": {
        "colab": {
          "base_uri": "https://localhost:8080/"
        },
        "id": "1uzpFxU0ERr1",
        "outputId": "e1c1d921-a81b-4373-de1e-98bd2de33cb7"
      },
      "outputs": [],
      "source": [
        "data.columns"
      ]
    },
    {
      "cell_type": "code",
      "execution_count": null,
      "metadata": {
        "id": "vaKgpPLI-t27"
      },
      "outputs": [],
      "source": [
        "encoder = LabelEncoder()\n",
        "encoded = {}\n",
        "for column in data.columns :\n",
        "  if(data[column].dtype == \"object\") :\n",
        "    data[column] = encoder.fit_transform(data[column])\n",
        "    encoded[column] = {i : class_name for i, class_name in enumerate(encoder.classes_)}"
      ]
    },
    {
      "cell_type": "code",
      "execution_count": null,
      "metadata": {
        "colab": {
          "base_uri": "https://localhost:8080/"
        },
        "id": "4MZG99VP_N41",
        "outputId": "33a992ad-bdbb-4bf5-e461-62ba90152fbc"
      },
      "outputs": [],
      "source": [
        "for key, value in encoded.items() : print(f\"key : {key}, value : {value}\")"
      ]
    },
    {
      "cell_type": "code",
      "execution_count": null,
      "metadata": {
        "id": "EJhtCDSO_R5u"
      },
      "outputs": [],
      "source": [
        "x = data[data.columns[:-1]]\n",
        "y = data[data.columns[-1]]\n",
        "print (x)\n",
        "print (y)"
      ]
    },
    {
      "cell_type": "code",
      "execution_count": null,
      "metadata": {
        "id": "OWLIPQ5U_f9B"
      },
      "outputs": [],
      "source": [
        "x_train, x_test, y_train, y_test = train_test_split(x, y, test_size = 0.2)"
      ]
    },
    {
      "cell_type": "code",
      "execution_count": null,
      "metadata": {
        "id": "SoSKwK1h_mIj"
      },
      "outputs": [],
      "source": [
        "def correlation(data_df, threshold) :\n",
        "  corr_col = set()\n",
        "  corr_matrix = data_df.corr()\n",
        "  for i in range(len(corr_matrix.columns)) :\n",
        "    for j in range(i + 1, len(corr_matrix.columns)) :\n",
        "      if(np.abs(corr_matrix.iloc[(i, j)]) > threshold) :\n",
        "        corr_col.add(corr_matrix.columns[j])\n",
        "  return corr_col"
      ]
    },
    {
      "cell_type": "code",
      "execution_count": null,
      "metadata": {
        "colab": {
          "base_uri": "https://localhost:8080/"
        },
        "id": "LzJInWE9_66H",
        "outputId": "e962660f-678b-4389-aeb4-8a3479c22d65"
      },
      "outputs": [],
      "source": [
        "corr_col = correlation(x_train, 0.9)\n",
        "print(corr_col)"
      ]
    },
    {
      "cell_type": "code",
      "execution_count": null,
      "metadata": {
        "id": "U_mBbaNdAANp"
      },
      "outputs": [],
      "source": [
        "x_train = x_train.drop(columns = corr_col, axis = 1)\n",
        "x_test = x_test.drop(columns = corr_col, axis = 1)"
      ]
    },
    {
      "cell_type": "code",
      "execution_count": null,
      "metadata": {
        "id": "GsH083gTAK34"
      },
      "outputs": [],
      "source": [
        "# x_train = x_train.to_numpy()\n",
        "# x_test = x_test.to_numpy()"
      ]
    },
    {
      "cell_type": "code",
      "execution_count": null,
      "metadata": {},
      "outputs": [],
      "source": [
        "model = LinearRegression() #LinearRegression dengan MinMaxScaler()\n",
        "history = model.fit(x_train, y_train)\n",
        "y_pred = model.predict(x_test)\n",
        "print(f\"RMSE : {root_mean_squared_error(y_test, y_pred)}, MSE : {mean_squared_error(y_test, y_pred)}, R2_SCORE : {r2_score(y_test, y_pred)}\")"
      ]
    },
    {
      "cell_type": "code",
      "execution_count": null,
      "metadata": {
        "id": "9ygbp6LEAPWM"
      },
      "outputs": [],
      "source": [
        "y_train = np.reshape(y_train, (-1, 1))\n",
        "y_test = np.reshape(y_test, (-1, 1))"
      ]
    },
    {
      "cell_type": "code",
      "execution_count": null,
      "metadata": {
        "id": "-m0ydMjpATr2"
      },
      "outputs": [],
      "source": [
        "scaler_x_minmax, scaler_y_minmax = MinMaxScaler(), MinMaxScaler()\n",
        "scaler_x_standard, scaler_y_standard = StandardScaler(), StandardScaler()"
      ]
    },
    {
      "cell_type": "code",
      "execution_count": null,
      "metadata": {
        "id": "DJkHeNpNAoOY"
      },
      "outputs": [],
      "source": [
        "def scaling(x1, x2, y1, y2, scaler_x, scaler_y) :\n",
        "  x1 = scaler_x.fit_transform(x1)\n",
        "  x2 = scaler_x.transform(x2)\n",
        "  y1 = scaler_y.fit_transform(y1)\n",
        "  y2 = scaler_y.transform(y2)\n",
        "  return x1, x2, y1, y2, scaler_x, scaler_y"
      ]
    },
    {
      "cell_type": "code",
      "execution_count": null,
      "metadata": {
        "id": "RtWPNpuXA031"
      },
      "outputs": [],
      "source": [
        "x_train1, x_test1, y_train1, y_test1, scaler_x_minmax, scaler_y_minmax = scaling(x_train, x_test, y_train, y_test, scaler_x_minmax, scaler_y_minmax)"
      ]
    },
    {
      "cell_type": "code",
      "execution_count": null,
      "metadata": {
        "id": "5Ah26aVFBF4l"
      },
      "outputs": [],
      "source": [
        "x_train2, x_test2, y_train2, y_test2, scaler_x_standard, scaler_y_standard = scaling(x_train, x_test, y_train, y_test, scaler_x_standard, scaler_y_standard)"
      ]
    },
    {
      "cell_type": "code",
      "execution_count": null,
      "metadata": {
        "colab": {
          "base_uri": "https://localhost:8080/"
        },
        "id": "fVIq8FORBPxY",
        "outputId": "bd1d2173-b575-40db-d265-6f32ef505023"
      },
      "outputs": [],
      "source": [
        "model = LinearRegression() #LinearRegression dengan MinMaxScaler()\n",
        "history = model.fit(x_train1, y_train1)\n",
        "y_pred = model.predict(x_test1)\n",
        "print(f\"RMSE : {root_mean_squared_error(y_test1, y_pred)}, MSE : {mean_squared_error(y_test1, y_pred)}, R2_SCORE : {r2_score(y_test1, y_pred)}\")"
      ]
    },
    {
      "cell_type": "code",
      "execution_count": null,
      "metadata": {
        "colab": {
          "base_uri": "https://localhost:8080/"
        },
        "id": "bevzERIJCemo",
        "outputId": "6e0af0e9-c717-42be-c0ce-e13792fd199f"
      },
      "outputs": [],
      "source": [
        "model2 = LinearRegression() #LinearRegression dengan StandardScaler()\n",
        "history2 = model2.fit(x_train2, y_train2)\n",
        "y_pred2 = model2.predict(x_test2)\n",
        "print(f\"RMSE : {root_mean_squared_error(y_test2, y_pred2)}, MSE : {mean_squared_error(y_test2, y_pred2)}, R2_SCORE : {r2_score(y_test2, y_pred2)}\")"
      ]
    },
    {
      "cell_type": "code",
      "execution_count": null,
      "metadata": {},
      "outputs": [],
      "source": [
        "print (x_test1)\n",
        "print (y_pred)\n",
        "\n",
        "print (x_test2)\n",
        "print (y_pred2)"
      ]
    }
  ],
  "metadata": {
    "colab": {
      "provenance": []
    },
    "kernelspec": {
      "display_name": "Python 3",
      "name": "python3"
    },
    "language_info": {
      "codemirror_mode": {
        "name": "ipython",
        "version": 3
      },
      "file_extension": ".py",
      "mimetype": "text/x-python",
      "name": "python",
      "nbconvert_exporter": "python",
      "pygments_lexer": "ipython3",
      "version": "3.10.6"
    }
  },
  "nbformat": 4,
  "nbformat_minor": 0
}
