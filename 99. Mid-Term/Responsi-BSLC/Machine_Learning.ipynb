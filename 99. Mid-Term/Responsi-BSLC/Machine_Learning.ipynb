{
  "cells": [
    {
      "cell_type": "markdown",
      "metadata": {
        "id": "odKSNxA9-yFh"
      },
      "source": [
        "# Classification Basic"
      ]
    },
    {
      "cell_type": "markdown",
      "metadata": {},
      "source": [
        "Credit: Zefanya"
      ]
    },
    {
      "cell_type": "markdown",
      "metadata": {
        "id": "lSvgUqD0BSUj"
      },
      "source": [
        "Classification --> Cara untuk mengakategorikan data ke dalam kelas tertentu\n",
        "\n",
        "Ada dua jenis Classifcation model:\n",
        "\n",
        "  1. Discriminative model\n",
        "\n",
        "     Model ini langsung belajar membedakan antara kelas.\n",
        "\n",
        "     Tidak peduli bagaimana data dibuat, hanya fokus pada pemisahan.\n",
        "\n",
        "     Analogi: Bayangkan kamu hanya melihat perbedaan wajah antara kucing dan anjing, lalu memutuskan mana yang mana.\n",
        "\n",
        "     Contoh: Logistic Regression, SVM, Neural Networks.\n",
        "\n",
        "  2. Generative model\n",
        "\n",
        "     Model ini belajar dulu bagaimana data dari setiap kelas terbentuk.\n",
        "\n",
        "     Setelah tahu pola tiap kelas, barulah dia mengelompokkan data.\n",
        "\n",
        "     Analogi: Bayangkan kamu mempelajari setiap detail tentang kucing dan anjing (bentuk mata, suara, bulu, dsb.), lalu ketika melihat hewan baru, kamu tahu itu termasuk kelas mana.\n",
        "\n",
        "     Contoh: Naïve Bayes, Gaussian Mixture Model, GANs (Generative Adversarial Networks)."
      ]
    },
    {
      "cell_type": "markdown",
      "metadata": {
        "id": "ypCPhedEF1e2"
      },
      "source": [
        "# EDA and Pre-processing"
      ]
    },
    {
      "cell_type": "code",
      "execution_count": 201,
      "metadata": {
        "id": "kYD7QQ68ljmB"
      },
      "outputs": [],
      "source": [
        "# EDA -->\n",
        "#   1. Understand the data structure --> Data type, first view rows, the size, univariate analysis\n",
        "#   2. Missing values --> .isnull or isna()\n",
        "#   3. Duplicate rows --> .duplicated()\n",
        "#   4. outliers\n",
        "#   5. imbalance class\n",
        "#   6. The normality of the dataset"
      ]
    },
    {
      "cell_type": "code",
      "execution_count": 202,
      "metadata": {
        "id": "pWu9TOplnbSD"
      },
      "outputs": [],
      "source": [
        "# Preprocess --> Bedasaran dari kondisi di EDA + split data\n",
        "# Cara aku --> saat aku ketemu masalah saat EDA, lansung aku pre-process"
      ]
    },
    {
      "cell_type": "markdown",
      "metadata": {
        "id": "7y_Xh9Sbvfo5"
      },
      "source": [
        "Step 1:  Understand the data structure"
      ]
    },
    {
      "cell_type": "code",
      "execution_count": 203,
      "metadata": {
        "colab": {
          "base_uri": "https://localhost:8080/",
          "height": 536
        },
        "id": "cR3lrV4PvhRC",
        "outputId": "14e2172e-fa0d-49c8-9dae-4feab52bebc2"
      },
      "outputs": [
        {
          "name": "stdout",
          "output_type": "stream",
          "text": [
            "<class 'pandas.core.frame.DataFrame'>\n",
            "RangeIndex: 891 entries, 0 to 890\n",
            "Data columns (total 12 columns):\n",
            " #   Column       Non-Null Count  Dtype  \n",
            "---  ------       --------------  -----  \n",
            " 0   PassengerId  891 non-null    int64  \n",
            " 1   Survived     891 non-null    int64  \n",
            " 2   Pclass       891 non-null    int64  \n",
            " 3   Name         891 non-null    object \n",
            " 4   Sex          891 non-null    object \n",
            " 5   Age          714 non-null    float64\n",
            " 6   SibSp        891 non-null    int64  \n",
            " 7   Parch        891 non-null    int64  \n",
            " 8   Ticket       891 non-null    object \n",
            " 9   Fare         891 non-null    float64\n",
            " 10  Cabin        204 non-null    object \n",
            " 11  Embarked     889 non-null    object \n",
            "dtypes: float64(2), int64(5), object(5)\n",
            "memory usage: 83.7+ KB\n"
          ]
        },
        {
          "data": {
            "text/html": [
              "<div>\n",
              "<style scoped>\n",
              "    .dataframe tbody tr th:only-of-type {\n",
              "        vertical-align: middle;\n",
              "    }\n",
              "\n",
              "    .dataframe tbody tr th {\n",
              "        vertical-align: top;\n",
              "    }\n",
              "\n",
              "    .dataframe thead th {\n",
              "        text-align: right;\n",
              "    }\n",
              "</style>\n",
              "<table border=\"1\" class=\"dataframe\">\n",
              "  <thead>\n",
              "    <tr style=\"text-align: right;\">\n",
              "      <th></th>\n",
              "      <th>PassengerId</th>\n",
              "      <th>Survived</th>\n",
              "      <th>Pclass</th>\n",
              "      <th>Name</th>\n",
              "      <th>Sex</th>\n",
              "      <th>Age</th>\n",
              "      <th>SibSp</th>\n",
              "      <th>Parch</th>\n",
              "      <th>Ticket</th>\n",
              "      <th>Fare</th>\n",
              "      <th>Cabin</th>\n",
              "      <th>Embarked</th>\n",
              "    </tr>\n",
              "  </thead>\n",
              "  <tbody>\n",
              "    <tr>\n",
              "      <th>0</th>\n",
              "      <td>1</td>\n",
              "      <td>0</td>\n",
              "      <td>3</td>\n",
              "      <td>Braund, Mr. Owen Harris</td>\n",
              "      <td>male</td>\n",
              "      <td>22.0</td>\n",
              "      <td>1</td>\n",
              "      <td>0</td>\n",
              "      <td>A/5 21171</td>\n",
              "      <td>7.2500</td>\n",
              "      <td>NaN</td>\n",
              "      <td>S</td>\n",
              "    </tr>\n",
              "    <tr>\n",
              "      <th>1</th>\n",
              "      <td>2</td>\n",
              "      <td>1</td>\n",
              "      <td>1</td>\n",
              "      <td>Cumings, Mrs. John Bradley (Florence Briggs Th...</td>\n",
              "      <td>female</td>\n",
              "      <td>38.0</td>\n",
              "      <td>1</td>\n",
              "      <td>0</td>\n",
              "      <td>PC 17599</td>\n",
              "      <td>71.2833</td>\n",
              "      <td>C85</td>\n",
              "      <td>C</td>\n",
              "    </tr>\n",
              "    <tr>\n",
              "      <th>2</th>\n",
              "      <td>3</td>\n",
              "      <td>1</td>\n",
              "      <td>3</td>\n",
              "      <td>Heikkinen, Miss. Laina</td>\n",
              "      <td>female</td>\n",
              "      <td>26.0</td>\n",
              "      <td>0</td>\n",
              "      <td>0</td>\n",
              "      <td>STON/O2. 3101282</td>\n",
              "      <td>7.9250</td>\n",
              "      <td>NaN</td>\n",
              "      <td>S</td>\n",
              "    </tr>\n",
              "    <tr>\n",
              "      <th>3</th>\n",
              "      <td>4</td>\n",
              "      <td>1</td>\n",
              "      <td>1</td>\n",
              "      <td>Futrelle, Mrs. Jacques Heath (Lily May Peel)</td>\n",
              "      <td>female</td>\n",
              "      <td>35.0</td>\n",
              "      <td>1</td>\n",
              "      <td>0</td>\n",
              "      <td>113803</td>\n",
              "      <td>53.1000</td>\n",
              "      <td>C123</td>\n",
              "      <td>S</td>\n",
              "    </tr>\n",
              "    <tr>\n",
              "      <th>4</th>\n",
              "      <td>5</td>\n",
              "      <td>0</td>\n",
              "      <td>3</td>\n",
              "      <td>Allen, Mr. William Henry</td>\n",
              "      <td>male</td>\n",
              "      <td>35.0</td>\n",
              "      <td>0</td>\n",
              "      <td>0</td>\n",
              "      <td>373450</td>\n",
              "      <td>8.0500</td>\n",
              "      <td>NaN</td>\n",
              "      <td>S</td>\n",
              "    </tr>\n",
              "  </tbody>\n",
              "</table>\n",
              "</div>"
            ],
            "text/plain": [
              "   PassengerId  Survived  Pclass  \\\n",
              "0            1         0       3   \n",
              "1            2         1       1   \n",
              "2            3         1       3   \n",
              "3            4         1       1   \n",
              "4            5         0       3   \n",
              "\n",
              "                                                Name     Sex   Age  SibSp  \\\n",
              "0                            Braund, Mr. Owen Harris    male  22.0      1   \n",
              "1  Cumings, Mrs. John Bradley (Florence Briggs Th...  female  38.0      1   \n",
              "2                             Heikkinen, Miss. Laina  female  26.0      0   \n",
              "3       Futrelle, Mrs. Jacques Heath (Lily May Peel)  female  35.0      1   \n",
              "4                           Allen, Mr. William Henry    male  35.0      0   \n",
              "\n",
              "   Parch            Ticket     Fare Cabin Embarked  \n",
              "0      0         A/5 21171   7.2500   NaN        S  \n",
              "1      0          PC 17599  71.2833   C85        C  \n",
              "2      0  STON/O2. 3101282   7.9250   NaN        S  \n",
              "3      0            113803  53.1000  C123        S  \n",
              "4      0            373450   8.0500   NaN        S  "
            ]
          },
          "execution_count": 203,
          "metadata": {},
          "output_type": "execute_result"
        }
      ],
      "source": [
        "import pandas as pd\n",
        "import numpy as np\n",
        "import matplotlib.pyplot as plt\n",
        "from sklearn.preprocessing import StandardScaler\n",
        "import seaborn as sns\n",
        "\n",
        "\n",
        "titanic_data = pd.read_csv('../Exercise/Data/train.csv')\n",
        "# 1. Data types\n",
        "titanic_data.info()\n",
        "\n",
        "# 2. Fist view rows(biasanya 5 kalau aku)\n",
        "titanic_data.head()\n"
      ]
    },
    {
      "cell_type": "code",
      "execution_count": 204,
      "metadata": {
        "colab": {
          "base_uri": "https://localhost:8080/",
          "height": 423
        },
        "id": "Y3Ui9hBMQI8G",
        "outputId": "4d98e701-c47c-4483-8d20-4c52cf919031"
      },
      "outputs": [
        {
          "data": {
            "text/html": [
              "<div>\n",
              "<style scoped>\n",
              "    .dataframe tbody tr th:only-of-type {\n",
              "        vertical-align: middle;\n",
              "    }\n",
              "\n",
              "    .dataframe tbody tr th {\n",
              "        vertical-align: top;\n",
              "    }\n",
              "\n",
              "    .dataframe thead th {\n",
              "        text-align: right;\n",
              "    }\n",
              "</style>\n",
              "<table border=\"1\" class=\"dataframe\">\n",
              "  <thead>\n",
              "    <tr style=\"text-align: right;\">\n",
              "      <th></th>\n",
              "      <th>PassengerId</th>\n",
              "      <th>Survived</th>\n",
              "      <th>Pclass</th>\n",
              "      <th>Name</th>\n",
              "      <th>Sex</th>\n",
              "      <th>Age</th>\n",
              "      <th>SibSp</th>\n",
              "      <th>Parch</th>\n",
              "      <th>Ticket</th>\n",
              "      <th>Fare</th>\n",
              "      <th>Cabin</th>\n",
              "      <th>Embarked</th>\n",
              "    </tr>\n",
              "  </thead>\n",
              "  <tbody>\n",
              "    <tr>\n",
              "      <th>0</th>\n",
              "      <td>1</td>\n",
              "      <td>0</td>\n",
              "      <td>3</td>\n",
              "      <td>Braund, Mr. Owen Harris</td>\n",
              "      <td>male</td>\n",
              "      <td>22.0</td>\n",
              "      <td>1</td>\n",
              "      <td>0</td>\n",
              "      <td>A/5 21171</td>\n",
              "      <td>7.2500</td>\n",
              "      <td>NaN</td>\n",
              "      <td>S</td>\n",
              "    </tr>\n",
              "    <tr>\n",
              "      <th>1</th>\n",
              "      <td>2</td>\n",
              "      <td>1</td>\n",
              "      <td>1</td>\n",
              "      <td>Cumings, Mrs. John Bradley (Florence Briggs Th...</td>\n",
              "      <td>female</td>\n",
              "      <td>38.0</td>\n",
              "      <td>1</td>\n",
              "      <td>0</td>\n",
              "      <td>PC 17599</td>\n",
              "      <td>71.2833</td>\n",
              "      <td>C85</td>\n",
              "      <td>C</td>\n",
              "    </tr>\n",
              "    <tr>\n",
              "      <th>2</th>\n",
              "      <td>3</td>\n",
              "      <td>1</td>\n",
              "      <td>3</td>\n",
              "      <td>Heikkinen, Miss. Laina</td>\n",
              "      <td>female</td>\n",
              "      <td>26.0</td>\n",
              "      <td>0</td>\n",
              "      <td>0</td>\n",
              "      <td>STON/O2. 3101282</td>\n",
              "      <td>7.9250</td>\n",
              "      <td>NaN</td>\n",
              "      <td>S</td>\n",
              "    </tr>\n",
              "    <tr>\n",
              "      <th>3</th>\n",
              "      <td>4</td>\n",
              "      <td>1</td>\n",
              "      <td>1</td>\n",
              "      <td>Futrelle, Mrs. Jacques Heath (Lily May Peel)</td>\n",
              "      <td>female</td>\n",
              "      <td>35.0</td>\n",
              "      <td>1</td>\n",
              "      <td>0</td>\n",
              "      <td>113803</td>\n",
              "      <td>53.1000</td>\n",
              "      <td>C123</td>\n",
              "      <td>S</td>\n",
              "    </tr>\n",
              "    <tr>\n",
              "      <th>4</th>\n",
              "      <td>5</td>\n",
              "      <td>0</td>\n",
              "      <td>3</td>\n",
              "      <td>Allen, Mr. William Henry</td>\n",
              "      <td>male</td>\n",
              "      <td>35.0</td>\n",
              "      <td>0</td>\n",
              "      <td>0</td>\n",
              "      <td>373450</td>\n",
              "      <td>8.0500</td>\n",
              "      <td>NaN</td>\n",
              "      <td>S</td>\n",
              "    </tr>\n",
              "    <tr>\n",
              "      <th>...</th>\n",
              "      <td>...</td>\n",
              "      <td>...</td>\n",
              "      <td>...</td>\n",
              "      <td>...</td>\n",
              "      <td>...</td>\n",
              "      <td>...</td>\n",
              "      <td>...</td>\n",
              "      <td>...</td>\n",
              "      <td>...</td>\n",
              "      <td>...</td>\n",
              "      <td>...</td>\n",
              "      <td>...</td>\n",
              "    </tr>\n",
              "    <tr>\n",
              "      <th>886</th>\n",
              "      <td>887</td>\n",
              "      <td>0</td>\n",
              "      <td>2</td>\n",
              "      <td>Montvila, Rev. Juozas</td>\n",
              "      <td>male</td>\n",
              "      <td>27.0</td>\n",
              "      <td>0</td>\n",
              "      <td>0</td>\n",
              "      <td>211536</td>\n",
              "      <td>13.0000</td>\n",
              "      <td>NaN</td>\n",
              "      <td>S</td>\n",
              "    </tr>\n",
              "    <tr>\n",
              "      <th>887</th>\n",
              "      <td>888</td>\n",
              "      <td>1</td>\n",
              "      <td>1</td>\n",
              "      <td>Graham, Miss. Margaret Edith</td>\n",
              "      <td>female</td>\n",
              "      <td>19.0</td>\n",
              "      <td>0</td>\n",
              "      <td>0</td>\n",
              "      <td>112053</td>\n",
              "      <td>30.0000</td>\n",
              "      <td>B42</td>\n",
              "      <td>S</td>\n",
              "    </tr>\n",
              "    <tr>\n",
              "      <th>888</th>\n",
              "      <td>889</td>\n",
              "      <td>0</td>\n",
              "      <td>3</td>\n",
              "      <td>Johnston, Miss. Catherine Helen \"Carrie\"</td>\n",
              "      <td>female</td>\n",
              "      <td>NaN</td>\n",
              "      <td>1</td>\n",
              "      <td>2</td>\n",
              "      <td>W./C. 6607</td>\n",
              "      <td>23.4500</td>\n",
              "      <td>NaN</td>\n",
              "      <td>S</td>\n",
              "    </tr>\n",
              "    <tr>\n",
              "      <th>889</th>\n",
              "      <td>890</td>\n",
              "      <td>1</td>\n",
              "      <td>1</td>\n",
              "      <td>Behr, Mr. Karl Howell</td>\n",
              "      <td>male</td>\n",
              "      <td>26.0</td>\n",
              "      <td>0</td>\n",
              "      <td>0</td>\n",
              "      <td>111369</td>\n",
              "      <td>30.0000</td>\n",
              "      <td>C148</td>\n",
              "      <td>C</td>\n",
              "    </tr>\n",
              "    <tr>\n",
              "      <th>890</th>\n",
              "      <td>891</td>\n",
              "      <td>0</td>\n",
              "      <td>3</td>\n",
              "      <td>Dooley, Mr. Patrick</td>\n",
              "      <td>male</td>\n",
              "      <td>32.0</td>\n",
              "      <td>0</td>\n",
              "      <td>0</td>\n",
              "      <td>370376</td>\n",
              "      <td>7.7500</td>\n",
              "      <td>NaN</td>\n",
              "      <td>Q</td>\n",
              "    </tr>\n",
              "  </tbody>\n",
              "</table>\n",
              "<p>891 rows × 12 columns</p>\n",
              "</div>"
            ],
            "text/plain": [
              "     PassengerId  Survived  Pclass  \\\n",
              "0              1         0       3   \n",
              "1              2         1       1   \n",
              "2              3         1       3   \n",
              "3              4         1       1   \n",
              "4              5         0       3   \n",
              "..           ...       ...     ...   \n",
              "886          887         0       2   \n",
              "887          888         1       1   \n",
              "888          889         0       3   \n",
              "889          890         1       1   \n",
              "890          891         0       3   \n",
              "\n",
              "                                                  Name     Sex   Age  SibSp  \\\n",
              "0                              Braund, Mr. Owen Harris    male  22.0      1   \n",
              "1    Cumings, Mrs. John Bradley (Florence Briggs Th...  female  38.0      1   \n",
              "2                               Heikkinen, Miss. Laina  female  26.0      0   \n",
              "3         Futrelle, Mrs. Jacques Heath (Lily May Peel)  female  35.0      1   \n",
              "4                             Allen, Mr. William Henry    male  35.0      0   \n",
              "..                                                 ...     ...   ...    ...   \n",
              "886                              Montvila, Rev. Juozas    male  27.0      0   \n",
              "887                       Graham, Miss. Margaret Edith  female  19.0      0   \n",
              "888           Johnston, Miss. Catherine Helen \"Carrie\"  female   NaN      1   \n",
              "889                              Behr, Mr. Karl Howell    male  26.0      0   \n",
              "890                                Dooley, Mr. Patrick    male  32.0      0   \n",
              "\n",
              "     Parch            Ticket     Fare Cabin Embarked  \n",
              "0        0         A/5 21171   7.2500   NaN        S  \n",
              "1        0          PC 17599  71.2833   C85        C  \n",
              "2        0  STON/O2. 3101282   7.9250   NaN        S  \n",
              "3        0            113803  53.1000  C123        S  \n",
              "4        0            373450   8.0500   NaN        S  \n",
              "..     ...               ...      ...   ...      ...  \n",
              "886      0            211536  13.0000   NaN        S  \n",
              "887      0            112053  30.0000   B42        S  \n",
              "888      2        W./C. 6607  23.4500   NaN        S  \n",
              "889      0            111369  30.0000  C148        C  \n",
              "890      0            370376   7.7500   NaN        Q  \n",
              "\n",
              "[891 rows x 12 columns]"
            ]
          },
          "execution_count": 204,
          "metadata": {},
          "output_type": "execute_result"
        }
      ],
      "source": [
        "# 3. Understad the data size\n",
        "titanic_data.shape\n",
        "# (891, 12) --> dataset memiliki rows sebanyak 891 dan kolom sebanyak 12\n",
        "titanic_data"
      ]
    },
    {
      "cell_type": "code",
      "execution_count": 205,
      "metadata": {
        "colab": {
          "base_uri": "https://localhost:8080/",
          "height": 300
        },
        "id": "YFgwu4wVQQca",
        "outputId": "fcef6872-243d-4c8b-a2eb-c908f6f3512d"
      },
      "outputs": [
        {
          "data": {
            "text/html": [
              "<div>\n",
              "<style scoped>\n",
              "    .dataframe tbody tr th:only-of-type {\n",
              "        vertical-align: middle;\n",
              "    }\n",
              "\n",
              "    .dataframe tbody tr th {\n",
              "        vertical-align: top;\n",
              "    }\n",
              "\n",
              "    .dataframe thead th {\n",
              "        text-align: right;\n",
              "    }\n",
              "</style>\n",
              "<table border=\"1\" class=\"dataframe\">\n",
              "  <thead>\n",
              "    <tr style=\"text-align: right;\">\n",
              "      <th></th>\n",
              "      <th>PassengerId</th>\n",
              "      <th>Survived</th>\n",
              "      <th>Pclass</th>\n",
              "      <th>Age</th>\n",
              "      <th>SibSp</th>\n",
              "      <th>Parch</th>\n",
              "      <th>Fare</th>\n",
              "    </tr>\n",
              "  </thead>\n",
              "  <tbody>\n",
              "    <tr>\n",
              "      <th>count</th>\n",
              "      <td>891.000000</td>\n",
              "      <td>891.000000</td>\n",
              "      <td>891.000000</td>\n",
              "      <td>714.000000</td>\n",
              "      <td>891.000000</td>\n",
              "      <td>891.000000</td>\n",
              "      <td>891.000000</td>\n",
              "    </tr>\n",
              "    <tr>\n",
              "      <th>mean</th>\n",
              "      <td>446.000000</td>\n",
              "      <td>0.383838</td>\n",
              "      <td>2.308642</td>\n",
              "      <td>29.699118</td>\n",
              "      <td>0.523008</td>\n",
              "      <td>0.381594</td>\n",
              "      <td>32.204208</td>\n",
              "    </tr>\n",
              "    <tr>\n",
              "      <th>std</th>\n",
              "      <td>257.353842</td>\n",
              "      <td>0.486592</td>\n",
              "      <td>0.836071</td>\n",
              "      <td>14.526497</td>\n",
              "      <td>1.102743</td>\n",
              "      <td>0.806057</td>\n",
              "      <td>49.693429</td>\n",
              "    </tr>\n",
              "    <tr>\n",
              "      <th>min</th>\n",
              "      <td>1.000000</td>\n",
              "      <td>0.000000</td>\n",
              "      <td>1.000000</td>\n",
              "      <td>0.420000</td>\n",
              "      <td>0.000000</td>\n",
              "      <td>0.000000</td>\n",
              "      <td>0.000000</td>\n",
              "    </tr>\n",
              "    <tr>\n",
              "      <th>25%</th>\n",
              "      <td>223.500000</td>\n",
              "      <td>0.000000</td>\n",
              "      <td>2.000000</td>\n",
              "      <td>20.125000</td>\n",
              "      <td>0.000000</td>\n",
              "      <td>0.000000</td>\n",
              "      <td>7.910400</td>\n",
              "    </tr>\n",
              "    <tr>\n",
              "      <th>50%</th>\n",
              "      <td>446.000000</td>\n",
              "      <td>0.000000</td>\n",
              "      <td>3.000000</td>\n",
              "      <td>28.000000</td>\n",
              "      <td>0.000000</td>\n",
              "      <td>0.000000</td>\n",
              "      <td>14.454200</td>\n",
              "    </tr>\n",
              "    <tr>\n",
              "      <th>75%</th>\n",
              "      <td>668.500000</td>\n",
              "      <td>1.000000</td>\n",
              "      <td>3.000000</td>\n",
              "      <td>38.000000</td>\n",
              "      <td>1.000000</td>\n",
              "      <td>0.000000</td>\n",
              "      <td>31.000000</td>\n",
              "    </tr>\n",
              "    <tr>\n",
              "      <th>max</th>\n",
              "      <td>891.000000</td>\n",
              "      <td>1.000000</td>\n",
              "      <td>3.000000</td>\n",
              "      <td>80.000000</td>\n",
              "      <td>8.000000</td>\n",
              "      <td>6.000000</td>\n",
              "      <td>512.329200</td>\n",
              "    </tr>\n",
              "  </tbody>\n",
              "</table>\n",
              "</div>"
            ],
            "text/plain": [
              "       PassengerId    Survived      Pclass         Age       SibSp  \\\n",
              "count   891.000000  891.000000  891.000000  714.000000  891.000000   \n",
              "mean    446.000000    0.383838    2.308642   29.699118    0.523008   \n",
              "std     257.353842    0.486592    0.836071   14.526497    1.102743   \n",
              "min       1.000000    0.000000    1.000000    0.420000    0.000000   \n",
              "25%     223.500000    0.000000    2.000000   20.125000    0.000000   \n",
              "50%     446.000000    0.000000    3.000000   28.000000    0.000000   \n",
              "75%     668.500000    1.000000    3.000000   38.000000    1.000000   \n",
              "max     891.000000    1.000000    3.000000   80.000000    8.000000   \n",
              "\n",
              "            Parch        Fare  \n",
              "count  891.000000  891.000000  \n",
              "mean     0.381594   32.204208  \n",
              "std      0.806057   49.693429  \n",
              "min      0.000000    0.000000  \n",
              "25%      0.000000    7.910400  \n",
              "50%      0.000000   14.454200  \n",
              "75%      0.000000   31.000000  \n",
              "max      6.000000  512.329200  "
            ]
          },
          "execution_count": 205,
          "metadata": {},
          "output_type": "execute_result"
        }
      ],
      "source": [
        "\n",
        "# 4. Univariate analysis -->\n",
        "#    1. Summary statistic\n",
        "#    2. Visualization\n",
        "#         a. Histogram --> Menunjukan distribusi of values\n",
        "\n",
        "#  Sumary statistic\n",
        "titanic_data.describe()"
      ]
    },
    {
      "cell_type": "code",
      "execution_count": 206,
      "metadata": {
        "colab": {
          "base_uri": "https://localhost:8080/",
          "height": 564
        },
        "id": "okFA4qEfQseo",
        "outputId": "143b7dd2-0d21-4b0b-bca4-395c39295626"
      },
      "outputs": [
        {
          "data": {
            "image/png": "[encoded data removed]",
            "text/plain": [
              "<Figure size 1000x600 with 1 Axes>"
            ]
          },
          "metadata": {},
          "output_type": "display_data"
        }
      ],
      "source": [
        "#  Histogram\n",
        "plt.figure(figsize=(10,6))\n",
        "sns.histplot(titanic_data['Age'], bins= 30, kde = True)\n",
        "plt.title('Survive Distribution')\n",
        "plt.xlabel('Age')\n",
        "plt.ylabel('Jumlah penumpang')\n",
        "plt.show()"
      ]
    },
    {
      "cell_type": "markdown",
      "metadata": {
        "id": "Bd0r-cXI1Dg-"
      },
      "source": [
        "Step 2: Missing values"
      ]
    },
    {
      "cell_type": "code",
      "execution_count": 207,
      "metadata": {
        "colab": {
          "base_uri": "https://localhost:8080/",
          "height": 460
        },
        "id": "g_bK-iS21ciN",
        "outputId": "c2d6afab-e7f9-4210-a26e-818c9c9e3574"
      },
      "outputs": [
        {
          "data": {
            "text/plain": [
              "PassengerId    0.000000\n",
              "Survived       0.000000\n",
              "Pclass         0.000000\n",
              "Name           0.000000\n",
              "Sex            0.000000\n",
              "Age            0.198653\n",
              "SibSp          0.000000\n",
              "Parch          0.000000\n",
              "Ticket         0.000000\n",
              "Fare           0.000000\n",
              "Cabin          0.771044\n",
              "Embarked       0.002245\n",
              "dtype: float64"
            ]
          },
          "execution_count": 207,
          "metadata": {},
          "output_type": "execute_result"
        }
      ],
      "source": [
        "# Identify  using .isnull() or .isna().\n",
        "titanic_data.isnull().mean()\n",
        "\n",
        "# Decide whether to drop rows  with too many missing values or fill them (impute).\n",
        "#    If tidak banyak row yang missing value nya:\n",
        "#     Maka di drop saja\n",
        "\n",
        "#    Else banyak row yang missing valuenya:\n",
        "\n",
        "#      a. Mean/median for numerical columns.\n",
        "#           To know when to use mean or median to replace the missing value, we need to determine the skewness of the column\n",
        "#           the skewness measure how simetric our data distribution\n",
        "\n",
        "#           We use mean   --> if skewnees between -0.5 and 0.5\n",
        "#           We use median --> if skewness is less than -0.5 or greater than 0.5\n",
        "\n",
        "#           if amount of missng value in the coulumn is bigger than half of amount of rows in the dataset:\n",
        "#                just drop the column\n",
        "\n",
        "#      b. Mode for categorical columns.\n",
        "#         if there is no mode in tha categorical column, then just drop the coulumn"
      ]
    },
    {
      "cell_type": "code",
      "execution_count": 208,
      "metadata": {
        "colab": {
          "base_uri": "https://localhost:8080/"
        },
        "id": "XzoCSyYw14HB",
        "outputId": "4028f684-8832-41fc-d7e2-9f3d56e502ac"
      },
      "outputs": [
        {
          "name": "stderr",
          "output_type": "stream",
          "text": [
            "C:\\Users\\ASUS\\AppData\\Local\\Temp\\ipykernel_5156\\3685880476.py:20: FutureWarning: A value is trying to be set on a copy of a DataFrame or Series through chained assignment using an inplace method.\n",
            "The behavior will change in pandas 3.0. This inplace method will never work because the intermediate object on which we are setting values always behaves as a copy.\n",
            "\n",
            "For example, when doing 'df[col].method(value, inplace=True)', try using 'df.method({col: value}, inplace=True)' or df[col] = df[col].method(value) instead, to perform the operation inplace on the original object.\n",
            "\n",
            "\n",
            "  if titanic_data[i].fillna(titanic_data[i].mode()[0], inplace=True) != 'None':\n"
          ]
        }
      ],
      "source": [
        "# Because lumayan banyak yang value nya missing, maka kita akan mengganti mereka dengan mean atau median untuk kolom numerical\n",
        "# Dan akan mengganti mereka dengan mode untuk categorical, nah khusus untuk categorical, jika tidak ada modenya, maka kita hapus aja rownya\n",
        "row_titanic = titanic_data.shape[0]\n",
        "for i in titanic_data.columns:\n",
        "  if titanic_data[i].isnull().sum() == 0:\n",
        "    continue\n",
        "  elif titanic_data[i].dtype == 'int64' or titanic_data[i].dtype == 'float64':\n",
        "    # kalau jumlah missng value masih kurang dari setengah dari jumlah rows\n",
        "    # tidak apa-apa di drop\n",
        "    if (50/100)*(row_titanic) > titanic_data[i].isnull().sum():\n",
        "       titanic_data.drop(i, axis=1, inplace=True)\n",
        "    # kalau skewness lebih kecil dari -0.5 atau lebih besar dari 0.5, maka diganti dengan median karena skeww nya positive / negative\n",
        "    elif titanic_data[i].skew() < -0.5 or titanic_data[i].skew() > 0.5:\n",
        "      titanic_data[i].fillna(titanic_data[i].median(), inplace=True)\n",
        "    # kalau skewness antara -0.5 dengan 0.5,maka diganti dengan mean\n",
        "    else:\n",
        "      titanic_data[i].fillna(titanic_data[i].mean(), inplace=True)\n",
        "  else:\n",
        "    # jika mode tersedia, diganti dengan mode\n",
        "    if titanic_data[i].fillna(titanic_data[i].mode()[0], inplace=True) != 'None':\n",
        "      titanic_data[i].fillna(titanic_data[i].mode()[0], inplace=True)\n",
        "    # jika tidak ada mode, dibuang saja\n",
        "    else:\n",
        "      titanic_data.drop(i, axis=1, inplace=True)"
      ]
    },
    {
      "cell_type": "markdown",
      "metadata": {
        "id": "4bq2micK1J6y"
      },
      "source": []
    },
    {
      "cell_type": "code",
      "execution_count": 209,
      "metadata": {
        "colab": {
          "base_uri": "https://localhost:8080/",
          "height": 429
        },
        "id": "NgTMHo-B3wMZ",
        "outputId": "6a463c3b-2c1b-4a0a-8f5e-c825d36af5cc"
      },
      "outputs": [
        {
          "data": {
            "text/plain": [
              "PassengerId    0\n",
              "Survived       0\n",
              "Pclass         0\n",
              "Name           0\n",
              "Sex            0\n",
              "SibSp          0\n",
              "Parch          0\n",
              "Ticket         0\n",
              "Fare           0\n",
              "Cabin          0\n",
              "Embarked       0\n",
              "dtype: int64"
            ]
          },
          "execution_count": 209,
          "metadata": {},
          "output_type": "execute_result"
        }
      ],
      "source": [
        "titanic_data.isnull().sum()"
      ]
    },
    {
      "cell_type": "code",
      "execution_count": 210,
      "metadata": {
        "colab": {
          "base_uri": "https://localhost:8080/",
          "height": 206
        },
        "id": "K_g43huVteiE",
        "outputId": "85058ca2-3d46-4214-db9f-a92ec63311e1"
      },
      "outputs": [
        {
          "data": {
            "text/html": [
              "<div>\n",
              "<style scoped>\n",
              "    .dataframe tbody tr th:only-of-type {\n",
              "        vertical-align: middle;\n",
              "    }\n",
              "\n",
              "    .dataframe tbody tr th {\n",
              "        vertical-align: top;\n",
              "    }\n",
              "\n",
              "    .dataframe thead th {\n",
              "        text-align: right;\n",
              "    }\n",
              "</style>\n",
              "<table border=\"1\" class=\"dataframe\">\n",
              "  <thead>\n",
              "    <tr style=\"text-align: right;\">\n",
              "      <th></th>\n",
              "      <th>PassengerId</th>\n",
              "      <th>Survived</th>\n",
              "      <th>Pclass</th>\n",
              "      <th>Name</th>\n",
              "      <th>Sex</th>\n",
              "      <th>SibSp</th>\n",
              "      <th>Parch</th>\n",
              "      <th>Ticket</th>\n",
              "      <th>Fare</th>\n",
              "      <th>Cabin</th>\n",
              "      <th>Embarked</th>\n",
              "    </tr>\n",
              "  </thead>\n",
              "  <tbody>\n",
              "    <tr>\n",
              "      <th>0</th>\n",
              "      <td>1</td>\n",
              "      <td>0</td>\n",
              "      <td>3</td>\n",
              "      <td>Braund, Mr. Owen Harris</td>\n",
              "      <td>male</td>\n",
              "      <td>1</td>\n",
              "      <td>0</td>\n",
              "      <td>A/5 21171</td>\n",
              "      <td>7.2500</td>\n",
              "      <td>B96 B98</td>\n",
              "      <td>S</td>\n",
              "    </tr>\n",
              "    <tr>\n",
              "      <th>1</th>\n",
              "      <td>2</td>\n",
              "      <td>1</td>\n",
              "      <td>1</td>\n",
              "      <td>Cumings, Mrs. John Bradley (Florence Briggs Th...</td>\n",
              "      <td>female</td>\n",
              "      <td>1</td>\n",
              "      <td>0</td>\n",
              "      <td>PC 17599</td>\n",
              "      <td>71.2833</td>\n",
              "      <td>C85</td>\n",
              "      <td>C</td>\n",
              "    </tr>\n",
              "    <tr>\n",
              "      <th>2</th>\n",
              "      <td>3</td>\n",
              "      <td>1</td>\n",
              "      <td>3</td>\n",
              "      <td>Heikkinen, Miss. Laina</td>\n",
              "      <td>female</td>\n",
              "      <td>0</td>\n",
              "      <td>0</td>\n",
              "      <td>STON/O2. 3101282</td>\n",
              "      <td>7.9250</td>\n",
              "      <td>B96 B98</td>\n",
              "      <td>S</td>\n",
              "    </tr>\n",
              "    <tr>\n",
              "      <th>3</th>\n",
              "      <td>4</td>\n",
              "      <td>1</td>\n",
              "      <td>1</td>\n",
              "      <td>Futrelle, Mrs. Jacques Heath (Lily May Peel)</td>\n",
              "      <td>female</td>\n",
              "      <td>1</td>\n",
              "      <td>0</td>\n",
              "      <td>113803</td>\n",
              "      <td>53.1000</td>\n",
              "      <td>C123</td>\n",
              "      <td>S</td>\n",
              "    </tr>\n",
              "    <tr>\n",
              "      <th>4</th>\n",
              "      <td>5</td>\n",
              "      <td>0</td>\n",
              "      <td>3</td>\n",
              "      <td>Allen, Mr. William Henry</td>\n",
              "      <td>male</td>\n",
              "      <td>0</td>\n",
              "      <td>0</td>\n",
              "      <td>373450</td>\n",
              "      <td>8.0500</td>\n",
              "      <td>B96 B98</td>\n",
              "      <td>S</td>\n",
              "    </tr>\n",
              "  </tbody>\n",
              "</table>\n",
              "</div>"
            ],
            "text/plain": [
              "   PassengerId  Survived  Pclass  \\\n",
              "0            1         0       3   \n",
              "1            2         1       1   \n",
              "2            3         1       3   \n",
              "3            4         1       1   \n",
              "4            5         0       3   \n",
              "\n",
              "                                                Name     Sex  SibSp  Parch  \\\n",
              "0                            Braund, Mr. Owen Harris    male      1      0   \n",
              "1  Cumings, Mrs. John Bradley (Florence Briggs Th...  female      1      0   \n",
              "2                             Heikkinen, Miss. Laina  female      0      0   \n",
              "3       Futrelle, Mrs. Jacques Heath (Lily May Peel)  female      1      0   \n",
              "4                           Allen, Mr. William Henry    male      0      0   \n",
              "\n",
              "             Ticket     Fare    Cabin Embarked  \n",
              "0         A/5 21171   7.2500  B96 B98        S  \n",
              "1          PC 17599  71.2833      C85        C  \n",
              "2  STON/O2. 3101282   7.9250  B96 B98        S  \n",
              "3            113803  53.1000     C123        S  \n",
              "4            373450   8.0500  B96 B98        S  "
            ]
          },
          "execution_count": 210,
          "metadata": {},
          "output_type": "execute_result"
        }
      ],
      "source": [
        "titanic_data.head()"
      ]
    },
    {
      "cell_type": "code",
      "execution_count": 211,
      "metadata": {
        "colab": {
          "base_uri": "https://localhost:8080/"
        },
        "id": "1WQ0n2RD3yyu",
        "outputId": "6ffe08bc-d5ea-4473-b0a7-b90a1043e9e3"
      },
      "outputs": [
        {
          "name": "stdout",
          "output_type": "stream",
          "text": [
            "All column has been filled\n"
          ]
        }
      ],
      "source": [
        "c = 0\n",
        "for a  in titanic_data.columns:\n",
        "  if titanic_data[a].isnull().sum() == 0:\n",
        "    c = c + 1\n",
        "  else:\n",
        "    print(a, titanic_data[a].isnull().sum(), titanic_data[a].dtype)\n",
        "if c == len(titanic_data.columns):\n",
        "  print(\"All column has been filled\")\n",
        "else:\n",
        "  print(\"Masih ada\")"
      ]
    },
    {
      "cell_type": "markdown",
      "metadata": {
        "id": "_2iokFIa4Mou"
      },
      "source": [
        "Step 3d: Duplicate Rows and redundant features"
      ]
    },
    {
      "cell_type": "code",
      "execution_count": 212,
      "metadata": {
        "colab": {
          "base_uri": "https://localhost:8080/"
        },
        "id": "TYlGA0mx4VpG",
        "outputId": "3fcd1c3c-b1f3-4940-e968-7222a39456ae"
      },
      "outputs": [
        {
          "name": "stdout",
          "output_type": "stream",
          "text": [
            "No duplicate\n",
            "['Name', 'Sex', 'Ticket', 'Cabin', 'Embarked']\n",
            "5\n"
          ]
        }
      ],
      "source": [
        "# Duplicate rows --> Row yang mirip dengan row lain\n",
        "nn = titanic_data.duplicated()\n",
        "b = 0\n",
        "for a in range(len(nn)):\n",
        "  if nn[a] == False:\n",
        "     b = b + 1\n",
        "if b == len(nn):\n",
        "  print(\"No duplicate\")\n",
        "else:\n",
        "  print(\"Duplicate\")\n",
        "\n",
        "# if there is duplicate --> di drop\n",
        "# if there is no duplicate --> lanjut\n",
        "\n",
        "# Redundant features --> feature yang berhubungan kuat dengan featue lain\n",
        "#  1. Corelation\n",
        "#      Dapat dilakukan jika semua kolomnya numerical\n",
        "#      jika ada yang tdk numerical, kita harus encoding\n",
        "\n",
        "# Let's try to check if there are categorical column or not\n",
        "ll = titanic_data.columns\n",
        "categorical_column = []\n",
        "for a in ll:\n",
        "  if titanic_data[a].dtype == 'object':\n",
        "    categorical_column.append(a)\n",
        "print(categorical_column)\n",
        "print(len(categorical_column))"
      ]
    },
    {
      "cell_type": "code",
      "execution_count": 213,
      "metadata": {
        "colab": {
          "base_uri": "https://localhost:8080/",
          "height": 458
        },
        "id": "uV39coPYaHXm",
        "outputId": "5b63e009-54d4-4a12-9cc6-c129fb2739c8"
      },
      "outputs": [
        {
          "data": {
            "text/plain": [
              "0      False\n",
              "1      False\n",
              "2      False\n",
              "3      False\n",
              "4      False\n",
              "       ...  \n",
              "886    False\n",
              "887    False\n",
              "888    False\n",
              "889    False\n",
              "890    False\n",
              "Length: 891, dtype: bool"
            ]
          },
          "execution_count": 213,
          "metadata": {},
          "output_type": "execute_result"
        }
      ],
      "source": [
        "nn"
      ]
    },
    {
      "cell_type": "code",
      "execution_count": 214,
      "metadata": {
        "id": "t8F_Oyx85_gU"
      },
      "outputs": [],
      "source": [
        "# Encoding\n",
        "#   There are two ways to do this :\n",
        "\n",
        "      #  1. One-Hot Encoding\n",
        "\n",
        "      #     Converts nominal (no order) categories into multiple binary columns (0 or 1).\n",
        "      #     Use for independent categories like \"Color\" (e.g., Red, Blue, Green).\n",
        "\n",
        "      #     Example:\n",
        "      #     Color: Red → Red: 1, Blue: 0, Green: 0\n",
        "\n",
        "      #  2. Label Encoding\n",
        "\n",
        "      #      Converts ordinal (ordered) categories into integers.\n",
        "      #      Use for ranked categories like \"Risk Level\" (e.g., Low, Medium, High).\n",
        "\n",
        "      #      Example:\n",
        "      #      Risk: Low → 0, Medium → 1, High → 2\n",
        "\n",
        "# We will determine which one pakai one hot encoding atau label encoding\n",
        "#   Name --> dihapus\n",
        "#   Sex  --> pakai one hot encoding\n",
        "#   Ticket --> dihapus\n",
        "#   Cabin --> dihapus\n",
        "#   Embarked --> pakai one hot encoding"
      ]
    },
    {
      "cell_type": "code",
      "execution_count": 215,
      "metadata": {},
      "outputs": [
        {
          "data": {
            "text/html": [
              "<div>\n",
              "<style scoped>\n",
              "    .dataframe tbody tr th:only-of-type {\n",
              "        vertical-align: middle;\n",
              "    }\n",
              "\n",
              "    .dataframe tbody tr th {\n",
              "        vertical-align: top;\n",
              "    }\n",
              "\n",
              "    .dataframe thead th {\n",
              "        text-align: right;\n",
              "    }\n",
              "</style>\n",
              "<table border=\"1\" class=\"dataframe\">\n",
              "  <thead>\n",
              "    <tr style=\"text-align: right;\">\n",
              "      <th></th>\n",
              "      <th>PassengerId</th>\n",
              "      <th>Survived</th>\n",
              "      <th>Pclass</th>\n",
              "      <th>Name</th>\n",
              "      <th>Sex</th>\n",
              "      <th>SibSp</th>\n",
              "      <th>Parch</th>\n",
              "      <th>Ticket</th>\n",
              "      <th>Fare</th>\n",
              "      <th>Cabin</th>\n",
              "      <th>Embarked</th>\n",
              "    </tr>\n",
              "  </thead>\n",
              "  <tbody>\n",
              "    <tr>\n",
              "      <th>0</th>\n",
              "      <td>1</td>\n",
              "      <td>0</td>\n",
              "      <td>3</td>\n",
              "      <td>Braund, Mr. Owen Harris</td>\n",
              "      <td>male</td>\n",
              "      <td>1</td>\n",
              "      <td>0</td>\n",
              "      <td>A/5 21171</td>\n",
              "      <td>7.2500</td>\n",
              "      <td>B96 B98</td>\n",
              "      <td>S</td>\n",
              "    </tr>\n",
              "    <tr>\n",
              "      <th>1</th>\n",
              "      <td>2</td>\n",
              "      <td>1</td>\n",
              "      <td>1</td>\n",
              "      <td>Cumings, Mrs. John Bradley (Florence Briggs Th...</td>\n",
              "      <td>female</td>\n",
              "      <td>1</td>\n",
              "      <td>0</td>\n",
              "      <td>PC 17599</td>\n",
              "      <td>71.2833</td>\n",
              "      <td>C85</td>\n",
              "      <td>C</td>\n",
              "    </tr>\n",
              "    <tr>\n",
              "      <th>2</th>\n",
              "      <td>3</td>\n",
              "      <td>1</td>\n",
              "      <td>3</td>\n",
              "      <td>Heikkinen, Miss. Laina</td>\n",
              "      <td>female</td>\n",
              "      <td>0</td>\n",
              "      <td>0</td>\n",
              "      <td>STON/O2. 3101282</td>\n",
              "      <td>7.9250</td>\n",
              "      <td>B96 B98</td>\n",
              "      <td>S</td>\n",
              "    </tr>\n",
              "    <tr>\n",
              "      <th>3</th>\n",
              "      <td>4</td>\n",
              "      <td>1</td>\n",
              "      <td>1</td>\n",
              "      <td>Futrelle, Mrs. Jacques Heath (Lily May Peel)</td>\n",
              "      <td>female</td>\n",
              "      <td>1</td>\n",
              "      <td>0</td>\n",
              "      <td>113803</td>\n",
              "      <td>53.1000</td>\n",
              "      <td>C123</td>\n",
              "      <td>S</td>\n",
              "    </tr>\n",
              "    <tr>\n",
              "      <th>4</th>\n",
              "      <td>5</td>\n",
              "      <td>0</td>\n",
              "      <td>3</td>\n",
              "      <td>Allen, Mr. William Henry</td>\n",
              "      <td>male</td>\n",
              "      <td>0</td>\n",
              "      <td>0</td>\n",
              "      <td>373450</td>\n",
              "      <td>8.0500</td>\n",
              "      <td>B96 B98</td>\n",
              "      <td>S</td>\n",
              "    </tr>\n",
              "    <tr>\n",
              "      <th>...</th>\n",
              "      <td>...</td>\n",
              "      <td>...</td>\n",
              "      <td>...</td>\n",
              "      <td>...</td>\n",
              "      <td>...</td>\n",
              "      <td>...</td>\n",
              "      <td>...</td>\n",
              "      <td>...</td>\n",
              "      <td>...</td>\n",
              "      <td>...</td>\n",
              "      <td>...</td>\n",
              "    </tr>\n",
              "    <tr>\n",
              "      <th>886</th>\n",
              "      <td>887</td>\n",
              "      <td>0</td>\n",
              "      <td>2</td>\n",
              "      <td>Montvila, Rev. Juozas</td>\n",
              "      <td>male</td>\n",
              "      <td>0</td>\n",
              "      <td>0</td>\n",
              "      <td>211536</td>\n",
              "      <td>13.0000</td>\n",
              "      <td>B96 B98</td>\n",
              "      <td>S</td>\n",
              "    </tr>\n",
              "    <tr>\n",
              "      <th>887</th>\n",
              "      <td>888</td>\n",
              "      <td>1</td>\n",
              "      <td>1</td>\n",
              "      <td>Graham, Miss. Margaret Edith</td>\n",
              "      <td>female</td>\n",
              "      <td>0</td>\n",
              "      <td>0</td>\n",
              "      <td>112053</td>\n",
              "      <td>30.0000</td>\n",
              "      <td>B42</td>\n",
              "      <td>S</td>\n",
              "    </tr>\n",
              "    <tr>\n",
              "      <th>888</th>\n",
              "      <td>889</td>\n",
              "      <td>0</td>\n",
              "      <td>3</td>\n",
              "      <td>Johnston, Miss. Catherine Helen \"Carrie\"</td>\n",
              "      <td>female</td>\n",
              "      <td>1</td>\n",
              "      <td>2</td>\n",
              "      <td>W./C. 6607</td>\n",
              "      <td>23.4500</td>\n",
              "      <td>B96 B98</td>\n",
              "      <td>S</td>\n",
              "    </tr>\n",
              "    <tr>\n",
              "      <th>889</th>\n",
              "      <td>890</td>\n",
              "      <td>1</td>\n",
              "      <td>1</td>\n",
              "      <td>Behr, Mr. Karl Howell</td>\n",
              "      <td>male</td>\n",
              "      <td>0</td>\n",
              "      <td>0</td>\n",
              "      <td>111369</td>\n",
              "      <td>30.0000</td>\n",
              "      <td>C148</td>\n",
              "      <td>C</td>\n",
              "    </tr>\n",
              "    <tr>\n",
              "      <th>890</th>\n",
              "      <td>891</td>\n",
              "      <td>0</td>\n",
              "      <td>3</td>\n",
              "      <td>Dooley, Mr. Patrick</td>\n",
              "      <td>male</td>\n",
              "      <td>0</td>\n",
              "      <td>0</td>\n",
              "      <td>370376</td>\n",
              "      <td>7.7500</td>\n",
              "      <td>B96 B98</td>\n",
              "      <td>Q</td>\n",
              "    </tr>\n",
              "  </tbody>\n",
              "</table>\n",
              "<p>891 rows × 11 columns</p>\n",
              "</div>"
            ],
            "text/plain": [
              "     PassengerId  Survived  Pclass  \\\n",
              "0              1         0       3   \n",
              "1              2         1       1   \n",
              "2              3         1       3   \n",
              "3              4         1       1   \n",
              "4              5         0       3   \n",
              "..           ...       ...     ...   \n",
              "886          887         0       2   \n",
              "887          888         1       1   \n",
              "888          889         0       3   \n",
              "889          890         1       1   \n",
              "890          891         0       3   \n",
              "\n",
              "                                                  Name     Sex  SibSp  Parch  \\\n",
              "0                              Braund, Mr. Owen Harris    male      1      0   \n",
              "1    Cumings, Mrs. John Bradley (Florence Briggs Th...  female      1      0   \n",
              "2                               Heikkinen, Miss. Laina  female      0      0   \n",
              "3         Futrelle, Mrs. Jacques Heath (Lily May Peel)  female      1      0   \n",
              "4                             Allen, Mr. William Henry    male      0      0   \n",
              "..                                                 ...     ...    ...    ...   \n",
              "886                              Montvila, Rev. Juozas    male      0      0   \n",
              "887                       Graham, Miss. Margaret Edith  female      0      0   \n",
              "888           Johnston, Miss. Catherine Helen \"Carrie\"  female      1      2   \n",
              "889                              Behr, Mr. Karl Howell    male      0      0   \n",
              "890                                Dooley, Mr. Patrick    male      0      0   \n",
              "\n",
              "               Ticket     Fare    Cabin Embarked  \n",
              "0           A/5 21171   7.2500  B96 B98        S  \n",
              "1            PC 17599  71.2833      C85        C  \n",
              "2    STON/O2. 3101282   7.9250  B96 B98        S  \n",
              "3              113803  53.1000     C123        S  \n",
              "4              373450   8.0500  B96 B98        S  \n",
              "..                ...      ...      ...      ...  \n",
              "886            211536  13.0000  B96 B98        S  \n",
              "887            112053  30.0000      B42        S  \n",
              "888        W./C. 6607  23.4500  B96 B98        S  \n",
              "889            111369  30.0000     C148        C  \n",
              "890            370376   7.7500  B96 B98        Q  \n",
              "\n",
              "[891 rows x 11 columns]"
            ]
          },
          "execution_count": 215,
          "metadata": {},
          "output_type": "execute_result"
        }
      ],
      "source": [
        "titanic_data"
      ]
    },
    {
      "cell_type": "code",
      "execution_count": 216,
      "metadata": {
        "id": "8yMQ7wmlCWyS"
      },
      "outputs": [],
      "source": [
        "for a in categorical_column:\n",
        "  if a == 'Name' or a == 'Ticket' or a == 'Cabin':\n",
        "    titanic_data.drop(a, axis=1, inplace=True)\n",
        "  elif a == 'Sex' or a == 'Embarked':\n",
        "    titanic_data = pd.get_dummies(titanic_data, columns=[a], dtype=int)"
      ]
    },
    {
      "cell_type": "code",
      "execution_count": 217,
      "metadata": {},
      "outputs": [
        {
          "data": {
            "text/html": [
              "<div>\n",
              "<style scoped>\n",
              "    .dataframe tbody tr th:only-of-type {\n",
              "        vertical-align: middle;\n",
              "    }\n",
              "\n",
              "    .dataframe tbody tr th {\n",
              "        vertical-align: top;\n",
              "    }\n",
              "\n",
              "    .dataframe thead th {\n",
              "        text-align: right;\n",
              "    }\n",
              "</style>\n",
              "<table border=\"1\" class=\"dataframe\">\n",
              "  <thead>\n",
              "    <tr style=\"text-align: right;\">\n",
              "      <th></th>\n",
              "      <th>PassengerId</th>\n",
              "      <th>Survived</th>\n",
              "      <th>Pclass</th>\n",
              "      <th>SibSp</th>\n",
              "      <th>Parch</th>\n",
              "      <th>Fare</th>\n",
              "      <th>Sex_female</th>\n",
              "      <th>Sex_male</th>\n",
              "      <th>Embarked_C</th>\n",
              "      <th>Embarked_Q</th>\n",
              "      <th>Embarked_S</th>\n",
              "    </tr>\n",
              "  </thead>\n",
              "  <tbody>\n",
              "    <tr>\n",
              "      <th>0</th>\n",
              "      <td>1</td>\n",
              "      <td>0</td>\n",
              "      <td>3</td>\n",
              "      <td>1</td>\n",
              "      <td>0</td>\n",
              "      <td>7.2500</td>\n",
              "      <td>0</td>\n",
              "      <td>1</td>\n",
              "      <td>0</td>\n",
              "      <td>0</td>\n",
              "      <td>1</td>\n",
              "    </tr>\n",
              "    <tr>\n",
              "      <th>1</th>\n",
              "      <td>2</td>\n",
              "      <td>1</td>\n",
              "      <td>1</td>\n",
              "      <td>1</td>\n",
              "      <td>0</td>\n",
              "      <td>71.2833</td>\n",
              "      <td>1</td>\n",
              "      <td>0</td>\n",
              "      <td>1</td>\n",
              "      <td>0</td>\n",
              "      <td>0</td>\n",
              "    </tr>\n",
              "    <tr>\n",
              "      <th>2</th>\n",
              "      <td>3</td>\n",
              "      <td>1</td>\n",
              "      <td>3</td>\n",
              "      <td>0</td>\n",
              "      <td>0</td>\n",
              "      <td>7.9250</td>\n",
              "      <td>1</td>\n",
              "      <td>0</td>\n",
              "      <td>0</td>\n",
              "      <td>0</td>\n",
              "      <td>1</td>\n",
              "    </tr>\n",
              "    <tr>\n",
              "      <th>3</th>\n",
              "      <td>4</td>\n",
              "      <td>1</td>\n",
              "      <td>1</td>\n",
              "      <td>1</td>\n",
              "      <td>0</td>\n",
              "      <td>53.1000</td>\n",
              "      <td>1</td>\n",
              "      <td>0</td>\n",
              "      <td>0</td>\n",
              "      <td>0</td>\n",
              "      <td>1</td>\n",
              "    </tr>\n",
              "    <tr>\n",
              "      <th>4</th>\n",
              "      <td>5</td>\n",
              "      <td>0</td>\n",
              "      <td>3</td>\n",
              "      <td>0</td>\n",
              "      <td>0</td>\n",
              "      <td>8.0500</td>\n",
              "      <td>0</td>\n",
              "      <td>1</td>\n",
              "      <td>0</td>\n",
              "      <td>0</td>\n",
              "      <td>1</td>\n",
              "    </tr>\n",
              "    <tr>\n",
              "      <th>...</th>\n",
              "      <td>...</td>\n",
              "      <td>...</td>\n",
              "      <td>...</td>\n",
              "      <td>...</td>\n",
              "      <td>...</td>\n",
              "      <td>...</td>\n",
              "      <td>...</td>\n",
              "      <td>...</td>\n",
              "      <td>...</td>\n",
              "      <td>...</td>\n",
              "      <td>...</td>\n",
              "    </tr>\n",
              "    <tr>\n",
              "      <th>886</th>\n",
              "      <td>887</td>\n",
              "      <td>0</td>\n",
              "      <td>2</td>\n",
              "      <td>0</td>\n",
              "      <td>0</td>\n",
              "      <td>13.0000</td>\n",
              "      <td>0</td>\n",
              "      <td>1</td>\n",
              "      <td>0</td>\n",
              "      <td>0</td>\n",
              "      <td>1</td>\n",
              "    </tr>\n",
              "    <tr>\n",
              "      <th>887</th>\n",
              "      <td>888</td>\n",
              "      <td>1</td>\n",
              "      <td>1</td>\n",
              "      <td>0</td>\n",
              "      <td>0</td>\n",
              "      <td>30.0000</td>\n",
              "      <td>1</td>\n",
              "      <td>0</td>\n",
              "      <td>0</td>\n",
              "      <td>0</td>\n",
              "      <td>1</td>\n",
              "    </tr>\n",
              "    <tr>\n",
              "      <th>888</th>\n",
              "      <td>889</td>\n",
              "      <td>0</td>\n",
              "      <td>3</td>\n",
              "      <td>1</td>\n",
              "      <td>2</td>\n",
              "      <td>23.4500</td>\n",
              "      <td>1</td>\n",
              "      <td>0</td>\n",
              "      <td>0</td>\n",
              "      <td>0</td>\n",
              "      <td>1</td>\n",
              "    </tr>\n",
              "    <tr>\n",
              "      <th>889</th>\n",
              "      <td>890</td>\n",
              "      <td>1</td>\n",
              "      <td>1</td>\n",
              "      <td>0</td>\n",
              "      <td>0</td>\n",
              "      <td>30.0000</td>\n",
              "      <td>0</td>\n",
              "      <td>1</td>\n",
              "      <td>1</td>\n",
              "      <td>0</td>\n",
              "      <td>0</td>\n",
              "    </tr>\n",
              "    <tr>\n",
              "      <th>890</th>\n",
              "      <td>891</td>\n",
              "      <td>0</td>\n",
              "      <td>3</td>\n",
              "      <td>0</td>\n",
              "      <td>0</td>\n",
              "      <td>7.7500</td>\n",
              "      <td>0</td>\n",
              "      <td>1</td>\n",
              "      <td>0</td>\n",
              "      <td>1</td>\n",
              "      <td>0</td>\n",
              "    </tr>\n",
              "  </tbody>\n",
              "</table>\n",
              "<p>891 rows × 11 columns</p>\n",
              "</div>"
            ],
            "text/plain": [
              "     PassengerId  Survived  Pclass  SibSp  Parch     Fare  Sex_female  \\\n",
              "0              1         0       3      1      0   7.2500           0   \n",
              "1              2         1       1      1      0  71.2833           1   \n",
              "2              3         1       3      0      0   7.9250           1   \n",
              "3              4         1       1      1      0  53.1000           1   \n",
              "4              5         0       3      0      0   8.0500           0   \n",
              "..           ...       ...     ...    ...    ...      ...         ...   \n",
              "886          887         0       2      0      0  13.0000           0   \n",
              "887          888         1       1      0      0  30.0000           1   \n",
              "888          889         0       3      1      2  23.4500           1   \n",
              "889          890         1       1      0      0  30.0000           0   \n",
              "890          891         0       3      0      0   7.7500           0   \n",
              "\n",
              "     Sex_male  Embarked_C  Embarked_Q  Embarked_S  \n",
              "0           1           0           0           1  \n",
              "1           0           1           0           0  \n",
              "2           0           0           0           1  \n",
              "3           0           0           0           1  \n",
              "4           1           0           0           1  \n",
              "..        ...         ...         ...         ...  \n",
              "886         1           0           0           1  \n",
              "887         0           0           0           1  \n",
              "888         0           0           0           1  \n",
              "889         1           1           0           0  \n",
              "890         1           0           1           0  \n",
              "\n",
              "[891 rows x 11 columns]"
            ]
          },
          "execution_count": 217,
          "metadata": {},
          "output_type": "execute_result"
        }
      ],
      "source": [
        "titanic_data"
      ]
    },
    {
      "cell_type": "code",
      "execution_count": 218,
      "metadata": {
        "colab": {
          "base_uri": "https://localhost:8080/"
        },
        "id": "e4R8t8M1CaN_",
        "outputId": "019e86d6-b68c-43de-f7e5-d187bc184473"
      },
      "outputs": [
        {
          "name": "stdout",
          "output_type": "stream",
          "text": [
            "<class 'pandas.core.frame.DataFrame'>\n",
            "RangeIndex: 891 entries, 0 to 890\n",
            "Data columns (total 11 columns):\n",
            " #   Column       Non-Null Count  Dtype  \n",
            "---  ------       --------------  -----  \n",
            " 0   PassengerId  891 non-null    int64  \n",
            " 1   Survived     891 non-null    int64  \n",
            " 2   Pclass       891 non-null    int64  \n",
            " 3   SibSp        891 non-null    int64  \n",
            " 4   Parch        891 non-null    int64  \n",
            " 5   Fare         891 non-null    float64\n",
            " 6   Sex_female   891 non-null    int32  \n",
            " 7   Sex_male     891 non-null    int32  \n",
            " 8   Embarked_C   891 non-null    int32  \n",
            " 9   Embarked_Q   891 non-null    int32  \n",
            " 10  Embarked_S   891 non-null    int32  \n",
            "dtypes: float64(1), int32(5), int64(5)\n",
            "memory usage: 59.3 KB\n"
          ]
        }
      ],
      "source": [
        "titanic_data.info()"
      ]
    },
    {
      "cell_type": "code",
      "execution_count": 219,
      "metadata": {
        "id": "7eGzeuu0CgPA"
      },
      "outputs": [],
      "source": [
        "# Because we have encoding it, we can now check the correlation of the coolumn so we know which one is really influence the target variabel"
      ]
    },
    {
      "cell_type": "code",
      "execution_count": 220,
      "metadata": {
        "colab": {
          "base_uri": "https://localhost:8080/"
        },
        "id": "4EDsxnS4CcQj",
        "outputId": "9ec120de-884f-4755-bad3-c64485c50159"
      },
      "outputs": [
        {
          "name": "stdout",
          "output_type": "stream",
          "text": [
            "1.0\n",
            "Survived\n",
            "0.5433513806577549\n",
            "Sex_female\n",
            "-0.543351380657755\n",
            "Sex_male\n"
          ]
        }
      ],
      "source": [
        "# Secara non-grafical\n",
        "\n",
        "# Corelasi other coulimn dengan target\n",
        "corelation_matrix = titanic_data.corr()\n",
        "feature_and_target = []\n",
        "for a in titanic_data.columns:\n",
        "  if abs(corelation_matrix.loc[a, 'Survived']) > 0.5:\n",
        "    print(corelation_matrix.loc[a, 'Survived'])\n",
        "    print(a)\n",
        "    feature_and_target.append(a)\n"
      ]
    },
    {
      "cell_type": "code",
      "execution_count": 221,
      "metadata": {
        "colab": {
          "base_uri": "https://localhost:8080/",
          "height": 1000
        },
        "id": "gReqsaFX4thn",
        "outputId": "492de5a9-627f-44e1-fb15-c496b4ad8679"
      },
      "outputs": [
        {
          "name": "stdout",
          "output_type": "stream",
          "text": [
            "             PassengerId  Survived    Pclass     SibSp     Parch      Fare  \\\n",
            "PassengerId     1.000000 -0.005007 -0.035144 -0.057527 -0.001652  0.012658   \n",
            "Survived       -0.005007  1.000000 -0.338481 -0.035322  0.081629  0.257307   \n",
            "Pclass         -0.035144 -0.338481  1.000000  0.083081  0.018443 -0.549500   \n",
            "SibSp          -0.057527 -0.035322  0.083081  1.000000  0.414838  0.159651   \n",
            "Parch          -0.001652  0.081629  0.018443  0.414838  1.000000  0.216225   \n",
            "Fare            0.012658  0.257307 -0.549500  0.159651  0.216225  1.000000   \n",
            "Sex_female     -0.042939  0.543351 -0.131900  0.114631  0.245489  0.182333   \n",
            "Sex_male        0.042939 -0.543351  0.131900 -0.114631 -0.245489 -0.182333   \n",
            "Embarked_C     -0.001205  0.168240 -0.243292 -0.059528 -0.011069  0.269335   \n",
            "Embarked_Q     -0.033606  0.003650  0.221009 -0.026354 -0.081228 -0.117216   \n",
            "Embarked_S      0.022204 -0.149683  0.074053  0.068734  0.060814 -0.162184   \n",
            "\n",
            "             Sex_female  Sex_male  Embarked_C  Embarked_Q  Embarked_S  \n",
            "PassengerId   -0.042939  0.042939   -0.001205   -0.033606    0.022204  \n",
            "Survived       0.543351 -0.543351    0.168240    0.003650   -0.149683  \n",
            "Pclass        -0.131900  0.131900   -0.243292    0.221009    0.074053  \n",
            "SibSp          0.114631 -0.114631   -0.059528   -0.026354    0.068734  \n",
            "Parch          0.245489 -0.245489   -0.011069   -0.081228    0.060814  \n",
            "Fare           0.182333 -0.182333    0.269335   -0.117216   -0.162184  \n",
            "Sex_female     1.000000 -1.000000    0.082853    0.074115   -0.119224  \n",
            "Sex_male      -1.000000  1.000000   -0.082853   -0.074115    0.119224  \n",
            "Embarked_C     0.082853 -0.082853    1.000000   -0.148258   -0.782742  \n",
            "Embarked_Q     0.074115 -0.074115   -0.148258    1.000000   -0.499421  \n",
            "Embarked_S    -0.119224  0.119224   -0.782742   -0.499421    1.000000  \n"
          ]
        },
        {
          "data": {
            "image/png": "[encoded data removed]",
            "text/plain": [
              "<Figure size 1000x600 with 2 Axes>"
            ]
          },
          "metadata": {},
          "output_type": "display_data"
        }
      ],
      "source": [
        "# Secara grafical\n",
        "numerical_data = titanic_data.select_dtypes(include=['number'])\n",
        "correlation_matrix = numerical_data.corr()\n",
        "print(correlation_matrix)\n",
        "\n",
        "plt.figure(figsize=(10,6))\n",
        "sns.heatmap(correlation_matrix, annot=True, cmap='coolwarm')\n",
        "plt.title('Correlation Matrix')\n",
        "plt.show()\n"
      ]
    },
    {
      "cell_type": "code",
      "execution_count": 222,
      "metadata": {
        "id": "R6Mlo4h_GWb9"
      },
      "outputs": [],
      "source": [
        "# Corelasi antar sesama feature\n",
        "pairs = []\n",
        "for b in titanic_data.columns:\n",
        "  if b == 'Survived':\n",
        "    continue\n",
        "  for c in titanic_data.columns:\n",
        "    if c ==  b:\n",
        "      continue\n",
        "    if abs(corelation_matrix.loc[b, c]) >= 0.7:\n",
        "      pairs.append((b,c, corelation_matrix.loc[b, c]))"
      ]
    },
    {
      "cell_type": "code",
      "execution_count": 223,
      "metadata": {
        "colab": {
          "base_uri": "https://localhost:8080/"
        },
        "id": "IRGt5HZ7GoMx",
        "outputId": "9eee9951-c70e-4ec3-b239-7f36429448e6"
      },
      "outputs": [
        {
          "data": {
            "text/plain": [
              "[('Sex_female', 'Sex_male', -0.9999999999999999),\n",
              " ('Sex_male', 'Sex_female', -0.9999999999999999),\n",
              " ('Embarked_C', 'Embarked_S', -0.7827421287187312),\n",
              " ('Embarked_S', 'Embarked_C', -0.7827421287187312)]"
            ]
          },
          "execution_count": 223,
          "metadata": {},
          "output_type": "execute_result"
        }
      ],
      "source": [
        "pairs"
      ]
    },
    {
      "cell_type": "code",
      "execution_count": 224,
      "metadata": {
        "colab": {
          "base_uri": "https://localhost:8080/"
        },
        "id": "pvihI2y-GpHD",
        "outputId": "293c8662-44f6-41b3-b43c-7d25f9f19104"
      },
      "outputs": [
        {
          "name": "stdout",
          "output_type": "stream",
          "text": [
            "0.1496827232706854\n",
            "0.1682404312182332\n"
          ]
        }
      ],
      "source": [
        "print(abs(corelation_matrix.loc['Embarked_S', 'Survived']))\n",
        "print(abs(corelation_matrix.loc['Embarked_C', 'Survived']))"
      ]
    },
    {
      "cell_type": "code",
      "execution_count": 225,
      "metadata": {
        "id": "wws3CWZqGtVm"
      },
      "outputs": [],
      "source": [
        "titanic_data.drop('Embarked_S', axis=1, inplace=True)"
      ]
    },
    {
      "cell_type": "code",
      "execution_count": 226,
      "metadata": {
        "id": "oZwpcqcSRRuW"
      },
      "outputs": [],
      "source": [
        "# Above we use Correlation-Based Feature Selection (CFS)"
      ]
    },
    {
      "cell_type": "code",
      "execution_count": 227,
      "metadata": {
        "colab": {
          "base_uri": "https://localhost:8080/"
        },
        "id": "Tr1QEeErGvXx",
        "outputId": "5c151d30-fdcb-40dd-ce3a-db69c589a1e6"
      },
      "outputs": [
        {
          "name": "stdout",
          "output_type": "stream",
          "text": [
            "<class 'pandas.core.frame.DataFrame'>\n",
            "RangeIndex: 891 entries, 0 to 890\n",
            "Data columns (total 10 columns):\n",
            " #   Column       Non-Null Count  Dtype  \n",
            "---  ------       --------------  -----  \n",
            " 0   PassengerId  891 non-null    int64  \n",
            " 1   Survived     891 non-null    int64  \n",
            " 2   Pclass       891 non-null    int64  \n",
            " 3   SibSp        891 non-null    int64  \n",
            " 4   Parch        891 non-null    int64  \n",
            " 5   Fare         891 non-null    float64\n",
            " 6   Sex_female   891 non-null    int32  \n",
            " 7   Sex_male     891 non-null    int32  \n",
            " 8   Embarked_C   891 non-null    int32  \n",
            " 9   Embarked_Q   891 non-null    int32  \n",
            "dtypes: float64(1), int32(4), int64(5)\n",
            "memory usage: 55.8 KB\n"
          ]
        }
      ],
      "source": [
        "# Check apakah kolom yang kita mau hapus sudah terhapus\n",
        "titanic_data.info()"
      ]
    },
    {
      "cell_type": "markdown",
      "metadata": {
        "id": "hZfV3hJ_HN17"
      },
      "source": [
        "Step 3d: Handle Outliers"
      ]
    },
    {
      "cell_type": "code",
      "execution_count": 228,
      "metadata": {
        "colab": {
          "base_uri": "https://localhost:8080/"
        },
        "id": "9BFxUSHPHRmM",
        "outputId": "ef39c38e-dc57-4293-9833-3018fe1e8ae1"
      },
      "outputs": [
        {
          "name": "stdout",
          "output_type": "stream",
          "text": [
            "Column 'PassengerId' has 0 outliers\n",
            "Column 'Survived' has 0 outliers\n",
            "Column 'Pclass' has 0 outliers\n",
            "Column 'SibSp' has 46 outliers\n",
            "Column 'Parch' has 213 outliers\n",
            "Column 'Fare' has 116 outliers\n",
            "Column 'Sex_female' has 0 outliers\n",
            "Column 'Sex_male' has 0 outliers\n",
            "Column 'Embarked_C' has 168 outliers\n",
            "Column 'Embarked_Q' has 77 outliers\n"
          ]
        }
      ],
      "source": [
        "#  There are several ways to detect outliers\n",
        "#  Secara grafical:\n",
        "#   1. Boxplot --> by visually\n",
        "#  Secara non grafical\n",
        "#   2. IQR (Interquartile Range) Method\n",
        "\n",
        "# We will use the 3rd way:\n",
        "def detect_outliers_iqr(data):\n",
        "    outlier_count = {}\n",
        "    for column in data.columns:\n",
        "        Q1 = data[column].quantile(0.25)\n",
        "        Q3 = data[column].quantile(0.75)\n",
        "\n",
        "        IQR = Q3 - Q1\n",
        "\n",
        "\n",
        "        lower_bound = Q1 - 1.5 * IQR\n",
        "        upper_bound = Q3 + 1.5 * IQR\n",
        "\n",
        "        outliers = data[(data[column] < lower_bound) | (data[column] > upper_bound)]\n",
        "        outlier_count[column] = len(outliers)\n",
        "\n",
        "    return outlier_count\n",
        "\n",
        "outliers_in_data = detect_outliers_iqr(titanic_data)\n",
        "for column, count in outliers_in_data.items():\n",
        "    print(f\"Column '{column}' has {count} outliers\")"
      ]
    },
    {
      "cell_type": "code",
      "execution_count": null,
      "metadata": {
        "id": "mxtuJ-kD5Eu_"
      },
      "outputs": [],
      "source": []
    },
    {
      "cell_type": "code",
      "execution_count": 229,
      "metadata": {
        "colab": {
          "base_uri": "https://localhost:8080/",
          "height": 539
        },
        "id": "c9bOLM06HdIK",
        "outputId": "5c40563d-6927-404c-c1f5-7b1fb35a092a"
      },
      "outputs": [
        {
          "data": {
            "text/plain": [
              "<Axes: >"
            ]
          },
          "execution_count": 229,
          "metadata": {},
          "output_type": "execute_result"
        },
        {
          "data": {
            "image/png": "[encoded data removed]",
            "text/plain": [
              "<Figure size 1400x600 with 1 Axes>"
            ]
          },
          "metadata": {},
          "output_type": "display_data"
        }
      ],
      "source": [
        "# Secara grafical\n",
        "# Boxplot:\n",
        "plt.figure(figsize=(14,6))\n",
        "sns.boxplot(data=titanic_data)"
      ]
    },
    {
      "cell_type": "code",
      "execution_count": 230,
      "metadata": {
        "colab": {
          "base_uri": "https://localhost:8080/"
        },
        "id": "SUGcb6DN6UOm",
        "outputId": "c87228be-28ff-4620-be63-a3ebe6268e8e"
      },
      "outputs": [
        {
          "name": "stdout",
          "output_type": "stream",
          "text": [
            "     PassengerId  Survived  Pclass  SibSp  Parch     Fare  Sex_female  \\\n",
            "0              1         0       3    1.0      0   7.2500           0   \n",
            "1              2         1       1    1.0      0  65.6344           1   \n",
            "2              3         1       3    0.0      0   7.9250           1   \n",
            "3              4         1       1    1.0      0  53.1000           1   \n",
            "4              5         0       3    0.0      0   8.0500           0   \n",
            "..           ...       ...     ...    ...    ...      ...         ...   \n",
            "886          887         0       2    0.0      0  13.0000           0   \n",
            "887          888         1       1    0.0      0  30.0000           1   \n",
            "888          889         0       3    1.0      0  23.4500           1   \n",
            "889          890         1       1    0.0      0  30.0000           0   \n",
            "890          891         0       3    0.0      0   7.7500           0   \n",
            "\n",
            "     Sex_male  Embarked_C  Embarked_Q  \n",
            "0           1           0           0  \n",
            "1           0           0           0  \n",
            "2           0           0           0  \n",
            "3           0           0           0  \n",
            "4           1           0           0  \n",
            "..        ...         ...         ...  \n",
            "886         1           0           0  \n",
            "887         0           0           0  \n",
            "888         0           0           0  \n",
            "889         1           0           0  \n",
            "890         1           0           0  \n",
            "\n",
            "[891 rows x 10 columns]\n",
            "Column 'PassengerId' has 0 outliers\n",
            "Column 'Survived' has 0 outliers\n",
            "Column 'Pclass' has 0 outliers\n",
            "Column 'SibSp' has 0 outliers\n",
            "Column 'Parch' has 0 outliers\n",
            "Column 'Fare' has 0 outliers\n",
            "Column 'Sex_female' has 0 outliers\n",
            "Column 'Sex_male' has 0 outliers\n",
            "Column 'Embarked_C' has 0 outliers\n",
            "Column 'Embarked_Q' has 0 outliers\n"
          ]
        }
      ],
      "source": [
        "def clip_outliers(data):\n",
        "    df_clipped = data.copy()\n",
        "    for column in data.columns:\n",
        "        Q1 = data[column].quantile(0.25)\n",
        "        Q3 = data[column].quantile(0.75)\n",
        "\n",
        "        IQR = Q3 - Q1\n",
        "\n",
        "        lower_bound = Q1 - 1.5 * IQR\n",
        "        upper_bound = Q3 + 1.5 * IQR\n",
        "\n",
        "        df_clipped[column] = data[column].clip(lower=lower_bound, upper=upper_bound)\n",
        "\n",
        "    return df_clipped\n",
        "\n",
        "\n",
        "titanic_csv_clipped = clip_outliers(titanic_data)\n",
        "print(titanic_csv_clipped)\n",
        "outliers_in_data = detect_outliers_iqr(titanic_csv_clipped)\n",
        "for column, count in outliers_in_data.items():\n",
        "    print(f\"Column '{column}' has {count} outliers\")"
      ]
    },
    {
      "cell_type": "markdown",
      "metadata": {
        "id": "cn9Ae0PCJIIt"
      },
      "source": [
        "Step 3e: Address Class Imbalance"
      ]
    },
    {
      "cell_type": "code",
      "execution_count": 231,
      "metadata": {
        "colab": {
          "base_uri": "https://localhost:8080/"
        },
        "id": "d3u4QLXP5tg-",
        "outputId": "af2ad2ec-c3a8-4d37-d17d-054305c4ef3f"
      },
      "outputs": [
        {
          "name": "stdout",
          "output_type": "stream",
          "text": [
            "Negative survived cases (0): 549\n",
            "Positive survived cases (1): 342\n"
          ]
        }
      ],
      "source": [
        "# Secara non grafical\n",
        "titanic_counts = titanic_csv_clipped['Survived'].value_counts()\n",
        "print(f\"Negative survived cases (0): {titanic_counts[0]}\")\n",
        "print(f\"Positive survived cases (1): {titanic_counts[1]}\")"
      ]
    },
    {
      "cell_type": "code",
      "execution_count": 232,
      "metadata": {
        "colab": {
          "base_uri": "https://localhost:8080/",
          "height": 651
        },
        "id": "biGi46vw6naM",
        "outputId": "285366cd-fa93-43f4-b3c6-acab377cc5ea"
      },
      "outputs": [
        {
          "name": "stderr",
          "output_type": "stream",
          "text": [
            "C:\\Users\\ASUS\\AppData\\Local\\Temp\\ipykernel_5156\\3457768104.py:3: FutureWarning: \n",
            "\n",
            "Passing `palette` without assigning `hue` is deprecated and will be removed in v0.14.0. Assign the `x` variable to `hue` and set `legend=False` for the same effect.\n",
            "\n",
            "  sns.countplot(x = 'Survived', data =titanic_data, palette='Set2')\n"
          ]
        },
        {
          "data": {
            "image/png": "[encoded data removed]",
            "text/plain": [
              "<Figure size 1000x600 with 1 Axes>"
            ]
          },
          "metadata": {},
          "output_type": "display_data"
        }
      ],
      "source": [
        "# Secara grafical\n",
        "plt.figure(figsize=(10,6))\n",
        "sns.countplot(x = 'Survived', data =titanic_data, palette='Set2')\n",
        "plt.title('Check for imbalance')\n",
        "plt.xlabel('Survived')\n",
        "plt.ylabel('Amount of passenger')\n",
        "plt.legend([\"Not survived\", \"Survived\"])\n",
        "plt.show()"
      ]
    },
    {
      "cell_type": "code",
      "execution_count": null,
      "metadata": {
        "colab": {
          "base_uri": "https://localhost:8080/"
        },
        "id": "wfLvm3ESJGV1",
        "outputId": "739e2cc1-a9bb-4e12-8c39-901ac3b85fb5"
      },
      "outputs": [
        {
          "ename": "ModuleNotFoundError",
          "evalue": "No module named 'imblearn'",
          "output_type": "error",
          "traceback": [
            "\u001b[1;31m---------------------------------------------------------------------------\u001b[0m",
            "\u001b[1;31mModuleNotFoundError\u001b[0m                       Traceback (most recent call last)",
            "Cell \u001b[1;32mIn[233], line 6\u001b[0m\n\u001b[0;32m      1\u001b[0m \u001b[38;5;66;03m# If is imbalance:\u001b[39;00m\n\u001b[0;32m      2\u001b[0m \u001b[38;5;66;03m#      Fix with:\u001b[39;00m\n\u001b[0;32m      3\u001b[0m \u001b[38;5;66;03m#      1. Oversampling  -->  duplicates or creates more samples from the minority class to balance the dataset. --> Can be achive by SMOTE\u001b[39;00m\n\u001b[0;32m      4\u001b[0m \u001b[38;5;66;03m#      2. Undersampling -->  Undersampling removes samples from the majority class to balance the dataset.\u001b[39;00m\n\u001b[1;32m----> 6\u001b[0m \u001b[38;5;28;01mfrom\u001b[39;00m \u001b[38;5;21;01mimblearn\u001b[39;00m\u001b[38;5;21;01m.\u001b[39;00m\u001b[38;5;21;01mover_sampling\u001b[39;00m \u001b[38;5;28;01mimport\u001b[39;00m SMOTE\n\u001b[0;32m      7\u001b[0m \u001b[38;5;28;01mfrom\u001b[39;00m \u001b[38;5;21;01msklearn\u001b[39;00m\u001b[38;5;21;01m.\u001b[39;00m\u001b[38;5;21;01mmodel_selection\u001b[39;00m \u001b[38;5;28;01mimport\u001b[39;00m train_test_split\n\u001b[0;32m      8\u001b[0m y \u001b[38;5;241m=\u001b[39m titanic_data[\u001b[38;5;124m'\u001b[39m\u001b[38;5;124mSurvived\u001b[39m\u001b[38;5;124m'\u001b[39m]\n",
            "\u001b[1;31mModuleNotFoundError\u001b[0m: No module named 'imblearn'"
          ]
        }
      ],
      "source": [
        "# If is imbalance:\n",
        "#      Fix with:\n",
        "#      1. Oversampling  -->  duplicates or creates more samples from the minority class to balance the dataset. --> Can be achive by SMOTE\n",
        "#      2. Undersampling -->  Undersampling removes samples from the majority class to balance the dataset.\n",
        "\n",
        "from imblearn.over_sampling import SMOTE\n",
        "from sklearn.model_selection import train_test_split\n",
        "y = titanic_data['Survived']\n",
        "X = titanic_data.drop('Survived', axis=1)\n",
        "\n",
        "smote = SMOTE(random_state=42)\n",
        "X_resampled, y_resampled = smote.fit_resample(X, y)\n",
        "print(\"Class distribution before SMOTE:\\n\", y.value_counts())\n",
        "print(\"Class distribution after SMOTE:\\n\", y_resampled.value_counts())\n",
        "\n",
        "X_train, X_test, y_train, y_test = train_test_split(X_resampled, y_resampled, test_size=0.30, random_state=42)\n",
        "\n"
      ]
    },
    {
      "cell_type": "markdown",
      "metadata": {
        "id": "rpfCiJcyMoaK"
      },
      "source": [
        "Step 3f: Normalize/Scale Numerical Features"
      ]
    },
    {
      "cell_type": "code",
      "execution_count": null,
      "metadata": {
        "colab": {
          "base_uri": "https://localhost:8080/"
        },
        "id": "3p6aZTKJMrVd",
        "outputId": "a77c29fe-fb2b-4922-8253-f4e83ef04156"
      },
      "outputs": [],
      "source": [
        "# the choice of scaling technique often depends on your data's characteristics and the machine learning algorithm:\n",
        "#    1. MinMaxScaller --> if the data is normaly distributed\n",
        "#    2. StandardScaller --> If data has outliers\n",
        "#    3. RobustSCaller --> data has outliers and nor normally distrubuted\n",
        "\n",
        "# So that means we will check if the dataset is normaly distributed\n",
        "# If a dataset is normal, it means that the data follows a normal distribution, also known as a Gaussian distribution or a bell curve.\n",
        "\n",
        "# We will use Shapiro-Wilk Test\n",
        "# Bagaimana Shapiro-Wilk Test bekerja?\n",
        "# Hipotesis Nol (H₀): Data berdistribusi normal\n",
        "\n",
        "# Hipotesis Alternatif (H₁): Data tidak berdistribusi normal\n",
        "\n",
        "# Jika p-value > 0.05, kita gagal menolak H₀, yang berarti data dianggap normal\n",
        "\n",
        "# Jika p-value ≤ 0.05, kita menolak H₀, yang berarti data tidak normal\n",
        "\n",
        "from scipy.stats import shapiro\n",
        "Normal = []\n",
        "c = 0\n",
        "for a in titanic_csv_clipped.columns:\n",
        "  if titanic_csv_clipped[a].dtype == 'int64' or titanic_csv_clipped[a].dtype == 'float64':\n",
        "    stat, p = shapiro(titanic_data[a])\n",
        "    c = c + 1\n",
        "    if p > 0.05:\n",
        "      Normal.append(a)\n",
        "if c == len(Normal):\n",
        "  print(\"All column is normaly distributed\")\n",
        "else:\n",
        "  print(\"Not all column is normaly distributed\")"
      ]
    },
    {
      "cell_type": "code",
      "execution_count": null,
      "metadata": {
        "id": "oWVgulNsM5Tg"
      },
      "outputs": [],
      "source": [
        "# Turns out the dataset is not normally distrubuted and has no outliers\n",
        "# So the proper one we can use is StandardScaller because it can work for\n",
        "# not normally distributed data\n",
        "scaler = StandardScaler()\n",
        "X_train_normalize = scaler.fit_transform(X_train)\n",
        "X_test_normalize = scaler.transform(X_test)"
      ]
    },
    {
      "cell_type": "code",
      "execution_count": null,
      "metadata": {
        "id": "xSfdok7C-sWC"
      },
      "outputs": [],
      "source": []
    },
    {
      "cell_type": "markdown",
      "metadata": {
        "id": "hxc4nVKTGLQj"
      },
      "source": [
        "# Logistic Regg"
      ]
    },
    {
      "cell_type": "markdown",
      "metadata": {
        "id": "TUQloCM02YzE"
      },
      "source": [
        "![WhatsApp Image 2022-06-29 at 9.03.29 PM (1).jpeg](data:image/jpeg;base64,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)"
      ]
    },
    {
      "cell_type": "code",
      "execution_count": null,
      "metadata": {
        "id": "pD8s8_WGbGWB"
      },
      "outputs": [],
      "source": [
        "import numpy as np\n",
        "import pandas as pd\n",
        "import matplotlib.pyplot as plt\n",
        "from sklearn.model_selection import train_test_split\n",
        "from sklearn.linear_model import LogisticRegression\n",
        "from sklearn.metrics import accuracy_score, classification_report, confusion_matrix\n",
        "from sklearn.preprocessing import MinMaxScaler, StandardScaler, LabelEncoder\n",
        "from sklearn.metrics import roc_auc_score, roc_curve\n",
        "import matplotlib.pyplot as plt\n",
        "\n",
        "\n",
        "model = LogisticRegression()\n",
        "model.fit(X_train_normalize,y_train)\n",
        "y_pred = model.predict(X_test_normalize)\n",
        "accuracy = accuracy_score(y_test, y_pred)\n"
      ]
    },
    {
      "cell_type": "code",
      "execution_count": null,
      "metadata": {
        "colab": {
          "base_uri": "https://localhost:8080/",
          "height": 680
        },
        "id": "j76fXjG37abN",
        "outputId": "4e8bcb44-9548-483a-fe88-81477d548aa9"
      },
      "outputs": [],
      "source": [
        "print(classification_report(y_test, y_pred))\n",
        "print(confusion_matrix(y_test, y_pred))\n",
        "\n",
        "y_pred_proba = model.predict_proba(X_test_normalize)[:, 1]\n",
        "roc_auc = roc_auc_score(y_test, y_pred_proba)\n",
        "print(f\"AUC: {roc_auc}\")\n",
        "\n",
        "fpr, tpr, _ = roc_curve(y_test, y_pred_proba)\n",
        "plt.plot(fpr, tpr, label=f'ROC curve (area = {roc_auc:.2f})')\n",
        "plt.plot([0, 1], [0, 1], 'k--', label='Random classifier')\n",
        "plt.xlabel('False Positive Rate')\n",
        "plt.ylabel('True Positive Rate')\n",
        "plt.title('ROC Curve')\n",
        "plt.legend()\n",
        "plt.show()"
      ]
    },
    {
      "cell_type": "markdown",
      "metadata": {
        "id": "kuttteU0GMsT"
      },
      "source": [
        "# Naive Bayes"
      ]
    },
    {
      "cell_type": "code",
      "execution_count": null,
      "metadata": {
        "colab": {
          "base_uri": "https://localhost:8080/",
          "height": 680
        },
        "id": "7slIJe1wbHOg",
        "outputId": "25a1e7e8-965e-4e65-d4f3-d2a702f4fd5c"
      },
      "outputs": [],
      "source": [
        "from sklearn.naive_bayes import GaussianNB\n",
        "\n",
        "model = GaussianNB()\n",
        "model.fit(X_train_normalize,y_train)\n",
        "y_pred = model.predict(X_test_normalize)\n",
        "accuracy = accuracy_score(y_test, y_pred)\n",
        "\n",
        "print(classification_report(y_test, y_pred))\n",
        "print(confusion_matrix(y_test, y_pred))\n",
        "\n",
        "y_pred_proba = model.predict_proba(X_test_normalize)[:, 1]\n",
        "roc_auc = roc_auc_score(y_test, y_pred_proba)\n",
        "print(f\"AUC: {roc_auc}\")\n",
        "\n",
        "fpr, tpr, _ = roc_curve(y_test, y_pred_proba)\n",
        "plt.plot(fpr, tpr, label=f'ROC curve (area = {roc_auc:.2f})')\n",
        "plt.plot([0, 1], [0, 1], 'k--', label='Random classifier')\n",
        "plt.xlabel('False Positive Rate')\n",
        "plt.ylabel('True Positive Rate')\n",
        "plt.title('ROC Curve')\n",
        "plt.legend()\n",
        "plt.show()"
      ]
    },
    {
      "cell_type": "code",
      "execution_count": null,
      "metadata": {},
      "outputs": [],
      "source": [
        "print(classification_report(y_test, y_pred))\n",
        "print(confusion_matrix(y_test, y_pred))"
      ]
    }
  ],
  "metadata": {
    "colab": {
      "provenance": []
    },
    "kernelspec": {
      "display_name": "Python 3",
      "name": "python3"
    },
    "language_info": {
      "codemirror_mode": {
        "name": "ipython",
        "version": 3
      },
      "file_extension": ".py",
      "mimetype": "text/x-python",
      "name": "python",
      "nbconvert_exporter": "python",
      "pygments_lexer": "ipython3",
      "version": "3.10.6"
    }
  },
  "nbformat": 4,
  "nbformat_minor": 0
}
