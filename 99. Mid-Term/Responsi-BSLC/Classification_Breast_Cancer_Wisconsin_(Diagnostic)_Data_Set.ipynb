{
  "cells": [
    {
      "cell_type": "markdown",
      "metadata": {},
      "source": [
        "# Classification (Naive Bayes)"
      ]
    },
    {
      "cell_type": "markdown",
      "metadata": {},
      "source": [
        "Credit: Kalvin"
      ]
    },
    {
      "cell_type": "markdown",
      "metadata": {
        "id": "DAq_E_z8Hpb3"
      },
      "source": [
        "#Import Libraries"
      ]
    },
    {
      "cell_type": "code",
      "execution_count": null,
      "metadata": {
        "id": "1UeXzZBoGpgl"
      },
      "outputs": [],
      "source": [
        "import numpy as np\n",
        "import pandas as pd\n",
        "import matplotlib.pyplot as plt\n",
        "import seaborn as sns\n",
        "from sklearn.preprocessing import LabelEncoder, MinMaxScaler, StandardScaler\n",
        "from sklearn.metrics import accuracy_score, recall_score, precision_score, roc_auc_score, confusion_matrix, classification_report\n",
        "from sklearn.model_selection import train_test_split\n",
        "from sklearn.linear_model import LogisticRegression\n",
        "from sklearn.naive_bayes import GaussianNB"
      ]
    },
    {
      "cell_type": "markdown",
      "metadata": {
        "id": "v4SEpkRBHr-O"
      },
      "source": [
        "#Data Preparation"
      ]
    },
    {
      "cell_type": "code",
      "execution_count": null,
      "metadata": {
        "colab": {
          "base_uri": "https://localhost:8080/",
          "height": 461
        },
        "id": "7M56IR8VHL3a",
        "outputId": "cfaa6d43-0738-463c-c0f0-d142c77d6aa9"
      },
      "outputs": [],
      "source": [
        "data = pd.read_csv(\"Breast_Cancer_Classification.csv\")\n",
        "data"
      ]
    },
    {
      "cell_type": "code",
      "execution_count": null,
      "metadata": {
        "id": "cTiCxWCaHOLv"
      },
      "outputs": [],
      "source": [
        "data_out = data.pop(\"diagnosis\")\n",
        "data[\"diagnosis\"] = data_out"
      ]
    },
    {
      "cell_type": "code",
      "execution_count": null,
      "metadata": {
        "id": "P0Uh_sWpIOnE"
      },
      "outputs": [],
      "source": [
        "data = data.drop(columns = [\"id\", \"Unnamed: 32\"])"
      ]
    },
    {
      "cell_type": "code",
      "execution_count": null,
      "metadata": {
        "colab": {
          "base_uri": "https://localhost:8080/"
        },
        "id": "QJfY6LvTHWpL",
        "outputId": "99689b9e-477f-48a7-9bb6-89774b159f59"
      },
      "outputs": [],
      "source": [
        "data.columns"
      ]
    },
    {
      "cell_type": "code",
      "execution_count": null,
      "metadata": {
        "colab": {
          "base_uri": "https://localhost:8080/"
        },
        "id": "Z0MpXLrsHgrL",
        "outputId": "667fb07d-d050-45c4-ca21-2d27a96b0774"
      },
      "outputs": [],
      "source": [
        "temp_columns = []\n",
        "for x in data.columns :\n",
        "  temp_columns.append(x.replace(\" \", \"_\"))\n",
        "data.columns = temp_columns\n",
        "print(data.columns)"
      ]
    },
    {
      "cell_type": "markdown",
      "metadata": {
        "id": "3d3qZJKeHtxt"
      },
      "source": [
        "#EDA"
      ]
    },
    {
      "cell_type": "code",
      "execution_count": null,
      "metadata": {
        "colab": {
          "base_uri": "https://localhost:8080/",
          "height": 1000
        },
        "id": "myOpW5eJHoar",
        "outputId": "8b38d0c4-0edf-401f-9983-04a2e3b364f0"
      },
      "outputs": [],
      "source": [
        "data.dtypes"
      ]
    },
    {
      "cell_type": "code",
      "execution_count": null,
      "metadata": {
        "colab": {
          "base_uri": "https://localhost:8080/"
        },
        "id": "PzMiqddBcbZQ",
        "outputId": "c6d072af-233b-4b9d-956f-aef51a385fe7"
      },
      "outputs": [],
      "source": [
        "data.shape"
      ]
    },
    {
      "cell_type": "code",
      "execution_count": null,
      "metadata": {
        "colab": {
          "base_uri": "https://localhost:8080/",
          "height": 178
        },
        "id": "m9xBGSI_cdKj",
        "outputId": "3d208cf8-c050-4caa-e811-8c3bdf16fd81"
      },
      "outputs": [],
      "source": [
        "data[\"diagnosis\"].value_counts()"
      ]
    },
    {
      "cell_type": "code",
      "execution_count": null,
      "metadata": {
        "colab": {
          "base_uri": "https://localhost:8080/",
          "height": 349
        },
        "id": "Qh2JpndHHwSY",
        "outputId": "db3eff23-ccf4-467d-b34a-1495e75e6034"
      },
      "outputs": [],
      "source": [
        "data.describe()"
      ]
    },
    {
      "cell_type": "code",
      "execution_count": null,
      "metadata": {
        "colab": {
          "base_uri": "https://localhost:8080/",
          "height": 178
        },
        "id": "79tueJmWHz7h",
        "outputId": "ce389f45-89a6-4191-918a-96bbe0cfbf2a"
      },
      "outputs": [],
      "source": [
        "data[\"diagnosis\"].value_counts()"
      ]
    },
    {
      "cell_type": "code",
      "execution_count": null,
      "metadata": {
        "colab": {
          "base_uri": "https://localhost:8080/",
          "height": 1000
        },
        "id": "NTsF08cBH1ww",
        "outputId": "0be9062c-c451-48c2-b1f0-72f188d3edec"
      },
      "outputs": [],
      "source": [
        "# for column in data.columns[:-1] :\n",
        "#   sns.histplot(data = data, x = column, hue = \"diagnosis\")\n",
        "#   plt.show()"
      ]
    },
    {
      "cell_type": "markdown",
      "metadata": {
        "id": "7bMQf1jiM_nT"
      },
      "source": [
        "Kategori M dan B memiliki perbedaan yang cukup signifikan, hal ini dapat diamati pada :\n",
        "radius_mean : M antara 10-15, B antara 11-25\n",
        "texture_mean : M antara 10-20, B antara 15-34\n",
        "perimeter_mean : M antara 40 - 100, B antara 80 - 180\n",
        "dan lain-lain, sehingga hal ini dapat mempermudah mesin/model dalam mengklasifikasi data yang diberikan.\n"
      ]
    },
    {
      "cell_type": "code",
      "execution_count": null,
      "metadata": {
        "colab": {
          "base_uri": "https://localhost:8080/",
          "height": 1000
        },
        "id": "v3DANNHoH70F",
        "outputId": "5da50ff9-63a0-4fcb-80a4-933b338f4090"
      },
      "outputs": [],
      "source": [
        "# for column in data.columns[:-1] :\n",
        "#   sns.boxplot(data = data, x = column, hue = \"diagnosis\")\n",
        "#   plt.show()"
      ]
    },
    {
      "cell_type": "markdown",
      "metadata": {
        "id": "naPE7E4NNbcu"
      },
      "source": [
        "radius_se dan area_se, smoothness_se, concavity_se terlihat memiliki outlier yang cukup parah."
      ]
    },
    {
      "cell_type": "code",
      "execution_count": null,
      "metadata": {
        "colab": {
          "base_uri": "https://localhost:8080/",
          "height": 1000
        },
        "id": "tURZSaILIXAZ",
        "outputId": "c0fc777e-f680-4785-a175-c474f6fe2ddd"
      },
      "outputs": [],
      "source": [
        "# for i in range(len(data.columns) - 1) :\n",
        "#   for j in range(i + 1, len(data.columns) - 1) :\n",
        "#     if(data[data.columns[i]].dtype != \"object\" and data[data.columns[j]].dtype != \"object\") :\n",
        "#       sns.scatterplot(data = data, x = data.columns[i], y = data.columns[j], hue = \"diagnosis\")\n",
        "#       plt.show()"
      ]
    },
    {
      "cell_type": "markdown",
      "metadata": {
        "id": "npjfd9ONOHvx"
      },
      "source": [
        "radius_mean & perimeter_mean : linear (semakin besar radius_mean, maka semakin besar pula perimeter_mean nya).\n",
        "radius_mean & area_mean : linear (semakin besar radius_mean, maka semakin besar pula area_mean nya).\n",
        "Dan dapat kita lihat, bahwasannya distribusi/penyebaran antara kategori M dan B itu cukup merata dan terlihat jelas cluster-nya."
      ]
    },
    {
      "cell_type": "code",
      "execution_count": null,
      "metadata": {
        "colab": {
          "base_uri": "https://localhost:8080/",
          "height": 1000
        },
        "id": "ApeZjoCwI9z4",
        "outputId": "5f3e53ab-4d44-4db6-9bd4-a40ee17b4945"
      },
      "outputs": [],
      "source": [
        "# sns.pairplot(data = data, hue = \"diagnosis\")\n",
        "# plt.show()"
      ]
    },
    {
      "cell_type": "code",
      "execution_count": null,
      "metadata": {
        "colab": {
          "base_uri": "https://localhost:8080/"
        },
        "id": "R_D09ZWUIs5x",
        "outputId": "2de2bf81-4061-481a-af33-d5ddaedcc12d"
      },
      "outputs": [],
      "source": [
        "# for column in data.columns[:-1] :\n",
        "#   if(data[column].dtype != \"object\") :\n",
        "#     print(f\"column : {column}, skewness : {data[column].skew()}, kurtosis : {data[column].kurt()}\")"
      ]
    },
    {
      "cell_type": "markdown",
      "metadata": {
        "id": "GSltJSgjJE5T"
      },
      "source": [
        "#Feature Engineering"
      ]
    },
    {
      "cell_type": "code",
      "execution_count": null,
      "metadata": {
        "colab": {
          "base_uri": "https://localhost:8080/",
          "height": 1000
        },
        "id": "U8Y2oUfVJGww",
        "outputId": "25f556eb-d08e-48c7-a1a9-1b0ecf6afc68"
      },
      "outputs": [],
      "source": [
        "missing_percentage = data.isna().sum() / len(data) * 100\n",
        "missing_percentage"
      ]
    },
    {
      "cell_type": "code",
      "execution_count": null,
      "metadata": {
        "id": "1O4Q0QiiJLXw"
      },
      "outputs": [],
      "source": [
        "for key, value in missing_percentage.items() :\n",
        "  if(value > 50.0) :\n",
        "    data = data.drop(columns = [key], axis = 1)"
      ]
    },
    {
      "cell_type": "code",
      "execution_count": null,
      "metadata": {
        "colab": {
          "base_uri": "https://localhost:8080/",
          "height": 1000
        },
        "id": "KH_ucdjIJrgt",
        "outputId": "833791b3-ca65-4a98-eeb1-afb47f62694e"
      },
      "outputs": [],
      "source": [
        "data.isna().sum()"
      ]
    },
    {
      "cell_type": "code",
      "execution_count": null,
      "metadata": {
        "colab": {
          "base_uri": "https://localhost:8080/"
        },
        "id": "N8NmIzSQJRbu",
        "outputId": "5abc3e7c-e3ef-41d8-eff6-167ec31aef44"
      },
      "outputs": [],
      "source": [
        "encoder = LabelEncoder()\n",
        "encoded = {}\n",
        "for column in data.columns :\n",
        "  if(data[column].dtype == \"object\") :\n",
        "    data[column] = encoder.fit_transform(data[column])\n",
        "    encoded[column] = {i:class_name for i, class_name in enumerate(encoder.classes_)}\n",
        "for key, value in encoded.items() :\n",
        "  print(f\"key : {key}, value : {value}\")"
      ]
    },
    {
      "cell_type": "code",
      "execution_count": null,
      "metadata": {
        "id": "3aBe0l_3JueQ"
      },
      "outputs": [],
      "source": [
        "x = data[data.columns[:-1]]\n",
        "y = data[data.columns[-1]]\n",
        "\n",
        "x_train, x_test, y_train, y_test = train_test_split(x, y, test_size = 0.2)"
      ]
    },
    {
      "cell_type": "code",
      "execution_count": null,
      "metadata": {
        "id": "bGqEYlgYJ4Z5"
      },
      "outputs": [],
      "source": [
        "def correlation(data_df, threshold) :\n",
        "  corr_col = set()\n",
        "  corr_matrix = data_df.corr()\n",
        "  print(corr_matrix)\n",
        "  for i in range(len(corr_matrix.columns)) :\n",
        "    for j in range(i + 1, len(corr_matrix.columns)) :\n",
        "      if(np.abs(corr_matrix.iloc[(i, j)]) > threshold) :\n",
        "        corr_col.add(corr_matrix.columns[j])\n",
        "  return corr_col"
      ]
    },
    {
      "cell_type": "code",
      "execution_count": null,
      "metadata": {
        "colab": {
          "base_uri": "https://localhost:8080/"
        },
        "id": "D8pYsEYZKS_u",
        "outputId": "79f058be-953f-4c85-e30f-558de90d9a3c"
      },
      "outputs": [],
      "source": [
        "corr_col = correlation(x_train, threshold = 0.9)\n",
        "print(corr_col)\n",
        "print(len(corr_col))"
      ]
    },
    {
      "cell_type": "code",
      "execution_count": null,
      "metadata": {
        "id": "5ZGAwdDmKVq9"
      },
      "outputs": [],
      "source": [
        "x_train = x_train.drop(columns = corr_col, axis = 1)\n",
        "x_test = x_test.drop(columns = corr_col, axis = 1)"
      ]
    },
    {
      "cell_type": "code",
      "execution_count": null,
      "metadata": {
        "id": "yf8a0HPTKbWc"
      },
      "outputs": [],
      "source": [
        "# y_train = np.reshape(y_train, (-1, 1))\n",
        "# y_test = np.reshape(y_test, (-1, 1))"
      ]
    },
    {
      "cell_type": "code",
      "execution_count": null,
      "metadata": {
        "id": "Nxpd67ogKgFF"
      },
      "outputs": [],
      "source": [
        "scaler_x_minmax = MinMaxScaler()\n",
        "scaler_x_standard = StandardScaler()"
      ]
    },
    {
      "cell_type": "code",
      "execution_count": null,
      "metadata": {
        "id": "1V8nAcfjKk1u"
      },
      "outputs": [],
      "source": [
        "def scaling(x1, x2, scaler_x) :\n",
        "  x1 = scaler_x.fit_transform(x1)\n",
        "  x2 = scaler_x.transform(x2)\n",
        "  return x1, x2, scaler_x"
      ]
    },
    {
      "cell_type": "code",
      "execution_count": null,
      "metadata": {
        "id": "UHWtEveLLCjq"
      },
      "outputs": [],
      "source": [
        "x_train1, x_test1, scaler_x_minmax = scaling(x_train, x_test, scaler_x_minmax)"
      ]
    },
    {
      "cell_type": "code",
      "execution_count": null,
      "metadata": {
        "id": "9XNmFnkvLGks"
      },
      "outputs": [],
      "source": [
        "x_train2, x_test2, scaler_x_standard = scaling(x_train, x_test, scaler_x_standard)"
      ]
    },
    {
      "cell_type": "markdown",
      "metadata": {
        "id": "okLQS3VZLM4z"
      },
      "source": [
        "#Modeling"
      ]
    },
    {
      "cell_type": "code",
      "execution_count": null,
      "metadata": {
        "colab": {
          "base_uri": "https://localhost:8080/"
        },
        "id": "Uhog18p5LMCw",
        "outputId": "87e93c23-a7a0-457c-8e9b-dfd5656c0000"
      },
      "outputs": [],
      "source": [
        "model = LogisticRegression() #LogisticRegression with MinMaxScaler()\n",
        "history = model.fit(x_train1, y_train)\n",
        "y_pred = model.predict(x_test1)\n",
        "y_pred_prob = model.predict_proba(x_test1)[:, 1]\n",
        "print(f\"accuracy_score : {accuracy_score(y_test, y_pred)}, recall_score : {recall_score(y_test, y_pred)}, precision_score : {precision_score(y_test, y_pred)}, roc_auc_score : {roc_auc_score(y_test, y_pred_prob)}\")\n",
        "print(confusion_matrix(y_test, y_pred))\n",
        "print(classification_report(y_test, y_pred))"
      ]
    },
    {
      "cell_type": "code",
      "execution_count": null,
      "metadata": {
        "colab": {
          "base_uri": "https://localhost:8080/"
        },
        "id": "VFS0KRPuLwOK",
        "outputId": "5fd7ff58-c2b1-4f2d-b1dc-595ef029b6f0"
      },
      "outputs": [],
      "source": [
        "model = LogisticRegression() #LogisticRegression with StandardScaler()\n",
        "history = model.fit(x_train2, y_train)\n",
        "y_pred = model.predict(x_test2)\n",
        "y_pred_prob = model.predict_proba(x_test2)[:, 1]\n",
        "print(f\"accuracy_score : {accuracy_score(y_test, y_pred)}, recall_score : {recall_score(y_test, y_pred)}, precision_score : {precision_score(y_test, y_pred)}, roc_auc_score : {roc_auc_score(y_test, y_pred_prob)}\")\n",
        "print(confusion_matrix(y_test, y_pred))\n",
        "print(classification_report(y_test, y_pred))"
      ]
    },
    {
      "cell_type": "code",
      "execution_count": null,
      "metadata": {
        "colab": {
          "base_uri": "https://localhost:8080/"
        },
        "id": "ISVlNH8lL91r",
        "outputId": "42a0a3a6-93d3-4860-c7c6-6c1db148dc87"
      },
      "outputs": [],
      "source": [
        "model = GaussianNB() #GaussianNB with MinMaxScaler()\n",
        "history = model.fit(x_train1, y_train)\n",
        "y_pred = model.predict(x_test1)\n",
        "y_pred_prob = model.predict_proba(x_test1)[:, 1]\n",
        "print(f\"accuracy_score : {accuracy_score(y_test, y_pred)}, recall_score : {recall_score(y_test, y_pred)}, precision_score : {precision_score(y_test, y_pred)}, roc_auc_score : {roc_auc_score(y_test, y_pred_prob)}\")\n",
        "print(confusion_matrix(y_test, y_pred))\n",
        "print(classification_report(y_test, y_pred))"
      ]
    },
    {
      "cell_type": "code",
      "execution_count": null,
      "metadata": {
        "colab": {
          "base_uri": "https://localhost:8080/"
        },
        "id": "a07wJqsvMC6Z",
        "outputId": "2d36e914-e34d-4408-88b1-a074cd947791"
      },
      "outputs": [],
      "source": [
        "model = GaussianNB() #GaussianNB with StandardScaler()\n",
        "history = model.fit(x_train2, y_train)\n",
        "y_pred = model.predict(x_test2)\n",
        "y_pred_prob = model.predict_proba(x_test2)[:, 1]\n",
        "print(f\"accuracy_score : {accuracy_score(y_test, y_pred)}, recall_score : {recall_score(y_test, y_pred)}, precision_score : {precision_score(y_test, y_pred)}, roc_auc_score : {roc_auc_score(y_test, y_pred_prob)}\")\n",
        "print(confusion_matrix(y_test, y_pred))\n",
        "print(classification_report(y_test, y_pred))"
      ]
    },
    {
      "cell_type": "code",
      "execution_count": null,
      "metadata": {},
      "outputs": [],
      "source": [
        "plt.figure(figsize=(8, 6))\n",
        "plt.scatter(y_test, y_pred, color='blue', label='Data Points')\n",
        "plt.plot([y.min(), y.max()], [y.min(), y.max()], color='red', lw=2, label=\"Ideal Line (y = x)\")"
      ]
    }
  ],
  "metadata": {
    "colab": {
      "provenance": []
    },
    "kernelspec": {
      "display_name": "Python 3",
      "name": "python3"
    },
    "language_info": {
      "codemirror_mode": {
        "name": "ipython",
        "version": 3
      },
      "file_extension": ".py",
      "mimetype": "text/x-python",
      "name": "python",
      "nbconvert_exporter": "python",
      "pygments_lexer": "ipython3",
      "version": "3.10.6"
    }
  },
  "nbformat": 4,
  "nbformat_minor": 0
}
