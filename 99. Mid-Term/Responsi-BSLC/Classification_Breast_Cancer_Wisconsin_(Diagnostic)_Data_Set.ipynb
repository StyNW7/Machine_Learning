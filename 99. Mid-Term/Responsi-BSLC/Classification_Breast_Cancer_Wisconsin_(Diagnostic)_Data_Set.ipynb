{
  "cells": [
    {
      "cell_type": "markdown",
      "metadata": {},
      "source": [
        "# Classification (Naive Bayes)"
      ]
    },
    {
      "cell_type": "markdown",
      "metadata": {},
      "source": [
        "Credit: Kalvin"
      ]
    },
    {
      "cell_type": "markdown",
      "metadata": {
        "id": "DAq_E_z8Hpb3"
      },
      "source": [
        "#Import Libraries"
      ]
    },
    {
      "cell_type": "code",
      "execution_count": 67,
      "metadata": {
        "id": "1UeXzZBoGpgl"
      },
      "outputs": [],
      "source": [
        "import numpy as np\n",
        "import pandas as pd\n",
        "import matplotlib.pyplot as plt\n",
        "import seaborn as sns\n",
        "from sklearn.preprocessing import LabelEncoder, MinMaxScaler, StandardScaler\n",
        "from sklearn.metrics import accuracy_score, recall_score, precision_score, roc_auc_score, confusion_matrix, classification_report\n",
        "from sklearn.model_selection import train_test_split\n",
        "from sklearn.linear_model import LogisticRegression\n",
        "from sklearn.naive_bayes import GaussianNB"
      ]
    },
    {
      "cell_type": "markdown",
      "metadata": {
        "id": "v4SEpkRBHr-O"
      },
      "source": [
        "#Data Preparation"
      ]
    },
    {
      "cell_type": "code",
      "execution_count": 68,
      "metadata": {
        "colab": {
          "base_uri": "https://localhost:8080/",
          "height": 461
        },
        "id": "7M56IR8VHL3a",
        "outputId": "cfaa6d43-0738-463c-c0f0-d142c77d6aa9"
      },
      "outputs": [
        {
          "data": {
            "text/html": [
              "<div>\n",
              "<style scoped>\n",
              "    .dataframe tbody tr th:only-of-type {\n",
              "        vertical-align: middle;\n",
              "    }\n",
              "\n",
              "    .dataframe tbody tr th {\n",
              "        vertical-align: top;\n",
              "    }\n",
              "\n",
              "    .dataframe thead th {\n",
              "        text-align: right;\n",
              "    }\n",
              "</style>\n",
              "<table border=\"1\" class=\"dataframe\">\n",
              "  <thead>\n",
              "    <tr style=\"text-align: right;\">\n",
              "      <th></th>\n",
              "      <th>id</th>\n",
              "      <th>diagnosis</th>\n",
              "      <th>radius_mean</th>\n",
              "      <th>texture_mean</th>\n",
              "      <th>perimeter_mean</th>\n",
              "      <th>area_mean</th>\n",
              "      <th>smoothness_mean</th>\n",
              "      <th>compactness_mean</th>\n",
              "      <th>concavity_mean</th>\n",
              "      <th>concave points_mean</th>\n",
              "      <th>...</th>\n",
              "      <th>texture_worst</th>\n",
              "      <th>perimeter_worst</th>\n",
              "      <th>area_worst</th>\n",
              "      <th>smoothness_worst</th>\n",
              "      <th>compactness_worst</th>\n",
              "      <th>concavity_worst</th>\n",
              "      <th>concave points_worst</th>\n",
              "      <th>symmetry_worst</th>\n",
              "      <th>fractal_dimension_worst</th>\n",
              "      <th>Unnamed: 32</th>\n",
              "    </tr>\n",
              "  </thead>\n",
              "  <tbody>\n",
              "    <tr>\n",
              "      <th>0</th>\n",
              "      <td>842302</td>\n",
              "      <td>M</td>\n",
              "      <td>17.99</td>\n",
              "      <td>10.38</td>\n",
              "      <td>122.80</td>\n",
              "      <td>1001.0</td>\n",
              "      <td>0.11840</td>\n",
              "      <td>0.27760</td>\n",
              "      <td>0.30010</td>\n",
              "      <td>0.14710</td>\n",
              "      <td>...</td>\n",
              "      <td>17.33</td>\n",
              "      <td>184.60</td>\n",
              "      <td>2019.0</td>\n",
              "      <td>0.16220</td>\n",
              "      <td>0.66560</td>\n",
              "      <td>0.7119</td>\n",
              "      <td>0.2654</td>\n",
              "      <td>0.4601</td>\n",
              "      <td>0.11890</td>\n",
              "      <td>NaN</td>\n",
              "    </tr>\n",
              "    <tr>\n",
              "      <th>1</th>\n",
              "      <td>842517</td>\n",
              "      <td>M</td>\n",
              "      <td>20.57</td>\n",
              "      <td>17.77</td>\n",
              "      <td>132.90</td>\n",
              "      <td>1326.0</td>\n",
              "      <td>0.08474</td>\n",
              "      <td>0.07864</td>\n",
              "      <td>0.08690</td>\n",
              "      <td>0.07017</td>\n",
              "      <td>...</td>\n",
              "      <td>23.41</td>\n",
              "      <td>158.80</td>\n",
              "      <td>1956.0</td>\n",
              "      <td>0.12380</td>\n",
              "      <td>0.18660</td>\n",
              "      <td>0.2416</td>\n",
              "      <td>0.1860</td>\n",
              "      <td>0.2750</td>\n",
              "      <td>0.08902</td>\n",
              "      <td>NaN</td>\n",
              "    </tr>\n",
              "    <tr>\n",
              "      <th>2</th>\n",
              "      <td>84300903</td>\n",
              "      <td>M</td>\n",
              "      <td>19.69</td>\n",
              "      <td>21.25</td>\n",
              "      <td>130.00</td>\n",
              "      <td>1203.0</td>\n",
              "      <td>0.10960</td>\n",
              "      <td>0.15990</td>\n",
              "      <td>0.19740</td>\n",
              "      <td>0.12790</td>\n",
              "      <td>...</td>\n",
              "      <td>25.53</td>\n",
              "      <td>152.50</td>\n",
              "      <td>1709.0</td>\n",
              "      <td>0.14440</td>\n",
              "      <td>0.42450</td>\n",
              "      <td>0.4504</td>\n",
              "      <td>0.2430</td>\n",
              "      <td>0.3613</td>\n",
              "      <td>0.08758</td>\n",
              "      <td>NaN</td>\n",
              "    </tr>\n",
              "    <tr>\n",
              "      <th>3</th>\n",
              "      <td>84348301</td>\n",
              "      <td>M</td>\n",
              "      <td>11.42</td>\n",
              "      <td>20.38</td>\n",
              "      <td>77.58</td>\n",
              "      <td>386.1</td>\n",
              "      <td>0.14250</td>\n",
              "      <td>0.28390</td>\n",
              "      <td>0.24140</td>\n",
              "      <td>0.10520</td>\n",
              "      <td>...</td>\n",
              "      <td>26.50</td>\n",
              "      <td>98.87</td>\n",
              "      <td>567.7</td>\n",
              "      <td>0.20980</td>\n",
              "      <td>0.86630</td>\n",
              "      <td>0.6869</td>\n",
              "      <td>0.2575</td>\n",
              "      <td>0.6638</td>\n",
              "      <td>0.17300</td>\n",
              "      <td>NaN</td>\n",
              "    </tr>\n",
              "    <tr>\n",
              "      <th>4</th>\n",
              "      <td>84358402</td>\n",
              "      <td>M</td>\n",
              "      <td>20.29</td>\n",
              "      <td>14.34</td>\n",
              "      <td>135.10</td>\n",
              "      <td>1297.0</td>\n",
              "      <td>0.10030</td>\n",
              "      <td>0.13280</td>\n",
              "      <td>0.19800</td>\n",
              "      <td>0.10430</td>\n",
              "      <td>...</td>\n",
              "      <td>16.67</td>\n",
              "      <td>152.20</td>\n",
              "      <td>1575.0</td>\n",
              "      <td>0.13740</td>\n",
              "      <td>0.20500</td>\n",
              "      <td>0.4000</td>\n",
              "      <td>0.1625</td>\n",
              "      <td>0.2364</td>\n",
              "      <td>0.07678</td>\n",
              "      <td>NaN</td>\n",
              "    </tr>\n",
              "    <tr>\n",
              "      <th>...</th>\n",
              "      <td>...</td>\n",
              "      <td>...</td>\n",
              "      <td>...</td>\n",
              "      <td>...</td>\n",
              "      <td>...</td>\n",
              "      <td>...</td>\n",
              "      <td>...</td>\n",
              "      <td>...</td>\n",
              "      <td>...</td>\n",
              "      <td>...</td>\n",
              "      <td>...</td>\n",
              "      <td>...</td>\n",
              "      <td>...</td>\n",
              "      <td>...</td>\n",
              "      <td>...</td>\n",
              "      <td>...</td>\n",
              "      <td>...</td>\n",
              "      <td>...</td>\n",
              "      <td>...</td>\n",
              "      <td>...</td>\n",
              "      <td>...</td>\n",
              "    </tr>\n",
              "    <tr>\n",
              "      <th>564</th>\n",
              "      <td>926424</td>\n",
              "      <td>M</td>\n",
              "      <td>21.56</td>\n",
              "      <td>22.39</td>\n",
              "      <td>142.00</td>\n",
              "      <td>1479.0</td>\n",
              "      <td>0.11100</td>\n",
              "      <td>0.11590</td>\n",
              "      <td>0.24390</td>\n",
              "      <td>0.13890</td>\n",
              "      <td>...</td>\n",
              "      <td>26.40</td>\n",
              "      <td>166.10</td>\n",
              "      <td>2027.0</td>\n",
              "      <td>0.14100</td>\n",
              "      <td>0.21130</td>\n",
              "      <td>0.4107</td>\n",
              "      <td>0.2216</td>\n",
              "      <td>0.2060</td>\n",
              "      <td>0.07115</td>\n",
              "      <td>NaN</td>\n",
              "    </tr>\n",
              "    <tr>\n",
              "      <th>565</th>\n",
              "      <td>926682</td>\n",
              "      <td>M</td>\n",
              "      <td>20.13</td>\n",
              "      <td>28.25</td>\n",
              "      <td>131.20</td>\n",
              "      <td>1261.0</td>\n",
              "      <td>0.09780</td>\n",
              "      <td>0.10340</td>\n",
              "      <td>0.14400</td>\n",
              "      <td>0.09791</td>\n",
              "      <td>...</td>\n",
              "      <td>38.25</td>\n",
              "      <td>155.00</td>\n",
              "      <td>1731.0</td>\n",
              "      <td>0.11660</td>\n",
              "      <td>0.19220</td>\n",
              "      <td>0.3215</td>\n",
              "      <td>0.1628</td>\n",
              "      <td>0.2572</td>\n",
              "      <td>0.06637</td>\n",
              "      <td>NaN</td>\n",
              "    </tr>\n",
              "    <tr>\n",
              "      <th>566</th>\n",
              "      <td>926954</td>\n",
              "      <td>M</td>\n",
              "      <td>16.60</td>\n",
              "      <td>28.08</td>\n",
              "      <td>108.30</td>\n",
              "      <td>858.1</td>\n",
              "      <td>0.08455</td>\n",
              "      <td>0.10230</td>\n",
              "      <td>0.09251</td>\n",
              "      <td>0.05302</td>\n",
              "      <td>...</td>\n",
              "      <td>34.12</td>\n",
              "      <td>126.70</td>\n",
              "      <td>1124.0</td>\n",
              "      <td>0.11390</td>\n",
              "      <td>0.30940</td>\n",
              "      <td>0.3403</td>\n",
              "      <td>0.1418</td>\n",
              "      <td>0.2218</td>\n",
              "      <td>0.07820</td>\n",
              "      <td>NaN</td>\n",
              "    </tr>\n",
              "    <tr>\n",
              "      <th>567</th>\n",
              "      <td>927241</td>\n",
              "      <td>M</td>\n",
              "      <td>20.60</td>\n",
              "      <td>29.33</td>\n",
              "      <td>140.10</td>\n",
              "      <td>1265.0</td>\n",
              "      <td>0.11780</td>\n",
              "      <td>0.27700</td>\n",
              "      <td>0.35140</td>\n",
              "      <td>0.15200</td>\n",
              "      <td>...</td>\n",
              "      <td>39.42</td>\n",
              "      <td>184.60</td>\n",
              "      <td>1821.0</td>\n",
              "      <td>0.16500</td>\n",
              "      <td>0.86810</td>\n",
              "      <td>0.9387</td>\n",
              "      <td>0.2650</td>\n",
              "      <td>0.4087</td>\n",
              "      <td>0.12400</td>\n",
              "      <td>NaN</td>\n",
              "    </tr>\n",
              "    <tr>\n",
              "      <th>568</th>\n",
              "      <td>92751</td>\n",
              "      <td>B</td>\n",
              "      <td>7.76</td>\n",
              "      <td>24.54</td>\n",
              "      <td>47.92</td>\n",
              "      <td>181.0</td>\n",
              "      <td>0.05263</td>\n",
              "      <td>0.04362</td>\n",
              "      <td>0.00000</td>\n",
              "      <td>0.00000</td>\n",
              "      <td>...</td>\n",
              "      <td>30.37</td>\n",
              "      <td>59.16</td>\n",
              "      <td>268.6</td>\n",
              "      <td>0.08996</td>\n",
              "      <td>0.06444</td>\n",
              "      <td>0.0000</td>\n",
              "      <td>0.0000</td>\n",
              "      <td>0.2871</td>\n",
              "      <td>0.07039</td>\n",
              "      <td>NaN</td>\n",
              "    </tr>\n",
              "  </tbody>\n",
              "</table>\n",
              "<p>569 rows × 33 columns</p>\n",
              "</div>"
            ],
            "text/plain": [
              "           id diagnosis  radius_mean  texture_mean  perimeter_mean  area_mean  \\\n",
              "0      842302         M        17.99         10.38          122.80     1001.0   \n",
              "1      842517         M        20.57         17.77          132.90     1326.0   \n",
              "2    84300903         M        19.69         21.25          130.00     1203.0   \n",
              "3    84348301         M        11.42         20.38           77.58      386.1   \n",
              "4    84358402         M        20.29         14.34          135.10     1297.0   \n",
              "..        ...       ...          ...           ...             ...        ...   \n",
              "564    926424         M        21.56         22.39          142.00     1479.0   \n",
              "565    926682         M        20.13         28.25          131.20     1261.0   \n",
              "566    926954         M        16.60         28.08          108.30      858.1   \n",
              "567    927241         M        20.60         29.33          140.10     1265.0   \n",
              "568     92751         B         7.76         24.54           47.92      181.0   \n",
              "\n",
              "     smoothness_mean  compactness_mean  concavity_mean  concave points_mean  \\\n",
              "0            0.11840           0.27760         0.30010              0.14710   \n",
              "1            0.08474           0.07864         0.08690              0.07017   \n",
              "2            0.10960           0.15990         0.19740              0.12790   \n",
              "3            0.14250           0.28390         0.24140              0.10520   \n",
              "4            0.10030           0.13280         0.19800              0.10430   \n",
              "..               ...               ...             ...                  ...   \n",
              "564          0.11100           0.11590         0.24390              0.13890   \n",
              "565          0.09780           0.10340         0.14400              0.09791   \n",
              "566          0.08455           0.10230         0.09251              0.05302   \n",
              "567          0.11780           0.27700         0.35140              0.15200   \n",
              "568          0.05263           0.04362         0.00000              0.00000   \n",
              "\n",
              "     ...  texture_worst  perimeter_worst  area_worst  smoothness_worst  \\\n",
              "0    ...          17.33           184.60      2019.0           0.16220   \n",
              "1    ...          23.41           158.80      1956.0           0.12380   \n",
              "2    ...          25.53           152.50      1709.0           0.14440   \n",
              "3    ...          26.50            98.87       567.7           0.20980   \n",
              "4    ...          16.67           152.20      1575.0           0.13740   \n",
              "..   ...            ...              ...         ...               ...   \n",
              "564  ...          26.40           166.10      2027.0           0.14100   \n",
              "565  ...          38.25           155.00      1731.0           0.11660   \n",
              "566  ...          34.12           126.70      1124.0           0.11390   \n",
              "567  ...          39.42           184.60      1821.0           0.16500   \n",
              "568  ...          30.37            59.16       268.6           0.08996   \n",
              "\n",
              "     compactness_worst  concavity_worst  concave points_worst  symmetry_worst  \\\n",
              "0              0.66560           0.7119                0.2654          0.4601   \n",
              "1              0.18660           0.2416                0.1860          0.2750   \n",
              "2              0.42450           0.4504                0.2430          0.3613   \n",
              "3              0.86630           0.6869                0.2575          0.6638   \n",
              "4              0.20500           0.4000                0.1625          0.2364   \n",
              "..                 ...              ...                   ...             ...   \n",
              "564            0.21130           0.4107                0.2216          0.2060   \n",
              "565            0.19220           0.3215                0.1628          0.2572   \n",
              "566            0.30940           0.3403                0.1418          0.2218   \n",
              "567            0.86810           0.9387                0.2650          0.4087   \n",
              "568            0.06444           0.0000                0.0000          0.2871   \n",
              "\n",
              "     fractal_dimension_worst  Unnamed: 32  \n",
              "0                    0.11890          NaN  \n",
              "1                    0.08902          NaN  \n",
              "2                    0.08758          NaN  \n",
              "3                    0.17300          NaN  \n",
              "4                    0.07678          NaN  \n",
              "..                       ...          ...  \n",
              "564                  0.07115          NaN  \n",
              "565                  0.06637          NaN  \n",
              "566                  0.07820          NaN  \n",
              "567                  0.12400          NaN  \n",
              "568                  0.07039          NaN  \n",
              "\n",
              "[569 rows x 33 columns]"
            ]
          },
          "execution_count": 68,
          "metadata": {},
          "output_type": "execute_result"
        }
      ],
      "source": [
        "data = pd.read_csv(\"Breast_Cancer_Classification.csv\")\n",
        "data"
      ]
    },
    {
      "cell_type": "code",
      "execution_count": 69,
      "metadata": {
        "id": "cTiCxWCaHOLv"
      },
      "outputs": [],
      "source": [
        "data_out = data.pop(\"diagnosis\")\n",
        "data[\"diagnosis\"] = data_out"
      ]
    },
    {
      "cell_type": "code",
      "execution_count": 70,
      "metadata": {
        "id": "P0Uh_sWpIOnE"
      },
      "outputs": [],
      "source": [
        "data = data.drop(columns = [\"id\", \"Unnamed: 32\"])"
      ]
    },
    {
      "cell_type": "code",
      "execution_count": 71,
      "metadata": {
        "colab": {
          "base_uri": "https://localhost:8080/"
        },
        "id": "QJfY6LvTHWpL",
        "outputId": "99689b9e-477f-48a7-9bb6-89774b159f59"
      },
      "outputs": [
        {
          "data": {
            "text/plain": [
              "Index(['radius_mean', 'texture_mean', 'perimeter_mean', 'area_mean',\n",
              "       'smoothness_mean', 'compactness_mean', 'concavity_mean',\n",
              "       'concave points_mean', 'symmetry_mean', 'fractal_dimension_mean',\n",
              "       'radius_se', 'texture_se', 'perimeter_se', 'area_se', 'smoothness_se',\n",
              "       'compactness_se', 'concavity_se', 'concave points_se', 'symmetry_se',\n",
              "       'fractal_dimension_se', 'radius_worst', 'texture_worst',\n",
              "       'perimeter_worst', 'area_worst', 'smoothness_worst',\n",
              "       'compactness_worst', 'concavity_worst', 'concave points_worst',\n",
              "       'symmetry_worst', 'fractal_dimension_worst', 'diagnosis'],\n",
              "      dtype='object')"
            ]
          },
          "execution_count": 71,
          "metadata": {},
          "output_type": "execute_result"
        }
      ],
      "source": [
        "data.columns"
      ]
    },
    {
      "cell_type": "code",
      "execution_count": 72,
      "metadata": {
        "colab": {
          "base_uri": "https://localhost:8080/"
        },
        "id": "Z0MpXLrsHgrL",
        "outputId": "667fb07d-d050-45c4-ca21-2d27a96b0774"
      },
      "outputs": [
        {
          "name": "stdout",
          "output_type": "stream",
          "text": [
            "Index(['radius_mean', 'texture_mean', 'perimeter_mean', 'area_mean',\n",
            "       'smoothness_mean', 'compactness_mean', 'concavity_mean',\n",
            "       'concave_points_mean', 'symmetry_mean', 'fractal_dimension_mean',\n",
            "       'radius_se', 'texture_se', 'perimeter_se', 'area_se', 'smoothness_se',\n",
            "       'compactness_se', 'concavity_se', 'concave_points_se', 'symmetry_se',\n",
            "       'fractal_dimension_se', 'radius_worst', 'texture_worst',\n",
            "       'perimeter_worst', 'area_worst', 'smoothness_worst',\n",
            "       'compactness_worst', 'concavity_worst', 'concave_points_worst',\n",
            "       'symmetry_worst', 'fractal_dimension_worst', 'diagnosis'],\n",
            "      dtype='object')\n"
          ]
        }
      ],
      "source": [
        "temp_columns = []\n",
        "for x in data.columns :\n",
        "  temp_columns.append(x.replace(\" \", \"_\"))\n",
        "data.columns = temp_columns\n",
        "print(data.columns)"
      ]
    },
    {
      "cell_type": "markdown",
      "metadata": {
        "id": "3d3qZJKeHtxt"
      },
      "source": [
        "#EDA"
      ]
    },
    {
      "cell_type": "code",
      "execution_count": 73,
      "metadata": {
        "colab": {
          "base_uri": "https://localhost:8080/",
          "height": 1000
        },
        "id": "myOpW5eJHoar",
        "outputId": "8b38d0c4-0edf-401f-9983-04a2e3b364f0"
      },
      "outputs": [
        {
          "data": {
            "text/plain": [
              "radius_mean                float64\n",
              "texture_mean               float64\n",
              "perimeter_mean             float64\n",
              "area_mean                  float64\n",
              "smoothness_mean            float64\n",
              "compactness_mean           float64\n",
              "concavity_mean             float64\n",
              "concave_points_mean        float64\n",
              "symmetry_mean              float64\n",
              "fractal_dimension_mean     float64\n",
              "radius_se                  float64\n",
              "texture_se                 float64\n",
              "perimeter_se               float64\n",
              "area_se                    float64\n",
              "smoothness_se              float64\n",
              "compactness_se             float64\n",
              "concavity_se               float64\n",
              "concave_points_se          float64\n",
              "symmetry_se                float64\n",
              "fractal_dimension_se       float64\n",
              "radius_worst               float64\n",
              "texture_worst              float64\n",
              "perimeter_worst            float64\n",
              "area_worst                 float64\n",
              "smoothness_worst           float64\n",
              "compactness_worst          float64\n",
              "concavity_worst            float64\n",
              "concave_points_worst       float64\n",
              "symmetry_worst             float64\n",
              "fractal_dimension_worst    float64\n",
              "diagnosis                   object\n",
              "dtype: object"
            ]
          },
          "execution_count": 73,
          "metadata": {},
          "output_type": "execute_result"
        }
      ],
      "source": [
        "data.dtypes"
      ]
    },
    {
      "cell_type": "code",
      "execution_count": 74,
      "metadata": {
        "colab": {
          "base_uri": "https://localhost:8080/"
        },
        "id": "PzMiqddBcbZQ",
        "outputId": "c6d072af-233b-4b9d-956f-aef51a385fe7"
      },
      "outputs": [
        {
          "data": {
            "text/plain": [
              "(569, 31)"
            ]
          },
          "execution_count": 74,
          "metadata": {},
          "output_type": "execute_result"
        }
      ],
      "source": [
        "data.shape"
      ]
    },
    {
      "cell_type": "code",
      "execution_count": 75,
      "metadata": {
        "colab": {
          "base_uri": "https://localhost:8080/",
          "height": 178
        },
        "id": "m9xBGSI_cdKj",
        "outputId": "3d208cf8-c050-4caa-e811-8c3bdf16fd81"
      },
      "outputs": [
        {
          "data": {
            "text/plain": [
              "diagnosis\n",
              "B    357\n",
              "M    212\n",
              "Name: count, dtype: int64"
            ]
          },
          "execution_count": 75,
          "metadata": {},
          "output_type": "execute_result"
        }
      ],
      "source": [
        "data[\"diagnosis\"].value_counts()"
      ]
    },
    {
      "cell_type": "code",
      "execution_count": 76,
      "metadata": {
        "colab": {
          "base_uri": "https://localhost:8080/",
          "height": 349
        },
        "id": "Qh2JpndHHwSY",
        "outputId": "db3eff23-ccf4-467d-b34a-1495e75e6034"
      },
      "outputs": [
        {
          "data": {
            "text/html": [
              "<div>\n",
              "<style scoped>\n",
              "    .dataframe tbody tr th:only-of-type {\n",
              "        vertical-align: middle;\n",
              "    }\n",
              "\n",
              "    .dataframe tbody tr th {\n",
              "        vertical-align: top;\n",
              "    }\n",
              "\n",
              "    .dataframe thead th {\n",
              "        text-align: right;\n",
              "    }\n",
              "</style>\n",
              "<table border=\"1\" class=\"dataframe\">\n",
              "  <thead>\n",
              "    <tr style=\"text-align: right;\">\n",
              "      <th></th>\n",
              "      <th>radius_mean</th>\n",
              "      <th>texture_mean</th>\n",
              "      <th>perimeter_mean</th>\n",
              "      <th>area_mean</th>\n",
              "      <th>smoothness_mean</th>\n",
              "      <th>compactness_mean</th>\n",
              "      <th>concavity_mean</th>\n",
              "      <th>concave_points_mean</th>\n",
              "      <th>symmetry_mean</th>\n",
              "      <th>fractal_dimension_mean</th>\n",
              "      <th>...</th>\n",
              "      <th>radius_worst</th>\n",
              "      <th>texture_worst</th>\n",
              "      <th>perimeter_worst</th>\n",
              "      <th>area_worst</th>\n",
              "      <th>smoothness_worst</th>\n",
              "      <th>compactness_worst</th>\n",
              "      <th>concavity_worst</th>\n",
              "      <th>concave_points_worst</th>\n",
              "      <th>symmetry_worst</th>\n",
              "      <th>fractal_dimension_worst</th>\n",
              "    </tr>\n",
              "  </thead>\n",
              "  <tbody>\n",
              "    <tr>\n",
              "      <th>count</th>\n",
              "      <td>569.000000</td>\n",
              "      <td>569.000000</td>\n",
              "      <td>569.000000</td>\n",
              "      <td>569.000000</td>\n",
              "      <td>569.000000</td>\n",
              "      <td>569.000000</td>\n",
              "      <td>569.000000</td>\n",
              "      <td>569.000000</td>\n",
              "      <td>569.000000</td>\n",
              "      <td>569.000000</td>\n",
              "      <td>...</td>\n",
              "      <td>569.000000</td>\n",
              "      <td>569.000000</td>\n",
              "      <td>569.000000</td>\n",
              "      <td>569.000000</td>\n",
              "      <td>569.000000</td>\n",
              "      <td>569.000000</td>\n",
              "      <td>569.000000</td>\n",
              "      <td>569.000000</td>\n",
              "      <td>569.000000</td>\n",
              "      <td>569.000000</td>\n",
              "    </tr>\n",
              "    <tr>\n",
              "      <th>mean</th>\n",
              "      <td>14.127292</td>\n",
              "      <td>19.289649</td>\n",
              "      <td>91.969033</td>\n",
              "      <td>654.889104</td>\n",
              "      <td>0.096360</td>\n",
              "      <td>0.104341</td>\n",
              "      <td>0.088799</td>\n",
              "      <td>0.048919</td>\n",
              "      <td>0.181162</td>\n",
              "      <td>0.062798</td>\n",
              "      <td>...</td>\n",
              "      <td>16.269190</td>\n",
              "      <td>25.677223</td>\n",
              "      <td>107.261213</td>\n",
              "      <td>880.583128</td>\n",
              "      <td>0.132369</td>\n",
              "      <td>0.254265</td>\n",
              "      <td>0.272188</td>\n",
              "      <td>0.114606</td>\n",
              "      <td>0.290076</td>\n",
              "      <td>0.083946</td>\n",
              "    </tr>\n",
              "    <tr>\n",
              "      <th>std</th>\n",
              "      <td>3.524049</td>\n",
              "      <td>4.301036</td>\n",
              "      <td>24.298981</td>\n",
              "      <td>351.914129</td>\n",
              "      <td>0.014064</td>\n",
              "      <td>0.052813</td>\n",
              "      <td>0.079720</td>\n",
              "      <td>0.038803</td>\n",
              "      <td>0.027414</td>\n",
              "      <td>0.007060</td>\n",
              "      <td>...</td>\n",
              "      <td>4.833242</td>\n",
              "      <td>6.146258</td>\n",
              "      <td>33.602542</td>\n",
              "      <td>569.356993</td>\n",
              "      <td>0.022832</td>\n",
              "      <td>0.157336</td>\n",
              "      <td>0.208624</td>\n",
              "      <td>0.065732</td>\n",
              "      <td>0.061867</td>\n",
              "      <td>0.018061</td>\n",
              "    </tr>\n",
              "    <tr>\n",
              "      <th>min</th>\n",
              "      <td>6.981000</td>\n",
              "      <td>9.710000</td>\n",
              "      <td>43.790000</td>\n",
              "      <td>143.500000</td>\n",
              "      <td>0.052630</td>\n",
              "      <td>0.019380</td>\n",
              "      <td>0.000000</td>\n",
              "      <td>0.000000</td>\n",
              "      <td>0.106000</td>\n",
              "      <td>0.049960</td>\n",
              "      <td>...</td>\n",
              "      <td>7.930000</td>\n",
              "      <td>12.020000</td>\n",
              "      <td>50.410000</td>\n",
              "      <td>185.200000</td>\n",
              "      <td>0.071170</td>\n",
              "      <td>0.027290</td>\n",
              "      <td>0.000000</td>\n",
              "      <td>0.000000</td>\n",
              "      <td>0.156500</td>\n",
              "      <td>0.055040</td>\n",
              "    </tr>\n",
              "    <tr>\n",
              "      <th>25%</th>\n",
              "      <td>11.700000</td>\n",
              "      <td>16.170000</td>\n",
              "      <td>75.170000</td>\n",
              "      <td>420.300000</td>\n",
              "      <td>0.086370</td>\n",
              "      <td>0.064920</td>\n",
              "      <td>0.029560</td>\n",
              "      <td>0.020310</td>\n",
              "      <td>0.161900</td>\n",
              "      <td>0.057700</td>\n",
              "      <td>...</td>\n",
              "      <td>13.010000</td>\n",
              "      <td>21.080000</td>\n",
              "      <td>84.110000</td>\n",
              "      <td>515.300000</td>\n",
              "      <td>0.116600</td>\n",
              "      <td>0.147200</td>\n",
              "      <td>0.114500</td>\n",
              "      <td>0.064930</td>\n",
              "      <td>0.250400</td>\n",
              "      <td>0.071460</td>\n",
              "    </tr>\n",
              "    <tr>\n",
              "      <th>50%</th>\n",
              "      <td>13.370000</td>\n",
              "      <td>18.840000</td>\n",
              "      <td>86.240000</td>\n",
              "      <td>551.100000</td>\n",
              "      <td>0.095870</td>\n",
              "      <td>0.092630</td>\n",
              "      <td>0.061540</td>\n",
              "      <td>0.033500</td>\n",
              "      <td>0.179200</td>\n",
              "      <td>0.061540</td>\n",
              "      <td>...</td>\n",
              "      <td>14.970000</td>\n",
              "      <td>25.410000</td>\n",
              "      <td>97.660000</td>\n",
              "      <td>686.500000</td>\n",
              "      <td>0.131300</td>\n",
              "      <td>0.211900</td>\n",
              "      <td>0.226700</td>\n",
              "      <td>0.099930</td>\n",
              "      <td>0.282200</td>\n",
              "      <td>0.080040</td>\n",
              "    </tr>\n",
              "    <tr>\n",
              "      <th>75%</th>\n",
              "      <td>15.780000</td>\n",
              "      <td>21.800000</td>\n",
              "      <td>104.100000</td>\n",
              "      <td>782.700000</td>\n",
              "      <td>0.105300</td>\n",
              "      <td>0.130400</td>\n",
              "      <td>0.130700</td>\n",
              "      <td>0.074000</td>\n",
              "      <td>0.195700</td>\n",
              "      <td>0.066120</td>\n",
              "      <td>...</td>\n",
              "      <td>18.790000</td>\n",
              "      <td>29.720000</td>\n",
              "      <td>125.400000</td>\n",
              "      <td>1084.000000</td>\n",
              "      <td>0.146000</td>\n",
              "      <td>0.339100</td>\n",
              "      <td>0.382900</td>\n",
              "      <td>0.161400</td>\n",
              "      <td>0.317900</td>\n",
              "      <td>0.092080</td>\n",
              "    </tr>\n",
              "    <tr>\n",
              "      <th>max</th>\n",
              "      <td>28.110000</td>\n",
              "      <td>39.280000</td>\n",
              "      <td>188.500000</td>\n",
              "      <td>2501.000000</td>\n",
              "      <td>0.163400</td>\n",
              "      <td>0.345400</td>\n",
              "      <td>0.426800</td>\n",
              "      <td>0.201200</td>\n",
              "      <td>0.304000</td>\n",
              "      <td>0.097440</td>\n",
              "      <td>...</td>\n",
              "      <td>36.040000</td>\n",
              "      <td>49.540000</td>\n",
              "      <td>251.200000</td>\n",
              "      <td>4254.000000</td>\n",
              "      <td>0.222600</td>\n",
              "      <td>1.058000</td>\n",
              "      <td>1.252000</td>\n",
              "      <td>0.291000</td>\n",
              "      <td>0.663800</td>\n",
              "      <td>0.207500</td>\n",
              "    </tr>\n",
              "  </tbody>\n",
              "</table>\n",
              "<p>8 rows × 30 columns</p>\n",
              "</div>"
            ],
            "text/plain": [
              "       radius_mean  texture_mean  perimeter_mean    area_mean  \\\n",
              "count   569.000000    569.000000      569.000000   569.000000   \n",
              "mean     14.127292     19.289649       91.969033   654.889104   \n",
              "std       3.524049      4.301036       24.298981   351.914129   \n",
              "min       6.981000      9.710000       43.790000   143.500000   \n",
              "25%      11.700000     16.170000       75.170000   420.300000   \n",
              "50%      13.370000     18.840000       86.240000   551.100000   \n",
              "75%      15.780000     21.800000      104.100000   782.700000   \n",
              "max      28.110000     39.280000      188.500000  2501.000000   \n",
              "\n",
              "       smoothness_mean  compactness_mean  concavity_mean  concave_points_mean  \\\n",
              "count       569.000000        569.000000      569.000000           569.000000   \n",
              "mean          0.096360          0.104341        0.088799             0.048919   \n",
              "std           0.014064          0.052813        0.079720             0.038803   \n",
              "min           0.052630          0.019380        0.000000             0.000000   \n",
              "25%           0.086370          0.064920        0.029560             0.020310   \n",
              "50%           0.095870          0.092630        0.061540             0.033500   \n",
              "75%           0.105300          0.130400        0.130700             0.074000   \n",
              "max           0.163400          0.345400        0.426800             0.201200   \n",
              "\n",
              "       symmetry_mean  fractal_dimension_mean  ...  radius_worst  \\\n",
              "count     569.000000              569.000000  ...    569.000000   \n",
              "mean        0.181162                0.062798  ...     16.269190   \n",
              "std         0.027414                0.007060  ...      4.833242   \n",
              "min         0.106000                0.049960  ...      7.930000   \n",
              "25%         0.161900                0.057700  ...     13.010000   \n",
              "50%         0.179200                0.061540  ...     14.970000   \n",
              "75%         0.195700                0.066120  ...     18.790000   \n",
              "max         0.304000                0.097440  ...     36.040000   \n",
              "\n",
              "       texture_worst  perimeter_worst   area_worst  smoothness_worst  \\\n",
              "count     569.000000       569.000000   569.000000        569.000000   \n",
              "mean       25.677223       107.261213   880.583128          0.132369   \n",
              "std         6.146258        33.602542   569.356993          0.022832   \n",
              "min        12.020000        50.410000   185.200000          0.071170   \n",
              "25%        21.080000        84.110000   515.300000          0.116600   \n",
              "50%        25.410000        97.660000   686.500000          0.131300   \n",
              "75%        29.720000       125.400000  1084.000000          0.146000   \n",
              "max        49.540000       251.200000  4254.000000          0.222600   \n",
              "\n",
              "       compactness_worst  concavity_worst  concave_points_worst  \\\n",
              "count         569.000000       569.000000            569.000000   \n",
              "mean            0.254265         0.272188              0.114606   \n",
              "std             0.157336         0.208624              0.065732   \n",
              "min             0.027290         0.000000              0.000000   \n",
              "25%             0.147200         0.114500              0.064930   \n",
              "50%             0.211900         0.226700              0.099930   \n",
              "75%             0.339100         0.382900              0.161400   \n",
              "max             1.058000         1.252000              0.291000   \n",
              "\n",
              "       symmetry_worst  fractal_dimension_worst  \n",
              "count      569.000000               569.000000  \n",
              "mean         0.290076                 0.083946  \n",
              "std          0.061867                 0.018061  \n",
              "min          0.156500                 0.055040  \n",
              "25%          0.250400                 0.071460  \n",
              "50%          0.282200                 0.080040  \n",
              "75%          0.317900                 0.092080  \n",
              "max          0.663800                 0.207500  \n",
              "\n",
              "[8 rows x 30 columns]"
            ]
          },
          "execution_count": 76,
          "metadata": {},
          "output_type": "execute_result"
        }
      ],
      "source": [
        "data.describe()"
      ]
    },
    {
      "cell_type": "code",
      "execution_count": 77,
      "metadata": {
        "colab": {
          "base_uri": "https://localhost:8080/",
          "height": 178
        },
        "id": "79tueJmWHz7h",
        "outputId": "ce389f45-89a6-4191-918a-96bbe0cfbf2a"
      },
      "outputs": [
        {
          "data": {
            "text/plain": [
              "diagnosis\n",
              "B    357\n",
              "M    212\n",
              "Name: count, dtype: int64"
            ]
          },
          "execution_count": 77,
          "metadata": {},
          "output_type": "execute_result"
        }
      ],
      "source": [
        "data[\"diagnosis\"].value_counts()"
      ]
    },
    {
      "cell_type": "code",
      "execution_count": 78,
      "metadata": {
        "colab": {
          "base_uri": "https://localhost:8080/",
          "height": 1000
        },
        "id": "NTsF08cBH1ww",
        "outputId": "0be9062c-c451-48c2-b1f0-72f188d3edec"
      },
      "outputs": [],
      "source": [
        "# for column in data.columns[:-1] :\n",
        "#   sns.histplot(data = data, x = column, hue = \"diagnosis\")\n",
        "#   plt.show()"
      ]
    },
    {
      "cell_type": "markdown",
      "metadata": {
        "id": "7bMQf1jiM_nT"
      },
      "source": [
        "Kategori M dan B memiliki perbedaan yang cukup signifikan, hal ini dapat diamati pada :\n",
        "radius_mean : M antara 10-15, B antara 11-25\n",
        "texture_mean : M antara 10-20, B antara 15-34\n",
        "perimeter_mean : M antara 40 - 100, B antara 80 - 180\n",
        "dan lain-lain, sehingga hal ini dapat mempermudah mesin/model dalam mengklasifikasi data yang diberikan.\n"
      ]
    },
    {
      "cell_type": "code",
      "execution_count": 79,
      "metadata": {
        "colab": {
          "base_uri": "https://localhost:8080/",
          "height": 1000
        },
        "id": "v3DANNHoH70F",
        "outputId": "5da50ff9-63a0-4fcb-80a4-933b338f4090"
      },
      "outputs": [],
      "source": [
        "# for column in data.columns[:-1] :\n",
        "#   sns.boxplot(data = data, x = column, hue = \"diagnosis\")\n",
        "#   plt.show()"
      ]
    },
    {
      "cell_type": "markdown",
      "metadata": {
        "id": "naPE7E4NNbcu"
      },
      "source": [
        "radius_se dan area_se, smoothness_se, concavity_se terlihat memiliki outlier yang cukup parah."
      ]
    },
    {
      "cell_type": "code",
      "execution_count": 80,
      "metadata": {
        "colab": {
          "base_uri": "https://localhost:8080/",
          "height": 1000
        },
        "id": "tURZSaILIXAZ",
        "outputId": "c0fc777e-f680-4785-a175-c474f6fe2ddd"
      },
      "outputs": [],
      "source": [
        "# for i in range(len(data.columns) - 1) :\n",
        "#   for j in range(i + 1, len(data.columns) - 1) :\n",
        "#     if(data[data.columns[i]].dtype != \"object\" and data[data.columns[j]].dtype != \"object\") :\n",
        "#       sns.scatterplot(data = data, x = data.columns[i], y = data.columns[j], hue = \"diagnosis\")\n",
        "#       plt.show()"
      ]
    },
    {
      "cell_type": "markdown",
      "metadata": {
        "id": "npjfd9ONOHvx"
      },
      "source": [
        "radius_mean & perimeter_mean : linear (semakin besar radius_mean, maka semakin besar pula perimeter_mean nya).\n",
        "radius_mean & area_mean : linear (semakin besar radius_mean, maka semakin besar pula area_mean nya).\n",
        "Dan dapat kita lihat, bahwasannya distribusi/penyebaran antara kategori M dan B itu cukup merata dan terlihat jelas cluster-nya."
      ]
    },
    {
      "cell_type": "code",
      "execution_count": 81,
      "metadata": {
        "colab": {
          "base_uri": "https://localhost:8080/",
          "height": 1000
        },
        "id": "ApeZjoCwI9z4",
        "outputId": "5f3e53ab-4d44-4db6-9bd4-a40ee17b4945"
      },
      "outputs": [],
      "source": [
        "# sns.pairplot(data = data, hue = \"diagnosis\")\n",
        "# plt.show()"
      ]
    },
    {
      "cell_type": "code",
      "execution_count": 82,
      "metadata": {
        "colab": {
          "base_uri": "https://localhost:8080/"
        },
        "id": "R_D09ZWUIs5x",
        "outputId": "2de2bf81-4061-481a-af33-d5ddaedcc12d"
      },
      "outputs": [],
      "source": [
        "# for column in data.columns[:-1] :\n",
        "#   if(data[column].dtype != \"object\") :\n",
        "#     print(f\"column : {column}, skewness : {data[column].skew()}, kurtosis : {data[column].kurt()}\")"
      ]
    },
    {
      "cell_type": "markdown",
      "metadata": {
        "id": "GSltJSgjJE5T"
      },
      "source": [
        "#Feature Engineering"
      ]
    },
    {
      "cell_type": "code",
      "execution_count": 83,
      "metadata": {
        "colab": {
          "base_uri": "https://localhost:8080/",
          "height": 1000
        },
        "id": "U8Y2oUfVJGww",
        "outputId": "25f556eb-d08e-48c7-a1a9-1b0ecf6afc68"
      },
      "outputs": [
        {
          "data": {
            "text/plain": [
              "radius_mean                0.0\n",
              "texture_mean               0.0\n",
              "perimeter_mean             0.0\n",
              "area_mean                  0.0\n",
              "smoothness_mean            0.0\n",
              "compactness_mean           0.0\n",
              "concavity_mean             0.0\n",
              "concave_points_mean        0.0\n",
              "symmetry_mean              0.0\n",
              "fractal_dimension_mean     0.0\n",
              "radius_se                  0.0\n",
              "texture_se                 0.0\n",
              "perimeter_se               0.0\n",
              "area_se                    0.0\n",
              "smoothness_se              0.0\n",
              "compactness_se             0.0\n",
              "concavity_se               0.0\n",
              "concave_points_se          0.0\n",
              "symmetry_se                0.0\n",
              "fractal_dimension_se       0.0\n",
              "radius_worst               0.0\n",
              "texture_worst              0.0\n",
              "perimeter_worst            0.0\n",
              "area_worst                 0.0\n",
              "smoothness_worst           0.0\n",
              "compactness_worst          0.0\n",
              "concavity_worst            0.0\n",
              "concave_points_worst       0.0\n",
              "symmetry_worst             0.0\n",
              "fractal_dimension_worst    0.0\n",
              "diagnosis                  0.0\n",
              "dtype: float64"
            ]
          },
          "execution_count": 83,
          "metadata": {},
          "output_type": "execute_result"
        }
      ],
      "source": [
        "missing_percentage = data.isna().sum() / len(data) * 100\n",
        "missing_percentage"
      ]
    },
    {
      "cell_type": "code",
      "execution_count": 84,
      "metadata": {
        "id": "1O4Q0QiiJLXw"
      },
      "outputs": [],
      "source": [
        "for key, value in missing_percentage.items() :\n",
        "  if(value > 50.0) :\n",
        "    data = data.drop(columns = [key], axis = 1)"
      ]
    },
    {
      "cell_type": "code",
      "execution_count": 85,
      "metadata": {
        "colab": {
          "base_uri": "https://localhost:8080/",
          "height": 1000
        },
        "id": "KH_ucdjIJrgt",
        "outputId": "833791b3-ca65-4a98-eeb1-afb47f62694e"
      },
      "outputs": [
        {
          "data": {
            "text/plain": [
              "radius_mean                0\n",
              "texture_mean               0\n",
              "perimeter_mean             0\n",
              "area_mean                  0\n",
              "smoothness_mean            0\n",
              "compactness_mean           0\n",
              "concavity_mean             0\n",
              "concave_points_mean        0\n",
              "symmetry_mean              0\n",
              "fractal_dimension_mean     0\n",
              "radius_se                  0\n",
              "texture_se                 0\n",
              "perimeter_se               0\n",
              "area_se                    0\n",
              "smoothness_se              0\n",
              "compactness_se             0\n",
              "concavity_se               0\n",
              "concave_points_se          0\n",
              "symmetry_se                0\n",
              "fractal_dimension_se       0\n",
              "radius_worst               0\n",
              "texture_worst              0\n",
              "perimeter_worst            0\n",
              "area_worst                 0\n",
              "smoothness_worst           0\n",
              "compactness_worst          0\n",
              "concavity_worst            0\n",
              "concave_points_worst       0\n",
              "symmetry_worst             0\n",
              "fractal_dimension_worst    0\n",
              "diagnosis                  0\n",
              "dtype: int64"
            ]
          },
          "execution_count": 85,
          "metadata": {},
          "output_type": "execute_result"
        }
      ],
      "source": [
        "data.isna().sum()"
      ]
    },
    {
      "cell_type": "code",
      "execution_count": 86,
      "metadata": {
        "colab": {
          "base_uri": "https://localhost:8080/"
        },
        "id": "N8NmIzSQJRbu",
        "outputId": "5abc3e7c-e3ef-41d8-eff6-167ec31aef44"
      },
      "outputs": [
        {
          "name": "stdout",
          "output_type": "stream",
          "text": [
            "key : diagnosis, value : {0: 'B', 1: 'M'}\n"
          ]
        }
      ],
      "source": [
        "encoder = LabelEncoder()\n",
        "encoded = {}\n",
        "for column in data.columns :\n",
        "  if(data[column].dtype == \"object\") :\n",
        "    data[column] = encoder.fit_transform(data[column])\n",
        "    encoded[column] = {i:class_name for i, class_name in enumerate(encoder.classes_)}\n",
        "for key, value in encoded.items() :\n",
        "  print(f\"key : {key}, value : {value}\")"
      ]
    },
    {
      "cell_type": "code",
      "execution_count": 87,
      "metadata": {
        "id": "3aBe0l_3JueQ"
      },
      "outputs": [],
      "source": [
        "x = data[data.columns[:-1]]\n",
        "y = data[data.columns[-1]]\n",
        "\n",
        "x_train, x_test, y_train, y_test = train_test_split(x, y, test_size = 0.2)"
      ]
    },
    {
      "cell_type": "code",
      "execution_count": 88,
      "metadata": {
        "id": "bGqEYlgYJ4Z5"
      },
      "outputs": [],
      "source": [
        "def correlation(data_df, threshold) :\n",
        "  corr_col = set()\n",
        "  corr_matrix = data_df.corr()\n",
        "  print(corr_matrix)\n",
        "  for i in range(len(corr_matrix.columns)) :\n",
        "    for j in range(i + 1, len(corr_matrix.columns)) :\n",
        "      if(np.abs(corr_matrix.iloc[(i, j)]) > threshold) :\n",
        "        corr_col.add(corr_matrix.columns[j])\n",
        "  return corr_col"
      ]
    },
    {
      "cell_type": "code",
      "execution_count": 89,
      "metadata": {
        "colab": {
          "base_uri": "https://localhost:8080/"
        },
        "id": "D8pYsEYZKS_u",
        "outputId": "79f058be-953f-4c85-e30f-558de90d9a3c"
      },
      "outputs": [
        {
          "name": "stdout",
          "output_type": "stream",
          "text": [
            "                         radius_mean  texture_mean  perimeter_mean  area_mean  \\\n",
            "radius_mean                 1.000000      0.354514        0.998014   0.986558   \n",
            "texture_mean                0.354514      1.000000        0.358892   0.352282   \n",
            "perimeter_mean              0.998014      0.358892        1.000000   0.985757   \n",
            "area_mean                   0.986558      0.352282        0.985757   1.000000   \n",
            "smoothness_mean             0.124743     -0.046097        0.159024   0.129556   \n",
            "compactness_mean            0.477716      0.227714        0.527919   0.468538   \n",
            "concavity_mean              0.655223      0.312208        0.694121   0.663785   \n",
            "concave_points_mean         0.818528      0.313552        0.846284   0.817260   \n",
            "symmetry_mean               0.101373      0.048744        0.134708   0.105951   \n",
            "fractal_dimension_mean     -0.376015     -0.130040       -0.329385  -0.343854   \n",
            "radius_se                   0.663693      0.286336        0.674669   0.722509   \n",
            "texture_se                 -0.154683      0.351816       -0.148737  -0.118004   \n",
            "perimeter_se                0.661804      0.282836        0.678119   0.720364   \n",
            "area_se                     0.719584      0.271018        0.727405   0.789266   \n",
            "smoothness_se              -0.271190     -0.005757       -0.254410  -0.214595   \n",
            "compactness_se              0.156111      0.168600        0.199592   0.165755   \n",
            "concavity_se                0.139344      0.121707        0.170475   0.155477   \n",
            "concave_points_se           0.346621      0.167457        0.375666   0.346060   \n",
            "symmetry_se                -0.202171     -0.050554       -0.186200  -0.161569   \n",
            "fractal_dimension_se       -0.105867      0.018414       -0.070387  -0.077107   \n",
            "radius_worst                0.970036      0.382758        0.970492   0.962432   \n",
            "texture_worst               0.336540      0.912877        0.341660   0.326594   \n",
            "perimeter_worst             0.965102      0.385512        0.970619   0.957954   \n",
            "area_worst                  0.939408      0.374469        0.940436   0.958023   \n",
            "smoothness_worst            0.109716      0.071748        0.140087   0.110058   \n",
            "compactness_worst           0.405418      0.277481        0.448311   0.379763   \n",
            "concavity_worst             0.511649      0.306076        0.549449   0.496398   \n",
            "concave_points_worst        0.745837      0.310319        0.773357   0.721841   \n",
            "symmetry_worst              0.149399      0.094204        0.173974   0.125233   \n",
            "fractal_dimension_worst    -0.017463      0.092489        0.026902  -0.020060   \n",
            "\n",
            "                         smoothness_mean  compactness_mean  concavity_mean  \\\n",
            "radius_mean                     0.124743          0.477716        0.655223   \n",
            "texture_mean                   -0.046097          0.227714        0.312208   \n",
            "perimeter_mean                  0.159024          0.527919        0.694121   \n",
            "area_mean                       0.129556          0.468538        0.663785   \n",
            "smoothness_mean                 1.000000          0.628819        0.468481   \n",
            "compactness_mean                0.628819          1.000000        0.869775   \n",
            "concavity_mean                  0.468481          0.869775        1.000000   \n",
            "concave_points_mean             0.509232          0.818325        0.911099   \n",
            "symmetry_mean                   0.552022          0.578468        0.468579   \n",
            "fractal_dimension_mean          0.564699          0.532118        0.296919   \n",
            "radius_se                       0.253162          0.451940        0.597260   \n",
            "texture_se                      0.041174         -0.020371        0.027318   \n",
            "perimeter_se                    0.245106          0.502930        0.628757   \n",
            "area_se                         0.198254          0.409951        0.580887   \n",
            "smoothness_se                   0.297843          0.095064        0.041259   \n",
            "compactness_se                  0.256299          0.712734        0.657363   \n",
            "concavity_se                    0.191771          0.521477        0.669843   \n",
            "concave_points_se               0.347660          0.620488        0.679695   \n",
            "symmetry_se                     0.167651          0.108603        0.079897   \n",
            "fractal_dimension_se            0.265331          0.484721        0.440475   \n",
            "radius_worst                    0.167108          0.510818        0.667636   \n",
            "texture_worst                   0.019334          0.249242        0.317309   \n",
            "perimeter_worst                 0.191065          0.566970        0.709388   \n",
            "area_worst                      0.162593          0.486018        0.655369   \n",
            "smoothness_worst                0.807613          0.569851        0.427444   \n",
            "compactness_worst               0.430272          0.866776        0.750519   \n",
            "concavity_worst                 0.386814          0.811794        0.891237   \n",
            "concave_points_worst            0.459377          0.811539        0.857518   \n",
            "symmetry_worst                  0.389012          0.493126        0.393069   \n",
            "fractal_dimension_worst         0.479790          0.693849        0.513923   \n",
            "\n",
            "                         concave_points_mean  symmetry_mean  \\\n",
            "radius_mean                         0.818528       0.101373   \n",
            "texture_mean                        0.313552       0.048744   \n",
            "perimeter_mean                      0.846284       0.134708   \n",
            "area_mean                           0.817260       0.105951   \n",
            "smoothness_mean                     0.509232       0.552022   \n",
            "compactness_mean                    0.818325       0.578468   \n",
            "concavity_mean                      0.911099       0.468579   \n",
            "concave_points_mean                 1.000000       0.429200   \n",
            "symmetry_mean                       0.429200       1.000000   \n",
            "fractal_dimension_mean              0.105100       0.465245   \n",
            "radius_se                           0.674267       0.260318   \n",
            "texture_se                         -0.040915       0.088398   \n",
            "perimeter_se                        0.686988       0.262087   \n",
            "area_se                             0.664326       0.177840   \n",
            "smoothness_se                      -0.034379       0.157363   \n",
            "compactness_se                      0.450047       0.375709   \n",
            "concavity_se                        0.389977       0.296868   \n",
            "concave_points_se                   0.596358       0.360747   \n",
            "symmetry_se                        -0.011784       0.396310   \n",
            "fractal_dimension_se                0.209591       0.317961   \n",
            "radius_worst                        0.828957       0.147449   \n",
            "texture_worst                       0.323826       0.069303   \n",
            "perimeter_worst                     0.853721       0.178258   \n",
            "area_worst                          0.806460       0.144453   \n",
            "smoothness_worst                    0.445726       0.445013   \n",
            "compactness_worst                   0.666442       0.444173   \n",
            "concavity_worst                     0.750522       0.408083   \n",
            "concave_points_worst                0.917853       0.404348   \n",
            "symmetry_worst                      0.370147       0.696604   \n",
            "fractal_dimension_worst             0.356983       0.431679   \n",
            "\n",
            "                         fractal_dimension_mean  ...  radius_worst  \\\n",
            "radius_mean                           -0.376015  ...      0.970036   \n",
            "texture_mean                          -0.130040  ...      0.382758   \n",
            "perimeter_mean                        -0.329385  ...      0.970492   \n",
            "area_mean                             -0.343854  ...      0.962432   \n",
            "smoothness_mean                        0.564699  ...      0.167108   \n",
            "compactness_mean                       0.532118  ...      0.510818   \n",
            "concavity_mean                         0.296919  ...      0.667636   \n",
            "concave_points_mean                    0.105100  ...      0.828957   \n",
            "symmetry_mean                          0.465245  ...      0.147449   \n",
            "fractal_dimension_mean                 1.000000  ...     -0.316434   \n",
            "radius_se                             -0.065534  ...      0.706154   \n",
            "texture_se                             0.152541  ...     -0.151174   \n",
            "perimeter_se                          -0.034364  ...      0.692351   \n",
            "area_se                               -0.148288  ...      0.746668   \n",
            "smoothness_se                          0.408333  ...     -0.272145   \n",
            "compactness_se                         0.545147  ...      0.165396   \n",
            "concavity_se                           0.433233  ...      0.136336   \n",
            "concave_points_se                      0.308020  ...      0.331622   \n",
            "symmetry_se                            0.305292  ...     -0.213328   \n",
            "fractal_dimension_se                   0.707501  ...     -0.088443   \n",
            "radius_worst                          -0.316434  ...      1.000000   \n",
            "texture_worst                         -0.098094  ...      0.398677   \n",
            "perimeter_worst                       -0.269212  ...      0.993777   \n",
            "area_worst                            -0.285851  ...      0.983337   \n",
            "smoothness_worst                       0.489636  ...      0.201109   \n",
            "compactness_worst                      0.417941  ...      0.462909   \n",
            "concavity_worst                        0.314042  ...      0.551064   \n",
            "concave_points_worst                   0.119558  ...      0.783900   \n",
            "symmetry_worst                         0.293412  ...      0.229851   \n",
            "fractal_dimension_worst                0.757386  ...      0.061858   \n",
            "\n",
            "                         texture_worst  perimeter_worst  area_worst  \\\n",
            "radius_mean                   0.336540         0.965102    0.939408   \n",
            "texture_mean                  0.912877         0.385512    0.374469   \n",
            "perimeter_mean                0.341660         0.970619    0.940436   \n",
            "area_mean                     0.326594         0.957954    0.958023   \n",
            "smoothness_mean               0.019334         0.191065    0.162593   \n",
            "compactness_mean              0.249242         0.566970    0.486018   \n",
            "concavity_mean                0.317309         0.709388    0.655369   \n",
            "concave_points_mean           0.323826         0.853721    0.806460   \n",
            "symmetry_mean                 0.069303         0.178258    0.144453   \n",
            "fractal_dimension_mean       -0.098094        -0.269212   -0.285851   \n",
            "radius_se                     0.212005         0.709148    0.748075   \n",
            "texture_se                    0.392763        -0.149170   -0.115021   \n",
            "perimeter_se                  0.207497         0.713240    0.731727   \n",
            "area_se                       0.214319         0.748622    0.805857   \n",
            "smoothness_se                -0.086652        -0.260972   -0.221470   \n",
            "compactness_se                0.120065         0.223062    0.165116   \n",
            "concavity_se                  0.081477         0.174410    0.142059   \n",
            "concave_points_se             0.092529         0.367197    0.319956   \n",
            "symmetry_se                  -0.141290        -0.194990   -0.183182   \n",
            "fractal_dimension_se         -0.029166        -0.051244   -0.065800   \n",
            "radius_worst                  0.398677         0.993777    0.983337   \n",
            "texture_worst                 1.000000         0.400677    0.385616   \n",
            "perimeter_worst               0.400677         1.000000    0.976707   \n",
            "area_worst                    0.385616         0.976707    1.000000   \n",
            "smoothness_worst              0.227067         0.222739    0.193921   \n",
            "compactness_worst             0.365881         0.519894    0.425026   \n",
            "concavity_worst               0.377928         0.598633    0.520956   \n",
            "concave_points_worst          0.381678         0.814590    0.743415   \n",
            "symmetry_worst                0.228866         0.256139    0.197797   \n",
            "fractal_dimension_worst       0.196013         0.110879    0.052547   \n",
            "\n",
            "                         smoothness_worst  compactness_worst  concavity_worst  \\\n",
            "radius_mean                      0.109716           0.405418         0.511649   \n",
            "texture_mean                     0.071748           0.277481         0.306076   \n",
            "perimeter_mean                   0.140087           0.448311         0.549449   \n",
            "area_mean                        0.110058           0.379763         0.496398   \n",
            "smoothness_mean                  0.807613           0.430272         0.386814   \n",
            "compactness_mean                 0.569851           0.866776         0.811794   \n",
            "concavity_mean                   0.427444           0.750519         0.891237   \n",
            "concave_points_mean              0.445726           0.666442         0.750522   \n",
            "symmetry_mean                    0.445013           0.444173         0.408083   \n",
            "fractal_dimension_mean           0.489636           0.417941         0.314042   \n",
            "radius_se                        0.126790           0.261089         0.350679   \n",
            "texture_se                      -0.045734          -0.126219        -0.085850   \n",
            "perimeter_se                     0.117165           0.321911         0.396334   \n",
            "area_se                          0.107902           0.258943         0.356540   \n",
            "smoothness_se                    0.293435          -0.092748        -0.099294   \n",
            "compactness_se                   0.209273           0.668534         0.645219   \n",
            "concavity_se                     0.136968           0.447662         0.649868   \n",
            "concave_points_se                0.209448           0.436223         0.546919   \n",
            "symmetry_se                     -0.025085          -0.043037        -0.040156   \n",
            "fractal_dimension_se             0.188455           0.385033         0.392375   \n",
            "radius_worst                     0.201109           0.462909         0.551064   \n",
            "texture_worst                    0.227067           0.365881         0.377928   \n",
            "perimeter_worst                  0.222739           0.519894         0.598633   \n",
            "area_worst                       0.193921           0.425026         0.520956   \n",
            "smoothness_worst                 1.000000           0.549489         0.486409   \n",
            "compactness_worst                0.549489           1.000000         0.884414   \n",
            "concavity_worst                  0.486409           0.884414         1.000000   \n",
            "concave_points_worst             0.524658           0.795022         0.844422   \n",
            "symmetry_worst                   0.509457           0.593425         0.516457   \n",
            "fractal_dimension_worst          0.602679           0.805362         0.680409   \n",
            "\n",
            "                         concave_points_worst  symmetry_worst  \\\n",
            "radius_mean                          0.745837        0.149399   \n",
            "texture_mean                         0.310319        0.094204   \n",
            "perimeter_mean                       0.773357        0.173974   \n",
            "area_mean                            0.721841        0.125233   \n",
            "smoothness_mean                      0.459377        0.389012   \n",
            "compactness_mean                     0.811539        0.493126   \n",
            "concavity_mean                       0.857518        0.393069   \n",
            "concave_points_mean                  0.917853        0.370147   \n",
            "symmetry_mean                        0.404348        0.696604   \n",
            "fractal_dimension_mean               0.119558        0.293412   \n",
            "radius_se                            0.516066        0.065040   \n",
            "texture_se                          -0.150159       -0.156736   \n",
            "perimeter_se                         0.542946        0.075865   \n",
            "area_se                              0.522764        0.048158   \n",
            "smoothness_se                       -0.150254       -0.136812   \n",
            "compactness_se                       0.466129        0.229661   \n",
            "concavity_se                         0.404232        0.161395   \n",
            "concave_points_se                    0.590263        0.119081   \n",
            "symmetry_se                         -0.119926        0.315045   \n",
            "fractal_dimension_se                 0.195157        0.093635   \n",
            "radius_worst                         0.783900        0.229851   \n",
            "texture_worst                        0.381678        0.228866   \n",
            "perimeter_worst                      0.814590        0.256139   \n",
            "area_worst                           0.743415        0.197797   \n",
            "smoothness_worst                     0.524658        0.509457   \n",
            "compactness_worst                    0.795022        0.593425   \n",
            "concavity_worst                      0.844422        0.516457   \n",
            "concave_points_worst                 1.000000        0.496388   \n",
            "symmetry_worst                       0.496388        1.000000   \n",
            "fractal_dimension_worst              0.491369        0.517769   \n",
            "\n",
            "                         fractal_dimension_worst  \n",
            "radius_mean                            -0.017463  \n",
            "texture_mean                            0.092489  \n",
            "perimeter_mean                          0.026902  \n",
            "area_mean                              -0.020060  \n",
            "smoothness_mean                         0.479790  \n",
            "compactness_mean                        0.693849  \n",
            "concavity_mean                          0.513923  \n",
            "concave_points_mean                     0.356983  \n",
            "symmetry_mean                           0.431679  \n",
            "fractal_dimension_mean                  0.757386  \n",
            "radius_se                               0.013757  \n",
            "texture_se                             -0.054797  \n",
            "perimeter_se                            0.051852  \n",
            "area_se                                -0.011975  \n",
            "smoothness_se                           0.095070  \n",
            "compactness_se                          0.604441  \n",
            "concavity_se                            0.435530  \n",
            "concave_points_se                       0.299652  \n",
            "symmetry_se                             0.022456  \n",
            "fractal_dimension_se                    0.621318  \n",
            "radius_worst                            0.061858  \n",
            "texture_worst                           0.196013  \n",
            "perimeter_worst                         0.110879  \n",
            "area_worst                              0.052547  \n",
            "smoothness_worst                        0.602679  \n",
            "compactness_worst                       0.805362  \n",
            "concavity_worst                         0.680409  \n",
            "concave_points_worst                    0.491369  \n",
            "symmetry_worst                          0.517769  \n",
            "fractal_dimension_worst                 1.000000  \n",
            "\n",
            "[30 rows x 30 columns]\n",
            "{'radius_worst', 'concave_points_mean', 'perimeter_mean', 'area_worst', 'concave_points_worst', 'area_mean', 'perimeter_se', 'area_se', 'perimeter_worst', 'texture_worst'}\n",
            "10\n"
          ]
        }
      ],
      "source": [
        "corr_col = correlation(x_train, threshold = 0.9)\n",
        "print(corr_col)\n",
        "print(len(corr_col))"
      ]
    },
    {
      "cell_type": "code",
      "execution_count": 90,
      "metadata": {
        "id": "5ZGAwdDmKVq9"
      },
      "outputs": [],
      "source": [
        "x_train = x_train.drop(columns = corr_col, axis = 1)\n",
        "x_test = x_test.drop(columns = corr_col, axis = 1)"
      ]
    },
    {
      "cell_type": "code",
      "execution_count": 91,
      "metadata": {
        "id": "yf8a0HPTKbWc"
      },
      "outputs": [],
      "source": [
        "# y_train = np.reshape(y_train, (-1, 1))\n",
        "# y_test = np.reshape(y_test, (-1, 1))"
      ]
    },
    {
      "cell_type": "code",
      "execution_count": 92,
      "metadata": {
        "id": "Nxpd67ogKgFF"
      },
      "outputs": [],
      "source": [
        "scaler_x_minmax = MinMaxScaler()\n",
        "scaler_x_standard = StandardScaler()"
      ]
    },
    {
      "cell_type": "code",
      "execution_count": 93,
      "metadata": {
        "id": "1V8nAcfjKk1u"
      },
      "outputs": [],
      "source": [
        "def scaling(x1, x2, scaler_x) :\n",
        "  x1 = scaler_x.fit_transform(x1)\n",
        "  x2 = scaler_x.transform(x2)\n",
        "  return x1, x2, scaler_x"
      ]
    },
    {
      "cell_type": "code",
      "execution_count": 94,
      "metadata": {
        "id": "UHWtEveLLCjq"
      },
      "outputs": [],
      "source": [
        "x_train1, x_test1, scaler_x_minmax = scaling(x_train, x_test, scaler_x_minmax)"
      ]
    },
    {
      "cell_type": "code",
      "execution_count": 95,
      "metadata": {
        "id": "9XNmFnkvLGks"
      },
      "outputs": [],
      "source": [
        "x_train2, x_test2, scaler_x_standard = scaling(x_train, x_test, scaler_x_standard)"
      ]
    },
    {
      "cell_type": "markdown",
      "metadata": {
        "id": "okLQS3VZLM4z"
      },
      "source": [
        "#Modeling"
      ]
    },
    {
      "cell_type": "code",
      "execution_count": 96,
      "metadata": {
        "colab": {
          "base_uri": "https://localhost:8080/"
        },
        "id": "Uhog18p5LMCw",
        "outputId": "87e93c23-a7a0-457c-8e9b-dfd5656c0000"
      },
      "outputs": [
        {
          "name": "stdout",
          "output_type": "stream",
          "text": [
            "accuracy_score : 0.9473684210526315, recall_score : 0.868421052631579, precision_score : 0.9705882352941176, roc_auc_score : 0.997229916897507\n",
            "[[75  1]\n",
            " [ 5 33]]\n",
            "              precision    recall  f1-score   support\n",
            "\n",
            "           0       0.94      0.99      0.96        76\n",
            "           1       0.97      0.87      0.92        38\n",
            "\n",
            "    accuracy                           0.95       114\n",
            "   macro avg       0.95      0.93      0.94       114\n",
            "weighted avg       0.95      0.95      0.95       114\n",
            "\n"
          ]
        }
      ],
      "source": [
        "model = LogisticRegression() #LogisticRegression with MinMaxScaler()\n",
        "history = model.fit(x_train1, y_train)\n",
        "y_pred = model.predict(x_test1)\n",
        "y_pred_prob = model.predict_proba(x_test1)[:, 1]\n",
        "print(f\"accuracy_score : {accuracy_score(y_test, y_pred)}, recall_score : {recall_score(y_test, y_pred)}, precision_score : {precision_score(y_test, y_pred)}, roc_auc_score : {roc_auc_score(y_test, y_pred_prob)}\")\n",
        "print(confusion_matrix(y_test, y_pred))\n",
        "print(classification_report(y_test, y_pred))"
      ]
    },
    {
      "cell_type": "code",
      "execution_count": 97,
      "metadata": {
        "colab": {
          "base_uri": "https://localhost:8080/"
        },
        "id": "VFS0KRPuLwOK",
        "outputId": "5fd7ff58-c2b1-4f2d-b1dc-595ef029b6f0"
      },
      "outputs": [
        {
          "name": "stdout",
          "output_type": "stream",
          "text": [
            "accuracy_score : 0.9824561403508771, recall_score : 0.9736842105263158, precision_score : 0.9736842105263158, roc_auc_score : 0.9993074792243768\n",
            "[[75  1]\n",
            " [ 1 37]]\n",
            "              precision    recall  f1-score   support\n",
            "\n",
            "           0       0.99      0.99      0.99        76\n",
            "           1       0.97      0.97      0.97        38\n",
            "\n",
            "    accuracy                           0.98       114\n",
            "   macro avg       0.98      0.98      0.98       114\n",
            "weighted avg       0.98      0.98      0.98       114\n",
            "\n"
          ]
        }
      ],
      "source": [
        "model = LogisticRegression() #LogisticRegression with StandardScaler()\n",
        "history = model.fit(x_train2, y_train)\n",
        "y_pred = model.predict(x_test2)\n",
        "y_pred_prob = model.predict_proba(x_test2)[:, 1]\n",
        "print(f\"accuracy_score : {accuracy_score(y_test, y_pred)}, recall_score : {recall_score(y_test, y_pred)}, precision_score : {precision_score(y_test, y_pred)}, roc_auc_score : {roc_auc_score(y_test, y_pred_prob)}\")\n",
        "print(confusion_matrix(y_test, y_pred))\n",
        "print(classification_report(y_test, y_pred))"
      ]
    },
    {
      "cell_type": "code",
      "execution_count": 98,
      "metadata": {
        "colab": {
          "base_uri": "https://localhost:8080/"
        },
        "id": "ISVlNH8lL91r",
        "outputId": "42a0a3a6-93d3-4860-c7c6-6c1db148dc87"
      },
      "outputs": [
        {
          "name": "stdout",
          "output_type": "stream",
          "text": [
            "accuracy_score : 0.9473684210526315, recall_score : 0.868421052631579, precision_score : 0.9705882352941176, roc_auc_score : 0.9851108033240997\n",
            "[[75  1]\n",
            " [ 5 33]]\n",
            "              precision    recall  f1-score   support\n",
            "\n",
            "           0       0.94      0.99      0.96        76\n",
            "           1       0.97      0.87      0.92        38\n",
            "\n",
            "    accuracy                           0.95       114\n",
            "   macro avg       0.95      0.93      0.94       114\n",
            "weighted avg       0.95      0.95      0.95       114\n",
            "\n"
          ]
        }
      ],
      "source": [
        "model = GaussianNB() #GaussianNB with MinMaxScaler()\n",
        "history = model.fit(x_train1, y_train)\n",
        "y_pred = model.predict(x_test1)\n",
        "y_pred_prob = model.predict_proba(x_test1)[:, 1]\n",
        "print(f\"accuracy_score : {accuracy_score(y_test, y_pred)}, recall_score : {recall_score(y_test, y_pred)}, precision_score : {precision_score(y_test, y_pred)}, roc_auc_score : {roc_auc_score(y_test, y_pred_prob)}\")\n",
        "print(confusion_matrix(y_test, y_pred))\n",
        "print(classification_report(y_test, y_pred))"
      ]
    },
    {
      "cell_type": "code",
      "execution_count": 99,
      "metadata": {
        "colab": {
          "base_uri": "https://localhost:8080/"
        },
        "id": "a07wJqsvMC6Z",
        "outputId": "2d36e914-e34d-4408-88b1-a074cd947791"
      },
      "outputs": [
        {
          "name": "stdout",
          "output_type": "stream",
          "text": [
            "accuracy_score : 0.9473684210526315, recall_score : 0.868421052631579, precision_score : 0.9705882352941176, roc_auc_score : 0.9851108033240997\n",
            "[[75  1]\n",
            " [ 5 33]]\n",
            "              precision    recall  f1-score   support\n",
            "\n",
            "           0       0.94      0.99      0.96        76\n",
            "           1       0.97      0.87      0.92        38\n",
            "\n",
            "    accuracy                           0.95       114\n",
            "   macro avg       0.95      0.93      0.94       114\n",
            "weighted avg       0.95      0.95      0.95       114\n",
            "\n"
          ]
        }
      ],
      "source": [
        "model = GaussianNB() #GaussianNB with StandardScaler()\n",
        "history = model.fit(x_train2, y_train)\n",
        "y_pred = model.predict(x_test2)\n",
        "y_pred_prob = model.predict_proba(x_test2)[:, 1]\n",
        "print(f\"accuracy_score : {accuracy_score(y_test, y_pred)}, recall_score : {recall_score(y_test, y_pred)}, precision_score : {precision_score(y_test, y_pred)}, roc_auc_score : {roc_auc_score(y_test, y_pred_prob)}\")\n",
        "print(confusion_matrix(y_test, y_pred))\n",
        "print(classification_report(y_test, y_pred))"
      ]
    },
    {
      "cell_type": "code",
      "execution_count": 101,
      "metadata": {},
      "outputs": [
        {
          "data": {
            "text/plain": [
              "[<matplotlib.lines.Line2D at 0x25168574430>]"
            ]
          },
          "execution_count": 101,
          "metadata": {},
          "output_type": "execute_result"
        },
        {
          "data": {
            "image/png": "[encoded data removed]",
            "text/plain": [
              "<Figure size 800x600 with 1 Axes>"
            ]
          },
          "metadata": {},
          "output_type": "display_data"
        }
      ],
      "source": [
        "plt.figure(figsize=(8, 6))\n",
        "plt.scatter(y_test, y_pred, color='blue', label='Data Points')\n",
        "plt.plot([y.min(), y.max()], [y.min(), y.max()], color='red', lw=2, label=\"Ideal Line (y = x)\")"
      ]
    }
  ],
  "metadata": {
    "colab": {
      "provenance": []
    },
    "kernelspec": {
      "display_name": "Python 3",
      "name": "python3"
    },
    "language_info": {
      "codemirror_mode": {
        "name": "ipython",
        "version": 3
      },
      "file_extension": ".py",
      "mimetype": "text/x-python",
      "name": "python",
      "nbconvert_exporter": "python",
      "pygments_lexer": "ipython3",
      "version": "3.10.6"
    }
  },
  "nbformat": 4,
  "nbformat_minor": 0
}
