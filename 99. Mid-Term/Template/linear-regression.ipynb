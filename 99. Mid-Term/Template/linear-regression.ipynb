{
 "cells": [
  {
   "cell_type": "code",
   "execution_count": 16,
   "metadata": {},
   "outputs": [],
   "source": [
    "import pandas as pd\n",
    "from sklearn.model_selection import train_test_split\n",
    "from sklearn.linear_model import LinearRegression\n",
    "from sklearn.metrics import mean_squared_error, r2_score\n",
    "\n",
    "# Load dataset\n",
    "data = pd.read_csv('../Responsi-BSLC/Calories.csv')\n"
   ]
  },
  {
   "cell_type": "code",
   "execution_count": 17,
   "metadata": {},
   "outputs": [
    {
     "data": {
      "text/html": [
       "<div>\n",
       "<style scoped>\n",
       "    .dataframe tbody tr th:only-of-type {\n",
       "        vertical-align: middle;\n",
       "    }\n",
       "\n",
       "    .dataframe tbody tr th {\n",
       "        vertical-align: top;\n",
       "    }\n",
       "\n",
       "    .dataframe thead th {\n",
       "        text-align: right;\n",
       "    }\n",
       "</style>\n",
       "<table border=\"1\" class=\"dataframe\">\n",
       "  <thead>\n",
       "    <tr style=\"text-align: right;\">\n",
       "      <th></th>\n",
       "      <th>User_ID</th>\n",
       "      <th>Calories</th>\n",
       "      <th>Gender</th>\n",
       "      <th>Age</th>\n",
       "      <th>Height</th>\n",
       "      <th>Weight</th>\n",
       "      <th>Duration</th>\n",
       "      <th>Heart_Rate</th>\n",
       "      <th>Body_Temp</th>\n",
       "    </tr>\n",
       "  </thead>\n",
       "  <tbody>\n",
       "    <tr>\n",
       "      <th>0</th>\n",
       "      <td>14733363</td>\n",
       "      <td>231.0</td>\n",
       "      <td>male</td>\n",
       "      <td>68</td>\n",
       "      <td>190.0</td>\n",
       "      <td>94.0</td>\n",
       "      <td>29.0</td>\n",
       "      <td>105.0</td>\n",
       "      <td>40.8</td>\n",
       "    </tr>\n",
       "    <tr>\n",
       "      <th>1</th>\n",
       "      <td>14861698</td>\n",
       "      <td>66.0</td>\n",
       "      <td>female</td>\n",
       "      <td>20</td>\n",
       "      <td>166.0</td>\n",
       "      <td>60.0</td>\n",
       "      <td>14.0</td>\n",
       "      <td>94.0</td>\n",
       "      <td>40.3</td>\n",
       "    </tr>\n",
       "    <tr>\n",
       "      <th>2</th>\n",
       "      <td>11179863</td>\n",
       "      <td>26.0</td>\n",
       "      <td>male</td>\n",
       "      <td>69</td>\n",
       "      <td>179.0</td>\n",
       "      <td>79.0</td>\n",
       "      <td>5.0</td>\n",
       "      <td>88.0</td>\n",
       "      <td>38.7</td>\n",
       "    </tr>\n",
       "    <tr>\n",
       "      <th>3</th>\n",
       "      <td>16180408</td>\n",
       "      <td>71.0</td>\n",
       "      <td>female</td>\n",
       "      <td>34</td>\n",
       "      <td>179.0</td>\n",
       "      <td>71.0</td>\n",
       "      <td>13.0</td>\n",
       "      <td>100.0</td>\n",
       "      <td>40.5</td>\n",
       "    </tr>\n",
       "    <tr>\n",
       "      <th>4</th>\n",
       "      <td>17771927</td>\n",
       "      <td>35.0</td>\n",
       "      <td>female</td>\n",
       "      <td>27</td>\n",
       "      <td>154.0</td>\n",
       "      <td>58.0</td>\n",
       "      <td>10.0</td>\n",
       "      <td>81.0</td>\n",
       "      <td>39.8</td>\n",
       "    </tr>\n",
       "    <tr>\n",
       "      <th>...</th>\n",
       "      <td>...</td>\n",
       "      <td>...</td>\n",
       "      <td>...</td>\n",
       "      <td>...</td>\n",
       "      <td>...</td>\n",
       "      <td>...</td>\n",
       "      <td>...</td>\n",
       "      <td>...</td>\n",
       "      <td>...</td>\n",
       "    </tr>\n",
       "    <tr>\n",
       "      <th>14995</th>\n",
       "      <td>15644082</td>\n",
       "      <td>45.0</td>\n",
       "      <td>female</td>\n",
       "      <td>20</td>\n",
       "      <td>193.0</td>\n",
       "      <td>86.0</td>\n",
       "      <td>11.0</td>\n",
       "      <td>92.0</td>\n",
       "      <td>40.4</td>\n",
       "    </tr>\n",
       "    <tr>\n",
       "      <th>14996</th>\n",
       "      <td>17212577</td>\n",
       "      <td>23.0</td>\n",
       "      <td>female</td>\n",
       "      <td>27</td>\n",
       "      <td>165.0</td>\n",
       "      <td>65.0</td>\n",
       "      <td>6.0</td>\n",
       "      <td>85.0</td>\n",
       "      <td>39.2</td>\n",
       "    </tr>\n",
       "    <tr>\n",
       "      <th>14997</th>\n",
       "      <td>17271188</td>\n",
       "      <td>75.0</td>\n",
       "      <td>female</td>\n",
       "      <td>43</td>\n",
       "      <td>159.0</td>\n",
       "      <td>58.0</td>\n",
       "      <td>16.0</td>\n",
       "      <td>90.0</td>\n",
       "      <td>40.1</td>\n",
       "    </tr>\n",
       "    <tr>\n",
       "      <th>14998</th>\n",
       "      <td>18643037</td>\n",
       "      <td>11.0</td>\n",
       "      <td>male</td>\n",
       "      <td>78</td>\n",
       "      <td>193.0</td>\n",
       "      <td>97.0</td>\n",
       "      <td>2.0</td>\n",
       "      <td>84.0</td>\n",
       "      <td>38.3</td>\n",
       "    </tr>\n",
       "    <tr>\n",
       "      <th>14999</th>\n",
       "      <td>11751526</td>\n",
       "      <td>98.0</td>\n",
       "      <td>male</td>\n",
       "      <td>63</td>\n",
       "      <td>173.0</td>\n",
       "      <td>79.0</td>\n",
       "      <td>18.0</td>\n",
       "      <td>92.0</td>\n",
       "      <td>40.5</td>\n",
       "    </tr>\n",
       "  </tbody>\n",
       "</table>\n",
       "<p>15000 rows × 9 columns</p>\n",
       "</div>"
      ],
      "text/plain": [
       "        User_ID  Calories  Gender  Age  Height  Weight  Duration  Heart_Rate  \\\n",
       "0      14733363     231.0    male   68   190.0    94.0      29.0       105.0   \n",
       "1      14861698      66.0  female   20   166.0    60.0      14.0        94.0   \n",
       "2      11179863      26.0    male   69   179.0    79.0       5.0        88.0   \n",
       "3      16180408      71.0  female   34   179.0    71.0      13.0       100.0   \n",
       "4      17771927      35.0  female   27   154.0    58.0      10.0        81.0   \n",
       "...         ...       ...     ...  ...     ...     ...       ...         ...   \n",
       "14995  15644082      45.0  female   20   193.0    86.0      11.0        92.0   \n",
       "14996  17212577      23.0  female   27   165.0    65.0       6.0        85.0   \n",
       "14997  17271188      75.0  female   43   159.0    58.0      16.0        90.0   \n",
       "14998  18643037      11.0    male   78   193.0    97.0       2.0        84.0   \n",
       "14999  11751526      98.0    male   63   173.0    79.0      18.0        92.0   \n",
       "\n",
       "       Body_Temp  \n",
       "0           40.8  \n",
       "1           40.3  \n",
       "2           38.7  \n",
       "3           40.5  \n",
       "4           39.8  \n",
       "...          ...  \n",
       "14995       40.4  \n",
       "14996       39.2  \n",
       "14997       40.1  \n",
       "14998       38.3  \n",
       "14999       40.5  \n",
       "\n",
       "[15000 rows x 9 columns]"
      ]
     },
     "execution_count": 17,
     "metadata": {},
     "output_type": "execute_result"
    }
   ],
   "source": [
    "data"
   ]
  },
  {
   "cell_type": "code",
   "execution_count": 18,
   "metadata": {},
   "outputs": [],
   "source": [
    "# Memisahkan fitur dan target\n",
    "X = data[['Age', 'Height', \"Weight\"]]  # Fitur\n",
    "y = data['Calories']  # Target\n",
    "\n",
    "# Membagi data menjadi training dan testing (80% training, 20% testing)\n",
    "X_train, X_test, y_train, y_test = train_test_split(X, y, test_size=0.2, random_state=42)"
   ]
  },
  {
   "cell_type": "code",
   "execution_count": 19,
   "metadata": {},
   "outputs": [
    {
     "name": "stdout",
     "output_type": "stream",
     "text": [
      "Intercept: 99.14226929379035\n",
      "Koefisien: [ 0.53012156 -0.37038593  0.42592156]\n"
     ]
    }
   ],
   "source": [
    "# Membuat model linear regression\n",
    "model = LinearRegression()\n",
    "\n",
    "# Melatih model dengan data training\n",
    "model.fit(X_train, y_train)\n",
    "\n",
    "# Menampilkan koefisien (w₀, w₁, ..., wₖ) dan intercept\n",
    "print(f'Intercept: {model.intercept_}')\n",
    "print(f'Koefisien: {model.coef_}')\n"
   ]
  },
  {
   "cell_type": "code",
   "execution_count": 20,
   "metadata": {},
   "outputs": [
    {
     "name": "stdout",
     "output_type": "stream",
     "text": [
      "Mean Squared Error: 3938.8807686297346\n",
      "R²: 0.024012813656971388\n"
     ]
    }
   ],
   "source": [
    "# Memprediksi nilai untuk data testing\n",
    "y_pred = model.predict(X_test)\n",
    "\n",
    "# Menghitung MSE dan R²\n",
    "mse = mean_squared_error(y_test, y_pred)\n",
    "r2 = r2_score(y_test, y_pred)\n",
    "\n",
    "print(f'Mean Squared Error: {mse}')\n",
    "print(f'R²: {r2}')\n"
   ]
  },
  {
   "cell_type": "code",
   "execution_count": 32,
   "metadata": {},
   "outputs": [
    {
     "data": {
      "text/plain": [
       "array([88.10622733, 79.34559368, 97.4973562 , ..., 84.80248937,\n",
       "       75.02216594, 81.66298767])"
      ]
     },
     "execution_count": 32,
     "metadata": {},
     "output_type": "execute_result"
    }
   ],
   "source": [
    "y_pred"
   ]
  },
  {
   "cell_type": "markdown",
   "metadata": {},
   "source": [
    "Linear Regression Formula:\n",
    "<br>\n",
    "y = Sigma(ax) + b\n",
    "<br>\n",
    "y = 0.53 x age + -0.37 x height + 0.42 x weight + 99.14"
   ]
  },
  {
   "cell_type": "code",
   "execution_count": 21,
   "metadata": {},
   "outputs": [
    {
     "name": "stdout",
     "output_type": "stream",
     "text": [
      "104.36\n"
     ]
    }
   ],
   "source": [
    "print (68*0.53 + 190.0*-0.37 + 0.42 * 94.0 + 99.14)"
   ]
  },
  {
   "cell_type": "code",
   "execution_count": 26,
   "metadata": {},
   "outputs": [
    {
     "data": {
      "text/html": [
       "<div>\n",
       "<style scoped>\n",
       "    .dataframe tbody tr th:only-of-type {\n",
       "        vertical-align: middle;\n",
       "    }\n",
       "\n",
       "    .dataframe tbody tr th {\n",
       "        vertical-align: top;\n",
       "    }\n",
       "\n",
       "    .dataframe thead th {\n",
       "        text-align: right;\n",
       "    }\n",
       "</style>\n",
       "<table border=\"1\" class=\"dataframe\">\n",
       "  <thead>\n",
       "    <tr style=\"text-align: right;\">\n",
       "      <th></th>\n",
       "      <th>User_ID</th>\n",
       "      <th>Calories</th>\n",
       "      <th>Gender</th>\n",
       "      <th>Age</th>\n",
       "      <th>Height</th>\n",
       "      <th>Weight</th>\n",
       "      <th>Duration</th>\n",
       "      <th>Heart_Rate</th>\n",
       "      <th>Body_Temp</th>\n",
       "    </tr>\n",
       "  </thead>\n",
       "  <tbody>\n",
       "    <tr>\n",
       "      <th>0</th>\n",
       "      <td>14733363</td>\n",
       "      <td>231.0</td>\n",
       "      <td>male</td>\n",
       "      <td>68</td>\n",
       "      <td>190.0</td>\n",
       "      <td>94.0</td>\n",
       "      <td>29.0</td>\n",
       "      <td>105.0</td>\n",
       "      <td>40.8</td>\n",
       "    </tr>\n",
       "  </tbody>\n",
       "</table>\n",
       "</div>"
      ],
      "text/plain": [
       "    User_ID  Calories Gender  Age  Height  Weight  Duration  Heart_Rate  \\\n",
       "0  14733363     231.0   male   68   190.0    94.0      29.0       105.0   \n",
       "\n",
       "   Body_Temp  \n",
       "0       40.8  "
      ]
     },
     "execution_count": 26,
     "metadata": {},
     "output_type": "execute_result"
    }
   ],
   "source": [
    "data[:1]"
   ]
  },
  {
   "cell_type": "code",
   "execution_count": null,
   "metadata": {},
   "outputs": [
    {
     "name": "stdout",
     "output_type": "stream",
     "text": [
      "Intercept: 99.14226929379035\n",
      "Koefisien: [ 0.53012156 -0.37038593  0.42592156]\n",
      "Rumus Linear Regression: Calories =  99.14226929379035 + (0.5301215572496057) * Age + (-0.37038593104369627) * Height + (0.4259215643126058) * Weight \n",
      "\n",
      "Mean Squared Error: 3938.8807686297346\n",
      "R²: 0.024012813656971388\n",
      "       Actual Calories  Predicted Calories\n",
      "11499            173.0           88.106227\n",
      "6475             189.0           79.345594\n",
      "13167             53.0           97.497356\n",
      "862              161.0           88.193304\n",
      "5970             226.0           99.861164\n",
      "...                ...                 ...\n",
      "6216             186.0           98.106443\n",
      "3585              53.0          104.838288\n",
      "10023            120.0           84.802489\n",
      "14044             20.0           75.022166\n",
      "12965            214.0           81.662988\n",
      "\n",
      "[3000 rows x 2 columns]\n",
      "Prediksi Calories untuk data baru: [77.39227979]\n",
      "Prediksi Calories untuk data baru: 77.39227979426605\n"
     ]
    }
   ],
   "source": [
    "from sklearn.linear_model import LinearRegression\n",
    "from sklearn.model_selection import train_test_split\n",
    "from sklearn.metrics import mean_squared_error, r2_score\n",
    "import pandas as pd\n",
    "\n",
    "# Misalkan 'data' adalah dataset kamu\n",
    "# Memisahkan fitur dan target\n",
    "X = data[['Age', 'Height', 'Weight']]  # Fitur\n",
    "y = data['Calories']  # Target\n",
    "\n",
    "# Membagi data menjadi training dan testing (80% training, 20% testing)\n",
    "X_train, X_test, y_train, y_test = train_test_split(X, y, test_size=0.2, random_state=42)\n",
    "\n",
    "# Membuat model Linear Regression\n",
    "model = LinearRegression()\n",
    "\n",
    "# Melatih model dengan data training\n",
    "model.fit(X_train, y_train)\n",
    "\n",
    "# Menampilkan koefisien (w₀, w₁, ..., wₖ) dan intercept\n",
    "print(f'Intercept: {model.intercept_}')\n",
    "print(f'Koefisien: {model.coef_}')\n",
    "\n",
    "# Menampilkan rumus Linear Regression\n",
    "features = X.columns\n",
    "print(\"Rumus Linear Regression: Calories = \", model.intercept_, end=\" \")\n",
    "for coef, feature in zip(model.coef_, features):\n",
    "    print(f\"+ ({coef}) * {feature} \", end=\"\")\n",
    "\n",
    "print(\"\\n\")\n",
    "\n",
    "# Memprediksi nilai untuk data testing\n",
    "y_pred = model.predict(X_test)\n",
    "\n",
    "# Menghitung MSE dan R²\n",
    "mse = mean_squared_error(y_test, y_pred)\n",
    "r2 = r2_score(y_test, y_pred)\n",
    "\n",
    "print(f'Mean Squared Error: {mse}')\n",
    "print(f'R²: {r2}')\n",
    "\n",
    "# Menampilkan nilai aktual dan prediksi untuk data testing\n",
    "comparison_df = pd.DataFrame({'Actual Calories': y_test, 'Predicted Calories': y_pred})\n",
    "print(comparison_df)\n",
    "\n",
    "# Prediksi untuk data baru (contoh: Age = 25, Height = 175, Weight = 70)\n",
    "new_data = pd.DataFrame({'Age': [25], 'Height': [175], 'Weight': [70]})\n",
    "new_prediction = model.predict(new_data)\n",
    "\n",
    "print(f\"Prediksi Calories untuk data baru: {new_prediction[0]}\")\n",
    "print(f\"Prediksi Calories untuk data baru: {new_prediction[0]}\")\n"
   ]
  }
 ],
 "metadata": {
  "kernelspec": {
   "display_name": "Python 3",
   "language": "python",
   "name": "python3"
  },
  "language_info": {
   "codemirror_mode": {
    "name": "ipython",
    "version": 3
   },
   "file_extension": ".py",
   "mimetype": "text/x-python",
   "name": "python",
   "nbconvert_exporter": "python",
   "pygments_lexer": "ipython3",
   "version": "3.10.6"
  }
 },
 "nbformat": 4,
 "nbformat_minor": 2
}
