{
 "cells": [
  {
   "cell_type": "markdown",
   "id": "2cd03987",
   "metadata": {},
   "source": [
    "# Import Libary"
   ]
  },
  {
   "cell_type": "code",
   "execution_count": null,
   "id": "36214e2f",
   "metadata": {},
   "outputs": [],
   "source": [
    "import numpy as np\n",
    "import pandas as pd\n",
    "import matplotlib.pyplot as plt\n",
    "import seaborn as sns\n",
    "from sklearn.model_selection import train_test_split\n",
    "from sklearn.preprocessing import LabelEncoder, StandardScaler, MinMaxScaler\n",
    "from sklearn.metrics import mean_squared_error, root_mean_squared_error, f1_score, roc_auc_score, accuracy_score, precision_score, recall_score, r2_score, confusion_matrix, classification_report\n",
    "from sklearn.linear_model import LinearRegression, LogisticRegression\n",
    "from sklearn.naive_bayes import GaussianNB"
   ]
  },
  {
   "cell_type": "markdown",
   "id": "e990a692",
   "metadata": {},
   "source": [
    "# Read Data"
   ]
  },
  {
   "cell_type": "code",
   "execution_count": null,
   "id": "d1814201",
   "metadata": {},
   "outputs": [],
   "source": [
    "data = pd.read_csv(\"Data/train.csv\")\n",
    "data"
   ]
  },
  {
   "cell_type": "markdown",
   "id": "0a94865b",
   "metadata": {},
   "source": [
    "# Simple Preprocessing"
   ]
  },
  {
   "cell_type": "code",
   "execution_count": null,
   "id": "d538f774",
   "metadata": {},
   "outputs": [],
   "source": [
    "data_out = data.pop(\"Survived\")\n",
    "data[\"Survived\"] = data_out\n",
    "data"
   ]
  },
  {
   "cell_type": "code",
   "execution_count": null,
   "id": "71201fba",
   "metadata": {},
   "outputs": [],
   "source": [
    "data = data.drop(columns=[\"PassengerId\", \"Name\", \"Ticket\"])"
   ]
  },
  {
   "cell_type": "code",
   "execution_count": null,
   "id": "defc28a2",
   "metadata": {},
   "outputs": [],
   "source": [
    "data"
   ]
  },
  {
   "cell_type": "markdown",
   "id": "0c3b9558",
   "metadata": {},
   "source": [
    "# EDA"
   ]
  },
  {
   "cell_type": "code",
   "execution_count": null,
   "id": "c208ab5b",
   "metadata": {},
   "outputs": [],
   "source": [
    "data.columns"
   ]
  },
  {
   "cell_type": "code",
   "execution_count": null,
   "id": "b5e9e752",
   "metadata": {},
   "outputs": [],
   "source": [
    "data.head()"
   ]
  },
  {
   "cell_type": "code",
   "execution_count": null,
   "id": "9ebe115d",
   "metadata": {},
   "outputs": [],
   "source": [
    "data.describe()"
   ]
  },
  {
   "cell_type": "code",
   "execution_count": null,
   "id": "461c275e",
   "metadata": {},
   "outputs": [],
   "source": [
    "data.info()"
   ]
  },
  {
   "cell_type": "code",
   "execution_count": null,
   "id": "bc51ed99",
   "metadata": {},
   "outputs": [],
   "source": [
    "data.shape"
   ]
  },
  {
   "cell_type": "code",
   "execution_count": null,
   "id": "8ed99543",
   "metadata": {},
   "outputs": [],
   "source": [
    "data.dtypes"
   ]
  },
  {
   "cell_type": "code",
   "execution_count": null,
   "id": "5b633e04",
   "metadata": {},
   "outputs": [],
   "source": [
    "for column in data.columns[:-1]:\n",
    "    if (data[column].dtype != \"object\"):\n",
    "        sns.histplot(data=data, x=column)\n",
    "        plt.show()"
   ]
  },
  {
   "cell_type": "code",
   "execution_count": null,
   "id": "b35f88a9",
   "metadata": {},
   "outputs": [],
   "source": [
    "for column in data.columns[:-1]:\n",
    "    if (data[column].dtype != \"object\"):\n",
    "        sns.boxplot(data=data, x=column)\n",
    "        plt.show()"
   ]
  },
  {
   "cell_type": "code",
   "execution_count": null,
   "id": "adaca041",
   "metadata": {},
   "outputs": [],
   "source": [
    "for column in data.columns[:-1]:\n",
    "    if (data[column].dtype != \"object\"):\n",
    "        sns.scatterplot(data=data, x=column, y=\"Survived\")\n",
    "        plt.show()"
   ]
  },
  {
   "cell_type": "code",
   "execution_count": null,
   "id": "482ec572",
   "metadata": {},
   "outputs": [],
   "source": [
    "for column in data.columns[:-1]:\n",
    "    if (data[column].dtype != \"object\"):\n",
    "        print (f\"Column {column}, Skewness: {data[column].skew()}, Kurtosis: {data[column].kurt()}\")"
   ]
  },
  {
   "cell_type": "markdown",
   "id": "969b2a93",
   "metadata": {},
   "source": [
    "# Data Preprocessing"
   ]
  },
  {
   "cell_type": "code",
   "execution_count": null,
   "id": "61ee88b4",
   "metadata": {},
   "outputs": [],
   "source": [
    "data.isna().sum()"
   ]
  },
  {
   "cell_type": "code",
   "execution_count": null,
   "id": "1d8a3807",
   "metadata": {},
   "outputs": [],
   "source": [
    "missing_value_percentage = data.isna().sum() / len(data)\n",
    "missing_value_percentage"
   ]
  },
  {
   "cell_type": "code",
   "execution_count": null,
   "id": "cdc0819f",
   "metadata": {},
   "outputs": [],
   "source": [
    "for key, value in missing_value_percentage.items():\n",
    "    if (value > 0.5):\n",
    "        data = data.drop(columns=key)"
   ]
  },
  {
   "cell_type": "code",
   "execution_count": null,
   "id": "e7b591e9",
   "metadata": {},
   "outputs": [],
   "source": [
    "data"
   ]
  },
  {
   "cell_type": "code",
   "execution_count": null,
   "id": "d85cc28d",
   "metadata": {},
   "outputs": [],
   "source": [
    "for column in data.columns[:-1]:\n",
    "    if (data[column].isna().any()):\n",
    "        if (data[column].dtypes == \"object\"):\n",
    "            data[column] = data[column].fillna(data[column].mode()[0])\n",
    "        else:\n",
    "            data[column] = data[column].fillna(data[column].median())"
   ]
  },
  {
   "cell_type": "code",
   "execution_count": null,
   "id": "e7d3cf84",
   "metadata": {},
   "outputs": [],
   "source": [
    "data.head()"
   ]
  },
  {
   "cell_type": "code",
   "execution_count": null,
   "id": "8377cdda",
   "metadata": {},
   "outputs": [],
   "source": [
    "data.isna().sum()"
   ]
  },
  {
   "cell_type": "code",
   "execution_count": null,
   "id": "fc081db0",
   "metadata": {},
   "outputs": [],
   "source": [
    "data.dtypes"
   ]
  },
  {
   "cell_type": "code",
   "execution_count": null,
   "id": "9c439f01",
   "metadata": {},
   "outputs": [],
   "source": [
    "encoder = LabelEncoder()\n",
    "encoded = {}\n",
    "\n",
    "for column in data.columns[:-1]:\n",
    "    if (data[column].dtype == \"object\"):\n",
    "        data[column] = encoder.fit_transform(data[column])\n",
    "        encoded[column] = {i:class_name for i, class_name in enumerate(encoder.classes_)}"
   ]
  },
  {
   "cell_type": "code",
   "execution_count": null,
   "id": "571a4ffd",
   "metadata": {},
   "outputs": [],
   "source": [
    "encoded"
   ]
  },
  {
   "cell_type": "code",
   "execution_count": null,
   "id": "8cb44be8",
   "metadata": {},
   "outputs": [],
   "source": [
    "for key, value in encoded.items():\n",
    "    print (f\"Key: {key}, Value: {value}\")"
   ]
  },
  {
   "cell_type": "markdown",
   "id": "f1a4cb32",
   "metadata": {},
   "source": [
    "# Modelling"
   ]
  },
  {
   "cell_type": "markdown",
   "id": "4bfffe66",
   "metadata": {},
   "source": [
    "### Pisahkan data independent dan data dependent"
   ]
  },
  {
   "cell_type": "code",
   "execution_count": null,
   "id": "9f12c001",
   "metadata": {},
   "outputs": [],
   "source": [
    "x = data[data.columns[:-1]]\n",
    "y = data[data.columns[-1]]"
   ]
  },
  {
   "cell_type": "code",
   "execution_count": null,
   "id": "2565ba15",
   "metadata": {},
   "outputs": [],
   "source": [
    "x.head()"
   ]
  },
  {
   "cell_type": "code",
   "execution_count": null,
   "id": "26c3b868",
   "metadata": {},
   "outputs": [],
   "source": [
    "y.head()"
   ]
  },
  {
   "cell_type": "markdown",
   "id": "5de00ae5",
   "metadata": {},
   "source": [
    "### Splitting Data"
   ]
  },
  {
   "cell_type": "code",
   "execution_count": null,
   "id": "aeaf282e",
   "metadata": {},
   "outputs": [],
   "source": [
    "x_train, x_test, y_train, y_test = train_test_split(x, y, test_size=0.2)"
   ]
  },
  {
   "cell_type": "markdown",
   "id": "468c57f6",
   "metadata": {},
   "source": [
    "### Buat Model"
   ]
  },
  {
   "cell_type": "code",
   "execution_count": null,
   "id": "b4e7c6b4",
   "metadata": {},
   "outputs": [],
   "source": [
    "model = LinearRegression()\n",
    "model.fit(X=x_train, y=y_train)"
   ]
  },
  {
   "cell_type": "code",
   "execution_count": null,
   "id": "b94338b4",
   "metadata": {},
   "outputs": [],
   "source": [
    "y_pred = model.predict(x_test)\n",
    "y_pred"
   ]
  },
  {
   "cell_type": "code",
   "execution_count": null,
   "id": "eb58baa0",
   "metadata": {},
   "outputs": [],
   "source": [
    "koefisien = model.coef_\n",
    "intercept = model.intercept_\n",
    "\n",
    "print (f\"Linear Regression Model: {intercept} + {koefisien}x\")"
   ]
  },
  {
   "cell_type": "markdown",
   "id": "69cb5c78",
   "metadata": {},
   "source": [
    "# Evaluation"
   ]
  },
  {
   "cell_type": "code",
   "execution_count": null,
   "id": "6c8e62ff",
   "metadata": {},
   "outputs": [],
   "source": [
    "mse = mean_squared_error(y_test, y_pred)\n",
    "r2 = r2_score(y_test, y_pred)\n",
    "rmse = root_mean_squared_error(y_test, y_pred)\n",
    "\n",
    "print (f\"MSE: {mse}\")\n",
    "print (f\"RMSE: {rmse}\")\n",
    "print (f\"R2 Score: {r2}\")"
   ]
  },
  {
   "cell_type": "code",
   "execution_count": null,
   "id": "96c858eb",
   "metadata": {},
   "outputs": [],
   "source": [
    "y_train_pred = model.predict(x_train)"
   ]
  },
  {
   "cell_type": "code",
   "execution_count": null,
   "id": "1faa9be0",
   "metadata": {},
   "outputs": [],
   "source": [
    "train_mse = mean_squared_error(y_train_pred, y_train)\n",
    "print (f\"MSE: {train_mse}\")"
   ]
  },
  {
   "cell_type": "code",
   "execution_count": null,
   "id": "10b01a19",
   "metadata": {},
   "outputs": [],
   "source": [
    "# Evaluasi apakah model mengalami overfitting\n",
    "if train_mse < mse:\n",
    "    print(\"\\nModel mengalami overfitting, karena kesalahan pada data training lebih rendah dibandingkan pada data testing.\")\n",
    "else:\n",
    "    print(\"\\nModel tidak mengalami overfitting.\")"
   ]
  },
  {
   "cell_type": "markdown",
   "id": "ca59d838",
   "metadata": {},
   "source": [
    "# Regularization"
   ]
  },
  {
   "cell_type": "markdown",
   "id": "385b462f",
   "metadata": {},
   "source": [
    "Intinya digunakan untuk mengurangi overfitting"
   ]
  },
  {
   "cell_type": "code",
   "execution_count": null,
   "id": "0bd17fae",
   "metadata": {},
   "outputs": [],
   "source": [
    "from sklearn.linear_model import Lasso, Ridge"
   ]
  },
  {
   "cell_type": "code",
   "execution_count": null,
   "id": "c951a1d1",
   "metadata": {},
   "outputs": [],
   "source": [
    "rigde_model = Ridge(alpha=0.2)\n",
    "lasso_model = Lasso(alpha=0.2)"
   ]
  },
  {
   "cell_type": "code",
   "execution_count": null,
   "id": "096afc6e",
   "metadata": {},
   "outputs": [],
   "source": [
    "x_train, x_test, y_train, y_test = train_test_split(x, y, test_size=0.2)"
   ]
  },
  {
   "cell_type": "code",
   "execution_count": null,
   "id": "ff67aecd",
   "metadata": {},
   "outputs": [],
   "source": [
    "rigde_model.fit(X=x_train, y=y_train)\n",
    "lasso_model.fit(X=x_train, y=y_train)"
   ]
  },
  {
   "cell_type": "code",
   "execution_count": null,
   "id": "3fdd54df",
   "metadata": {},
   "outputs": [],
   "source": [
    "ridgePred = rigde_model.predict(x_test)\n",
    "lassoPred = lasso_model.predict(x_test)"
   ]
  },
  {
   "cell_type": "code",
   "execution_count": null,
   "id": "177000e7",
   "metadata": {},
   "outputs": [],
   "source": [
    "# Ridge\n",
    "\n",
    "mse = mean_squared_error(y_test, ridgePred)\n",
    "print (f\"MSE: {mse}\")\n",
    "\n",
    "r2 = r2_score(ridgePred, y_test)\n",
    "print (f\"R2 Score: {r2}\")\n",
    "\n",
    "a = root_mean_squared_error(ridgePred, y_test)\n",
    "print (f\"RMSE: {a}\")"
   ]
  },
  {
   "cell_type": "code",
   "execution_count": null,
   "id": "1206ce20",
   "metadata": {},
   "outputs": [],
   "source": [
    "# Evaluasi apakah model mengalami overfitting\n",
    "if train_mse < mse:\n",
    "    print(\"\\nModel mengalami overfitting, karena kesalahan pada data training lebih rendah dibandingkan pada data testing.\")\n",
    "else:\n",
    "    print(\"\\nModel tidak mengalami overfitting.\")"
   ]
  },
  {
   "cell_type": "code",
   "execution_count": null,
   "id": "8f4a0463",
   "metadata": {},
   "outputs": [],
   "source": [
    "# Lasso\n",
    "\n",
    "mse = mean_squared_error(y_test, lassoPred)\n",
    "print (f\"MSE: {mse}\")\n",
    "\n",
    "r2 = r2_score(lassoPred, y_test)\n",
    "print (f\"R2 Score: {r2}\")\n",
    "\n",
    "a = root_mean_squared_error(lassoPred, y_test)\n",
    "print (f\"RMSE: {a}\")"
   ]
  },
  {
   "cell_type": "code",
   "execution_count": null,
   "id": "2dc31c3d",
   "metadata": {},
   "outputs": [],
   "source": [
    "# Evaluasi apakah model mengalami overfitting\n",
    "if train_mse < mse:\n",
    "    print(\"\\nModel mengalami overfitting, karena kesalahan pada data training lebih rendah dibandingkan pada data testing.\")\n",
    "else:\n",
    "    print(\"\\nModel tidak mengalami overfitting.\")"
   ]
  },
  {
   "cell_type": "markdown",
   "id": "a90002ea",
   "metadata": {},
   "source": [
    "Terlihat hasilnya justru sekarang sepertinya malah jadi underfitting, karena MSE dari test tanpa regularization lebih kecil dibandingkan menggunakan regularization"
   ]
  },
  {
   "cell_type": "markdown",
   "id": "4b170b73",
   "metadata": {},
   "source": [
    "# Classification"
   ]
  },
  {
   "cell_type": "markdown",
   "id": "9b68b644",
   "metadata": {},
   "source": [
    "## Logistic Regression"
   ]
  },
  {
   "cell_type": "code",
   "execution_count": null,
   "id": "a9d25734",
   "metadata": {},
   "outputs": [],
   "source": [
    "model2 = LogisticRegression()\n",
    "model2.fit(X=x_train, y=y_train)"
   ]
  },
  {
   "cell_type": "code",
   "execution_count": null,
   "id": "7abe06ec",
   "metadata": {},
   "outputs": [],
   "source": [
    "y_pred2 = model2.predict(x_test)\n",
    "y_pred2"
   ]
  },
  {
   "cell_type": "code",
   "execution_count": null,
   "id": "ee773e0b",
   "metadata": {},
   "outputs": [],
   "source": [
    "mse = mean_squared_error(y_test, y_pred2)\n",
    "r2 = r2_score(y_test, y_pred2)\n",
    "rmse = root_mean_squared_error(y_test, y_pred2)\n",
    "\n",
    "precission = precision_score(y_test, y_pred2)\n",
    "recall = recall_score(y_test, y_pred2)\n",
    "accuracy = accuracy_score(y_test, y_pred2)\n",
    "roc = roc_auc_score(y_test, y_pred2)\n",
    "\n",
    "confusion = confusion_matrix(y_test, y_pred2)\n",
    "classification = classification_report(y_test, y_pred2)\n",
    "\n",
    "\n",
    "print (f\"MSE: {mse}\")\n",
    "print (f\"RMSE: {rmse}\")\n",
    "print (f\"R2 Score: {r2}\")\n",
    "\n",
    "print (f\"Precission: {precission}\")\n",
    "print (f\"Recall: {recall}\")\n",
    "print (f\"Accuracy Score: {accuracy}\")\n",
    "print (f\"ROC Score: {roc}\")\n",
    "\n",
    "print(f\"Confusion Matrix: {confusion}\")\n",
    "print(f\"Classification Report: {classification}\")"
   ]
  },
  {
   "cell_type": "markdown",
   "id": "9735cbfa",
   "metadata": {},
   "source": [
    "## Naive Bayes"
   ]
  },
  {
   "cell_type": "code",
   "execution_count": null,
   "id": "aa2792c5",
   "metadata": {},
   "outputs": [],
   "source": [
    "model3 = GaussianNB()\n",
    "model3.fit(X=x_train, y=y_train)"
   ]
  },
  {
   "cell_type": "code",
   "execution_count": null,
   "id": "bae907ad",
   "metadata": {},
   "outputs": [],
   "source": [
    "y_pred3 = model3.predict(x_test)\n",
    "y_pred3"
   ]
  },
  {
   "cell_type": "code",
   "execution_count": null,
   "id": "813c1995",
   "metadata": {},
   "outputs": [],
   "source": [
    "mse = mean_squared_error(y_test, y_pred3)\n",
    "r2 = r2_score(y_test, y_pred3)\n",
    "rmse = root_mean_squared_error(y_test, y_pred3)\n",
    "\n",
    "precission = precision_score(y_test, y_pred3)\n",
    "recall = recall_score(y_test, y_pred3)\n",
    "accuracy = accuracy_score(y_test, y_pred3)\n",
    "roc = roc_auc_score(y_test, y_pred3)\n",
    "\n",
    "confusion = confusion_matrix(y_test, y_pred3)\n",
    "classification = classification_report(y_test, y_pred3)\n",
    "\n",
    "\n",
    "print (f\"MSE: {mse}\")\n",
    "print (f\"RMSE: {rmse}\")\n",
    "print (f\"R2 Score: {r2}\")\n",
    "\n",
    "print (f\"Precission: {precission}\")\n",
    "print (f\"Recall: {recall}\")\n",
    "print (f\"Accuracy Score: {accuracy}\")\n",
    "print (f\"ROC Score: {roc}\")\n",
    "\n",
    "print(f\"Confusion Matrix: {confusion}\")\n",
    "print(f\"Classification Report: {classification}\")"
   ]
  },
  {
   "cell_type": "markdown",
   "id": "8ee9550d",
   "metadata": {},
   "source": [
    "Karena nilai-nilai evaluasi matrix dari Logistic Regression > Naive Bayes, maka kesimpulannya:\n",
    "1. Dataset tersebut mengandung berbagai data yang saling berkaitan atau memiliki korelasi satu dengan yang lainnya (karena, Naive Bayes akan tinggi nilainya jika dataset independent, akibat asumsi teori Naive tersebut. Akan tetapi, karena Logistic Regression nilai evaluasinya lebih tinggi, kita bisa mengambil kesimpulan bahwa dataset tersebut memiliki data-data yang cukup saling berkorelasi satu dengan yang lainnya)\n",
    "\n",
    "2. Data tidak berdistribusi normal (karena nilai evaluasi dari Logistic Regression lebih tinggi)\n",
    "\n",
    "3. Pemisahan kelas / fitur bersifat linear\n",
    "\n",
    "4. Data memiliki noise yang bisa dikatakan rendah (karena jika noise tinggi, maka seharusnya akurasi Naive Bayes bisa lebih tinggi dibandingkan dengan Logistic Regression).\n",
    "\n",
    "5. Dataset memiliki ukuran/jumlah baris yang cukup untuk melakukan prediksi"
   ]
  },
  {
   "cell_type": "markdown",
   "id": "048263ed",
   "metadata": {},
   "source": [
    "# Additional"
   ]
  },
  {
   "cell_type": "markdown",
   "id": "8433a997",
   "metadata": {},
   "source": [
    "## Correlation Feature - Preprocessing"
   ]
  },
  {
   "cell_type": "code",
   "execution_count": null,
   "id": "05da063d",
   "metadata": {},
   "outputs": [],
   "source": [
    "def correlation(data_df, threshold) :\n",
    "  corr_col = set()\n",
    "  corr_matrix = data_df.corr()\n",
    "  print(corr_matrix)\n",
    "  for i in range(len(corr_matrix.columns)) :\n",
    "    for j in range(i + 1, len(corr_matrix.columns)) :\n",
    "      if(np.abs(corr_matrix.iloc[(i, j)]) > threshold) :\n",
    "        corr_col.add(corr_matrix.columns[j])\n",
    "  return corr_col"
   ]
  },
  {
   "cell_type": "code",
   "execution_count": null,
   "id": "7abe35f3",
   "metadata": {},
   "outputs": [],
   "source": [
    "corr_col = correlation(x_train, threshold = 0.9)\n",
    "print(corr_col)\n",
    "print(len(corr_col))"
   ]
  },
  {
   "cell_type": "code",
   "execution_count": null,
   "id": "eb1d543c",
   "metadata": {},
   "outputs": [],
   "source": [
    "x_train = x_train.drop(columns = corr_col, axis = 1)\n",
    "x_test = x_test.drop(columns = corr_col, axis = 1)"
   ]
  },
  {
   "cell_type": "code",
   "execution_count": null,
   "id": "5ffa8bf9",
   "metadata": {},
   "outputs": [],
   "source": [
    "x_train"
   ]
  },
  {
   "cell_type": "markdown",
   "id": "ff30bb99",
   "metadata": {},
   "source": [
    "## Scaling"
   ]
  },
  {
   "cell_type": "code",
   "execution_count": null,
   "id": "8de1e7e9",
   "metadata": {},
   "outputs": [],
   "source": [
    "scaler_x_minmax = MinMaxScaler()\n",
    "scaler_x_standard = StandardScaler()"
   ]
  },
  {
   "cell_type": "code",
   "execution_count": null,
   "id": "1b07b96e",
   "metadata": {},
   "outputs": [],
   "source": [
    "def scaling(x1, x2, scaler_x) :\n",
    "  x1 = scaler_x.fit_transform(x1)\n",
    "  x2 = scaler_x.transform(x2)\n",
    "  return x1, x2, scaler_x"
   ]
  },
  {
   "cell_type": "code",
   "execution_count": null,
   "id": "49976798",
   "metadata": {},
   "outputs": [],
   "source": [
    "x_train1, x_test1, scaler_x_minmax = scaling(x_train, x_test, scaler_x_minmax)"
   ]
  },
  {
   "cell_type": "code",
   "execution_count": null,
   "id": "a6aa686b",
   "metadata": {},
   "outputs": [],
   "source": [
    "x_train2, x_test2, scaler_x_standard = scaling(x_train, x_test, scaler_x_standard)"
   ]
  },
  {
   "cell_type": "code",
   "execution_count": null,
   "id": "b2869332",
   "metadata": {},
   "outputs": [],
   "source": [
    "model = LogisticRegression() #LogisticRegression with MinMaxScaler()\n",
    "history = model.fit(x_train1, y_train)\n",
    "y_pred = model.predict(x_test1)\n",
    "y_pred_prob = model.predict_proba(x_test1)[:, 1]\n",
    "print(f\"accuracy_score : {accuracy_score(y_test, y_pred)}, recall_score : {recall_score(y_test, y_pred)}, precision_score : {precision_score(y_test, y_pred)}, roc_auc_score : {roc_auc_score(y_test, y_pred_prob)}\")\n",
    "print(confusion_matrix(y_test, y_pred))\n",
    "print(classification_report(y_test, y_pred))"
   ]
  },
  {
   "cell_type": "code",
   "execution_count": null,
   "id": "198b2e9c",
   "metadata": {},
   "outputs": [],
   "source": [
    "model = LogisticRegression() #LogisticRegression with StandardScaler()\n",
    "history = model.fit(x_train2, y_train)\n",
    "y_pred = model.predict(x_test2)\n",
    "y_pred_prob = model.predict_proba(x_test2)[:, 1]\n",
    "print(f\"accuracy_score : {accuracy_score(y_test, y_pred)}, recall_score : {recall_score(y_test, y_pred)}, precision_score : {precision_score(y_test, y_pred)}, roc_auc_score : {roc_auc_score(y_test, y_pred_prob)}\")\n",
    "print(confusion_matrix(y_test, y_pred))\n",
    "print(classification_report(y_test, y_pred))"
   ]
  },
  {
   "cell_type": "code",
   "execution_count": null,
   "id": "21fb821f",
   "metadata": {},
   "outputs": [],
   "source": [
    "model = GaussianNB() #GaussianNB with MinMaxScaler()\n",
    "history = model.fit(x_train1, y_train)\n",
    "y_pred = model.predict(x_test1)\n",
    "y_pred_prob = model.predict_proba(x_test1)[:, 1]\n",
    "print(f\"accuracy_score : {accuracy_score(y_test, y_pred)}, recall_score : {recall_score(y_test, y_pred)}, precision_score : {precision_score(y_test, y_pred)}, roc_auc_score : {roc_auc_score(y_test, y_pred_prob)}\")\n",
    "print(confusion_matrix(y_test, y_pred))\n",
    "print(classification_report(y_test, y_pred))"
   ]
  },
  {
   "cell_type": "code",
   "execution_count": null,
   "id": "b994b84f",
   "metadata": {},
   "outputs": [],
   "source": [
    "model = GaussianNB() #GaussianNB with StandardScaler()\n",
    "history = model.fit(x_train2, y_train)\n",
    "y_pred = model.predict(x_test2)\n",
    "y_pred_prob = model.predict_proba(x_test2)[:, 1]\n",
    "print(f\"accuracy_score : {accuracy_score(y_test, y_pred)}, recall_score : {recall_score(y_test, y_pred)}, precision_score : {precision_score(y_test, y_pred)}, roc_auc_score : {roc_auc_score(y_test, y_pred_prob)}\")\n",
    "print(confusion_matrix(y_test, y_pred))\n",
    "print(classification_report(y_test, y_pred))"
   ]
  },
  {
   "cell_type": "markdown",
   "id": "015f769d",
   "metadata": {},
   "source": [
    "Scaling adalah proses yang digunakan untuk mengubah rentang data atau skala fitur (variabel independen) agar berada dalam rentang yang seragam."
   ]
  },
  {
   "cell_type": "markdown",
   "id": "7a9be621",
   "metadata": {},
   "source": [
    "Sekarang justru evaluasi menggunakan Naive Bayes lebih tinggi :)"
   ]
  },
  {
   "cell_type": "markdown",
   "id": "43afdb89",
   "metadata": {},
   "source": [
    "# Predicted Values vs Actual Values Comparison"
   ]
  },
  {
   "cell_type": "code",
   "execution_count": null,
   "id": "20c2300f",
   "metadata": {},
   "outputs": [],
   "source": [
    "# 1. Membandingkan Predicted Values dan Actual Values\n",
    "plt.figure(figsize=(8, 6))\n",
    "\n",
    "# Scatter plot antara Predicted dan Actual\n",
    "plt.scatter(y_test, y_pred2, color='blue', label='Data Points', alpha=0.6)\n",
    "plt.plot([0, 1], [0, 1], color='red', lw=2, label=\"Ideal Line (y = x)\")  # Garis ideal\n",
    "plt.xlabel('Actual Values')\n",
    "plt.ylabel('Predicted Values')\n",
    "plt.title('Predicted Values vs Actual Values')\n",
    "plt.legend()\n",
    "plt.show()"
   ]
  },
  {
   "cell_type": "code",
   "execution_count": null,
   "id": "17ec6fcf",
   "metadata": {},
   "outputs": [],
   "source": [
    "errors = np.sum(y_test != y_pred2)\n",
    "print(f'Jumlah kesalahan prediksi: {errors} dari {len(y_test)} sampel')"
   ]
  },
  {
   "cell_type": "code",
   "execution_count": null,
   "id": "194559bc",
   "metadata": {},
   "outputs": [],
   "source": [
    "conf_matrix = confusion_matrix(y_test, y_pred2)\n",
    "sns.heatmap(conf_matrix, annot=True, fmt='d', cmap='Blues', xticklabels=['Predicted 0', 'Predicted 1'], yticklabels=['Actual 0', 'Actual 1'])\n",
    "plt.title('Confusion Matrix')\n",
    "plt.show()"
   ]
  },
  {
   "cell_type": "markdown",
   "id": "bfd253a5",
   "metadata": {},
   "source": [
    "Berarti 93 + 53 / (78 + 26 + 34 + 41) => Accuracy\n",
    "<br>\n",
    "Predicted Values bener 146 dari 179"
   ]
  },
  {
   "cell_type": "markdown",
   "id": "6d9ab24d",
   "metadata": {},
   "source": [
    "## Scaling Linear Regression"
   ]
  },
  {
   "cell_type": "code",
   "execution_count": null,
   "id": "8af7cc3e",
   "metadata": {},
   "outputs": [],
   "source": [
    "x_train, x_test, y_train, y_test = train_test_split(x, y, test_size = 0.2)"
   ]
  },
  {
   "cell_type": "code",
   "execution_count": null,
   "id": "35708234",
   "metadata": {},
   "outputs": [],
   "source": [
    "x_train = x_train.to_numpy()\n",
    "x_test = x_test.to_numpy()"
   ]
  },
  {
   "cell_type": "code",
   "execution_count": null,
   "id": "03782a79",
   "metadata": {},
   "outputs": [],
   "source": [
    "y_train = np.reshape(y_train, (-1, 1))\n",
    "y_test = np.reshape(y_test, (-1, 1))"
   ]
  },
  {
   "cell_type": "code",
   "execution_count": null,
   "id": "0b798edc",
   "metadata": {},
   "outputs": [],
   "source": [
    "minScalingX, minScalingY = MinMaxScaler(), MinMaxScaler()\n",
    "standardScalingX, standardScalingY = StandardScaler(), StandardScaler()"
   ]
  },
  {
   "cell_type": "code",
   "execution_count": null,
   "id": "4e807cb5",
   "metadata": {},
   "outputs": [],
   "source": [
    "def scaling (x1, x2, y1, y2, scaler_x, scaler_y):\n",
    "    x1 = scaler_x.fit_transform(x1)\n",
    "    x2 = scaler_x.transform(x2)\n",
    "    y1 = scaler_y.fit_transform(y1)\n",
    "    y2 = scaler_y.transform(y2)\n",
    "    return x1, x2, y1, y2, scaler_x, scaler_y"
   ]
  },
  {
   "cell_type": "code",
   "execution_count": null,
   "id": "b0e96275",
   "metadata": {},
   "outputs": [],
   "source": [
    "x_train3, x_test3, y_train3, y_test3, scaler_x_minmax, scaler_y_minmax = scaling (x_train, x_test, y_train, y_test, minScalingX, minScalingY)"
   ]
  },
  {
   "cell_type": "code",
   "execution_count": null,
   "id": "6422d80e",
   "metadata": {},
   "outputs": [],
   "source": [
    "x_train4, x_test4, y_train4, y_test4, scaler_x_standard, scaler_y_standard = scaling (x_train, x_test, y_train, y_test, standardScalingX, standardScalingY)"
   ]
  },
  {
   "cell_type": "code",
   "execution_count": null,
   "id": "37a2af9c",
   "metadata": {},
   "outputs": [],
   "source": [
    "model = LinearRegression() #LinearRegression dengan MinMaxScaler()\n",
    "history = model.fit(x_train3, y_train3)\n",
    "y_pred = model.predict(x_test3)\n",
    "print(f\"RMSE : {root_mean_squared_error(y_test3, y_pred)}, MSE : {mean_squared_error(y_test3, y_pred)}, R2_SCORE : {r2_score(y_test3, y_pred)}\")"
   ]
  },
  {
   "cell_type": "code",
   "execution_count": null,
   "id": "a1f1276d",
   "metadata": {},
   "outputs": [],
   "source": [
    "model = LinearRegression() #LinearRegression dengan StandardScaler\n",
    "history = model.fit(x_train4, y_train4)\n",
    "y_pred = model.predict(x_test4)\n",
    "print(f\"RMSE : {root_mean_squared_error(y_test4, y_pred)}, MSE : {mean_squared_error(y_test4, y_pred)}, R2_SCORE : {r2_score(y_test4, y_pred)}\")"
   ]
  }
 ],
 "metadata": {
  "kernelspec": {
   "display_name": "Python 3",
   "language": "python",
   "name": "python3"
  },
  "language_info": {
   "codemirror_mode": {
    "name": "ipython",
    "version": 3
   },
   "file_extension": ".py",
   "mimetype": "text/x-python",
   "name": "python",
   "nbconvert_exporter": "python",
   "pygments_lexer": "ipython3",
   "version": "3.10.6"
  }
 },
 "nbformat": 4,
 "nbformat_minor": 5
}
