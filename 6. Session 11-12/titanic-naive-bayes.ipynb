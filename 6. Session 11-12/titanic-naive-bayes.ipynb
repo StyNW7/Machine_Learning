{
 "cells": [
  {
   "cell_type": "markdown",
   "id": "e3a21905",
   "metadata": {},
   "source": [
    "# Titanic - Machine Learning from Disaster 🌊\n",
    "Dataset Source: https://www.kaggle.com/competitions/titanic\n",
    "<br><br>\n",
    "Stanley Nathanael Wijaya - 2702217125"
   ]
  },
  {
   "cell_type": "markdown",
   "metadata": {},
   "source": [
    "## Task Description\n",
    "\n",
    "You are a data scientist tasked with analyzing the Titanic dataset.\n",
    "<br><br>\n",
    "The ultimate goal of your analysis is to build a model that can predict which passengers survived the Titanic disaster\n",
    "<br>\n",
    "(https://www.kaggle.com/competitions/titanic)\n",
    "<br><br>\n",
    "Your objective is to build a Naive Bayes model to predict the binary outcome of survival for the Titanic passengers.\n",
    "<ul>\n",
    "    <li>Split the dataset into a training set and a testing set to evaluate your model's performance (70:30).</li>\n",
    "    <li>Develop a Naive Bayes model using your selected features.</li>\n",
    "    <li>Evaluate the performance of your Naive Bayes model using metrics such as accuracy, precision, recall, and the ROC-AUC score.</li>\n",
    "    <li>Provide a detailed analysis of the confusion matrix to understand the true positives, false positives, true negatives, and false negatives.</li>\n",
    "</ul>"
   ]
  },
  {
   "cell_type": "markdown",
   "id": "406c9f57",
   "metadata": {},
   "source": [
    "## Import Library"
   ]
  },
  {
   "cell_type": "code",
   "execution_count": 1,
   "id": "392c8873",
   "metadata": {
    "execution": {
     "iopub.execute_input": "2025-02-09T12:27:41.464919Z",
     "iopub.status.busy": "2025-02-09T12:27:41.464436Z",
     "iopub.status.idle": "2025-02-09T12:27:43.472380Z",
     "shell.execute_reply": "2025-02-09T12:27:43.471240Z"
    },
    "papermill": {
     "duration": 2.034108,
     "end_time": "2025-02-09T12:27:43.474424",
     "exception": false,
     "start_time": "2025-02-09T12:27:41.440316",
     "status": "completed"
    },
    "tags": []
   },
   "outputs": [],
   "source": [
    "import numpy as np \n",
    "import pandas as pd\n",
    "import matplotlib.pyplot as plt \n",
    "import seaborn as sns\n",
    "\n",
    "from sklearn.impute import SimpleImputer"
   ]
  },
  {
   "cell_type": "markdown",
   "id": "d69fd5c6",
   "metadata": {},
   "source": [
    "## Read Data"
   ]
  },
  {
   "cell_type": "code",
   "execution_count": 2,
   "id": "5260f586",
   "metadata": {
    "execution": {
     "iopub.execute_input": "2025-02-09T12:27:43.522689Z",
     "iopub.status.busy": "2025-02-09T12:27:43.522128Z",
     "iopub.status.idle": "2025-02-09T12:27:43.564073Z",
     "shell.execute_reply": "2025-02-09T12:27:43.562820Z"
    },
    "papermill": {
     "duration": 0.067894,
     "end_time": "2025-02-09T12:27:43.565998",
     "exception": false,
     "start_time": "2025-02-09T12:27:43.498104",
     "status": "completed"
    },
    "tags": []
   },
   "outputs": [],
   "source": [
    "train = pd.read_csv('train.csv')\n",
    "test = pd.read_csv('test.csv')\n",
    "sample_submission = pd.read_csv('gender_submission.csv')"
   ]
  },
  {
   "cell_type": "code",
   "execution_count": 3,
   "id": "47ec5f78",
   "metadata": {
    "execution": {
     "iopub.execute_input": "2025-02-09T12:27:43.614333Z",
     "iopub.status.busy": "2025-02-09T12:27:43.613887Z",
     "iopub.status.idle": "2025-02-09T12:27:43.644901Z",
     "shell.execute_reply": "2025-02-09T12:27:43.643771Z"
    },
    "papermill": {
     "duration": 0.056927,
     "end_time": "2025-02-09T12:27:43.646751",
     "exception": false,
     "start_time": "2025-02-09T12:27:43.589824",
     "status": "completed"
    },
    "tags": []
   },
   "outputs": [
    {
     "data": {
      "text/html": [
       "<div>\n",
       "<style scoped>\n",
       "    .dataframe tbody tr th:only-of-type {\n",
       "        vertical-align: middle;\n",
       "    }\n",
       "\n",
       "    .dataframe tbody tr th {\n",
       "        vertical-align: top;\n",
       "    }\n",
       "\n",
       "    .dataframe thead th {\n",
       "        text-align: right;\n",
       "    }\n",
       "</style>\n",
       "<table border=\"1\" class=\"dataframe\">\n",
       "  <thead>\n",
       "    <tr style=\"text-align: right;\">\n",
       "      <th></th>\n",
       "      <th>PassengerId</th>\n",
       "      <th>Survived</th>\n",
       "      <th>Pclass</th>\n",
       "      <th>Name</th>\n",
       "      <th>Sex</th>\n",
       "      <th>Age</th>\n",
       "      <th>SibSp</th>\n",
       "      <th>Parch</th>\n",
       "      <th>Ticket</th>\n",
       "      <th>Fare</th>\n",
       "      <th>Cabin</th>\n",
       "      <th>Embarked</th>\n",
       "    </tr>\n",
       "  </thead>\n",
       "  <tbody>\n",
       "    <tr>\n",
       "      <th>0</th>\n",
       "      <td>1</td>\n",
       "      <td>0</td>\n",
       "      <td>3</td>\n",
       "      <td>Braund, Mr. Owen Harris</td>\n",
       "      <td>male</td>\n",
       "      <td>22.0</td>\n",
       "      <td>1</td>\n",
       "      <td>0</td>\n",
       "      <td>A/5 21171</td>\n",
       "      <td>7.2500</td>\n",
       "      <td>NaN</td>\n",
       "      <td>S</td>\n",
       "    </tr>\n",
       "    <tr>\n",
       "      <th>1</th>\n",
       "      <td>2</td>\n",
       "      <td>1</td>\n",
       "      <td>1</td>\n",
       "      <td>Cumings, Mrs. John Bradley (Florence Briggs Th...</td>\n",
       "      <td>female</td>\n",
       "      <td>38.0</td>\n",
       "      <td>1</td>\n",
       "      <td>0</td>\n",
       "      <td>PC 17599</td>\n",
       "      <td>71.2833</td>\n",
       "      <td>C85</td>\n",
       "      <td>C</td>\n",
       "    </tr>\n",
       "    <tr>\n",
       "      <th>2</th>\n",
       "      <td>3</td>\n",
       "      <td>1</td>\n",
       "      <td>3</td>\n",
       "      <td>Heikkinen, Miss. Laina</td>\n",
       "      <td>female</td>\n",
       "      <td>26.0</td>\n",
       "      <td>0</td>\n",
       "      <td>0</td>\n",
       "      <td>STON/O2. 3101282</td>\n",
       "      <td>7.9250</td>\n",
       "      <td>NaN</td>\n",
       "      <td>S</td>\n",
       "    </tr>\n",
       "    <tr>\n",
       "      <th>3</th>\n",
       "      <td>4</td>\n",
       "      <td>1</td>\n",
       "      <td>1</td>\n",
       "      <td>Futrelle, Mrs. Jacques Heath (Lily May Peel)</td>\n",
       "      <td>female</td>\n",
       "      <td>35.0</td>\n",
       "      <td>1</td>\n",
       "      <td>0</td>\n",
       "      <td>113803</td>\n",
       "      <td>53.1000</td>\n",
       "      <td>C123</td>\n",
       "      <td>S</td>\n",
       "    </tr>\n",
       "    <tr>\n",
       "      <th>4</th>\n",
       "      <td>5</td>\n",
       "      <td>0</td>\n",
       "      <td>3</td>\n",
       "      <td>Allen, Mr. William Henry</td>\n",
       "      <td>male</td>\n",
       "      <td>35.0</td>\n",
       "      <td>0</td>\n",
       "      <td>0</td>\n",
       "      <td>373450</td>\n",
       "      <td>8.0500</td>\n",
       "      <td>NaN</td>\n",
       "      <td>S</td>\n",
       "    </tr>\n",
       "  </tbody>\n",
       "</table>\n",
       "</div>"
      ],
      "text/plain": [
       "   PassengerId  Survived  Pclass  \\\n",
       "0            1         0       3   \n",
       "1            2         1       1   \n",
       "2            3         1       3   \n",
       "3            4         1       1   \n",
       "4            5         0       3   \n",
       "\n",
       "                                                Name     Sex   Age  SibSp  \\\n",
       "0                            Braund, Mr. Owen Harris    male  22.0      1   \n",
       "1  Cumings, Mrs. John Bradley (Florence Briggs Th...  female  38.0      1   \n",
       "2                             Heikkinen, Miss. Laina  female  26.0      0   \n",
       "3       Futrelle, Mrs. Jacques Heath (Lily May Peel)  female  35.0      1   \n",
       "4                           Allen, Mr. William Henry    male  35.0      0   \n",
       "\n",
       "   Parch            Ticket     Fare Cabin Embarked  \n",
       "0      0         A/5 21171   7.2500   NaN        S  \n",
       "1      0          PC 17599  71.2833   C85        C  \n",
       "2      0  STON/O2. 3101282   7.9250   NaN        S  \n",
       "3      0            113803  53.1000  C123        S  \n",
       "4      0            373450   8.0500   NaN        S  "
      ]
     },
     "execution_count": 3,
     "metadata": {},
     "output_type": "execute_result"
    }
   ],
   "source": [
    "train.head()"
   ]
  },
  {
   "cell_type": "code",
   "execution_count": 4,
   "id": "968736ca",
   "metadata": {
    "execution": {
     "iopub.execute_input": "2025-02-09T12:27:43.696893Z",
     "iopub.status.busy": "2025-02-09T12:27:43.696527Z",
     "iopub.status.idle": "2025-02-09T12:27:43.709815Z",
     "shell.execute_reply": "2025-02-09T12:27:43.708793Z"
    },
    "papermill": {
     "duration": 0.040511,
     "end_time": "2025-02-09T12:27:43.711528",
     "exception": false,
     "start_time": "2025-02-09T12:27:43.671017",
     "status": "completed"
    },
    "tags": []
   },
   "outputs": [
    {
     "data": {
      "text/html": [
       "<div>\n",
       "<style scoped>\n",
       "    .dataframe tbody tr th:only-of-type {\n",
       "        vertical-align: middle;\n",
       "    }\n",
       "\n",
       "    .dataframe tbody tr th {\n",
       "        vertical-align: top;\n",
       "    }\n",
       "\n",
       "    .dataframe thead th {\n",
       "        text-align: right;\n",
       "    }\n",
       "</style>\n",
       "<table border=\"1\" class=\"dataframe\">\n",
       "  <thead>\n",
       "    <tr style=\"text-align: right;\">\n",
       "      <th></th>\n",
       "      <th>PassengerId</th>\n",
       "      <th>Pclass</th>\n",
       "      <th>Name</th>\n",
       "      <th>Sex</th>\n",
       "      <th>Age</th>\n",
       "      <th>SibSp</th>\n",
       "      <th>Parch</th>\n",
       "      <th>Ticket</th>\n",
       "      <th>Fare</th>\n",
       "      <th>Cabin</th>\n",
       "      <th>Embarked</th>\n",
       "    </tr>\n",
       "  </thead>\n",
       "  <tbody>\n",
       "    <tr>\n",
       "      <th>0</th>\n",
       "      <td>892</td>\n",
       "      <td>3</td>\n",
       "      <td>Kelly, Mr. James</td>\n",
       "      <td>male</td>\n",
       "      <td>34.5</td>\n",
       "      <td>0</td>\n",
       "      <td>0</td>\n",
       "      <td>330911</td>\n",
       "      <td>7.8292</td>\n",
       "      <td>NaN</td>\n",
       "      <td>Q</td>\n",
       "    </tr>\n",
       "    <tr>\n",
       "      <th>1</th>\n",
       "      <td>893</td>\n",
       "      <td>3</td>\n",
       "      <td>Wilkes, Mrs. James (Ellen Needs)</td>\n",
       "      <td>female</td>\n",
       "      <td>47.0</td>\n",
       "      <td>1</td>\n",
       "      <td>0</td>\n",
       "      <td>363272</td>\n",
       "      <td>7.0000</td>\n",
       "      <td>NaN</td>\n",
       "      <td>S</td>\n",
       "    </tr>\n",
       "    <tr>\n",
       "      <th>2</th>\n",
       "      <td>894</td>\n",
       "      <td>2</td>\n",
       "      <td>Myles, Mr. Thomas Francis</td>\n",
       "      <td>male</td>\n",
       "      <td>62.0</td>\n",
       "      <td>0</td>\n",
       "      <td>0</td>\n",
       "      <td>240276</td>\n",
       "      <td>9.6875</td>\n",
       "      <td>NaN</td>\n",
       "      <td>Q</td>\n",
       "    </tr>\n",
       "    <tr>\n",
       "      <th>3</th>\n",
       "      <td>895</td>\n",
       "      <td>3</td>\n",
       "      <td>Wirz, Mr. Albert</td>\n",
       "      <td>male</td>\n",
       "      <td>27.0</td>\n",
       "      <td>0</td>\n",
       "      <td>0</td>\n",
       "      <td>315154</td>\n",
       "      <td>8.6625</td>\n",
       "      <td>NaN</td>\n",
       "      <td>S</td>\n",
       "    </tr>\n",
       "    <tr>\n",
       "      <th>4</th>\n",
       "      <td>896</td>\n",
       "      <td>3</td>\n",
       "      <td>Hirvonen, Mrs. Alexander (Helga E Lindqvist)</td>\n",
       "      <td>female</td>\n",
       "      <td>22.0</td>\n",
       "      <td>1</td>\n",
       "      <td>1</td>\n",
       "      <td>3101298</td>\n",
       "      <td>12.2875</td>\n",
       "      <td>NaN</td>\n",
       "      <td>S</td>\n",
       "    </tr>\n",
       "  </tbody>\n",
       "</table>\n",
       "</div>"
      ],
      "text/plain": [
       "   PassengerId  Pclass                                          Name     Sex  \\\n",
       "0          892       3                              Kelly, Mr. James    male   \n",
       "1          893       3              Wilkes, Mrs. James (Ellen Needs)  female   \n",
       "2          894       2                     Myles, Mr. Thomas Francis    male   \n",
       "3          895       3                              Wirz, Mr. Albert    male   \n",
       "4          896       3  Hirvonen, Mrs. Alexander (Helga E Lindqvist)  female   \n",
       "\n",
       "    Age  SibSp  Parch   Ticket     Fare Cabin Embarked  \n",
       "0  34.5      0      0   330911   7.8292   NaN        Q  \n",
       "1  47.0      1      0   363272   7.0000   NaN        S  \n",
       "2  62.0      0      0   240276   9.6875   NaN        Q  \n",
       "3  27.0      0      0   315154   8.6625   NaN        S  \n",
       "4  22.0      1      1  3101298  12.2875   NaN        S  "
      ]
     },
     "execution_count": 4,
     "metadata": {},
     "output_type": "execute_result"
    }
   ],
   "source": [
    "test.head()"
   ]
  },
  {
   "cell_type": "code",
   "execution_count": 5,
   "id": "e10449cb",
   "metadata": {
    "execution": {
     "iopub.execute_input": "2025-02-09T12:27:43.760701Z",
     "iopub.status.busy": "2025-02-09T12:27:43.760266Z",
     "iopub.status.idle": "2025-02-09T12:27:43.770692Z",
     "shell.execute_reply": "2025-02-09T12:27:43.769421Z"
    },
    "papermill": {
     "duration": 0.037392,
     "end_time": "2025-02-09T12:27:43.772590",
     "exception": false,
     "start_time": "2025-02-09T12:27:43.735198",
     "status": "completed"
    },
    "tags": []
   },
   "outputs": [
    {
     "data": {
      "text/html": [
       "<div>\n",
       "<style scoped>\n",
       "    .dataframe tbody tr th:only-of-type {\n",
       "        vertical-align: middle;\n",
       "    }\n",
       "\n",
       "    .dataframe tbody tr th {\n",
       "        vertical-align: top;\n",
       "    }\n",
       "\n",
       "    .dataframe thead th {\n",
       "        text-align: right;\n",
       "    }\n",
       "</style>\n",
       "<table border=\"1\" class=\"dataframe\">\n",
       "  <thead>\n",
       "    <tr style=\"text-align: right;\">\n",
       "      <th></th>\n",
       "      <th>PassengerId</th>\n",
       "      <th>Survived</th>\n",
       "    </tr>\n",
       "  </thead>\n",
       "  <tbody>\n",
       "    <tr>\n",
       "      <th>0</th>\n",
       "      <td>892</td>\n",
       "      <td>0</td>\n",
       "    </tr>\n",
       "    <tr>\n",
       "      <th>1</th>\n",
       "      <td>893</td>\n",
       "      <td>1</td>\n",
       "    </tr>\n",
       "    <tr>\n",
       "      <th>2</th>\n",
       "      <td>894</td>\n",
       "      <td>0</td>\n",
       "    </tr>\n",
       "    <tr>\n",
       "      <th>3</th>\n",
       "      <td>895</td>\n",
       "      <td>0</td>\n",
       "    </tr>\n",
       "    <tr>\n",
       "      <th>4</th>\n",
       "      <td>896</td>\n",
       "      <td>1</td>\n",
       "    </tr>\n",
       "  </tbody>\n",
       "</table>\n",
       "</div>"
      ],
      "text/plain": [
       "   PassengerId  Survived\n",
       "0          892         0\n",
       "1          893         1\n",
       "2          894         0\n",
       "3          895         0\n",
       "4          896         1"
      ]
     },
     "execution_count": 5,
     "metadata": {},
     "output_type": "execute_result"
    }
   ],
   "source": [
    "sample_submission.head()"
   ]
  },
  {
   "cell_type": "code",
   "execution_count": 6,
   "id": "0f469c67",
   "metadata": {
    "execution": {
     "iopub.execute_input": "2025-02-09T12:27:43.905151Z",
     "iopub.status.busy": "2025-02-09T12:27:43.904740Z",
     "iopub.status.idle": "2025-02-09T12:27:43.940344Z",
     "shell.execute_reply": "2025-02-09T12:27:43.938603Z"
    },
    "papermill": {
     "duration": 0.064473,
     "end_time": "2025-02-09T12:27:43.942567",
     "exception": false,
     "start_time": "2025-02-09T12:27:43.878094",
     "status": "completed"
    },
    "tags": []
   },
   "outputs": [
    {
     "name": "stdout",
     "output_type": "stream",
     "text": [
      "<class 'pandas.core.frame.DataFrame'>\n",
      "RangeIndex: 891 entries, 0 to 890\n",
      "Data columns (total 12 columns):\n",
      " #   Column       Non-Null Count  Dtype  \n",
      "---  ------       --------------  -----  \n",
      " 0   PassengerId  891 non-null    int64  \n",
      " 1   Survived     891 non-null    int64  \n",
      " 2   Pclass       891 non-null    int64  \n",
      " 3   Name         891 non-null    object \n",
      " 4   Sex          891 non-null    object \n",
      " 5   Age          714 non-null    float64\n",
      " 6   SibSp        891 non-null    int64  \n",
      " 7   Parch        891 non-null    int64  \n",
      " 8   Ticket       891 non-null    object \n",
      " 9   Fare         891 non-null    float64\n",
      " 10  Cabin        204 non-null    object \n",
      " 11  Embarked     889 non-null    object \n",
      "dtypes: float64(2), int64(5), object(5)\n",
      "memory usage: 83.7+ KB\n"
     ]
    }
   ],
   "source": [
    "train.info()"
   ]
  },
  {
   "cell_type": "code",
   "execution_count": 7,
   "id": "7a252e24",
   "metadata": {},
   "outputs": [
    {
     "data": {
      "text/plain": [
       "PassengerId      0\n",
       "Survived         0\n",
       "Pclass           0\n",
       "Name             0\n",
       "Sex              0\n",
       "Age            177\n",
       "SibSp            0\n",
       "Parch            0\n",
       "Ticket           0\n",
       "Fare             0\n",
       "Cabin          687\n",
       "Embarked         2\n",
       "dtype: int64"
      ]
     },
     "execution_count": 7,
     "metadata": {},
     "output_type": "execute_result"
    }
   ],
   "source": [
    "train.isna().sum()"
   ]
  },
  {
   "cell_type": "markdown",
   "id": "b2d121f0",
   "metadata": {},
   "source": [
    "### Total data: 891 datas\n",
    "- Age = 177 NA values\n",
    "- Cabin = 687 NA values\n",
    "- Embarked 2 NA values"
   ]
  },
  {
   "cell_type": "code",
   "execution_count": 8,
   "id": "0982fd66",
   "metadata": {
    "execution": {
     "iopub.execute_input": "2025-02-09T12:27:43.999128Z",
     "iopub.status.busy": "2025-02-09T12:27:43.998707Z",
     "iopub.status.idle": "2025-02-09T12:27:44.004654Z",
     "shell.execute_reply": "2025-02-09T12:27:44.003626Z"
    },
    "papermill": {
     "duration": 0.033492,
     "end_time": "2025-02-09T12:27:44.006258",
     "exception": false,
     "start_time": "2025-02-09T12:27:43.972766",
     "status": "completed"
    },
    "tags": []
   },
   "outputs": [
    {
     "data": {
      "text/plain": [
       "(891, 12)"
      ]
     },
     "execution_count": 8,
     "metadata": {},
     "output_type": "execute_result"
    }
   ],
   "source": [
    "train.shape"
   ]
  },
  {
   "cell_type": "code",
   "execution_count": 9,
   "id": "c7642e41",
   "metadata": {
    "execution": {
     "iopub.execute_input": "2025-02-09T12:27:44.062659Z",
     "iopub.status.busy": "2025-02-09T12:27:44.062187Z",
     "iopub.status.idle": "2025-02-09T12:27:44.069658Z",
     "shell.execute_reply": "2025-02-09T12:27:44.068420Z"
    },
    "papermill": {
     "duration": 0.039954,
     "end_time": "2025-02-09T12:27:44.071416",
     "exception": false,
     "start_time": "2025-02-09T12:27:44.031462",
     "status": "completed"
    },
    "tags": []
   },
   "outputs": [
    {
     "data": {
      "text/plain": [
       "Index(['PassengerId', 'Survived', 'Pclass', 'Name', 'Sex', 'Age', 'SibSp',\n",
       "       'Parch', 'Ticket', 'Fare', 'Cabin', 'Embarked'],\n",
       "      dtype='object')"
      ]
     },
     "execution_count": 9,
     "metadata": {},
     "output_type": "execute_result"
    }
   ],
   "source": [
    "train.columns"
   ]
  },
  {
   "cell_type": "code",
   "execution_count": 10,
   "id": "7448887f",
   "metadata": {},
   "outputs": [
    {
     "name": "stdout",
     "output_type": "stream",
     "text": [
      "Number of Duplicate:  0\n"
     ]
    }
   ],
   "source": [
    "print(\"Number of Duplicate: \", train.duplicated().sum())"
   ]
  },
  {
   "cell_type": "markdown",
   "id": "cfc501c7",
   "metadata": {},
   "source": [
    "So in this notebook, I will use train.csv data to EDA and Data Preprocess that"
   ]
  },
  {
   "cell_type": "markdown",
   "id": "ebfc5810",
   "metadata": {},
   "source": [
    "## Exploratory Data Analysis"
   ]
  },
  {
   "cell_type": "markdown",
   "id": "97b5ffdb",
   "metadata": {
    "papermill": {
     "duration": 0.024409,
     "end_time": "2025-02-09T12:27:44.131761",
     "exception": false,
     "start_time": "2025-02-09T12:27:44.107352",
     "status": "completed"
    },
    "tags": []
   },
   "source": [
    "### Column Types\n",
    "- **Numerical** - Age, PassengerId, Fare \n",
    "- **Categorical** - Survived, Pclass, Sex, SibSp, Parch, Embarked  \n",
    "- **Mixed (mix of both numerical and categorical)** - Name, Ticket, Cabin"
   ]
  },
  {
   "cell_type": "markdown",
   "id": "11762d6c",
   "metadata": {
    "papermill": {
     "duration": 0.034214,
     "end_time": "2025-02-09T12:27:44.248156",
     "exception": false,
     "start_time": "2025-02-09T12:27:44.213942",
     "status": "completed"
    },
    "tags": []
   },
   "source": [
    "### Age Column"
   ]
  },
  {
   "cell_type": "markdown",
   "id": "5958520a",
   "metadata": {
    "papermill": {
     "duration": 0.027727,
     "end_time": "2025-02-09T12:27:44.310702",
     "exception": false,
     "start_time": "2025-02-09T12:27:44.282975",
     "status": "completed"
    },
    "tags": []
   },
   "source": [
    "### Analysis on Numerical Columns - *Age*"
   ]
  },
  {
   "cell_type": "code",
   "execution_count": 11,
   "id": "d02c731c",
   "metadata": {
    "execution": {
     "iopub.execute_input": "2025-02-09T12:27:44.363156Z",
     "iopub.status.busy": "2025-02-09T12:27:44.362649Z",
     "iopub.status.idle": "2025-02-09T12:27:44.375644Z",
     "shell.execute_reply": "2025-02-09T12:27:44.374470Z"
    },
    "papermill": {
     "duration": 0.041192,
     "end_time": "2025-02-09T12:27:44.377528",
     "exception": false,
     "start_time": "2025-02-09T12:27:44.336336",
     "status": "completed"
    },
    "tags": []
   },
   "outputs": [
    {
     "data": {
      "text/plain": [
       "0      22.0\n",
       "1      38.0\n",
       "2      26.0\n",
       "3      35.0\n",
       "4      35.0\n",
       "       ... \n",
       "886    27.0\n",
       "887    19.0\n",
       "888     NaN\n",
       "889    26.0\n",
       "890    32.0\n",
       "Name: Age, Length: 891, dtype: float64"
      ]
     },
     "execution_count": 11,
     "metadata": {},
     "output_type": "execute_result"
    }
   ],
   "source": [
    "train['Age']"
   ]
  },
  {
   "cell_type": "code",
   "execution_count": 12,
   "id": "8815a634",
   "metadata": {},
   "outputs": [
    {
     "data": {
      "text/plain": [
       "5     NaN\n",
       "17    NaN\n",
       "19    NaN\n",
       "26    NaN\n",
       "28    NaN\n",
       "       ..\n",
       "859   NaN\n",
       "863   NaN\n",
       "868   NaN\n",
       "878   NaN\n",
       "888   NaN\n",
       "Name: Age, Length: 177, dtype: float64"
      ]
     },
     "execution_count": 12,
     "metadata": {},
     "output_type": "execute_result"
    }
   ],
   "source": [
    "train['Age'].loc[train['Age'].isna()]"
   ]
  },
  {
   "cell_type": "markdown",
   "id": "23eb02ba",
   "metadata": {},
   "source": [
    "There are 177 NA datas in the Age column"
   ]
  },
  {
   "cell_type": "code",
   "execution_count": 13,
   "id": "beeb3e78",
   "metadata": {},
   "outputs": [],
   "source": [
    "imputer = SimpleImputer(strategy=\"mean\")\n",
    "train['Age'] = imputer.fit_transform(train[['Age']])"
   ]
  },
  {
   "cell_type": "code",
   "execution_count": 14,
   "id": "703b2994",
   "metadata": {},
   "outputs": [
    {
     "data": {
      "text/plain": [
       "Series([], Name: Age, dtype: float64)"
      ]
     },
     "execution_count": 14,
     "metadata": {},
     "output_type": "execute_result"
    }
   ],
   "source": [
    "train['Age'].loc[train['Age'].isna()]"
   ]
  },
  {
   "cell_type": "code",
   "execution_count": 15,
   "id": "d6f380ef",
   "metadata": {
    "execution": {
     "iopub.execute_input": "2025-02-09T12:27:44.428830Z",
     "iopub.status.busy": "2025-02-09T12:27:44.428438Z",
     "iopub.status.idle": "2025-02-09T12:27:44.442281Z",
     "shell.execute_reply": "2025-02-09T12:27:44.441071Z"
    },
    "papermill": {
     "duration": 0.041407,
     "end_time": "2025-02-09T12:27:44.443917",
     "exception": false,
     "start_time": "2025-02-09T12:27:44.402510",
     "status": "completed"
    },
    "tags": []
   },
   "outputs": [
    {
     "data": {
      "text/plain": [
       "count    891.000000\n",
       "mean      29.699118\n",
       "std       13.002015\n",
       "min        0.420000\n",
       "25%       22.000000\n",
       "50%       29.699118\n",
       "75%       35.000000\n",
       "max       80.000000\n",
       "Name: Age, dtype: float64"
      ]
     },
     "execution_count": 15,
     "metadata": {},
     "output_type": "execute_result"
    }
   ],
   "source": [
    "train['Age'].describe()"
   ]
  },
  {
   "cell_type": "markdown",
   "id": "108b73c2",
   "metadata": {
    "papermill": {
     "duration": 0.024365,
     "end_time": "2025-02-09T12:27:44.492885",
     "exception": false,
     "start_time": "2025-02-09T12:27:44.468520",
     "status": "completed"
    },
    "tags": []
   },
   "source": [
    "### Visualizations"
   ]
  },
  {
   "cell_type": "code",
   "execution_count": 16,
   "id": "56ce13d2",
   "metadata": {
    "execution": {
     "iopub.execute_input": "2025-02-09T12:27:44.543926Z",
     "iopub.status.busy": "2025-02-09T12:27:44.543461Z",
     "iopub.status.idle": "2025-02-09T12:27:44.924346Z",
     "shell.execute_reply": "2025-02-09T12:27:44.923063Z"
    },
    "papermill": {
     "duration": 0.408778,
     "end_time": "2025-02-09T12:27:44.926541",
     "exception": false,
     "start_time": "2025-02-09T12:27:44.517763",
     "status": "completed"
    },
    "tags": []
   },
   "outputs": [
    {
     "data": {
      "text/plain": [
       "<Axes: ylabel='Frequency'>"
      ]
     },
     "execution_count": 16,
     "metadata": {},
     "output_type": "execute_result"
    },
    {
     "data": {
      "image/png": "[encoded data removed]",
      "text/plain": [
       "<Figure size 640x480 with 1 Axes>"
      ]
     },
     "metadata": {},
     "output_type": "display_data"
    }
   ],
   "source": [
    "train['Age'].plot(kind='hist')"
   ]
  },
  {
   "cell_type": "code",
   "execution_count": 17,
   "id": "9a4a45b1",
   "metadata": {
    "execution": {
     "iopub.execute_input": "2025-02-09T12:27:44.985750Z",
     "iopub.status.busy": "2025-02-09T12:27:44.985414Z",
     "iopub.status.idle": "2025-02-09T12:27:45.209699Z",
     "shell.execute_reply": "2025-02-09T12:27:45.208566Z"
    },
    "papermill": {
     "duration": 0.253267,
     "end_time": "2025-02-09T12:27:45.211791",
     "exception": false,
     "start_time": "2025-02-09T12:27:44.958524",
     "status": "completed"
    },
    "tags": []
   },
   "outputs": [
    {
     "data": {
      "text/plain": [
       "<Axes: ylabel='Frequency'>"
      ]
     },
     "execution_count": 17,
     "metadata": {},
     "output_type": "execute_result"
    },
    {
     "data": {
      "image/png": "[encoded data removed]",
      "text/plain": [
       "<Figure size 640x480 with 1 Axes>"
      ]
     },
     "metadata": {},
     "output_type": "display_data"
    }
   ],
   "source": [
    "train['Age'].plot(kind='hist',bins=20)"
   ]
  },
  {
   "cell_type": "code",
   "execution_count": 18,
   "id": "45ac0f04",
   "metadata": {
    "execution": {
     "iopub.execute_input": "2025-02-09T12:27:45.263578Z",
     "iopub.status.busy": "2025-02-09T12:27:45.263189Z",
     "iopub.status.idle": "2025-02-09T12:27:45.501117Z",
     "shell.execute_reply": "2025-02-09T12:27:45.500066Z"
    },
    "papermill": {
     "duration": 0.265901,
     "end_time": "2025-02-09T12:27:45.502747",
     "exception": false,
     "start_time": "2025-02-09T12:27:45.236846",
     "status": "completed"
    },
    "tags": []
   },
   "outputs": [
    {
     "data": {
      "text/plain": [
       "<Axes: ylabel='Density'>"
      ]
     },
     "execution_count": 18,
     "metadata": {},
     "output_type": "execute_result"
    },
    {
     "data": {
      "image/png": "[encoded data removed]",
      "text/plain": [
       "<Figure size 640x480 with 1 Axes>"
      ]
     },
     "metadata": {},
     "output_type": "display_data"
    }
   ],
   "source": [
    "### kde plot\n",
    "train['Age'].plot(kind='kde')"
   ]
  },
  {
   "cell_type": "code",
   "execution_count": 19,
   "id": "a7731e6d",
   "metadata": {
    "execution": {
     "iopub.execute_input": "2025-02-09T12:27:45.556724Z",
     "iopub.status.busy": "2025-02-09T12:27:45.556382Z",
     "iopub.status.idle": "2025-02-09T12:27:45.563086Z",
     "shell.execute_reply": "2025-02-09T12:27:45.562055Z"
    },
    "papermill": {
     "duration": 0.03574,
     "end_time": "2025-02-09T12:27:45.564623",
     "exception": false,
     "start_time": "2025-02-09T12:27:45.528883",
     "status": "completed"
    },
    "tags": []
   },
   "outputs": [
    {
     "data": {
      "text/plain": [
       "np.float64(0.4344880940129925)"
      ]
     },
     "execution_count": 19,
     "metadata": {},
     "output_type": "execute_result"
    }
   ],
   "source": [
    "train['Age'].skew()"
   ]
  },
  {
   "cell_type": "code",
   "execution_count": 20,
   "id": "cf3301f3",
   "metadata": {
    "execution": {
     "iopub.execute_input": "2025-02-09T12:27:45.933286Z",
     "iopub.status.busy": "2025-02-09T12:27:45.932822Z",
     "iopub.status.idle": "2025-02-09T12:27:45.954721Z",
     "shell.execute_reply": "2025-02-09T12:27:45.953625Z"
    },
    "papermill": {
     "duration": 0.051611,
     "end_time": "2025-02-09T12:27:45.956505",
     "exception": false,
     "start_time": "2025-02-09T12:27:45.904894",
     "status": "completed"
    },
    "tags": []
   },
   "outputs": [
    {
     "data": {
      "text/html": [
       "<div>\n",
       "<style scoped>\n",
       "    .dataframe tbody tr th:only-of-type {\n",
       "        vertical-align: middle;\n",
       "    }\n",
       "\n",
       "    .dataframe tbody tr th {\n",
       "        vertical-align: top;\n",
       "    }\n",
       "\n",
       "    .dataframe thead th {\n",
       "        text-align: right;\n",
       "    }\n",
       "</style>\n",
       "<table border=\"1\" class=\"dataframe\">\n",
       "  <thead>\n",
       "    <tr style=\"text-align: right;\">\n",
       "      <th></th>\n",
       "      <th>PassengerId</th>\n",
       "      <th>Survived</th>\n",
       "      <th>Pclass</th>\n",
       "      <th>Name</th>\n",
       "      <th>Sex</th>\n",
       "      <th>Age</th>\n",
       "      <th>SibSp</th>\n",
       "      <th>Parch</th>\n",
       "      <th>Ticket</th>\n",
       "      <th>Fare</th>\n",
       "      <th>Cabin</th>\n",
       "      <th>Embarked</th>\n",
       "    </tr>\n",
       "  </thead>\n",
       "  <tbody>\n",
       "    <tr>\n",
       "      <th>33</th>\n",
       "      <td>34</td>\n",
       "      <td>0</td>\n",
       "      <td>2</td>\n",
       "      <td>Wheadon, Mr. Edward H</td>\n",
       "      <td>male</td>\n",
       "      <td>66.0</td>\n",
       "      <td>0</td>\n",
       "      <td>0</td>\n",
       "      <td>C.A. 24579</td>\n",
       "      <td>10.5000</td>\n",
       "      <td>NaN</td>\n",
       "      <td>S</td>\n",
       "    </tr>\n",
       "    <tr>\n",
       "      <th>96</th>\n",
       "      <td>97</td>\n",
       "      <td>0</td>\n",
       "      <td>1</td>\n",
       "      <td>Goldschmidt, Mr. George B</td>\n",
       "      <td>male</td>\n",
       "      <td>71.0</td>\n",
       "      <td>0</td>\n",
       "      <td>0</td>\n",
       "      <td>PC 17754</td>\n",
       "      <td>34.6542</td>\n",
       "      <td>A5</td>\n",
       "      <td>C</td>\n",
       "    </tr>\n",
       "    <tr>\n",
       "      <th>116</th>\n",
       "      <td>117</td>\n",
       "      <td>0</td>\n",
       "      <td>3</td>\n",
       "      <td>Connors, Mr. Patrick</td>\n",
       "      <td>male</td>\n",
       "      <td>70.5</td>\n",
       "      <td>0</td>\n",
       "      <td>0</td>\n",
       "      <td>370369</td>\n",
       "      <td>7.7500</td>\n",
       "      <td>NaN</td>\n",
       "      <td>Q</td>\n",
       "    </tr>\n",
       "    <tr>\n",
       "      <th>493</th>\n",
       "      <td>494</td>\n",
       "      <td>0</td>\n",
       "      <td>1</td>\n",
       "      <td>Artagaveytia, Mr. Ramon</td>\n",
       "      <td>male</td>\n",
       "      <td>71.0</td>\n",
       "      <td>0</td>\n",
       "      <td>0</td>\n",
       "      <td>PC 17609</td>\n",
       "      <td>49.5042</td>\n",
       "      <td>NaN</td>\n",
       "      <td>C</td>\n",
       "    </tr>\n",
       "    <tr>\n",
       "      <th>630</th>\n",
       "      <td>631</td>\n",
       "      <td>1</td>\n",
       "      <td>1</td>\n",
       "      <td>Barkworth, Mr. Algernon Henry Wilson</td>\n",
       "      <td>male</td>\n",
       "      <td>80.0</td>\n",
       "      <td>0</td>\n",
       "      <td>0</td>\n",
       "      <td>27042</td>\n",
       "      <td>30.0000</td>\n",
       "      <td>A23</td>\n",
       "      <td>S</td>\n",
       "    </tr>\n",
       "    <tr>\n",
       "      <th>672</th>\n",
       "      <td>673</td>\n",
       "      <td>0</td>\n",
       "      <td>2</td>\n",
       "      <td>Mitchell, Mr. Henry Michael</td>\n",
       "      <td>male</td>\n",
       "      <td>70.0</td>\n",
       "      <td>0</td>\n",
       "      <td>0</td>\n",
       "      <td>C.A. 24580</td>\n",
       "      <td>10.5000</td>\n",
       "      <td>NaN</td>\n",
       "      <td>S</td>\n",
       "    </tr>\n",
       "    <tr>\n",
       "      <th>745</th>\n",
       "      <td>746</td>\n",
       "      <td>0</td>\n",
       "      <td>1</td>\n",
       "      <td>Crosby, Capt. Edward Gifford</td>\n",
       "      <td>male</td>\n",
       "      <td>70.0</td>\n",
       "      <td>1</td>\n",
       "      <td>1</td>\n",
       "      <td>WE/P 5735</td>\n",
       "      <td>71.0000</td>\n",
       "      <td>B22</td>\n",
       "      <td>S</td>\n",
       "    </tr>\n",
       "    <tr>\n",
       "      <th>851</th>\n",
       "      <td>852</td>\n",
       "      <td>0</td>\n",
       "      <td>3</td>\n",
       "      <td>Svensson, Mr. Johan</td>\n",
       "      <td>male</td>\n",
       "      <td>74.0</td>\n",
       "      <td>0</td>\n",
       "      <td>0</td>\n",
       "      <td>347060</td>\n",
       "      <td>7.7750</td>\n",
       "      <td>NaN</td>\n",
       "      <td>S</td>\n",
       "    </tr>\n",
       "  </tbody>\n",
       "</table>\n",
       "</div>"
      ],
      "text/plain": [
       "     PassengerId  Survived  Pclass                                  Name  \\\n",
       "33            34         0       2                 Wheadon, Mr. Edward H   \n",
       "96            97         0       1             Goldschmidt, Mr. George B   \n",
       "116          117         0       3                  Connors, Mr. Patrick   \n",
       "493          494         0       1               Artagaveytia, Mr. Ramon   \n",
       "630          631         1       1  Barkworth, Mr. Algernon Henry Wilson   \n",
       "672          673         0       2           Mitchell, Mr. Henry Michael   \n",
       "745          746         0       1          Crosby, Capt. Edward Gifford   \n",
       "851          852         0       3                   Svensson, Mr. Johan   \n",
       "\n",
       "      Sex   Age  SibSp  Parch      Ticket     Fare Cabin Embarked  \n",
       "33   male  66.0      0      0  C.A. 24579  10.5000   NaN        S  \n",
       "96   male  71.0      0      0    PC 17754  34.6542    A5        C  \n",
       "116  male  70.5      0      0      370369   7.7500   NaN        Q  \n",
       "493  male  71.0      0      0    PC 17609  49.5042   NaN        C  \n",
       "630  male  80.0      0      0       27042  30.0000   A23        S  \n",
       "672  male  70.0      0      0  C.A. 24580  10.5000   NaN        S  \n",
       "745  male  70.0      1      1   WE/P 5735  71.0000   B22        S  \n",
       "851  male  74.0      0      0      347060   7.7750   NaN        S  "
      ]
     },
     "execution_count": 20,
     "metadata": {},
     "output_type": "execute_result"
    }
   ],
   "source": [
    "train[train['Age'] > 65]"
   ]
  },
  {
   "cell_type": "code",
   "execution_count": 21,
   "id": "4e243cda",
   "metadata": {
    "execution": {
     "iopub.execute_input": "2025-02-09T12:27:46.012188Z",
     "iopub.status.busy": "2025-02-09T12:27:46.011795Z",
     "iopub.status.idle": "2025-02-09T12:27:46.018293Z",
     "shell.execute_reply": "2025-02-09T12:27:46.017284Z"
    },
    "papermill": {
     "duration": 0.0355,
     "end_time": "2025-02-09T12:27:46.019864",
     "exception": false,
     "start_time": "2025-02-09T12:27:45.984364",
     "status": "completed"
    },
    "tags": []
   },
   "outputs": [
    {
     "data": {
      "text/plain": [
       "np.int64(0)"
      ]
     },
     "execution_count": 21,
     "metadata": {},
     "output_type": "execute_result"
    }
   ],
   "source": [
    "train['Age'].isna().sum()\n"
   ]
  },
  {
   "cell_type": "code",
   "execution_count": 22,
   "id": "0c7a4b7c",
   "metadata": {
    "execution": {
     "iopub.execute_input": "2025-02-09T12:27:46.075499Z",
     "iopub.status.busy": "2025-02-09T12:27:46.075134Z",
     "iopub.status.idle": "2025-02-09T12:27:46.081659Z",
     "shell.execute_reply": "2025-02-09T12:27:46.080783Z"
    },
    "papermill": {
     "duration": 0.036562,
     "end_time": "2025-02-09T12:27:46.083745",
     "exception": false,
     "start_time": "2025-02-09T12:27:46.047183",
     "status": "completed"
    },
    "tags": []
   },
   "outputs": [
    {
     "data": {
      "text/plain": [
       "np.float64(0.0)"
      ]
     },
     "execution_count": 22,
     "metadata": {},
     "output_type": "execute_result"
    }
   ],
   "source": [
    "train['Age'].isnull().sum()/len(train['Age'])"
   ]
  },
  {
   "cell_type": "markdown",
   "id": "073ddc83",
   "metadata": {
    "papermill": {
     "duration": 0.027103,
     "end_time": "2025-02-09T12:27:46.214592",
     "exception": false,
     "start_time": "2025-02-09T12:27:46.187489",
     "status": "completed"
    },
    "tags": []
   },
   "source": [
    "#### Age\n",
    "**Conclusions**\n",
    "\n",
    "- Age is almsot normally distributed\n",
    "- 19.8% of the values are missing\n",
    "- There are some outliers\n",
    "- There are 177 null values, however I fill/replace the NA values with Mean of the 'Age' column"
   ]
  },
  {
   "cell_type": "markdown",
   "id": "fa0b39bc",
   "metadata": {
    "papermill": {
     "duration": 0.026347,
     "end_time": "2025-02-09T12:27:46.267748",
     "exception": false,
     "start_time": "2025-02-09T12:27:46.241401",
     "status": "completed"
    },
    "tags": []
   },
   "source": [
    "### Fare column"
   ]
  },
  {
   "cell_type": "markdown",
   "id": "28c2a1ce",
   "metadata": {
    "papermill": {
     "duration": 0.027437,
     "end_time": "2025-02-09T12:27:46.322365",
     "exception": false,
     "start_time": "2025-02-09T12:27:46.294928",
     "status": "completed"
    },
    "tags": []
   },
   "source": [
    "### Univariate Analysis on Numerical Columns - *Fare*"
   ]
  },
  {
   "cell_type": "markdown",
   "id": "72476919",
   "metadata": {},
   "source": [
    "Univariate adalah ia an analysis technique to make the variable independent."
   ]
  },
  {
   "cell_type": "code",
   "execution_count": 23,
   "id": "0e2fc7cb",
   "metadata": {
    "execution": {
     "iopub.execute_input": "2025-02-09T12:27:46.379151Z",
     "iopub.status.busy": "2025-02-09T12:27:46.378715Z",
     "iopub.status.idle": "2025-02-09T12:27:46.387999Z",
     "shell.execute_reply": "2025-02-09T12:27:46.386908Z"
    },
    "papermill": {
     "duration": 0.039276,
     "end_time": "2025-02-09T12:27:46.389679",
     "exception": false,
     "start_time": "2025-02-09T12:27:46.350403",
     "status": "completed"
    },
    "tags": []
   },
   "outputs": [
    {
     "data": {
      "text/plain": [
       "count    891.000000\n",
       "mean      32.204208\n",
       "std       49.693429\n",
       "min        0.000000\n",
       "25%        7.910400\n",
       "50%       14.454200\n",
       "75%       31.000000\n",
       "max      512.329200\n",
       "Name: Fare, dtype: float64"
      ]
     },
     "execution_count": 23,
     "metadata": {},
     "output_type": "execute_result"
    }
   ],
   "source": [
    "train['Fare'].describe()"
   ]
  },
  {
   "cell_type": "markdown",
   "id": "4e01ba17",
   "metadata": {
    "papermill": {
     "duration": 0.026341,
     "end_time": "2025-02-09T12:27:46.443041",
     "exception": false,
     "start_time": "2025-02-09T12:27:46.416700",
     "status": "completed"
    },
    "tags": []
   },
   "source": [
    "### Visualization"
   ]
  },
  {
   "cell_type": "code",
   "execution_count": 24,
   "id": "dc1f6662",
   "metadata": {
    "execution": {
     "iopub.execute_input": "2025-02-09T12:27:46.498709Z",
     "iopub.status.busy": "2025-02-09T12:27:46.498370Z",
     "iopub.status.idle": "2025-02-09T12:27:46.709199Z",
     "shell.execute_reply": "2025-02-09T12:27:46.708038Z"
    },
    "papermill": {
     "duration": 0.24116,
     "end_time": "2025-02-09T12:27:46.710899",
     "exception": false,
     "start_time": "2025-02-09T12:27:46.469739",
     "status": "completed"
    },
    "tags": []
   },
   "outputs": [
    {
     "data": {
      "text/plain": [
       "<Axes: ylabel='Frequency'>"
      ]
     },
     "execution_count": 24,
     "metadata": {},
     "output_type": "execute_result"
    },
    {
     "data": {
      "image/png": "[encoded data removed]",
      "text/plain": [
       "<Figure size 640x480 with 1 Axes>"
      ]
     },
     "metadata": {},
     "output_type": "display_data"
    }
   ],
   "source": [
    "train['Fare'].plot(kind='hist')"
   ]
  },
  {
   "cell_type": "code",
   "execution_count": 25,
   "id": "8065a58f",
   "metadata": {
    "execution": {
     "iopub.execute_input": "2025-02-09T12:27:47.080140Z",
     "iopub.status.busy": "2025-02-09T12:27:47.079702Z",
     "iopub.status.idle": "2025-02-09T12:27:47.086416Z",
     "shell.execute_reply": "2025-02-09T12:27:47.085181Z"
    },
    "papermill": {
     "duration": 0.03788,
     "end_time": "2025-02-09T12:27:47.088254",
     "exception": false,
     "start_time": "2025-02-09T12:27:47.050374",
     "status": "completed"
    },
    "tags": []
   },
   "outputs": [
    {
     "data": {
      "text/plain": [
       "np.float64(4.787316519674893)"
      ]
     },
     "execution_count": 25,
     "metadata": {},
     "output_type": "execute_result"
    }
   ],
   "source": [
    "train['Fare'].skew()"
   ]
  },
  {
   "cell_type": "code",
   "execution_count": 26,
   "id": "a15f240e",
   "metadata": {
    "execution": {
     "iopub.execute_input": "2025-02-09T12:27:47.402529Z",
     "iopub.status.busy": "2025-02-09T12:27:47.402165Z",
     "iopub.status.idle": "2025-02-09T12:27:47.420917Z",
     "shell.execute_reply": "2025-02-09T12:27:47.419875Z"
    },
    "papermill": {
     "duration": 0.050259,
     "end_time": "2025-02-09T12:27:47.422802",
     "exception": false,
     "start_time": "2025-02-09T12:27:47.372543",
     "status": "completed"
    },
    "tags": []
   },
   "outputs": [
    {
     "data": {
      "text/html": [
       "<div>\n",
       "<style scoped>\n",
       "    .dataframe tbody tr th:only-of-type {\n",
       "        vertical-align: middle;\n",
       "    }\n",
       "\n",
       "    .dataframe tbody tr th {\n",
       "        vertical-align: top;\n",
       "    }\n",
       "\n",
       "    .dataframe thead th {\n",
       "        text-align: right;\n",
       "    }\n",
       "</style>\n",
       "<table border=\"1\" class=\"dataframe\">\n",
       "  <thead>\n",
       "    <tr style=\"text-align: right;\">\n",
       "      <th></th>\n",
       "      <th>PassengerId</th>\n",
       "      <th>Survived</th>\n",
       "      <th>Pclass</th>\n",
       "      <th>Name</th>\n",
       "      <th>Sex</th>\n",
       "      <th>Age</th>\n",
       "      <th>SibSp</th>\n",
       "      <th>Parch</th>\n",
       "      <th>Ticket</th>\n",
       "      <th>Fare</th>\n",
       "      <th>Cabin</th>\n",
       "      <th>Embarked</th>\n",
       "    </tr>\n",
       "  </thead>\n",
       "  <tbody>\n",
       "    <tr>\n",
       "      <th>27</th>\n",
       "      <td>28</td>\n",
       "      <td>0</td>\n",
       "      <td>1</td>\n",
       "      <td>Fortune, Mr. Charles Alexander</td>\n",
       "      <td>male</td>\n",
       "      <td>19.000000</td>\n",
       "      <td>3</td>\n",
       "      <td>2</td>\n",
       "      <td>19950</td>\n",
       "      <td>263.0000</td>\n",
       "      <td>C23 C25 C27</td>\n",
       "      <td>S</td>\n",
       "    </tr>\n",
       "    <tr>\n",
       "      <th>88</th>\n",
       "      <td>89</td>\n",
       "      <td>1</td>\n",
       "      <td>1</td>\n",
       "      <td>Fortune, Miss. Mabel Helen</td>\n",
       "      <td>female</td>\n",
       "      <td>23.000000</td>\n",
       "      <td>3</td>\n",
       "      <td>2</td>\n",
       "      <td>19950</td>\n",
       "      <td>263.0000</td>\n",
       "      <td>C23 C25 C27</td>\n",
       "      <td>S</td>\n",
       "    </tr>\n",
       "    <tr>\n",
       "      <th>118</th>\n",
       "      <td>119</td>\n",
       "      <td>0</td>\n",
       "      <td>1</td>\n",
       "      <td>Baxter, Mr. Quigg Edmond</td>\n",
       "      <td>male</td>\n",
       "      <td>24.000000</td>\n",
       "      <td>0</td>\n",
       "      <td>1</td>\n",
       "      <td>PC 17558</td>\n",
       "      <td>247.5208</td>\n",
       "      <td>B58 B60</td>\n",
       "      <td>C</td>\n",
       "    </tr>\n",
       "    <tr>\n",
       "      <th>258</th>\n",
       "      <td>259</td>\n",
       "      <td>1</td>\n",
       "      <td>1</td>\n",
       "      <td>Ward, Miss. Anna</td>\n",
       "      <td>female</td>\n",
       "      <td>35.000000</td>\n",
       "      <td>0</td>\n",
       "      <td>0</td>\n",
       "      <td>PC 17755</td>\n",
       "      <td>512.3292</td>\n",
       "      <td>NaN</td>\n",
       "      <td>C</td>\n",
       "    </tr>\n",
       "    <tr>\n",
       "      <th>299</th>\n",
       "      <td>300</td>\n",
       "      <td>1</td>\n",
       "      <td>1</td>\n",
       "      <td>Baxter, Mrs. James (Helene DeLaudeniere Chaput)</td>\n",
       "      <td>female</td>\n",
       "      <td>50.000000</td>\n",
       "      <td>0</td>\n",
       "      <td>1</td>\n",
       "      <td>PC 17558</td>\n",
       "      <td>247.5208</td>\n",
       "      <td>B58 B60</td>\n",
       "      <td>C</td>\n",
       "    </tr>\n",
       "    <tr>\n",
       "      <th>311</th>\n",
       "      <td>312</td>\n",
       "      <td>1</td>\n",
       "      <td>1</td>\n",
       "      <td>Ryerson, Miss. Emily Borie</td>\n",
       "      <td>female</td>\n",
       "      <td>18.000000</td>\n",
       "      <td>2</td>\n",
       "      <td>2</td>\n",
       "      <td>PC 17608</td>\n",
       "      <td>262.3750</td>\n",
       "      <td>B57 B59 B63 B66</td>\n",
       "      <td>C</td>\n",
       "    </tr>\n",
       "    <tr>\n",
       "      <th>341</th>\n",
       "      <td>342</td>\n",
       "      <td>1</td>\n",
       "      <td>1</td>\n",
       "      <td>Fortune, Miss. Alice Elizabeth</td>\n",
       "      <td>female</td>\n",
       "      <td>24.000000</td>\n",
       "      <td>3</td>\n",
       "      <td>2</td>\n",
       "      <td>19950</td>\n",
       "      <td>263.0000</td>\n",
       "      <td>C23 C25 C27</td>\n",
       "      <td>S</td>\n",
       "    </tr>\n",
       "    <tr>\n",
       "      <th>377</th>\n",
       "      <td>378</td>\n",
       "      <td>0</td>\n",
       "      <td>1</td>\n",
       "      <td>Widener, Mr. Harry Elkins</td>\n",
       "      <td>male</td>\n",
       "      <td>27.000000</td>\n",
       "      <td>0</td>\n",
       "      <td>2</td>\n",
       "      <td>113503</td>\n",
       "      <td>211.5000</td>\n",
       "      <td>C82</td>\n",
       "      <td>C</td>\n",
       "    </tr>\n",
       "    <tr>\n",
       "      <th>380</th>\n",
       "      <td>381</td>\n",
       "      <td>1</td>\n",
       "      <td>1</td>\n",
       "      <td>Bidois, Miss. Rosalie</td>\n",
       "      <td>female</td>\n",
       "      <td>42.000000</td>\n",
       "      <td>0</td>\n",
       "      <td>0</td>\n",
       "      <td>PC 17757</td>\n",
       "      <td>227.5250</td>\n",
       "      <td>NaN</td>\n",
       "      <td>C</td>\n",
       "    </tr>\n",
       "    <tr>\n",
       "      <th>438</th>\n",
       "      <td>439</td>\n",
       "      <td>0</td>\n",
       "      <td>1</td>\n",
       "      <td>Fortune, Mr. Mark</td>\n",
       "      <td>male</td>\n",
       "      <td>64.000000</td>\n",
       "      <td>1</td>\n",
       "      <td>4</td>\n",
       "      <td>19950</td>\n",
       "      <td>263.0000</td>\n",
       "      <td>C23 C25 C27</td>\n",
       "      <td>S</td>\n",
       "    </tr>\n",
       "    <tr>\n",
       "      <th>527</th>\n",
       "      <td>528</td>\n",
       "      <td>0</td>\n",
       "      <td>1</td>\n",
       "      <td>Farthing, Mr. John</td>\n",
       "      <td>male</td>\n",
       "      <td>29.699118</td>\n",
       "      <td>0</td>\n",
       "      <td>0</td>\n",
       "      <td>PC 17483</td>\n",
       "      <td>221.7792</td>\n",
       "      <td>C95</td>\n",
       "      <td>S</td>\n",
       "    </tr>\n",
       "    <tr>\n",
       "      <th>557</th>\n",
       "      <td>558</td>\n",
       "      <td>0</td>\n",
       "      <td>1</td>\n",
       "      <td>Robbins, Mr. Victor</td>\n",
       "      <td>male</td>\n",
       "      <td>29.699118</td>\n",
       "      <td>0</td>\n",
       "      <td>0</td>\n",
       "      <td>PC 17757</td>\n",
       "      <td>227.5250</td>\n",
       "      <td>NaN</td>\n",
       "      <td>C</td>\n",
       "    </tr>\n",
       "    <tr>\n",
       "      <th>679</th>\n",
       "      <td>680</td>\n",
       "      <td>1</td>\n",
       "      <td>1</td>\n",
       "      <td>Cardeza, Mr. Thomas Drake Martinez</td>\n",
       "      <td>male</td>\n",
       "      <td>36.000000</td>\n",
       "      <td>0</td>\n",
       "      <td>1</td>\n",
       "      <td>PC 17755</td>\n",
       "      <td>512.3292</td>\n",
       "      <td>B51 B53 B55</td>\n",
       "      <td>C</td>\n",
       "    </tr>\n",
       "    <tr>\n",
       "      <th>689</th>\n",
       "      <td>690</td>\n",
       "      <td>1</td>\n",
       "      <td>1</td>\n",
       "      <td>Madill, Miss. Georgette Alexandra</td>\n",
       "      <td>female</td>\n",
       "      <td>15.000000</td>\n",
       "      <td>0</td>\n",
       "      <td>1</td>\n",
       "      <td>24160</td>\n",
       "      <td>211.3375</td>\n",
       "      <td>B5</td>\n",
       "      <td>S</td>\n",
       "    </tr>\n",
       "    <tr>\n",
       "      <th>700</th>\n",
       "      <td>701</td>\n",
       "      <td>1</td>\n",
       "      <td>1</td>\n",
       "      <td>Astor, Mrs. John Jacob (Madeleine Talmadge Force)</td>\n",
       "      <td>female</td>\n",
       "      <td>18.000000</td>\n",
       "      <td>1</td>\n",
       "      <td>0</td>\n",
       "      <td>PC 17757</td>\n",
       "      <td>227.5250</td>\n",
       "      <td>C62 C64</td>\n",
       "      <td>C</td>\n",
       "    </tr>\n",
       "    <tr>\n",
       "      <th>716</th>\n",
       "      <td>717</td>\n",
       "      <td>1</td>\n",
       "      <td>1</td>\n",
       "      <td>Endres, Miss. Caroline Louise</td>\n",
       "      <td>female</td>\n",
       "      <td>38.000000</td>\n",
       "      <td>0</td>\n",
       "      <td>0</td>\n",
       "      <td>PC 17757</td>\n",
       "      <td>227.5250</td>\n",
       "      <td>C45</td>\n",
       "      <td>C</td>\n",
       "    </tr>\n",
       "    <tr>\n",
       "      <th>730</th>\n",
       "      <td>731</td>\n",
       "      <td>1</td>\n",
       "      <td>1</td>\n",
       "      <td>Allen, Miss. Elisabeth Walton</td>\n",
       "      <td>female</td>\n",
       "      <td>29.000000</td>\n",
       "      <td>0</td>\n",
       "      <td>0</td>\n",
       "      <td>24160</td>\n",
       "      <td>211.3375</td>\n",
       "      <td>B5</td>\n",
       "      <td>S</td>\n",
       "    </tr>\n",
       "    <tr>\n",
       "      <th>737</th>\n",
       "      <td>738</td>\n",
       "      <td>1</td>\n",
       "      <td>1</td>\n",
       "      <td>Lesurer, Mr. Gustave J</td>\n",
       "      <td>male</td>\n",
       "      <td>35.000000</td>\n",
       "      <td>0</td>\n",
       "      <td>0</td>\n",
       "      <td>PC 17755</td>\n",
       "      <td>512.3292</td>\n",
       "      <td>B101</td>\n",
       "      <td>C</td>\n",
       "    </tr>\n",
       "    <tr>\n",
       "      <th>742</th>\n",
       "      <td>743</td>\n",
       "      <td>1</td>\n",
       "      <td>1</td>\n",
       "      <td>Ryerson, Miss. Susan Parker \"Suzette\"</td>\n",
       "      <td>female</td>\n",
       "      <td>21.000000</td>\n",
       "      <td>2</td>\n",
       "      <td>2</td>\n",
       "      <td>PC 17608</td>\n",
       "      <td>262.3750</td>\n",
       "      <td>B57 B59 B63 B66</td>\n",
       "      <td>C</td>\n",
       "    </tr>\n",
       "    <tr>\n",
       "      <th>779</th>\n",
       "      <td>780</td>\n",
       "      <td>1</td>\n",
       "      <td>1</td>\n",
       "      <td>Robert, Mrs. Edward Scott (Elisabeth Walton Mc...</td>\n",
       "      <td>female</td>\n",
       "      <td>43.000000</td>\n",
       "      <td>0</td>\n",
       "      <td>1</td>\n",
       "      <td>24160</td>\n",
       "      <td>211.3375</td>\n",
       "      <td>B3</td>\n",
       "      <td>S</td>\n",
       "    </tr>\n",
       "  </tbody>\n",
       "</table>\n",
       "</div>"
      ],
      "text/plain": [
       "     PassengerId  Survived  Pclass  \\\n",
       "27            28         0       1   \n",
       "88            89         1       1   \n",
       "118          119         0       1   \n",
       "258          259         1       1   \n",
       "299          300         1       1   \n",
       "311          312         1       1   \n",
       "341          342         1       1   \n",
       "377          378         0       1   \n",
       "380          381         1       1   \n",
       "438          439         0       1   \n",
       "527          528         0       1   \n",
       "557          558         0       1   \n",
       "679          680         1       1   \n",
       "689          690         1       1   \n",
       "700          701         1       1   \n",
       "716          717         1       1   \n",
       "730          731         1       1   \n",
       "737          738         1       1   \n",
       "742          743         1       1   \n",
       "779          780         1       1   \n",
       "\n",
       "                                                  Name     Sex        Age  \\\n",
       "27                      Fortune, Mr. Charles Alexander    male  19.000000   \n",
       "88                          Fortune, Miss. Mabel Helen  female  23.000000   \n",
       "118                           Baxter, Mr. Quigg Edmond    male  24.000000   \n",
       "258                                   Ward, Miss. Anna  female  35.000000   \n",
       "299    Baxter, Mrs. James (Helene DeLaudeniere Chaput)  female  50.000000   \n",
       "311                         Ryerson, Miss. Emily Borie  female  18.000000   \n",
       "341                     Fortune, Miss. Alice Elizabeth  female  24.000000   \n",
       "377                          Widener, Mr. Harry Elkins    male  27.000000   \n",
       "380                              Bidois, Miss. Rosalie  female  42.000000   \n",
       "438                                  Fortune, Mr. Mark    male  64.000000   \n",
       "527                                 Farthing, Mr. John    male  29.699118   \n",
       "557                                Robbins, Mr. Victor    male  29.699118   \n",
       "679                 Cardeza, Mr. Thomas Drake Martinez    male  36.000000   \n",
       "689                  Madill, Miss. Georgette Alexandra  female  15.000000   \n",
       "700  Astor, Mrs. John Jacob (Madeleine Talmadge Force)  female  18.000000   \n",
       "716                      Endres, Miss. Caroline Louise  female  38.000000   \n",
       "730                      Allen, Miss. Elisabeth Walton  female  29.000000   \n",
       "737                             Lesurer, Mr. Gustave J    male  35.000000   \n",
       "742              Ryerson, Miss. Susan Parker \"Suzette\"  female  21.000000   \n",
       "779  Robert, Mrs. Edward Scott (Elisabeth Walton Mc...  female  43.000000   \n",
       "\n",
       "     SibSp  Parch    Ticket      Fare            Cabin Embarked  \n",
       "27       3      2     19950  263.0000      C23 C25 C27        S  \n",
       "88       3      2     19950  263.0000      C23 C25 C27        S  \n",
       "118      0      1  PC 17558  247.5208          B58 B60        C  \n",
       "258      0      0  PC 17755  512.3292              NaN        C  \n",
       "299      0      1  PC 17558  247.5208          B58 B60        C  \n",
       "311      2      2  PC 17608  262.3750  B57 B59 B63 B66        C  \n",
       "341      3      2     19950  263.0000      C23 C25 C27        S  \n",
       "377      0      2    113503  211.5000              C82        C  \n",
       "380      0      0  PC 17757  227.5250              NaN        C  \n",
       "438      1      4     19950  263.0000      C23 C25 C27        S  \n",
       "527      0      0  PC 17483  221.7792              C95        S  \n",
       "557      0      0  PC 17757  227.5250              NaN        C  \n",
       "679      0      1  PC 17755  512.3292      B51 B53 B55        C  \n",
       "689      0      1     24160  211.3375               B5        S  \n",
       "700      1      0  PC 17757  227.5250          C62 C64        C  \n",
       "716      0      0  PC 17757  227.5250              C45        C  \n",
       "730      0      0     24160  211.3375               B5        S  \n",
       "737      0      0  PC 17755  512.3292             B101        C  \n",
       "742      2      2  PC 17608  262.3750  B57 B59 B63 B66        C  \n",
       "779      0      1     24160  211.3375               B3        S  "
      ]
     },
     "execution_count": 26,
     "metadata": {},
     "output_type": "execute_result"
    }
   ],
   "source": [
    "train[train['Fare'] > 200]"
   ]
  },
  {
   "cell_type": "code",
   "execution_count": 27,
   "id": "75e76a17",
   "metadata": {
    "execution": {
     "iopub.execute_input": "2025-02-09T12:27:47.483758Z",
     "iopub.status.busy": "2025-02-09T12:27:47.483386Z",
     "iopub.status.idle": "2025-02-09T12:27:47.497932Z",
     "shell.execute_reply": "2025-02-09T12:27:47.497021Z"
    },
    "papermill": {
     "duration": 0.046769,
     "end_time": "2025-02-09T12:27:47.499538",
     "exception": false,
     "start_time": "2025-02-09T12:27:47.452769",
     "status": "completed"
    },
    "tags": []
   },
   "outputs": [
    {
     "data": {
      "text/html": [
       "<div>\n",
       "<style scoped>\n",
       "    .dataframe tbody tr th:only-of-type {\n",
       "        vertical-align: middle;\n",
       "    }\n",
       "\n",
       "    .dataframe tbody tr th {\n",
       "        vertical-align: top;\n",
       "    }\n",
       "\n",
       "    .dataframe thead th {\n",
       "        text-align: right;\n",
       "    }\n",
       "</style>\n",
       "<table border=\"1\" class=\"dataframe\">\n",
       "  <thead>\n",
       "    <tr style=\"text-align: right;\">\n",
       "      <th></th>\n",
       "      <th>PassengerId</th>\n",
       "      <th>Survived</th>\n",
       "      <th>Pclass</th>\n",
       "      <th>Name</th>\n",
       "      <th>Sex</th>\n",
       "      <th>Age</th>\n",
       "      <th>SibSp</th>\n",
       "      <th>Parch</th>\n",
       "      <th>Ticket</th>\n",
       "      <th>Fare</th>\n",
       "      <th>Cabin</th>\n",
       "      <th>Embarked</th>\n",
       "    </tr>\n",
       "  </thead>\n",
       "  <tbody>\n",
       "    <tr>\n",
       "      <th>258</th>\n",
       "      <td>259</td>\n",
       "      <td>1</td>\n",
       "      <td>1</td>\n",
       "      <td>Ward, Miss. Anna</td>\n",
       "      <td>female</td>\n",
       "      <td>35.0</td>\n",
       "      <td>0</td>\n",
       "      <td>0</td>\n",
       "      <td>PC 17755</td>\n",
       "      <td>512.3292</td>\n",
       "      <td>NaN</td>\n",
       "      <td>C</td>\n",
       "    </tr>\n",
       "    <tr>\n",
       "      <th>679</th>\n",
       "      <td>680</td>\n",
       "      <td>1</td>\n",
       "      <td>1</td>\n",
       "      <td>Cardeza, Mr. Thomas Drake Martinez</td>\n",
       "      <td>male</td>\n",
       "      <td>36.0</td>\n",
       "      <td>0</td>\n",
       "      <td>1</td>\n",
       "      <td>PC 17755</td>\n",
       "      <td>512.3292</td>\n",
       "      <td>B51 B53 B55</td>\n",
       "      <td>C</td>\n",
       "    </tr>\n",
       "    <tr>\n",
       "      <th>737</th>\n",
       "      <td>738</td>\n",
       "      <td>1</td>\n",
       "      <td>1</td>\n",
       "      <td>Lesurer, Mr. Gustave J</td>\n",
       "      <td>male</td>\n",
       "      <td>35.0</td>\n",
       "      <td>0</td>\n",
       "      <td>0</td>\n",
       "      <td>PC 17755</td>\n",
       "      <td>512.3292</td>\n",
       "      <td>B101</td>\n",
       "      <td>C</td>\n",
       "    </tr>\n",
       "  </tbody>\n",
       "</table>\n",
       "</div>"
      ],
      "text/plain": [
       "     PassengerId  Survived  Pclass                                Name  \\\n",
       "258          259         1       1                    Ward, Miss. Anna   \n",
       "679          680         1       1  Cardeza, Mr. Thomas Drake Martinez   \n",
       "737          738         1       1              Lesurer, Mr. Gustave J   \n",
       "\n",
       "        Sex   Age  SibSp  Parch    Ticket      Fare        Cabin Embarked  \n",
       "258  female  35.0      0      0  PC 17755  512.3292          NaN        C  \n",
       "679    male  36.0      0      1  PC 17755  512.3292  B51 B53 B55        C  \n",
       "737    male  35.0      0      0  PC 17755  512.3292         B101        C  "
      ]
     },
     "execution_count": 27,
     "metadata": {},
     "output_type": "execute_result"
    }
   ],
   "source": [
    "train[train['Fare'] > 300]"
   ]
  },
  {
   "cell_type": "code",
   "execution_count": 28,
   "id": "1472b5d6",
   "metadata": {
    "execution": {
     "iopub.execute_input": "2025-02-09T12:27:47.560431Z",
     "iopub.status.busy": "2025-02-09T12:27:47.560073Z",
     "iopub.status.idle": "2025-02-09T12:27:47.566619Z",
     "shell.execute_reply": "2025-02-09T12:27:47.565536Z"
    },
    "papermill": {
     "duration": 0.039537,
     "end_time": "2025-02-09T12:27:47.568385",
     "exception": false,
     "start_time": "2025-02-09T12:27:47.528848",
     "status": "completed"
    },
    "tags": []
   },
   "outputs": [
    {
     "data": {
      "text/plain": [
       "np.int64(0)"
      ]
     },
     "execution_count": 28,
     "metadata": {},
     "output_type": "execute_result"
    }
   ],
   "source": [
    "train['Fare'].isnull().sum()"
   ]
  },
  {
   "cell_type": "markdown",
   "id": "7d2c00ea",
   "metadata": {
    "papermill": {
     "duration": 0.0288,
     "end_time": "2025-02-09T12:27:47.626510",
     "exception": false,
     "start_time": "2025-02-09T12:27:47.597710",
     "status": "completed"
    },
    "tags": []
   },
   "source": [
    "#### Fare\n",
    "**Conclusion**\n",
    "- The data is highly (positive) and skewed (right skewed)\n",
    "- The more you pay, the more you survived :)"
   ]
  },
  {
   "cell_type": "markdown",
   "id": "5429282a",
   "metadata": {
    "papermill": {
     "duration": 0.029552,
     "end_time": "2025-02-09T12:27:47.685755",
     "exception": false,
     "start_time": "2025-02-09T12:27:47.656203",
     "status": "completed"
    },
    "tags": []
   },
   "source": [
    "### Analysis on Categorical Columns "
   ]
  },
  {
   "cell_type": "markdown",
   "id": "6dcb94ca",
   "metadata": {
    "papermill": {
     "duration": 0.029166,
     "end_time": "2025-02-09T12:27:47.744704",
     "exception": false,
     "start_time": "2025-02-09T12:27:47.715538",
     "status": "completed"
    },
    "tags": []
   },
   "source": [
    "### Survived"
   ]
  },
  {
   "cell_type": "code",
   "execution_count": 29,
   "id": "1f27051f",
   "metadata": {
    "execution": {
     "iopub.execute_input": "2025-02-09T12:27:47.806481Z",
     "iopub.status.busy": "2025-02-09T12:27:47.806129Z",
     "iopub.status.idle": "2025-02-09T12:27:47.816640Z",
     "shell.execute_reply": "2025-02-09T12:27:47.815715Z"
    },
    "papermill": {
     "duration": 0.043699,
     "end_time": "2025-02-09T12:27:47.818407",
     "exception": false,
     "start_time": "2025-02-09T12:27:47.774708",
     "status": "completed"
    },
    "tags": []
   },
   "outputs": [
    {
     "data": {
      "text/plain": [
       "Survived\n",
       "0    549\n",
       "1    342\n",
       "Name: count, dtype: int64"
      ]
     },
     "execution_count": 29,
     "metadata": {},
     "output_type": "execute_result"
    }
   ],
   "source": [
    "train['Survived'].value_counts()"
   ]
  },
  {
   "cell_type": "code",
   "execution_count": 30,
   "id": "6b19598b",
   "metadata": {
    "execution": {
     "iopub.execute_input": "2025-02-09T12:27:47.878818Z",
     "iopub.status.busy": "2025-02-09T12:27:47.878469Z",
     "iopub.status.idle": "2025-02-09T12:27:48.115907Z",
     "shell.execute_reply": "2025-02-09T12:27:48.114853Z"
    },
    "papermill": {
     "duration": 0.269476,
     "end_time": "2025-02-09T12:27:48.117651",
     "exception": false,
     "start_time": "2025-02-09T12:27:47.848175",
     "status": "completed"
    },
    "tags": []
   },
   "outputs": [
    {
     "data": {
      "text/plain": [
       "<Axes: xlabel='Survived'>"
      ]
     },
     "execution_count": 30,
     "metadata": {},
     "output_type": "execute_result"
    },
    {
     "data": {
      "image/png": "[encoded data removed]",
      "text/plain": [
       "<Figure size 640x480 with 1 Axes>"
      ]
     },
     "metadata": {},
     "output_type": "display_data"
    }
   ],
   "source": [
    "train['Survived'].value_counts().plot(kind='bar')"
   ]
  },
  {
   "cell_type": "code",
   "execution_count": 31,
   "id": "c37feeb3",
   "metadata": {
    "execution": {
     "iopub.execute_input": "2025-02-09T12:27:48.179056Z",
     "iopub.status.busy": "2025-02-09T12:27:48.178657Z",
     "iopub.status.idle": "2025-02-09T12:27:48.283855Z",
     "shell.execute_reply": "2025-02-09T12:27:48.282858Z"
    },
    "papermill": {
     "duration": 0.13767,
     "end_time": "2025-02-09T12:27:48.285582",
     "exception": false,
     "start_time": "2025-02-09T12:27:48.147912",
     "status": "completed"
    },
    "tags": []
   },
   "outputs": [
    {
     "data": {
      "text/plain": [
       "<Axes: ylabel='count'>"
      ]
     },
     "execution_count": 31,
     "metadata": {},
     "output_type": "execute_result"
    },
    {
     "data": {
      "image/png": "[encoded data removed]",
      "text/plain": [
       "<Figure size 640x480 with 1 Axes>"
      ]
     },
     "metadata": {},
     "output_type": "display_data"
    }
   ],
   "source": [
    "train['Survived'].value_counts().plot(kind='pie', autopct='%.2f%%')"
   ]
  },
  {
   "cell_type": "code",
   "execution_count": 32,
   "id": "75fd1f92",
   "metadata": {
    "execution": {
     "iopub.execute_input": "2025-02-09T12:27:48.347331Z",
     "iopub.status.busy": "2025-02-09T12:27:48.346920Z",
     "iopub.status.idle": "2025-02-09T12:27:48.353491Z",
     "shell.execute_reply": "2025-02-09T12:27:48.352260Z"
    },
    "papermill": {
     "duration": 0.039375,
     "end_time": "2025-02-09T12:27:48.355175",
     "exception": false,
     "start_time": "2025-02-09T12:27:48.315800",
     "status": "completed"
    },
    "tags": []
   },
   "outputs": [
    {
     "data": {
      "text/plain": [
       "np.int64(0)"
      ]
     },
     "execution_count": 32,
     "metadata": {},
     "output_type": "execute_result"
    }
   ],
   "source": [
    "train['Survived'].isnull().sum()"
   ]
  },
  {
   "cell_type": "markdown",
   "id": "97ee8d66",
   "metadata": {
    "papermill": {
     "duration": 0.030805,
     "end_time": "2025-02-09T12:27:48.416188",
     "exception": false,
     "start_time": "2025-02-09T12:27:48.385383",
     "status": "completed"
    },
    "tags": []
   },
   "source": [
    "#### Survived\n",
    "**Conclusion**\n",
    "- More than 60% (61.62%) people couldn't survived and only 38% people survived.\n",
    "- Survived (0) means couldn't survived however Survived (1) means survived.\n",
    "- There is no any missing values"
   ]
  },
  {
   "cell_type": "markdown",
   "id": "69d9ebc2",
   "metadata": {
    "papermill": {
     "duration": 0.029745,
     "end_time": "2025-02-09T12:27:48.476166",
     "exception": false,
     "start_time": "2025-02-09T12:27:48.446421",
     "status": "completed"
    },
    "tags": []
   },
   "source": [
    "### PClass"
   ]
  },
  {
   "cell_type": "code",
   "execution_count": 33,
   "id": "b1253787",
   "metadata": {
    "execution": {
     "iopub.execute_input": "2025-02-09T12:27:48.537953Z",
     "iopub.status.busy": "2025-02-09T12:27:48.537581Z",
     "iopub.status.idle": "2025-02-09T12:27:48.544853Z",
     "shell.execute_reply": "2025-02-09T12:27:48.544035Z"
    },
    "papermill": {
     "duration": 0.040498,
     "end_time": "2025-02-09T12:27:48.546498",
     "exception": false,
     "start_time": "2025-02-09T12:27:48.506000",
     "status": "completed"
    },
    "tags": []
   },
   "outputs": [
    {
     "data": {
      "text/plain": [
       "Pclass\n",
       "3    491\n",
       "1    216\n",
       "2    184\n",
       "Name: count, dtype: int64"
      ]
     },
     "execution_count": 33,
     "metadata": {},
     "output_type": "execute_result"
    }
   ],
   "source": [
    "train['Pclass'].value_counts()"
   ]
  },
  {
   "cell_type": "code",
   "execution_count": 34,
   "id": "b7987ea5",
   "metadata": {
    "execution": {
     "iopub.execute_input": "2025-02-09T12:27:48.608752Z",
     "iopub.status.busy": "2025-02-09T12:27:48.608378Z",
     "iopub.status.idle": "2025-02-09T12:27:48.763187Z",
     "shell.execute_reply": "2025-02-09T12:27:48.762061Z"
    },
    "papermill": {
     "duration": 0.187821,
     "end_time": "2025-02-09T12:27:48.764885",
     "exception": false,
     "start_time": "2025-02-09T12:27:48.577064",
     "status": "completed"
    },
    "tags": []
   },
   "outputs": [
    {
     "data": {
      "text/plain": [
       "<Axes: xlabel='Pclass'>"
      ]
     },
     "execution_count": 34,
     "metadata": {},
     "output_type": "execute_result"
    },
    {
     "data": {
      "image/png": "[encoded data removed]",
      "text/plain": [
       "<Figure size 640x480 with 1 Axes>"
      ]
     },
     "metadata": {},
     "output_type": "display_data"
    }
   ],
   "source": [
    "train['Pclass'].value_counts().plot(kind='bar')"
   ]
  },
  {
   "cell_type": "code",
   "execution_count": 35,
   "id": "e3e60c92",
   "metadata": {
    "execution": {
     "iopub.execute_input": "2025-02-09T12:27:48.829459Z",
     "iopub.status.busy": "2025-02-09T12:27:48.829049Z",
     "iopub.status.idle": "2025-02-09T12:27:48.929161Z",
     "shell.execute_reply": "2025-02-09T12:27:48.927910Z"
    },
    "papermill": {
     "duration": 0.134055,
     "end_time": "2025-02-09T12:27:48.930821",
     "exception": false,
     "start_time": "2025-02-09T12:27:48.796766",
     "status": "completed"
    },
    "tags": []
   },
   "outputs": [
    {
     "data": {
      "text/plain": [
       "<Axes: ylabel='count'>"
      ]
     },
     "execution_count": 35,
     "metadata": {},
     "output_type": "execute_result"
    },
    {
     "data": {
      "image/png": "[encoded data removed]",
      "text/plain": [
       "<Figure size 640x480 with 1 Axes>"
      ]
     },
     "metadata": {},
     "output_type": "display_data"
    }
   ],
   "source": [
    "train['Pclass'].value_counts().plot(kind='pie', autopct='%.2f%%')"
   ]
  },
  {
   "cell_type": "code",
   "execution_count": 36,
   "id": "a44c543f",
   "metadata": {
    "execution": {
     "iopub.execute_input": "2025-02-09T12:27:48.998161Z",
     "iopub.status.busy": "2025-02-09T12:27:48.997734Z",
     "iopub.status.idle": "2025-02-09T12:27:49.004355Z",
     "shell.execute_reply": "2025-02-09T12:27:49.003347Z"
    },
    "papermill": {
     "duration": 0.04297,
     "end_time": "2025-02-09T12:27:49.006047",
     "exception": false,
     "start_time": "2025-02-09T12:27:48.963077",
     "status": "completed"
    },
    "tags": []
   },
   "outputs": [
    {
     "data": {
      "text/plain": [
       "np.int64(0)"
      ]
     },
     "execution_count": 36,
     "metadata": {},
     "output_type": "execute_result"
    }
   ],
   "source": [
    "train['Pclass'].isnull().sum()"
   ]
  },
  {
   "cell_type": "markdown",
   "id": "d92ed161",
   "metadata": {
    "papermill": {
     "duration": 0.031145,
     "end_time": "2025-02-09T12:27:49.069704",
     "exception": false,
     "start_time": "2025-02-09T12:27:49.038559",
     "status": "completed"
    },
    "tags": []
   },
   "source": [
    "#### Pclass\n",
    "**Conclusion**\n",
    "- There are 3 types of class 1 (highest), 2 (medium), 3(lowest)\n",
    "- 55% in class 3, 20% in class 2 and 24% in class 1.\n",
    "- There is no any null value"
   ]
  },
  {
   "cell_type": "markdown",
   "id": "a6e3a267",
   "metadata": {
    "papermill": {
     "duration": 0.034164,
     "end_time": "2025-02-09T12:27:49.135411",
     "exception": false,
     "start_time": "2025-02-09T12:27:49.101247",
     "status": "completed"
    },
    "tags": []
   },
   "source": [
    "### Sex"
   ]
  },
  {
   "cell_type": "code",
   "execution_count": 37,
   "id": "c4240e65",
   "metadata": {
    "execution": {
     "iopub.execute_input": "2025-02-09T12:27:49.200693Z",
     "iopub.status.busy": "2025-02-09T12:27:49.200299Z",
     "iopub.status.idle": "2025-02-09T12:27:49.208030Z",
     "shell.execute_reply": "2025-02-09T12:27:49.206971Z"
    },
    "papermill": {
     "duration": 0.042289,
     "end_time": "2025-02-09T12:27:49.209682",
     "exception": false,
     "start_time": "2025-02-09T12:27:49.167393",
     "status": "completed"
    },
    "tags": []
   },
   "outputs": [
    {
     "data": {
      "text/plain": [
       "Sex\n",
       "male      577\n",
       "female    314\n",
       "Name: count, dtype: int64"
      ]
     },
     "execution_count": 37,
     "metadata": {},
     "output_type": "execute_result"
    }
   ],
   "source": [
    "train['Sex'].value_counts()"
   ]
  },
  {
   "cell_type": "code",
   "execution_count": 38,
   "id": "f9b82d7a",
   "metadata": {
    "execution": {
     "iopub.execute_input": "2025-02-09T12:27:49.274114Z",
     "iopub.status.busy": "2025-02-09T12:27:49.273713Z",
     "iopub.status.idle": "2025-02-09T12:27:49.424025Z",
     "shell.execute_reply": "2025-02-09T12:27:49.422878Z"
    },
    "papermill": {
     "duration": 0.184272,
     "end_time": "2025-02-09T12:27:49.425837",
     "exception": false,
     "start_time": "2025-02-09T12:27:49.241565",
     "status": "completed"
    },
    "tags": []
   },
   "outputs": [
    {
     "data": {
      "text/plain": [
       "<Axes: xlabel='Sex'>"
      ]
     },
     "execution_count": 38,
     "metadata": {},
     "output_type": "execute_result"
    },
    {
     "data": {
      "image/png": "[encoded data removed]",
      "text/plain": [
       "<Figure size 640x480 with 1 Axes>"
      ]
     },
     "metadata": {},
     "output_type": "display_data"
    }
   ],
   "source": [
    "train['Sex'].value_counts().plot(kind='bar')"
   ]
  },
  {
   "cell_type": "code",
   "execution_count": 39,
   "id": "e0eb3ffc",
   "metadata": {
    "execution": {
     "iopub.execute_input": "2025-02-09T12:27:49.491551Z",
     "iopub.status.busy": "2025-02-09T12:27:49.491188Z",
     "iopub.status.idle": "2025-02-09T12:27:49.586980Z",
     "shell.execute_reply": "2025-02-09T12:27:49.585854Z"
    },
    "papermill": {
     "duration": 0.130363,
     "end_time": "2025-02-09T12:27:49.588746",
     "exception": false,
     "start_time": "2025-02-09T12:27:49.458383",
     "status": "completed"
    },
    "tags": []
   },
   "outputs": [
    {
     "data": {
      "text/plain": [
       "<Axes: ylabel='count'>"
      ]
     },
     "execution_count": 39,
     "metadata": {},
     "output_type": "execute_result"
    },
    {
     "data": {
      "image/png": "[encoded data removed]",
      "text/plain": [
       "<Figure size 640x480 with 1 Axes>"
      ]
     },
     "metadata": {},
     "output_type": "display_data"
    }
   ],
   "source": [
    "train['Sex'].value_counts().plot(kind='pie', autopct='%.2f%%')"
   ]
  },
  {
   "cell_type": "code",
   "execution_count": 40,
   "id": "baca4b32",
   "metadata": {
    "execution": {
     "iopub.execute_input": "2025-02-09T12:27:49.655908Z",
     "iopub.status.busy": "2025-02-09T12:27:49.655512Z",
     "iopub.status.idle": "2025-02-09T12:27:49.662123Z",
     "shell.execute_reply": "2025-02-09T12:27:49.661055Z"
    },
    "papermill": {
     "duration": 0.041883,
     "end_time": "2025-02-09T12:27:49.663662",
     "exception": false,
     "start_time": "2025-02-09T12:27:49.621779",
     "status": "completed"
    },
    "tags": []
   },
   "outputs": [
    {
     "data": {
      "text/plain": [
       "np.int64(0)"
      ]
     },
     "execution_count": 40,
     "metadata": {},
     "output_type": "execute_result"
    }
   ],
   "source": [
    "train['Sex'].isnull().sum()"
   ]
  },
  {
   "cell_type": "markdown",
   "id": "f1908c4f",
   "metadata": {
    "papermill": {
     "duration": 0.032592,
     "end_time": "2025-02-09T12:27:49.730318",
     "exception": false,
     "start_time": "2025-02-09T12:27:49.697726",
     "status": "completed"
    },
    "tags": []
   },
   "source": [
    "#### Sex\n",
    "**Conclusion**\n",
    "- There are 64.76% of total are Male and 35% are Female.\n",
    "- No null value"
   ]
  },
  {
   "cell_type": "markdown",
   "id": "6fc919ae",
   "metadata": {
    "papermill": {
     "duration": 0.033002,
     "end_time": "2025-02-09T12:27:49.796191",
     "exception": false,
     "start_time": "2025-02-09T12:27:49.763189",
     "status": "completed"
    },
    "tags": []
   },
   "source": [
    "### SibSp (Total persons traveling single, two, three etc)"
   ]
  },
  {
   "cell_type": "code",
   "execution_count": 41,
   "id": "f0fbb98e",
   "metadata": {
    "execution": {
     "iopub.execute_input": "2025-02-09T12:27:49.864110Z",
     "iopub.status.busy": "2025-02-09T12:27:49.863677Z",
     "iopub.status.idle": "2025-02-09T12:27:49.871352Z",
     "shell.execute_reply": "2025-02-09T12:27:49.870205Z"
    },
    "papermill": {
     "duration": 0.043756,
     "end_time": "2025-02-09T12:27:49.873046",
     "exception": false,
     "start_time": "2025-02-09T12:27:49.829290",
     "status": "completed"
    },
    "tags": []
   },
   "outputs": [
    {
     "data": {
      "text/plain": [
       "SibSp\n",
       "0    608\n",
       "1    209\n",
       "2     28\n",
       "4     18\n",
       "3     16\n",
       "8      7\n",
       "5      5\n",
       "Name: count, dtype: int64"
      ]
     },
     "execution_count": 41,
     "metadata": {},
     "output_type": "execute_result"
    }
   ],
   "source": [
    "train['SibSp'].value_counts()"
   ]
  },
  {
   "cell_type": "code",
   "execution_count": 42,
   "id": "1775d055",
   "metadata": {
    "execution": {
     "iopub.execute_input": "2025-02-09T12:27:49.941762Z",
     "iopub.status.busy": "2025-02-09T12:27:49.941367Z",
     "iopub.status.idle": "2025-02-09T12:27:50.130204Z",
     "shell.execute_reply": "2025-02-09T12:27:50.129083Z"
    },
    "papermill": {
     "duration": 0.225397,
     "end_time": "2025-02-09T12:27:50.132096",
     "exception": false,
     "start_time": "2025-02-09T12:27:49.906699",
     "status": "completed"
    },
    "tags": []
   },
   "outputs": [
    {
     "data": {
      "text/plain": [
       "<Axes: xlabel='SibSp'>"
      ]
     },
     "execution_count": 42,
     "metadata": {},
     "output_type": "execute_result"
    },
    {
     "data": {
      "image/png": "[encoded data removed]",
      "text/plain": [
       "<Figure size 640x480 with 1 Axes>"
      ]
     },
     "metadata": {},
     "output_type": "display_data"
    }
   ],
   "source": [
    "train['SibSp'].value_counts().plot(kind='bar')"
   ]
  },
  {
   "cell_type": "code",
   "execution_count": 43,
   "id": "c416a792",
   "metadata": {
    "execution": {
     "iopub.execute_input": "2025-02-09T12:27:50.199988Z",
     "iopub.status.busy": "2025-02-09T12:27:50.199570Z",
     "iopub.status.idle": "2025-02-09T12:27:50.208797Z",
     "shell.execute_reply": "2025-02-09T12:27:50.207665Z"
    },
    "papermill": {
     "duration": 0.04521,
     "end_time": "2025-02-09T12:27:50.210684",
     "exception": false,
     "start_time": "2025-02-09T12:27:50.165474",
     "status": "completed"
    },
    "tags": []
   },
   "outputs": [
    {
     "data": {
      "text/plain": [
       "array([0, 1, 2, 3, 4, 5, 8])"
      ]
     },
     "execution_count": 43,
     "metadata": {},
     "output_type": "execute_result"
    }
   ],
   "source": [
    "train['SibSp'].sort_values().unique()"
   ]
  },
  {
   "cell_type": "code",
   "execution_count": 44,
   "id": "8e2e4ef6",
   "metadata": {
    "execution": {
     "iopub.execute_input": "2025-02-09T12:27:50.279801Z",
     "iopub.status.busy": "2025-02-09T12:27:50.279459Z",
     "iopub.status.idle": "2025-02-09T12:27:50.522038Z",
     "shell.execute_reply": "2025-02-09T12:27:50.520987Z"
    },
    "papermill": {
     "duration": 0.279326,
     "end_time": "2025-02-09T12:27:50.523708",
     "exception": false,
     "start_time": "2025-02-09T12:27:50.244382",
     "status": "completed"
    },
    "tags": []
   },
   "outputs": [
    {
     "data": {
      "text/plain": [
       "<matplotlib.legend.Legend at 0x16b76a95310>"
      ]
     },
     "execution_count": 44,
     "metadata": {},
     "output_type": "execute_result"
    },
    {
     "data": {
      "image/png": "[encoded data removed]",
      "text/plain": [
       "<Figure size 640x480 with 1 Axes>"
      ]
     },
     "metadata": {},
     "output_type": "display_data"
    }
   ],
   "source": [
    "ex = [0.1,0,0,0.2,0,0.2,0.4]\n",
    "labels = [0,1,2,4,3,8,5]\n",
    "train['SibSp'].value_counts().plot(kind='pie', autopct='%.2f%%',explode=ex)\n",
    "plt.legend(labels,loc='best')"
   ]
  },
  {
   "cell_type": "code",
   "execution_count": 45,
   "id": "79ed0a5e",
   "metadata": {
    "execution": {
     "iopub.execute_input": "2025-02-09T12:27:50.593163Z",
     "iopub.status.busy": "2025-02-09T12:27:50.592742Z",
     "iopub.status.idle": "2025-02-09T12:27:50.599331Z",
     "shell.execute_reply": "2025-02-09T12:27:50.598185Z"
    },
    "papermill": {
     "duration": 0.043461,
     "end_time": "2025-02-09T12:27:50.601123",
     "exception": false,
     "start_time": "2025-02-09T12:27:50.557662",
     "status": "completed"
    },
    "tags": []
   },
   "outputs": [
    {
     "data": {
      "text/plain": [
       "np.int64(0)"
      ]
     },
     "execution_count": 45,
     "metadata": {},
     "output_type": "execute_result"
    }
   ],
   "source": [
    "train['SibSp'].isnull().sum()"
   ]
  },
  {
   "cell_type": "markdown",
   "id": "09e7f3c5",
   "metadata": {
    "papermill": {
     "duration": 0.034163,
     "end_time": "2025-02-09T12:27:50.669344",
     "exception": false,
     "start_time": "2025-02-09T12:27:50.635181",
     "status": "completed"
    },
    "tags": []
   },
   "source": [
    "#### SibSp\n",
    "**Conclusion**\n",
    "- Highest 68% of people are travelling single then with one\n",
    "- No null value"
   ]
  },
  {
   "cell_type": "markdown",
   "id": "7ead189b",
   "metadata": {
    "papermill": {
     "duration": 0.033726,
     "end_time": "2025-02-09T12:27:50.738495",
     "exception": false,
     "start_time": "2025-02-09T12:27:50.704769",
     "status": "completed"
    },
    "tags": []
   },
   "source": [
    "### Parch (is parent or child travelling)"
   ]
  },
  {
   "cell_type": "code",
   "execution_count": 46,
   "id": "61d2be8a",
   "metadata": {
    "execution": {
     "iopub.execute_input": "2025-02-09T12:27:50.809646Z",
     "iopub.status.busy": "2025-02-09T12:27:50.809230Z",
     "iopub.status.idle": "2025-02-09T12:27:50.817196Z",
     "shell.execute_reply": "2025-02-09T12:27:50.815817Z"
    },
    "papermill": {
     "duration": 0.045725,
     "end_time": "2025-02-09T12:27:50.819046",
     "exception": false,
     "start_time": "2025-02-09T12:27:50.773321",
     "status": "completed"
    },
    "tags": []
   },
   "outputs": [
    {
     "data": {
      "text/plain": [
       "Parch\n",
       "0    678\n",
       "1    118\n",
       "2     80\n",
       "5      5\n",
       "3      5\n",
       "4      4\n",
       "6      1\n",
       "Name: count, dtype: int64"
      ]
     },
     "execution_count": 46,
     "metadata": {},
     "output_type": "execute_result"
    }
   ],
   "source": [
    "train['Parch'].value_counts()"
   ]
  },
  {
   "cell_type": "code",
   "execution_count": 47,
   "id": "eb1e19d6",
   "metadata": {
    "execution": {
     "iopub.execute_input": "2025-02-09T12:27:50.889150Z",
     "iopub.status.busy": "2025-02-09T12:27:50.888710Z",
     "iopub.status.idle": "2025-02-09T12:27:51.079585Z",
     "shell.execute_reply": "2025-02-09T12:27:51.078502Z"
    },
    "papermill": {
     "duration": 0.228003,
     "end_time": "2025-02-09T12:27:51.081470",
     "exception": false,
     "start_time": "2025-02-09T12:27:50.853467",
     "status": "completed"
    },
    "tags": []
   },
   "outputs": [
    {
     "data": {
      "text/plain": [
       "<Axes: xlabel='Parch'>"
      ]
     },
     "execution_count": 47,
     "metadata": {},
     "output_type": "execute_result"
    },
    {
     "data": {
      "image/png": "[encoded data removed]",
      "text/plain": [
       "<Figure size 640x480 with 1 Axes>"
      ]
     },
     "metadata": {},
     "output_type": "display_data"
    }
   ],
   "source": [
    "train['Parch'].value_counts().plot(kind='bar')"
   ]
  },
  {
   "cell_type": "code",
   "execution_count": 48,
   "id": "e4738123",
   "metadata": {
    "execution": {
     "iopub.execute_input": "2025-02-09T12:27:51.152397Z",
     "iopub.status.busy": "2025-02-09T12:27:51.151946Z",
     "iopub.status.idle": "2025-02-09T12:27:51.316250Z",
     "shell.execute_reply": "2025-02-09T12:27:51.315084Z"
    },
    "papermill": {
     "duration": 0.201422,
     "end_time": "2025-02-09T12:27:51.317899",
     "exception": false,
     "start_time": "2025-02-09T12:27:51.116477",
     "status": "completed"
    },
    "tags": []
   },
   "outputs": [
    {
     "data": {
      "image/png": "[encoded data removed]",
      "text/plain": [
       "<Figure size 800x800 with 1 Axes>"
      ]
     },
     "metadata": {},
     "output_type": "display_data"
    }
   ],
   "source": [
    "plt.figure(figsize=(8,8))\n",
    "train['Parch'].value_counts().plot(kind='pie', autopct='%.2f%%',explode=ex)\n",
    "plt.show()"
   ]
  },
  {
   "cell_type": "code",
   "execution_count": 49,
   "id": "1dba1199",
   "metadata": {
    "execution": {
     "iopub.execute_input": "2025-02-09T12:27:51.390498Z",
     "iopub.status.busy": "2025-02-09T12:27:51.390130Z",
     "iopub.status.idle": "2025-02-09T12:27:51.396499Z",
     "shell.execute_reply": "2025-02-09T12:27:51.395541Z"
    },
    "papermill": {
     "duration": 0.044365,
     "end_time": "2025-02-09T12:27:51.397912",
     "exception": false,
     "start_time": "2025-02-09T12:27:51.353547",
     "status": "completed"
    },
    "tags": []
   },
   "outputs": [
    {
     "data": {
      "text/plain": [
       "np.int64(0)"
      ]
     },
     "execution_count": 49,
     "metadata": {},
     "output_type": "execute_result"
    }
   ],
   "source": [
    "train['Parch'].isnull().sum()"
   ]
  },
  {
   "cell_type": "markdown",
   "id": "18d8171e",
   "metadata": {
    "papermill": {
     "duration": 0.035197,
     "end_time": "2025-02-09T12:27:51.468829",
     "exception": false,
     "start_time": "2025-02-09T12:27:51.433632",
     "status": "completed"
    },
    "tags": []
   },
   "source": [
    "### Parch\n",
    "**Conclusion**\n",
    "- Maximum size of Parch is 6 (means max 6 people are travelling together total 7)\n",
    "- Highest 76% of people are alone and Lowest 0.11% people are with 6\n",
    "- Parch and SibSp cols can be merged together to form a new col called family_size\n",
    "- Create a new col is_alone (to check is passenger is alone)"
   ]
  },
  {
   "cell_type": "markdown",
   "id": "856cc5a8",
   "metadata": {
    "papermill": {
     "duration": 0.035621,
     "end_time": "2025-02-09T12:27:51.541449",
     "exception": false,
     "start_time": "2025-02-09T12:27:51.505828",
     "status": "completed"
    },
    "tags": []
   },
   "source": [
    "### Embarked"
   ]
  },
  {
   "cell_type": "code",
   "execution_count": 50,
   "id": "f89ed7b0",
   "metadata": {},
   "outputs": [
    {
     "data": {
      "text/plain": [
       "0      S\n",
       "1      C\n",
       "2      S\n",
       "3      S\n",
       "4      S\n",
       "      ..\n",
       "886    S\n",
       "887    S\n",
       "888    S\n",
       "889    C\n",
       "890    Q\n",
       "Name: Embarked, Length: 891, dtype: object"
      ]
     },
     "execution_count": 50,
     "metadata": {},
     "output_type": "execute_result"
    }
   ],
   "source": [
    "train[\"Embarked\"]"
   ]
  },
  {
   "cell_type": "code",
   "execution_count": 51,
   "id": "7e9cbe0e",
   "metadata": {
    "execution": {
     "iopub.execute_input": "2025-02-09T12:27:51.613682Z",
     "iopub.status.busy": "2025-02-09T12:27:51.613316Z",
     "iopub.status.idle": "2025-02-09T12:27:51.620710Z",
     "shell.execute_reply": "2025-02-09T12:27:51.619833Z"
    },
    "papermill": {
     "duration": 0.04567,
     "end_time": "2025-02-09T12:27:51.622378",
     "exception": false,
     "start_time": "2025-02-09T12:27:51.576708",
     "status": "completed"
    },
    "tags": []
   },
   "outputs": [
    {
     "data": {
      "text/plain": [
       "Embarked\n",
       "S    644\n",
       "C    168\n",
       "Q     77\n",
       "Name: count, dtype: int64"
      ]
     },
     "execution_count": 51,
     "metadata": {},
     "output_type": "execute_result"
    }
   ],
   "source": [
    "train['Embarked'].value_counts()"
   ]
  },
  {
   "cell_type": "code",
   "execution_count": 52,
   "id": "328e9b70",
   "metadata": {},
   "outputs": [
    {
     "data": {
      "text/plain": [
       "61     NaN\n",
       "829    NaN\n",
       "Name: Embarked, dtype: object"
      ]
     },
     "execution_count": 52,
     "metadata": {},
     "output_type": "execute_result"
    }
   ],
   "source": [
    "train['Embarked'].loc[train['Embarked'].isna()]"
   ]
  },
  {
   "cell_type": "code",
   "execution_count": 53,
   "id": "9da2c328",
   "metadata": {},
   "outputs": [],
   "source": [
    "train['Embarked'].fillna('S', inplace=True)"
   ]
  },
  {
   "cell_type": "code",
   "execution_count": 54,
   "id": "1a68b192",
   "metadata": {},
   "outputs": [
    {
     "data": {
      "text/plain": [
       "Embarked\n",
       "S    646\n",
       "C    168\n",
       "Q     77\n",
       "Name: count, dtype: int64"
      ]
     },
     "execution_count": 54,
     "metadata": {},
     "output_type": "execute_result"
    }
   ],
   "source": [
    "train['Embarked'].value_counts()"
   ]
  },
  {
   "cell_type": "code",
   "execution_count": 55,
   "id": "e5882610",
   "metadata": {},
   "outputs": [],
   "source": [
    "# train['Embarked'] = train['Embarked'].dropna()"
   ]
  },
  {
   "cell_type": "markdown",
   "id": "32e26d18",
   "metadata": {},
   "source": [
    "Because there is only 2 null data, to make the data better I just deleted the NA Value from Embarked column. However, I think I just fill the NA with 'S' which is the largest count type in the Embarked column."
   ]
  },
  {
   "cell_type": "code",
   "execution_count": 56,
   "id": "3912557f",
   "metadata": {
    "execution": {
     "iopub.execute_input": "2025-02-09T12:27:51.695250Z",
     "iopub.status.busy": "2025-02-09T12:27:51.694590Z",
     "iopub.status.idle": "2025-02-09T12:27:51.856718Z",
     "shell.execute_reply": "2025-02-09T12:27:51.855482Z"
    },
    "papermill": {
     "duration": 0.200977,
     "end_time": "2025-02-09T12:27:51.858860",
     "exception": false,
     "start_time": "2025-02-09T12:27:51.657883",
     "status": "completed"
    },
    "tags": []
   },
   "outputs": [
    {
     "data": {
      "text/plain": [
       "<Axes: xlabel='Embarked'>"
      ]
     },
     "execution_count": 56,
     "metadata": {},
     "output_type": "execute_result"
    },
    {
     "data": {
      "image/png": "[encoded data removed]",
      "text/plain": [
       "<Figure size 640x480 with 1 Axes>"
      ]
     },
     "metadata": {},
     "output_type": "display_data"
    }
   ],
   "source": [
    "train['Embarked'].value_counts().plot(kind='bar')"
   ]
  },
  {
   "cell_type": "code",
   "execution_count": 57,
   "id": "02a8334e",
   "metadata": {
    "execution": {
     "iopub.execute_input": "2025-02-09T12:27:51.933893Z",
     "iopub.status.busy": "2025-02-09T12:27:51.933515Z",
     "iopub.status.idle": "2025-02-09T12:27:52.041657Z",
     "shell.execute_reply": "2025-02-09T12:27:52.040393Z"
    },
    "papermill": {
     "duration": 0.148427,
     "end_time": "2025-02-09T12:27:52.043674",
     "exception": false,
     "start_time": "2025-02-09T12:27:51.895247",
     "status": "completed"
    },
    "tags": []
   },
   "outputs": [
    {
     "data": {
      "text/plain": [
       "<Axes: ylabel='count'>"
      ]
     },
     "execution_count": 57,
     "metadata": {},
     "output_type": "execute_result"
    },
    {
     "data": {
      "image/png": "[encoded data removed]",
      "text/plain": [
       "<Figure size 640x480 with 1 Axes>"
      ]
     },
     "metadata": {},
     "output_type": "display_data"
    }
   ],
   "source": [
    "train['Embarked'].value_counts().plot(kind='pie', autopct='%.2f%%')"
   ]
  },
  {
   "cell_type": "code",
   "execution_count": 58,
   "id": "bc36ef23",
   "metadata": {
    "execution": {
     "iopub.execute_input": "2025-02-09T12:27:52.118160Z",
     "iopub.status.busy": "2025-02-09T12:27:52.117704Z",
     "iopub.status.idle": "2025-02-09T12:27:52.124453Z",
     "shell.execute_reply": "2025-02-09T12:27:52.123357Z"
    },
    "papermill": {
     "duration": 0.046075,
     "end_time": "2025-02-09T12:27:52.126432",
     "exception": false,
     "start_time": "2025-02-09T12:27:52.080357",
     "status": "completed"
    },
    "tags": []
   },
   "outputs": [
    {
     "data": {
      "text/plain": [
       "np.int64(0)"
      ]
     },
     "execution_count": 58,
     "metadata": {},
     "output_type": "execute_result"
    }
   ],
   "source": [
    "train['Embarked'].isnull().sum()"
   ]
  },
  {
   "cell_type": "markdown",
   "id": "8c27d9ea",
   "metadata": {},
   "source": [
    "The null / NA data is already fill with 'S' type"
   ]
  },
  {
   "cell_type": "markdown",
   "id": "eab04b3f",
   "metadata": {
    "papermill": {
     "duration": 0.036206,
     "end_time": "2025-02-09T12:27:52.199265",
     "exception": false,
     "start_time": "2025-02-09T12:27:52.163059",
     "status": "completed"
    },
    "tags": []
   },
   "source": [
    "#### Embarked\n",
    "**Observation**\n",
    "- Mostly (72%) are starting their journey from S and very less (8%) are starting from Q\n",
    "- There are 2 missing values in this column and I fill the NA with the 'S' the most occur type in Embarked column"
   ]
  },
  {
   "cell_type": "markdown",
   "id": "902dbfd5",
   "metadata": {},
   "source": [
    "### Cabin"
   ]
  },
  {
   "cell_type": "code",
   "execution_count": 59,
   "id": "8bbb9928",
   "metadata": {},
   "outputs": [
    {
     "data": {
      "text/plain": [
       "0       NaN\n",
       "1       C85\n",
       "2       NaN\n",
       "3      C123\n",
       "4       NaN\n",
       "       ... \n",
       "886     NaN\n",
       "887     B42\n",
       "888     NaN\n",
       "889    C148\n",
       "890     NaN\n",
       "Name: Cabin, Length: 891, dtype: object"
      ]
     },
     "execution_count": 59,
     "metadata": {},
     "output_type": "execute_result"
    }
   ],
   "source": [
    "train['Cabin']"
   ]
  },
  {
   "cell_type": "code",
   "execution_count": 60,
   "id": "c52db15f",
   "metadata": {},
   "outputs": [
    {
     "data": {
      "text/plain": [
       "Cabin\n",
       "G6             4\n",
       "C23 C25 C27    4\n",
       "B96 B98        4\n",
       "F2             3\n",
       "D              3\n",
       "              ..\n",
       "E17            1\n",
       "A24            1\n",
       "C50            1\n",
       "B42            1\n",
       "C148           1\n",
       "Name: count, Length: 147, dtype: int64"
      ]
     },
     "execution_count": 60,
     "metadata": {},
     "output_type": "execute_result"
    }
   ],
   "source": [
    "train['Cabin'].value_counts()"
   ]
  },
  {
   "cell_type": "code",
   "execution_count": 61,
   "id": "2a678ffe",
   "metadata": {},
   "outputs": [
    {
     "data": {
      "text/plain": [
       "0      NaN\n",
       "2      NaN\n",
       "4      NaN\n",
       "5      NaN\n",
       "7      NaN\n",
       "      ... \n",
       "884    NaN\n",
       "885    NaN\n",
       "886    NaN\n",
       "888    NaN\n",
       "890    NaN\n",
       "Name: Cabin, Length: 687, dtype: object"
      ]
     },
     "execution_count": 61,
     "metadata": {},
     "output_type": "execute_result"
    }
   ],
   "source": [
    "train['Cabin'].loc[train['Cabin'].isna()]"
   ]
  },
  {
   "cell_type": "code",
   "execution_count": 62,
   "id": "ad3abc90",
   "metadata": {},
   "outputs": [
    {
     "data": {
      "text/plain": [
       "np.int64(687)"
      ]
     },
     "execution_count": 62,
     "metadata": {},
     "output_type": "execute_result"
    }
   ],
   "source": [
    "train['Cabin'].isna().sum()"
   ]
  },
  {
   "cell_type": "code",
   "execution_count": 63,
   "id": "25cef087",
   "metadata": {},
   "outputs": [],
   "source": [
    "train['Cabin'] = train['Cabin'].dropna()"
   ]
  },
  {
   "cell_type": "code",
   "execution_count": 64,
   "id": "818c43b6",
   "metadata": {},
   "outputs": [
    {
     "data": {
      "text/plain": [
       "np.int64(687)"
      ]
     },
     "execution_count": 64,
     "metadata": {},
     "output_type": "execute_result"
    }
   ],
   "source": [
    "train['Cabin'].isna().sum()"
   ]
  },
  {
   "cell_type": "code",
   "execution_count": 65,
   "id": "b90c6421",
   "metadata": {},
   "outputs": [],
   "source": [
    "train = train.drop(columns=['Cabin'])"
   ]
  },
  {
   "cell_type": "markdown",
   "id": "729fdee4",
   "metadata": {},
   "source": [
    "Because there are many null values in Cabin column, I just drop the Cabin column from the Train dataset"
   ]
  },
  {
   "cell_type": "markdown",
   "id": "4719fecc",
   "metadata": {},
   "source": [
    "### Interesting Insights"
   ]
  },
  {
   "cell_type": "code",
   "execution_count": 66,
   "id": "82b9fd97",
   "metadata": {},
   "outputs": [
    {
     "data": {
      "image/png": "[encoded data removed]",
      "text/plain": [
       "<Figure size 800x500 with 1 Axes>"
      ]
     },
     "metadata": {},
     "output_type": "display_data"
    }
   ],
   "source": [
    "plt.figure(figsize=(8, 5))\n",
    "sns.barplot(x=\"Pclass\", y=\"Survived\", data=train)\n",
    "plt.title(\"Impact of Ticket Grades to the Survival Rate\")\n",
    "plt.xlabel(\"Ticket Grades\")\n",
    "plt.ylabel(\"Survival Rate\")\n",
    "plt.show()\n"
   ]
  },
  {
   "cell_type": "markdown",
   "id": "df4e5feb",
   "metadata": {},
   "source": [
    "Based on this plot, the upper class ticket will have higher (Class 1) survival rate followed by the middle (Class 2) class and then the lower (Class 3) class ticket."
   ]
  },
  {
   "cell_type": "code",
   "execution_count": 67,
   "id": "9631f09d",
   "metadata": {},
   "outputs": [
    {
     "data": {
      "image/png": "[encoded data removed]",
      "text/plain": [
       "<Figure size 600x400 with 1 Axes>"
      ]
     },
     "metadata": {},
     "output_type": "display_data"
    }
   ],
   "source": [
    "plt.figure(figsize=(6, 4))\n",
    "sns.countplot(x=\"Sex\", hue=\"Survived\", data=train)\n",
    "plt.title(\"Survival Rate based on the gender\")\n",
    "plt.xlabel(\"Gender\")\n",
    "plt.ylabel(\"Total Passengers\")\n",
    "plt.show()"
   ]
  },
  {
   "cell_type": "markdown",
   "id": "26979f7c",
   "metadata": {},
   "source": [
    "Based on this plot, we can see that female mostly survived in the titanic tragedy. Because in that moment, maybe we have principle to serve ladies first."
   ]
  },
  {
   "cell_type": "code",
   "execution_count": 68,
   "id": "88352d9a",
   "metadata": {},
   "outputs": [
    {
     "name": "stderr",
     "output_type": "stream",
     "text": [
      "C:\\Users\\ASUS\\AppData\\Local\\Temp\\ipykernel_20936\\1747788771.py:2: FutureWarning: \n",
      "\n",
      "The `ci` parameter is deprecated. Use `errorbar=None` for the same effect.\n",
      "\n",
      "  sns.barplot(x=\"SibSp\", y=\"Survived\", data=train, ci=None)\n"
     ]
    },
    {
     "data": {
      "image/png": "[encoded data removed]",
      "text/plain": [
       "<Figure size 800x500 with 1 Axes>"
      ]
     },
     "metadata": {},
     "output_type": "display_data"
    }
   ],
   "source": [
    "plt.figure(figsize=(8, 5))\n",
    "sns.barplot(x=\"SibSp\", y=\"Survived\", data=train, ci=None)\n",
    "plt.title(\"Impact of Siblings Spouse Column to the Survival Rate\")\n",
    "plt.xlabel(\"Siblings and Spouse\")\n",
    "plt.ylabel(\"Survival Rate\")\n",
    "plt.show()"
   ]
  },
  {
   "cell_type": "markdown",
   "id": "b05b527e",
   "metadata": {},
   "source": [
    "Based on that plot, we can see number of siblings or spouse not really affecting the survival rate. The most feature that affect the survival rate is the Grade Class Ticket"
   ]
  },
  {
   "cell_type": "markdown",
   "id": "7567d9e1",
   "metadata": {},
   "source": [
    "### Encoding Parts"
   ]
  },
  {
   "cell_type": "code",
   "execution_count": 69,
   "id": "90602a73",
   "metadata": {},
   "outputs": [
    {
     "name": "stdout",
     "output_type": "stream",
     "text": [
      "   PassengerId  Survived  Pclass  \\\n",
      "0            1         0       3   \n",
      "1            2         1       1   \n",
      "2            3         1       3   \n",
      "3            4         1       1   \n",
      "4            5         0       3   \n",
      "\n",
      "                                                Name  Sex   Age  SibSp  Parch  \\\n",
      "0                            Braund, Mr. Owen Harris    0  22.0      1      0   \n",
      "1  Cumings, Mrs. John Bradley (Florence Briggs Th...    1  38.0      1      0   \n",
      "2                             Heikkinen, Miss. Laina    1  26.0      0      0   \n",
      "3       Futrelle, Mrs. Jacques Heath (Lily May Peel)    1  35.0      1      0   \n",
      "4                           Allen, Mr. William Henry    0  35.0      0      0   \n",
      "\n",
      "             Ticket     Fare  Embarked_Q  Embarked_S  \n",
      "0         A/5 21171   7.2500       False        True  \n",
      "1          PC 17599  71.2833       False       False  \n",
      "2  STON/O2. 3101282   7.9250       False        True  \n",
      "3            113803  53.1000       False        True  \n",
      "4            373450   8.0500       False        True  \n"
     ]
    }
   ],
   "source": [
    "from sklearn.preprocessing import OneHotEncoder\n",
    "\n",
    "# Encoding \"Sex\" (Binary Encoding: Male=0, Female=1)\n",
    "train[\"Sex\"] = train[\"Sex\"].map({\"male\": 0, \"female\": 1})\n",
    "\n",
    "# Encoding \"Embarked\" menggunakan One-Hot Encoding\n",
    "train = pd.get_dummies(train, columns=[\"Embarked\"], drop_first=True)\n",
    "\n",
    "print(train.head())  # Cek hasil encoding\n"
   ]
  },
  {
   "cell_type": "markdown",
   "id": "80fa2dea",
   "metadata": {},
   "source": [
    "- For the Sex column, I will use mapping because there are only 2 gender which are Male and Female (Binary).\n",
    "- However, for the Embarked column, I will use One-Hot Encoding to avoid ordinal bias."
   ]
  },
  {
   "cell_type": "markdown",
   "id": "28f4358f",
   "metadata": {},
   "source": [
    "### Normalization"
   ]
  },
  {
   "cell_type": "code",
   "execution_count": 70,
   "id": "b4d634fe",
   "metadata": {},
   "outputs": [
    {
     "name": "stdout",
     "output_type": "stream",
     "text": [
      "        Age      Fare\n",
      "0 -0.592481 -0.502445\n",
      "1  0.638789  0.786845\n",
      "2 -0.284663 -0.488854\n",
      "3  0.407926  0.420730\n",
      "4  0.407926 -0.486337\n"
     ]
    }
   ],
   "source": [
    "from sklearn.preprocessing import StandardScaler\n",
    "\n",
    "scaler = StandardScaler()\n",
    "train[[\"Age\", \"Fare\"]] = scaler.fit_transform(train[[\"Age\", \"Fare\"]])\n",
    "\n",
    "print(train[[\"Age\", \"Fare\"]].head())"
   ]
  },
  {
   "cell_type": "markdown",
   "id": "0c488a80",
   "metadata": {},
   "source": [
    "I'm using StandardScaler for normalize the Age and Fare columns because by using that it will work more optimal when I am using KNN or Logistic Regression later."
   ]
  },
  {
   "cell_type": "markdown",
   "id": "d3a98d52",
   "metadata": {},
   "source": [
    "### Handling Missing Values (Clean the Data)"
   ]
  },
  {
   "cell_type": "code",
   "execution_count": 71,
   "id": "c99f09dd",
   "metadata": {},
   "outputs": [],
   "source": [
    "train.drop(\"Ticket\", axis=1, inplace=True)\n",
    "train.drop(\"Fare\", axis=1, inplace=True)\n",
    "train.drop(\"PassengerId\", axis=1, inplace=True)\n",
    "train.drop(\"Name\", axis=1, inplace=True)\n",
    "train.drop(\"SibSp\", axis=1, inplace=True)\n",
    "train.drop(\"Parch\", axis=1, inplace=True)\n"
   ]
  },
  {
   "cell_type": "code",
   "execution_count": 72,
   "id": "690fd73b",
   "metadata": {},
   "outputs": [],
   "source": [
    "train.drop(\"Embarked_Q\", axis=1, inplace=True)\n",
    "train.drop(\"Embarked_S\", axis=1, inplace=True)"
   ]
  },
  {
   "cell_type": "code",
   "execution_count": 73,
   "id": "2c341483",
   "metadata": {},
   "outputs": [
    {
     "data": {
      "text/html": [
       "<div>\n",
       "<style scoped>\n",
       "    .dataframe tbody tr th:only-of-type {\n",
       "        vertical-align: middle;\n",
       "    }\n",
       "\n",
       "    .dataframe tbody tr th {\n",
       "        vertical-align: top;\n",
       "    }\n",
       "\n",
       "    .dataframe thead th {\n",
       "        text-align: right;\n",
       "    }\n",
       "</style>\n",
       "<table border=\"1\" class=\"dataframe\">\n",
       "  <thead>\n",
       "    <tr style=\"text-align: right;\">\n",
       "      <th></th>\n",
       "      <th>Survived</th>\n",
       "      <th>Pclass</th>\n",
       "      <th>Sex</th>\n",
       "      <th>Age</th>\n",
       "    </tr>\n",
       "  </thead>\n",
       "  <tbody>\n",
       "    <tr>\n",
       "      <th>0</th>\n",
       "      <td>0</td>\n",
       "      <td>3</td>\n",
       "      <td>0</td>\n",
       "      <td>-0.592481</td>\n",
       "    </tr>\n",
       "    <tr>\n",
       "      <th>1</th>\n",
       "      <td>1</td>\n",
       "      <td>1</td>\n",
       "      <td>1</td>\n",
       "      <td>0.638789</td>\n",
       "    </tr>\n",
       "    <tr>\n",
       "      <th>2</th>\n",
       "      <td>1</td>\n",
       "      <td>3</td>\n",
       "      <td>1</td>\n",
       "      <td>-0.284663</td>\n",
       "    </tr>\n",
       "    <tr>\n",
       "      <th>3</th>\n",
       "      <td>1</td>\n",
       "      <td>1</td>\n",
       "      <td>1</td>\n",
       "      <td>0.407926</td>\n",
       "    </tr>\n",
       "    <tr>\n",
       "      <th>4</th>\n",
       "      <td>0</td>\n",
       "      <td>3</td>\n",
       "      <td>0</td>\n",
       "      <td>0.407926</td>\n",
       "    </tr>\n",
       "    <tr>\n",
       "      <th>...</th>\n",
       "      <td>...</td>\n",
       "      <td>...</td>\n",
       "      <td>...</td>\n",
       "      <td>...</td>\n",
       "    </tr>\n",
       "    <tr>\n",
       "      <th>886</th>\n",
       "      <td>0</td>\n",
       "      <td>2</td>\n",
       "      <td>0</td>\n",
       "      <td>-0.207709</td>\n",
       "    </tr>\n",
       "    <tr>\n",
       "      <th>887</th>\n",
       "      <td>1</td>\n",
       "      <td>1</td>\n",
       "      <td>1</td>\n",
       "      <td>-0.823344</td>\n",
       "    </tr>\n",
       "    <tr>\n",
       "      <th>888</th>\n",
       "      <td>0</td>\n",
       "      <td>3</td>\n",
       "      <td>1</td>\n",
       "      <td>0.000000</td>\n",
       "    </tr>\n",
       "    <tr>\n",
       "      <th>889</th>\n",
       "      <td>1</td>\n",
       "      <td>1</td>\n",
       "      <td>0</td>\n",
       "      <td>-0.284663</td>\n",
       "    </tr>\n",
       "    <tr>\n",
       "      <th>890</th>\n",
       "      <td>0</td>\n",
       "      <td>3</td>\n",
       "      <td>0</td>\n",
       "      <td>0.177063</td>\n",
       "    </tr>\n",
       "  </tbody>\n",
       "</table>\n",
       "<p>891 rows × 4 columns</p>\n",
       "</div>"
      ],
      "text/plain": [
       "     Survived  Pclass  Sex       Age\n",
       "0           0       3    0 -0.592481\n",
       "1           1       1    1  0.638789\n",
       "2           1       3    1 -0.284663\n",
       "3           1       1    1  0.407926\n",
       "4           0       3    0  0.407926\n",
       "..        ...     ...  ...       ...\n",
       "886         0       2    0 -0.207709\n",
       "887         1       1    1 -0.823344\n",
       "888         0       3    1  0.000000\n",
       "889         1       1    0 -0.284663\n",
       "890         0       3    0  0.177063\n",
       "\n",
       "[891 rows x 4 columns]"
      ]
     },
     "execution_count": 73,
     "metadata": {},
     "output_type": "execute_result"
    }
   ],
   "source": [
    "train"
   ]
  },
  {
   "cell_type": "markdown",
   "id": "0a3500b4",
   "metadata": {},
   "source": [
    "So based on the EDA and Data Preprocessing I'm just using 3 features which are PClass (Passenger Classes , Upper (1), Medium (2), Lower (3)), Sex (Male and Female), and Age."
   ]
  },
  {
   "cell_type": "markdown",
   "id": "b3fa425e",
   "metadata": {},
   "source": [
    "## Naive Bayes"
   ]
  },
  {
   "cell_type": "markdown",
   "id": "45337990",
   "metadata": {},
   "source": [
    "<ul>\n",
    "    <li>Split the dataset into a training set and a testing set to evaluate your model's performance (70:30).</li>\n",
    "    <li>Develop a Naive Bayes model using your selected features.</li>\n",
    "    <li>Evaluate the performance of your Naive Bayes model using metrics such as accuracy, precision, recall, and the ROC-AUC score.</li>\n",
    "    <li>Provide a detailed analysis of the confusion matrix to understand the true positives, false positives, true negatives, and false negatives.</li>\n",
    "</ul>"
   ]
  },
  {
   "cell_type": "markdown",
   "id": "fb54a3af",
   "metadata": {},
   "source": [
    "### Import Library"
   ]
  },
  {
   "cell_type": "code",
   "execution_count": 74,
   "id": "60d164f2",
   "metadata": {},
   "outputs": [],
   "source": [
    "import pandas as pd\n",
    "import numpy as np\n",
    "import matplotlib.pyplot as plt\n",
    "import seaborn as sns\n",
    "from sklearn.model_selection import train_test_split\n",
    "from sklearn.model_selection import cross_val_score, StratifiedKFold, GridSearchCV\n",
    "from sklearn.preprocessing import StandardScaler, LabelEncoder\n",
    "from sklearn.metrics import accuracy_score, precision_score, recall_score, roc_auc_score, confusion_matrix, classification_report"
   ]
  },
  {
   "cell_type": "markdown",
   "id": "96cb5e25",
   "metadata": {},
   "source": [
    "### Split Validation"
   ]
  },
  {
   "cell_type": "code",
   "execution_count": 75,
   "id": "017eb1ad",
   "metadata": {},
   "outputs": [
    {
     "name": "stdout",
     "output_type": "stream",
     "text": [
      "Model Performance Metrics:\n",
      "Accuracy: 0.7985\n",
      "Precision: 0.7426\n",
      "Recall: 0.7282\n",
      "ROC-AUC Score: 0.8284\n",
      "\n"
     ]
    },
    {
     "name": "stderr",
     "output_type": "stream",
     "text": [
      "C:\\Users\\ASUS\\AppData\\Local\\Temp\\ipykernel_20936\\2714082973.py:16: FutureWarning: A value is trying to be set on a copy of a DataFrame or Series through chained assignment using an inplace method.\n",
      "The behavior will change in pandas 3.0. This inplace method will never work because the intermediate object on which we are setting values always behaves as a copy.\n",
      "\n",
      "For example, when doing 'df[col].method(value, inplace=True)', try using 'df.method({col: value}, inplace=True)' or df[col] = df[col].method(value) instead, to perform the operation inplace on the original object.\n",
      "\n",
      "\n",
      "  df[\"Age\"].fillna(df[\"Age\"].median(), inplace=True)\n",
      "C:\\Users\\ASUS\\AppData\\Local\\Temp\\ipykernel_20936\\2714082973.py:17: FutureWarning: A value is trying to be set on a copy of a DataFrame or Series through chained assignment using an inplace method.\n",
      "The behavior will change in pandas 3.0. This inplace method will never work because the intermediate object on which we are setting values always behaves as a copy.\n",
      "\n",
      "For example, when doing 'df[col].method(value, inplace=True)', try using 'df.method({col: value}, inplace=True)' or df[col] = df[col].method(value) instead, to perform the operation inplace on the original object.\n",
      "\n",
      "\n",
      "  df[\"Embarked\"].fillna(df[\"Embarked\"].mode()[0], inplace=True)\n"
     ]
    }
   ],
   "source": [
    "# Import library yang diperlukan\n",
    "import numpy as np\n",
    "import pandas as pd\n",
    "from sklearn.model_selection import train_test_split, StratifiedKFold, cross_val_score\n",
    "from sklearn.preprocessing import LabelEncoder\n",
    "from sklearn.naive_bayes import GaussianNB\n",
    "from sklearn.metrics import accuracy_score, precision_score, recall_score, roc_auc_score\n",
    "\n",
    "# Load dataset\n",
    "df = pd.read_csv(\"train.csv\")\n",
    "\n",
    "# Drop kolom yang tidak diperlukan\n",
    "df.drop([\"PassengerId\", \"Name\", \"Ticket\", \"Cabin\"], axis=1, inplace=True)\n",
    "\n",
    "# Menangani nilai yang hilang\n",
    "df[\"Age\"].fillna(df[\"Age\"].median(), inplace=True)\n",
    "df[\"Embarked\"].fillna(df[\"Embarked\"].mode()[0], inplace=True)\n",
    "\n",
    "# Encoding variabel kategorikal\n",
    "le_sex = LabelEncoder()\n",
    "df[\"Sex\"] = le_sex.fit_transform(df[\"Sex\"])\n",
    "df = pd.get_dummies(df, columns=[\"Embarked\"], drop_first=True)\n",
    "\n",
    "# Mendefinisikan fitur (X) dan target (y)\n",
    "X = df.drop(\"Survived\", axis=1)\n",
    "y = df[\"Survived\"]\n",
    "\n",
    "# **Catatan: Tidak perlu melakukan standardisasi untuk Naive Bayes**\n",
    "\n",
    "# Membagi data menjadi training dan testing set (70:30)\n",
    "X_train, X_test, y_train, y_test = train_test_split(X, y, test_size=0.3, random_state=42, stratify=y)\n",
    "\n",
    "# Melatih model Naive Bayes\n",
    "model = GaussianNB()\n",
    "model.fit(X_train, y_train)\n",
    "\n",
    "# Melakukan prediksi\n",
    "y_pred = model.predict(X_test)\n",
    "y_prob = model.predict_proba(X_test)[:, 1]\n",
    "\n",
    "# Evaluasi model\n",
    "accuracy = accuracy_score(y_test, y_pred)\n",
    "precision = precision_score(y_test, y_pred)\n",
    "recall = recall_score(y_test, y_pred)\n",
    "roc_auc = roc_auc_score(y_test, y_prob)\n",
    "\n",
    "print(\"Model Performance Metrics:\")\n",
    "print(f\"Accuracy: {accuracy:.4f}\")\n",
    "print(f\"Precision: {precision:.4f}\")\n",
    "print(f\"Recall: {recall:.4f}\")\n",
    "print(f\"ROC-AUC Score: {roc_auc:.4f}\\n\")"
   ]
  },
  {
   "cell_type": "markdown",
   "id": "7b07cf21",
   "metadata": {},
   "source": [
    "### Confusion Matrix and Classification Report"
   ]
  },
  {
   "cell_type": "code",
   "execution_count": 76,
   "id": "1e50b3e3",
   "metadata": {},
   "outputs": [
    {
     "data": {
      "image/png": "[encoded data removed]",
      "text/plain": [
       "<Figure size 600x400 with 2 Axes>"
      ]
     },
     "metadata": {},
     "output_type": "display_data"
    },
    {
     "name": "stdout",
     "output_type": "stream",
     "text": [
      "Classification Report:\n",
      "              precision    recall  f1-score   support\n",
      "\n",
      "           0       0.83      0.84      0.84       165\n",
      "           1       0.74      0.73      0.74       103\n",
      "\n",
      "    accuracy                           0.80       268\n",
      "   macro avg       0.79      0.79      0.79       268\n",
      "weighted avg       0.80      0.80      0.80       268\n",
      "\n"
     ]
    }
   ],
   "source": [
    "# Confusion Matrix\n",
    "conf_matrix = confusion_matrix(y_test, y_pred)\n",
    "plt.figure(figsize=(6,4))\n",
    "sns.heatmap(conf_matrix, annot=True, fmt='d', cmap='Blues', xticklabels=[\"Not Survived\", \"Survived\"], yticklabels=[\"Not Survived\", \"Survived\"])\n",
    "plt.xlabel(\"Predicted\")\n",
    "plt.ylabel(\"Actual\")\n",
    "plt.title(\"Confusion Matrix\")\n",
    "plt.show()\n",
    "\n",
    "# Classification Report\n",
    "print(\"Classification Report:\")\n",
    "print(classification_report(y_test, y_pred))"
   ]
  },
  {
   "cell_type": "markdown",
   "id": "99756d17",
   "metadata": {},
   "source": [
    "### Cross Validation"
   ]
  },
  {
   "cell_type": "code",
   "execution_count": 77,
   "id": "8bf8fcda",
   "metadata": {},
   "outputs": [
    {
     "name": "stderr",
     "output_type": "stream",
     "text": [
      "C:\\Users\\ASUS\\AppData\\Local\\Temp\\ipykernel_20936\\3275341311.py:8: FutureWarning: A value is trying to be set on a copy of a DataFrame or Series through chained assignment using an inplace method.\n",
      "The behavior will change in pandas 3.0. This inplace method will never work because the intermediate object on which we are setting values always behaves as a copy.\n",
      "\n",
      "For example, when doing 'df[col].method(value, inplace=True)', try using 'df.method({col: value}, inplace=True)' or df[col] = df[col].method(value) instead, to perform the operation inplace on the original object.\n",
      "\n",
      "\n",
      "  df[\"Age\"].fillna(df[\"Age\"].median(), inplace=True)\n",
      "C:\\Users\\ASUS\\AppData\\Local\\Temp\\ipykernel_20936\\3275341311.py:9: FutureWarning: A value is trying to be set on a copy of a DataFrame or Series through chained assignment using an inplace method.\n",
      "The behavior will change in pandas 3.0. This inplace method will never work because the intermediate object on which we are setting values always behaves as a copy.\n",
      "\n",
      "For example, when doing 'df[col].method(value, inplace=True)', try using 'df.method({col: value}, inplace=True)' or df[col] = df[col].method(value) instead, to perform the operation inplace on the original object.\n",
      "\n",
      "\n",
      "  df[\"Embarked\"].fillna(df[\"Embarked\"].mode()[0], inplace=True)\n"
     ]
    },
    {
     "name": "stdout",
     "output_type": "stream",
     "text": [
      "Model Performance Metrics (Cross-Validation):\n",
      "Accuracy: 0.7834 ± 0.0368\n",
      "Precision: 0.7232 ± 0.0544\n",
      "Recall: 0.7103 ± 0.0709\n",
      "ROC-AUC Score: 0.8309 ± 0.0516\n",
      "\n"
     ]
    }
   ],
   "source": [
    "# Load dataset\n",
    "df = pd.read_csv(\"train.csv\")\n",
    "\n",
    "# Drop unnecessary columns\n",
    "df.drop([\"PassengerId\", \"Name\", \"Ticket\", \"Cabin\"], axis=1, inplace=True)\n",
    "\n",
    "# Handling missing values\n",
    "df[\"Age\"].fillna(df[\"Age\"].median(), inplace=True)\n",
    "df[\"Embarked\"].fillna(df[\"Embarked\"].mode()[0], inplace=True)\n",
    "\n",
    "# Encode categorical variables\n",
    "le_sex = LabelEncoder()\n",
    "df[\"Sex\"] = le_sex.fit_transform(df[\"Sex\"])\n",
    "df = pd.get_dummies(df, columns=[\"Embarked\"], drop_first=True)\n",
    "\n",
    "# Define features and target\n",
    "X = df.drop(\"Survived\", axis=1)\n",
    "y = df[\"Survived\"]\n",
    "\n",
    "# Standardize numerical features\n",
    "scaler = StandardScaler()\n",
    "X[[\"Age\", \"Fare\"]] = scaler.fit_transform(X[[\"Age\", \"Fare\"]])\n",
    "\n",
    "# Cross-validation setup\n",
    "kf = StratifiedKFold(n_splits=10, shuffle=True, random_state=42)\n",
    "model = GaussianNB()\n",
    "\n",
    "# Evaluate model with cross-validation\n",
    "accuracy_scores = cross_val_score(model, X, y, cv=kf, scoring='accuracy')\n",
    "precision_scores = cross_val_score(model, X, y, cv=kf, scoring='precision')\n",
    "recall_scores = cross_val_score(model, X, y, cv=kf, scoring='recall')\n",
    "roc_auc_scores = cross_val_score(model, X, y, cv=kf, scoring='roc_auc')\n",
    "\n",
    "print(\"Model Performance Metrics (Cross-Validation):\")\n",
    "print(f\"Accuracy: {np.mean(accuracy_scores):.4f} ± {np.std(accuracy_scores):.4f}\")\n",
    "print(f\"Precision: {np.mean(precision_scores):.4f} ± {np.std(precision_scores):.4f}\")\n",
    "print(f\"Recall: {np.mean(recall_scores):.4f} ± {np.std(recall_scores):.4f}\")\n",
    "print(f\"ROC-AUC Score: {np.mean(roc_auc_scores):.4f} ± {np.std(roc_auc_scores):.4f}\\n\")"
   ]
  },
  {
   "cell_type": "markdown",
   "id": "1330aed3",
   "metadata": {},
   "source": [
    "### Confusion Matrix and Classification Report"
   ]
  },
  {
   "cell_type": "code",
   "execution_count": 78,
   "id": "05c2c7b8",
   "metadata": {},
   "outputs": [
    {
     "data": {
      "image/png": "[encoded data removed]",
      "text/plain": [
       "<Figure size 600x400 with 2 Axes>"
      ]
     },
     "metadata": {},
     "output_type": "display_data"
    },
    {
     "name": "stdout",
     "output_type": "stream",
     "text": [
      "Classification Report:\n",
      "              precision    recall  f1-score   support\n",
      "\n",
      "           0       0.83      0.84      0.84       165\n",
      "           1       0.74      0.73      0.74       103\n",
      "\n",
      "    accuracy                           0.80       268\n",
      "   macro avg       0.79      0.79      0.79       268\n",
      "weighted avg       0.80      0.80      0.80       268\n",
      "\n"
     ]
    }
   ],
   "source": [
    "# Confusion Matrix\n",
    "conf_matrix = confusion_matrix(y_test, y_pred)\n",
    "plt.figure(figsize=(6,4))\n",
    "sns.heatmap(conf_matrix, annot=True, fmt='d', cmap='Blues', xticklabels=[\"Not Survived\", \"Survived\"], yticklabels=[\"Not Survived\", \"Survived\"])\n",
    "plt.xlabel(\"Predicted\")\n",
    "plt.ylabel(\"Actual\")\n",
    "plt.title(\"Confusion Matrix\")\n",
    "plt.show()\n",
    "\n",
    "# Classification Report\n",
    "print(\"Classification Report:\")\n",
    "print(classification_report(y_test, y_pred))"
   ]
  },
  {
   "cell_type": "markdown",
   "id": "948de7b3",
   "metadata": {},
   "source": [
    "### Hyperparameter Tuning"
   ]
  },
  {
   "cell_type": "code",
   "execution_count": 79,
   "id": "3e9abb4c",
   "metadata": {},
   "outputs": [
    {
     "name": "stdout",
     "output_type": "stream",
     "text": [
      "Best Hyperparameters:\n",
      "{'var_smoothing': np.float64(0.001)}\n",
      "Best Accuracy: 0.7845\n"
     ]
    }
   ],
   "source": [
    "# Hyperparameter tuning with GridSearchCV for GaussianNB\n",
    "param_grid = {\n",
    "    'var_smoothing': np.logspace(-9, 0, 10)  # Coba berbagai nilai var_smoothing dalam skala log\n",
    "}\n",
    "\n",
    "grid_search = GridSearchCV(GaussianNB(), param_grid, cv=kf, scoring='accuracy', n_jobs=-1)\n",
    "grid_search.fit(X, y)\n",
    "\n",
    "print(\"Best Hyperparameters:\")\n",
    "print(grid_search.best_params_)\n",
    "print(f\"Best Accuracy: {grid_search.best_score_:.4f}\")"
   ]
  },
  {
   "cell_type": "markdown",
   "id": "a45f7ce1",
   "metadata": {},
   "source": [
    "### SMOTE"
   ]
  },
  {
   "cell_type": "code",
   "execution_count": 80,
   "id": "09e8c5b1",
   "metadata": {},
   "outputs": [
    {
     "name": "stderr",
     "output_type": "stream",
     "text": [
      "C:\\Users\\ASUS\\AppData\\Local\\Temp\\ipykernel_20936\\2033193098.py:16: FutureWarning: A value is trying to be set on a copy of a DataFrame or Series through chained assignment using an inplace method.\n",
      "The behavior will change in pandas 3.0. This inplace method will never work because the intermediate object on which we are setting values always behaves as a copy.\n",
      "\n",
      "For example, when doing 'df[col].method(value, inplace=True)', try using 'df.method({col: value}, inplace=True)' or df[col] = df[col].method(value) instead, to perform the operation inplace on the original object.\n",
      "\n",
      "\n",
      "  df[\"Age\"].fillna(df[\"Age\"].median(), inplace=True)\n",
      "C:\\Users\\ASUS\\AppData\\Local\\Temp\\ipykernel_20936\\2033193098.py:17: FutureWarning: A value is trying to be set on a copy of a DataFrame or Series through chained assignment using an inplace method.\n",
      "The behavior will change in pandas 3.0. This inplace method will never work because the intermediate object on which we are setting values always behaves as a copy.\n",
      "\n",
      "For example, when doing 'df[col].method(value, inplace=True)', try using 'df.method({col: value}, inplace=True)' or df[col] = df[col].method(value) instead, to perform the operation inplace on the original object.\n",
      "\n",
      "\n",
      "  df[\"Embarked\"].fillna(df[\"Embarked\"].mode()[0], inplace=True)\n"
     ]
    },
    {
     "name": "stdout",
     "output_type": "stream",
     "text": [
      "Distribusi Sebelum SMOTE: Counter({0: 549, 1: 342})\n",
      "Distribusi Setelah SMOTE: Counter({0: 549, 1: 384})\n",
      "\n",
      "Model Performance Metrics (Cross-Validation):\n",
      "Accuracy: 0.7825 ± 0.0372\n",
      "Precision: 0.7474 ± 0.0492\n",
      "Recall: 0.7158 ± 0.0796\n",
      "ROC-AUC Score: 0.8299 ± 0.0531\n",
      "\n"
     ]
    }
   ],
   "source": [
    "import pandas as pd\n",
    "import numpy as np\n",
    "from collections import Counter\n",
    "from sklearn.model_selection import StratifiedKFold, cross_val_score\n",
    "from sklearn.preprocessing import LabelEncoder, StandardScaler\n",
    "from sklearn.naive_bayes import GaussianNB\n",
    "from imblearn.over_sampling import SMOTE\n",
    "\n",
    "# Load dataset\n",
    "df = pd.read_csv(\"train.csv\")\n",
    "\n",
    "# Drop unnecessary columns\n",
    "df.drop([\"PassengerId\", \"Name\", \"Ticket\", \"Cabin\"], axis=1, inplace=True)\n",
    "\n",
    "# Handling missing values\n",
    "df[\"Age\"].fillna(df[\"Age\"].median(), inplace=True)\n",
    "df[\"Embarked\"].fillna(df[\"Embarked\"].mode()[0], inplace=True)\n",
    "\n",
    "# Encode categorical variables\n",
    "le_sex = LabelEncoder()\n",
    "df[\"Sex\"] = le_sex.fit_transform(df[\"Sex\"])\n",
    "df = pd.get_dummies(df, columns=[\"Embarked\"], drop_first=True)\n",
    "\n",
    "# Define features and target\n",
    "X = df.drop(\"Survived\", axis=1)\n",
    "y = df[\"Survived\"]\n",
    "\n",
    "# Standardize numerical features\n",
    "scaler = StandardScaler()\n",
    "X[[\"Age\", \"Fare\"]] = scaler.fit_transform(X[[\"Age\", \"Fare\"]])\n",
    "\n",
    "# Cek distribusi sebelum SMOTE\n",
    "print(\"Distribusi Sebelum SMOTE:\", Counter(y))\n",
    "\n",
    "# Terapkan SMOTE untuk menangani imbalance data\n",
    "smote = SMOTE(sampling_strategy=0.7, random_state=42)  # Bisa juga gunakan 'auto'\n",
    "X_resampled, y_resampled = smote.fit_resample(X, y)\n",
    "\n",
    "# Cek distribusi setelah SMOTE\n",
    "print(\"Distribusi Setelah SMOTE:\", Counter(y_resampled))\n",
    "\n",
    "# Cross-validation setup\n",
    "kf = StratifiedKFold(n_splits=10, shuffle=True, random_state=42)\n",
    "model = GaussianNB()\n",
    "\n",
    "# Evaluate model with cross-validation\n",
    "accuracy_scores = cross_val_score(model, X_resampled, y_resampled, cv=kf, scoring='accuracy')\n",
    "precision_scores = cross_val_score(model, X_resampled, y_resampled, cv=kf, scoring='precision')\n",
    "recall_scores = cross_val_score(model, X_resampled, y_resampled, cv=kf, scoring='recall')\n",
    "roc_auc_scores = cross_val_score(model, X_resampled, y_resampled, cv=kf, scoring='roc_auc')\n",
    "\n",
    "print(\"\\nModel Performance Metrics (Cross-Validation):\")\n",
    "print(f\"Accuracy: {np.mean(accuracy_scores):.4f} ± {np.std(accuracy_scores):.4f}\")\n",
    "print(f\"Precision: {np.mean(precision_scores):.4f} ± {np.std(precision_scores):.4f}\")\n",
    "print(f\"Recall: {np.mean(recall_scores):.4f} ± {np.std(recall_scores):.4f}\")\n",
    "print(f\"ROC-AUC Score: {np.mean(roc_auc_scores):.4f} ± {np.std(roc_auc_scores):.4f}\\n\")\n"
   ]
  },
  {
   "cell_type": "markdown",
   "id": "c9884fb3",
   "metadata": {},
   "source": [
    "## Conclusion\n",
    "\n"
   ]
  },
  {
   "cell_type": "markdown",
   "id": "96f6d4aa",
   "metadata": {},
   "source": [
    "#### 1. Results from Split Validation\n",
    "In split validation, the dataset is divided into 70% training and 30% testing. The results are:\n",
    "\n",
    "- Accuracy: 0.7985 → The model correctly predicts 79.85% of the test data.\n",
    "- Precision: 0.7426 → 74.26% of predicted survivors actually survived.\n",
    "- Recall: 0.7282 → The model identifies 72.82% of actual survivors.\n",
    "- ROC-AUC Score: 0.8284 → The model effectively differentiates between survivors and non-survivors.\n",
    "\n",
    "##### Interpretation\n",
    "- High accuracy (~80%) indicates a well-performing model.\n",
    "- Precision (~74%) suggests that false positives are well-controlled.\n",
    "- Recall (~73%) is reasonable, but some actual survivors are missed.\n",
    "- ROC-AUC (~83%) confirms good classification capability.\n",
    "\n",
    "#### 2. Results from Cross-Validation (10-Fold)\n",
    "Using Stratified K-Fold (10 folds), the model is trained and tested multiple times:\n",
    "\n",
    "- Accuracy: 0.7834 ± 0.0368 → Similar to split validation, with ~3.22% variation.\n",
    "- Precision: 0.7232 ± 0.0544 → More stable across folds.\n",
    "- Recall: 0.7103 ± 0.0709 → Slightly lower than split validation, with higher variability.\n",
    "- ROC-AUC Score: 0.8309 ± 0.0516 → Slightly better in distinguishing survivors.\n",
    "\n",
    "##### Interpretation\n",
    "- Cross-validation is more reliable, as it assesses performance on multiple data subsets.\n",
    "- Accuracy (~78.34%) is consistent with split validation.\n",
    "- Precision is slightly better, indicating careful survivor predictions.\n",
    "- Higher ROC-AUC (83.09%) suggests better overall discrimination.\n",
    "\n",
    "### 3. Conclusion: Which is Better?\n",
    "| Metric      | Split Validation | Cross Validation |\n",
    "|---------------|-----------------|------------------|\n",
    "| Accuracy  | 0.7985          | 0.7834 ± 0.0368 |\n",
    "| Precision | 0.7426          | 0.7232 ± 0.0544 |\n",
    "| Recall    | 0.7282          | 0.7103 ± 0.0709 |\n",
    "| ROC-AUC   | 0.8284          | 0.8309 ± 0.0516 |\n",
    "\n",
    "✅ Best Choice: Cross-Validation\n",
    "- More reliable as it evaluates on multiple data splits.\n",
    "- More stable performance despite slight recall fluctuations.\n",
    "- Slightly higher ROC-AUC, meaning better survivor classification.\n",
    "\n",
    "If computational time is a concern, split validation is a quicker alternative, but cross-validation is recommended for better generalization.\n",
    "\n",
    "### 4. Model Improvement Suggestions\n",
    "1. Adjusting prediction threshold to optimize precision vs recall trade-off.\n",
    "2. Trying other models like Random Forest or Gradient Boosting for potential improvements.\n",
    "3. Enhancing feature engineering to extract better predictive variables."
   ]
  }
 ],
 "metadata": {
  "kaggle": {
   "accelerator": "none",
   "dataSources": [
    {
     "databundleVersionId": 26502,
     "sourceId": 3136,
     "sourceType": "competition"
    }
   ],
   "dockerImageVersionId": 30886,
   "isGpuEnabled": false,
   "isInternetEnabled": true,
   "language": "python",
   "sourceType": "notebook"
  },
  "kernelspec": {
   "display_name": "Python 3",
   "language": "python",
   "name": "python3"
  },
  "language_info": {
   "codemirror_mode": {
    "name": "ipython",
    "version": 3
   },
   "file_extension": ".py",
   "mimetype": "text/x-python",
   "name": "python",
   "nbconvert_exporter": "python",
   "pygments_lexer": "ipython3",
   "version": "3.12.1"
  },
  "papermill": {
   "default_parameters": {},
   "duration": 39.222244,
   "end_time": "2025-02-09T12:28:16.484727",
   "environment_variables": {},
   "exception": null,
   "input_path": "__notebook__.ipynb",
   "output_path": "__notebook__.ipynb",
   "parameters": {},
   "start_time": "2025-02-09T12:27:37.262483",
   "version": "2.6.0"
  }
 },
 "nbformat": 4,
 "nbformat_minor": 5
}
